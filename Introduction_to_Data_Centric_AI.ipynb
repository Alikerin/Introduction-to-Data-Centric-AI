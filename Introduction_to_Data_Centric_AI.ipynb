{
  "nbformat": 4,
  "nbformat_minor": 0,
  "metadata": {
    "colab": {
      "provenance": [],
      "collapsed_sections": [],
      "toc_visible": true,
      "include_colab_link": true
    },
    "kernelspec": {
      "name": "python3",
      "display_name": "Python 3"
    },
    "language_info": {
      "name": "python"
    },
    "accelerator": "GPU",
    "gpuClass": "standard",
    "widgets": {
      "application/vnd.jupyter.widget-state+json": {
        "09e817f8c6994d4abcd3b2c23d8bbdcd": {
          "model_module": "@jupyter-widgets/controls",
          "model_name": "VBoxModel",
          "model_module_version": "1.5.0",
          "state": {
            "_dom_classes": [],
            "_model_module": "@jupyter-widgets/controls",
            "_model_module_version": "1.5.0",
            "_model_name": "VBoxModel",
            "_view_count": null,
            "_view_module": "@jupyter-widgets/controls",
            "_view_module_version": "1.5.0",
            "_view_name": "VBoxView",
            "box_style": "",
            "children": [
              "IPY_MODEL_57aee5861cf4429c92f79cbfe28b258d",
              "IPY_MODEL_10b26b82191940788a4147ed59e41e85"
            ],
            "layout": "IPY_MODEL_b4b1775834ff49f3a75718b6b96a182d"
          }
        },
        "57aee5861cf4429c92f79cbfe28b258d": {
          "model_module": "@jupyter-widgets/controls",
          "model_name": "HBoxModel",
          "model_module_version": "1.5.0",
          "state": {
            "_dom_classes": [],
            "_model_module": "@jupyter-widgets/controls",
            "_model_module_version": "1.5.0",
            "_model_name": "HBoxModel",
            "_view_count": null,
            "_view_module": "@jupyter-widgets/controls",
            "_view_module_version": "1.5.0",
            "_view_name": "HBoxView",
            "box_style": "",
            "children": [
              "IPY_MODEL_8736147618e54c4b91b373ffce0b59e9",
              "IPY_MODEL_925b58a4161048b2a416881d0552ce56",
              "IPY_MODEL_f1c834309bd9455e8fdcc483c2597af5",
              "IPY_MODEL_c39d3af2bf4e4019a1eda28d6ca77b0f"
            ],
            "layout": "IPY_MODEL_e601ee00bf6c4835b374a283a085e38e"
          }
        },
        "10b26b82191940788a4147ed59e41e85": {
          "model_module": "@jupyter-widgets/controls",
          "model_name": "HBoxModel",
          "model_module_version": "1.5.0",
          "state": {
            "_dom_classes": [],
            "_model_module": "@jupyter-widgets/controls",
            "_model_module_version": "1.5.0",
            "_model_name": "HBoxModel",
            "_view_count": null,
            "_view_module": "@jupyter-widgets/controls",
            "_view_module_version": "1.5.0",
            "_view_name": "HBoxView",
            "box_style": "",
            "children": [
              "IPY_MODEL_409e1371434f4f7f98dea68966325bd1",
              "IPY_MODEL_1893113c8a7e4875a8b304a2ba2bf719",
              "IPY_MODEL_89de775a499b4cf6b6315092195c87b3",
              "IPY_MODEL_72763c01d5b144e584b9491fe05b7b77"
            ],
            "layout": "IPY_MODEL_8ad93c260c214d15a564cc7d35ff215b"
          }
        },
        "b4b1775834ff49f3a75718b6b96a182d": {
          "model_module": "@jupyter-widgets/base",
          "model_name": "LayoutModel",
          "model_module_version": "1.2.0",
          "state": {
            "_model_module": "@jupyter-widgets/base",
            "_model_module_version": "1.2.0",
            "_model_name": "LayoutModel",
            "_view_count": null,
            "_view_module": "@jupyter-widgets/base",
            "_view_module_version": "1.2.0",
            "_view_name": "LayoutView",
            "align_content": null,
            "align_items": null,
            "align_self": null,
            "border": null,
            "bottom": null,
            "display": null,
            "flex": null,
            "flex_flow": null,
            "grid_area": null,
            "grid_auto_columns": null,
            "grid_auto_flow": null,
            "grid_auto_rows": null,
            "grid_column": null,
            "grid_gap": null,
            "grid_row": null,
            "grid_template_areas": null,
            "grid_template_columns": null,
            "grid_template_rows": null,
            "height": null,
            "justify_content": null,
            "justify_items": null,
            "left": null,
            "margin": null,
            "max_height": null,
            "max_width": null,
            "min_height": null,
            "min_width": null,
            "object_fit": null,
            "object_position": null,
            "order": null,
            "overflow": null,
            "overflow_x": null,
            "overflow_y": null,
            "padding": null,
            "right": null,
            "top": null,
            "visibility": null,
            "width": null
          }
        },
        "8736147618e54c4b91b373ffce0b59e9": {
          "model_module": "@jupyter-widgets/controls",
          "model_name": "ButtonModel",
          "model_module_version": "1.5.0",
          "state": {
            "_dom_classes": [],
            "_model_module": "@jupyter-widgets/controls",
            "_model_module_version": "1.5.0",
            "_model_name": "ButtonModel",
            "_view_count": null,
            "_view_module": "@jupyter-widgets/controls",
            "_view_module_version": "1.5.0",
            "_view_name": "ButtonView",
            "button_style": "success",
            "description": "Previous",
            "disabled": false,
            "icon": "arrow-left",
            "layout": "IPY_MODEL_44c26df690204e14ad1bfe73c56d1229",
            "style": "IPY_MODEL_b290e208dc774cce81e355cf57f792aa",
            "tooltip": "Previous Sample"
          }
        },
        "925b58a4161048b2a416881d0552ce56": {
          "model_module": "@jupyter-widgets/controls",
          "model_name": "IntSliderModel",
          "model_module_version": "1.5.0",
          "state": {
            "_dom_classes": [],
            "_model_module": "@jupyter-widgets/controls",
            "_model_module_version": "1.5.0",
            "_model_name": "IntSliderModel",
            "_view_count": null,
            "_view_module": "@jupyter-widgets/controls",
            "_view_module_version": "1.5.0",
            "_view_name": "IntSliderView",
            "continuous_update": false,
            "description": "Index:",
            "description_tooltip": null,
            "disabled": false,
            "layout": "IPY_MODEL_8a899859bd0c4d0f946c1fc2a542091e",
            "max": 29,
            "min": 0,
            "orientation": "horizontal",
            "readout": true,
            "readout_format": "d",
            "step": 1,
            "style": "IPY_MODEL_7f132e1d410943c0bd563278cc8bed38",
            "value": 25
          }
        },
        "f1c834309bd9455e8fdcc483c2597af5": {
          "model_module": "@jupyter-widgets/controls",
          "model_name": "ButtonModel",
          "model_module_version": "1.5.0",
          "state": {
            "_dom_classes": [],
            "_model_module": "@jupyter-widgets/controls",
            "_model_module_version": "1.5.0",
            "_model_name": "ButtonModel",
            "_view_count": null,
            "_view_module": "@jupyter-widgets/controls",
            "_view_module_version": "1.5.0",
            "_view_name": "ButtonView",
            "button_style": "success",
            "description": "Next",
            "disabled": false,
            "icon": "arrow-right",
            "layout": "IPY_MODEL_affe67278d394a38987cfa418faee75e",
            "style": "IPY_MODEL_0149401518ec45fb955e1447cbf6185b",
            "tooltip": "Next Sample"
          }
        },
        "c39d3af2bf4e4019a1eda28d6ca77b0f": {
          "model_module": "@jupyter-widgets/controls",
          "model_name": "DropdownModel",
          "model_module_version": "1.5.0",
          "state": {
            "_dom_classes": [],
            "_model_module": "@jupyter-widgets/controls",
            "_model_module_version": "1.5.0",
            "_model_name": "DropdownModel",
            "_options_labels": [
              "train",
              "val",
              "test"
            ],
            "_view_count": null,
            "_view_module": "@jupyter-widgets/controls",
            "_view_module_version": "1.5.0",
            "_view_name": "DropdownView",
            "description": "Splits",
            "description_tooltip": null,
            "disabled": false,
            "index": 1,
            "layout": "IPY_MODEL_223409b301474f78aa1b7a7f7c66ae5c",
            "style": "IPY_MODEL_8e28b0e6f9fb465d9b4107e582d55246"
          }
        },
        "e601ee00bf6c4835b374a283a085e38e": {
          "model_module": "@jupyter-widgets/base",
          "model_name": "LayoutModel",
          "model_module_version": "1.2.0",
          "state": {
            "_model_module": "@jupyter-widgets/base",
            "_model_module_version": "1.2.0",
            "_model_name": "LayoutModel",
            "_view_count": null,
            "_view_module": "@jupyter-widgets/base",
            "_view_module_version": "1.2.0",
            "_view_name": "LayoutView",
            "align_content": null,
            "align_items": null,
            "align_self": null,
            "border": null,
            "bottom": null,
            "display": null,
            "flex": null,
            "flex_flow": null,
            "grid_area": null,
            "grid_auto_columns": null,
            "grid_auto_flow": null,
            "grid_auto_rows": null,
            "grid_column": null,
            "grid_gap": null,
            "grid_row": null,
            "grid_template_areas": null,
            "grid_template_columns": null,
            "grid_template_rows": null,
            "height": null,
            "justify_content": null,
            "justify_items": null,
            "left": null,
            "margin": null,
            "max_height": null,
            "max_width": null,
            "min_height": null,
            "min_width": null,
            "object_fit": null,
            "object_position": null,
            "order": null,
            "overflow": null,
            "overflow_x": null,
            "overflow_y": null,
            "padding": null,
            "right": null,
            "top": null,
            "visibility": null,
            "width": null
          }
        },
        "409e1371434f4f7f98dea68966325bd1": {
          "model_module": "@jupyter-widgets/controls",
          "model_name": "TextModel",
          "model_module_version": "1.5.0",
          "state": {
            "_dom_classes": [],
            "_model_module": "@jupyter-widgets/controls",
            "_model_module_version": "1.5.0",
            "_model_name": "TextModel",
            "_view_count": null,
            "_view_module": "@jupyter-widgets/controls",
            "_view_module_version": "1.5.0",
            "_view_name": "TextView",
            "continuous_update": true,
            "description": "Label:",
            "description_tooltip": null,
            "disabled": false,
            "layout": "IPY_MODEL_f866a1bc567e4e4aa6093865111b4bd5",
            "placeholder": "Label",
            "style": "IPY_MODEL_e90bc5a00ff349a3b8e358775969244e",
            "value": "aug3"
          }
        },
        "1893113c8a7e4875a8b304a2ba2bf719": {
          "model_module": "@jupyter-widgets/controls",
          "model_name": "DropdownModel",
          "model_module_version": "1.5.0",
          "state": {
            "_dom_classes": [],
            "_model_module": "@jupyter-widgets/controls",
            "_model_module_version": "1.5.0",
            "_model_name": "DropdownModel",
            "_options_labels": [
              "i",
              "ii",
              "iii",
              "iv",
              "v",
              "vi",
              "vii",
              "viii",
              "ix",
              "x"
            ],
            "_view_count": null,
            "_view_module": "@jupyter-widgets/controls",
            "_view_module_version": "1.5.0",
            "_view_name": "DropdownView",
            "description": "New Label",
            "description_tooltip": null,
            "disabled": false,
            "index": 0,
            "layout": "IPY_MODEL_477c72b7bdce4ac9b5f1a39e02412f73",
            "style": "IPY_MODEL_5994f62e44074147810a1e0e2376e0ab"
          }
        },
        "89de775a499b4cf6b6315092195c87b3": {
          "model_module": "@jupyter-widgets/controls",
          "model_name": "ButtonModel",
          "model_module_version": "1.5.0",
          "state": {
            "_dom_classes": [],
            "_model_module": "@jupyter-widgets/controls",
            "_model_module_version": "1.5.0",
            "_model_name": "ButtonModel",
            "_view_count": null,
            "_view_module": "@jupyter-widgets/controls",
            "_view_module_version": "1.5.0",
            "_view_name": "ButtonView",
            "button_style": "success",
            "description": "Change Label",
            "disabled": false,
            "icon": "check",
            "layout": "IPY_MODEL_08c2b492f8924f0981dd5a10705204b0",
            "style": "IPY_MODEL_b6e142163a934cdc96ff3a1523920ef5",
            "tooltip": "Change Label"
          }
        },
        "72763c01d5b144e584b9491fe05b7b77": {
          "model_module": "@jupyter-widgets/controls",
          "model_name": "ButtonModel",
          "model_module_version": "1.5.0",
          "state": {
            "_dom_classes": [],
            "_model_module": "@jupyter-widgets/controls",
            "_model_module_version": "1.5.0",
            "_model_name": "ButtonModel",
            "_view_count": null,
            "_view_module": "@jupyter-widgets/controls",
            "_view_module_version": "1.5.0",
            "_view_name": "ButtonView",
            "button_style": "danger",
            "description": "Delete",
            "disabled": false,
            "icon": "trash",
            "layout": "IPY_MODEL_533754a6c5d84446873827247a09fcde",
            "style": "IPY_MODEL_d962a8630c7243e59cb78051dcb6237d",
            "tooltip": "Delete"
          }
        },
        "8ad93c260c214d15a564cc7d35ff215b": {
          "model_module": "@jupyter-widgets/base",
          "model_name": "LayoutModel",
          "model_module_version": "1.2.0",
          "state": {
            "_model_module": "@jupyter-widgets/base",
            "_model_module_version": "1.2.0",
            "_model_name": "LayoutModel",
            "_view_count": null,
            "_view_module": "@jupyter-widgets/base",
            "_view_module_version": "1.2.0",
            "_view_name": "LayoutView",
            "align_content": null,
            "align_items": null,
            "align_self": null,
            "border": null,
            "bottom": null,
            "display": null,
            "flex": null,
            "flex_flow": null,
            "grid_area": null,
            "grid_auto_columns": null,
            "grid_auto_flow": null,
            "grid_auto_rows": null,
            "grid_column": null,
            "grid_gap": null,
            "grid_row": null,
            "grid_template_areas": null,
            "grid_template_columns": null,
            "grid_template_rows": null,
            "height": null,
            "justify_content": null,
            "justify_items": null,
            "left": null,
            "margin": null,
            "max_height": null,
            "max_width": null,
            "min_height": null,
            "min_width": null,
            "object_fit": null,
            "object_position": null,
            "order": null,
            "overflow": null,
            "overflow_x": null,
            "overflow_y": null,
            "padding": null,
            "right": null,
            "top": null,
            "visibility": null,
            "width": null
          }
        },
        "44c26df690204e14ad1bfe73c56d1229": {
          "model_module": "@jupyter-widgets/base",
          "model_name": "LayoutModel",
          "model_module_version": "1.2.0",
          "state": {
            "_model_module": "@jupyter-widgets/base",
            "_model_module_version": "1.2.0",
            "_model_name": "LayoutModel",
            "_view_count": null,
            "_view_module": "@jupyter-widgets/base",
            "_view_module_version": "1.2.0",
            "_view_name": "LayoutView",
            "align_content": null,
            "align_items": null,
            "align_self": null,
            "border": null,
            "bottom": null,
            "display": null,
            "flex": null,
            "flex_flow": null,
            "grid_area": null,
            "grid_auto_columns": null,
            "grid_auto_flow": null,
            "grid_auto_rows": null,
            "grid_column": null,
            "grid_gap": null,
            "grid_row": null,
            "grid_template_areas": null,
            "grid_template_columns": null,
            "grid_template_rows": null,
            "height": null,
            "justify_content": null,
            "justify_items": null,
            "left": null,
            "margin": null,
            "max_height": null,
            "max_width": null,
            "min_height": null,
            "min_width": null,
            "object_fit": null,
            "object_position": null,
            "order": null,
            "overflow": null,
            "overflow_x": null,
            "overflow_y": null,
            "padding": null,
            "right": null,
            "top": null,
            "visibility": null,
            "width": null
          }
        },
        "b290e208dc774cce81e355cf57f792aa": {
          "model_module": "@jupyter-widgets/controls",
          "model_name": "ButtonStyleModel",
          "model_module_version": "1.5.0",
          "state": {
            "_model_module": "@jupyter-widgets/controls",
            "_model_module_version": "1.5.0",
            "_model_name": "ButtonStyleModel",
            "_view_count": null,
            "_view_module": "@jupyter-widgets/base",
            "_view_module_version": "1.2.0",
            "_view_name": "StyleView",
            "button_color": null,
            "font_weight": ""
          }
        },
        "8a899859bd0c4d0f946c1fc2a542091e": {
          "model_module": "@jupyter-widgets/base",
          "model_name": "LayoutModel",
          "model_module_version": "1.2.0",
          "state": {
            "_model_module": "@jupyter-widgets/base",
            "_model_module_version": "1.2.0",
            "_model_name": "LayoutModel",
            "_view_count": null,
            "_view_module": "@jupyter-widgets/base",
            "_view_module_version": "1.2.0",
            "_view_name": "LayoutView",
            "align_content": null,
            "align_items": null,
            "align_self": null,
            "border": null,
            "bottom": null,
            "display": null,
            "flex": null,
            "flex_flow": null,
            "grid_area": null,
            "grid_auto_columns": null,
            "grid_auto_flow": null,
            "grid_auto_rows": null,
            "grid_column": null,
            "grid_gap": null,
            "grid_row": null,
            "grid_template_areas": null,
            "grid_template_columns": null,
            "grid_template_rows": null,
            "height": null,
            "justify_content": null,
            "justify_items": null,
            "left": null,
            "margin": null,
            "max_height": null,
            "max_width": null,
            "min_height": null,
            "min_width": null,
            "object_fit": null,
            "object_position": null,
            "order": null,
            "overflow": null,
            "overflow_x": null,
            "overflow_y": null,
            "padding": null,
            "right": null,
            "top": null,
            "visibility": null,
            "width": null
          }
        },
        "7f132e1d410943c0bd563278cc8bed38": {
          "model_module": "@jupyter-widgets/controls",
          "model_name": "SliderStyleModel",
          "model_module_version": "1.5.0",
          "state": {
            "_model_module": "@jupyter-widgets/controls",
            "_model_module_version": "1.5.0",
            "_model_name": "SliderStyleModel",
            "_view_count": null,
            "_view_module": "@jupyter-widgets/base",
            "_view_module_version": "1.2.0",
            "_view_name": "StyleView",
            "description_width": "",
            "handle_color": null
          }
        },
        "affe67278d394a38987cfa418faee75e": {
          "model_module": "@jupyter-widgets/base",
          "model_name": "LayoutModel",
          "model_module_version": "1.2.0",
          "state": {
            "_model_module": "@jupyter-widgets/base",
            "_model_module_version": "1.2.0",
            "_model_name": "LayoutModel",
            "_view_count": null,
            "_view_module": "@jupyter-widgets/base",
            "_view_module_version": "1.2.0",
            "_view_name": "LayoutView",
            "align_content": null,
            "align_items": null,
            "align_self": null,
            "border": null,
            "bottom": null,
            "display": null,
            "flex": null,
            "flex_flow": null,
            "grid_area": null,
            "grid_auto_columns": null,
            "grid_auto_flow": null,
            "grid_auto_rows": null,
            "grid_column": null,
            "grid_gap": null,
            "grid_row": null,
            "grid_template_areas": null,
            "grid_template_columns": null,
            "grid_template_rows": null,
            "height": null,
            "justify_content": null,
            "justify_items": null,
            "left": null,
            "margin": null,
            "max_height": null,
            "max_width": null,
            "min_height": null,
            "min_width": null,
            "object_fit": null,
            "object_position": null,
            "order": null,
            "overflow": null,
            "overflow_x": null,
            "overflow_y": null,
            "padding": null,
            "right": null,
            "top": null,
            "visibility": null,
            "width": null
          }
        },
        "0149401518ec45fb955e1447cbf6185b": {
          "model_module": "@jupyter-widgets/controls",
          "model_name": "ButtonStyleModel",
          "model_module_version": "1.5.0",
          "state": {
            "_model_module": "@jupyter-widgets/controls",
            "_model_module_version": "1.5.0",
            "_model_name": "ButtonStyleModel",
            "_view_count": null,
            "_view_module": "@jupyter-widgets/base",
            "_view_module_version": "1.2.0",
            "_view_name": "StyleView",
            "button_color": null,
            "font_weight": ""
          }
        },
        "223409b301474f78aa1b7a7f7c66ae5c": {
          "model_module": "@jupyter-widgets/base",
          "model_name": "LayoutModel",
          "model_module_version": "1.2.0",
          "state": {
            "_model_module": "@jupyter-widgets/base",
            "_model_module_version": "1.2.0",
            "_model_name": "LayoutModel",
            "_view_count": null,
            "_view_module": "@jupyter-widgets/base",
            "_view_module_version": "1.2.0",
            "_view_name": "LayoutView",
            "align_content": null,
            "align_items": null,
            "align_self": null,
            "border": null,
            "bottom": null,
            "display": null,
            "flex": null,
            "flex_flow": null,
            "grid_area": null,
            "grid_auto_columns": null,
            "grid_auto_flow": null,
            "grid_auto_rows": null,
            "grid_column": null,
            "grid_gap": null,
            "grid_row": null,
            "grid_template_areas": null,
            "grid_template_columns": null,
            "grid_template_rows": null,
            "height": null,
            "justify_content": null,
            "justify_items": null,
            "left": null,
            "margin": null,
            "max_height": null,
            "max_width": null,
            "min_height": null,
            "min_width": null,
            "object_fit": null,
            "object_position": null,
            "order": null,
            "overflow": null,
            "overflow_x": null,
            "overflow_y": null,
            "padding": null,
            "right": null,
            "top": null,
            "visibility": null,
            "width": null
          }
        },
        "8e28b0e6f9fb465d9b4107e582d55246": {
          "model_module": "@jupyter-widgets/controls",
          "model_name": "DescriptionStyleModel",
          "model_module_version": "1.5.0",
          "state": {
            "_model_module": "@jupyter-widgets/controls",
            "_model_module_version": "1.5.0",
            "_model_name": "DescriptionStyleModel",
            "_view_count": null,
            "_view_module": "@jupyter-widgets/base",
            "_view_module_version": "1.2.0",
            "_view_name": "StyleView",
            "description_width": ""
          }
        },
        "f866a1bc567e4e4aa6093865111b4bd5": {
          "model_module": "@jupyter-widgets/base",
          "model_name": "LayoutModel",
          "model_module_version": "1.2.0",
          "state": {
            "_model_module": "@jupyter-widgets/base",
            "_model_module_version": "1.2.0",
            "_model_name": "LayoutModel",
            "_view_count": null,
            "_view_module": "@jupyter-widgets/base",
            "_view_module_version": "1.2.0",
            "_view_name": "LayoutView",
            "align_content": null,
            "align_items": null,
            "align_self": null,
            "border": null,
            "bottom": null,
            "display": null,
            "flex": null,
            "flex_flow": null,
            "grid_area": null,
            "grid_auto_columns": null,
            "grid_auto_flow": null,
            "grid_auto_rows": null,
            "grid_column": null,
            "grid_gap": null,
            "grid_row": null,
            "grid_template_areas": null,
            "grid_template_columns": null,
            "grid_template_rows": null,
            "height": null,
            "justify_content": null,
            "justify_items": null,
            "left": null,
            "margin": null,
            "max_height": null,
            "max_width": null,
            "min_height": null,
            "min_width": null,
            "object_fit": null,
            "object_position": null,
            "order": null,
            "overflow": null,
            "overflow_x": null,
            "overflow_y": null,
            "padding": null,
            "right": null,
            "top": null,
            "visibility": null,
            "width": null
          }
        },
        "e90bc5a00ff349a3b8e358775969244e": {
          "model_module": "@jupyter-widgets/controls",
          "model_name": "DescriptionStyleModel",
          "model_module_version": "1.5.0",
          "state": {
            "_model_module": "@jupyter-widgets/controls",
            "_model_module_version": "1.5.0",
            "_model_name": "DescriptionStyleModel",
            "_view_count": null,
            "_view_module": "@jupyter-widgets/base",
            "_view_module_version": "1.2.0",
            "_view_name": "StyleView",
            "description_width": ""
          }
        },
        "477c72b7bdce4ac9b5f1a39e02412f73": {
          "model_module": "@jupyter-widgets/base",
          "model_name": "LayoutModel",
          "model_module_version": "1.2.0",
          "state": {
            "_model_module": "@jupyter-widgets/base",
            "_model_module_version": "1.2.0",
            "_model_name": "LayoutModel",
            "_view_count": null,
            "_view_module": "@jupyter-widgets/base",
            "_view_module_version": "1.2.0",
            "_view_name": "LayoutView",
            "align_content": null,
            "align_items": null,
            "align_self": null,
            "border": null,
            "bottom": null,
            "display": null,
            "flex": null,
            "flex_flow": null,
            "grid_area": null,
            "grid_auto_columns": null,
            "grid_auto_flow": null,
            "grid_auto_rows": null,
            "grid_column": null,
            "grid_gap": null,
            "grid_row": null,
            "grid_template_areas": null,
            "grid_template_columns": null,
            "grid_template_rows": null,
            "height": null,
            "justify_content": null,
            "justify_items": null,
            "left": null,
            "margin": null,
            "max_height": null,
            "max_width": null,
            "min_height": null,
            "min_width": null,
            "object_fit": null,
            "object_position": null,
            "order": null,
            "overflow": null,
            "overflow_x": null,
            "overflow_y": null,
            "padding": null,
            "right": null,
            "top": null,
            "visibility": null,
            "width": null
          }
        },
        "5994f62e44074147810a1e0e2376e0ab": {
          "model_module": "@jupyter-widgets/controls",
          "model_name": "DescriptionStyleModel",
          "model_module_version": "1.5.0",
          "state": {
            "_model_module": "@jupyter-widgets/controls",
            "_model_module_version": "1.5.0",
            "_model_name": "DescriptionStyleModel",
            "_view_count": null,
            "_view_module": "@jupyter-widgets/base",
            "_view_module_version": "1.2.0",
            "_view_name": "StyleView",
            "description_width": ""
          }
        },
        "08c2b492f8924f0981dd5a10705204b0": {
          "model_module": "@jupyter-widgets/base",
          "model_name": "LayoutModel",
          "model_module_version": "1.2.0",
          "state": {
            "_model_module": "@jupyter-widgets/base",
            "_model_module_version": "1.2.0",
            "_model_name": "LayoutModel",
            "_view_count": null,
            "_view_module": "@jupyter-widgets/base",
            "_view_module_version": "1.2.0",
            "_view_name": "LayoutView",
            "align_content": null,
            "align_items": null,
            "align_self": null,
            "border": null,
            "bottom": null,
            "display": null,
            "flex": null,
            "flex_flow": null,
            "grid_area": null,
            "grid_auto_columns": null,
            "grid_auto_flow": null,
            "grid_auto_rows": null,
            "grid_column": null,
            "grid_gap": null,
            "grid_row": null,
            "grid_template_areas": null,
            "grid_template_columns": null,
            "grid_template_rows": null,
            "height": null,
            "justify_content": null,
            "justify_items": null,
            "left": null,
            "margin": null,
            "max_height": null,
            "max_width": null,
            "min_height": null,
            "min_width": null,
            "object_fit": null,
            "object_position": null,
            "order": null,
            "overflow": null,
            "overflow_x": null,
            "overflow_y": null,
            "padding": null,
            "right": null,
            "top": null,
            "visibility": null,
            "width": null
          }
        },
        "b6e142163a934cdc96ff3a1523920ef5": {
          "model_module": "@jupyter-widgets/controls",
          "model_name": "ButtonStyleModel",
          "model_module_version": "1.5.0",
          "state": {
            "_model_module": "@jupyter-widgets/controls",
            "_model_module_version": "1.5.0",
            "_model_name": "ButtonStyleModel",
            "_view_count": null,
            "_view_module": "@jupyter-widgets/base",
            "_view_module_version": "1.2.0",
            "_view_name": "StyleView",
            "button_color": null,
            "font_weight": ""
          }
        },
        "533754a6c5d84446873827247a09fcde": {
          "model_module": "@jupyter-widgets/base",
          "model_name": "LayoutModel",
          "model_module_version": "1.2.0",
          "state": {
            "_model_module": "@jupyter-widgets/base",
            "_model_module_version": "1.2.0",
            "_model_name": "LayoutModel",
            "_view_count": null,
            "_view_module": "@jupyter-widgets/base",
            "_view_module_version": "1.2.0",
            "_view_name": "LayoutView",
            "align_content": null,
            "align_items": null,
            "align_self": null,
            "border": null,
            "bottom": null,
            "display": null,
            "flex": null,
            "flex_flow": null,
            "grid_area": null,
            "grid_auto_columns": null,
            "grid_auto_flow": null,
            "grid_auto_rows": null,
            "grid_column": null,
            "grid_gap": null,
            "grid_row": null,
            "grid_template_areas": null,
            "grid_template_columns": null,
            "grid_template_rows": null,
            "height": null,
            "justify_content": null,
            "justify_items": null,
            "left": null,
            "margin": null,
            "max_height": null,
            "max_width": null,
            "min_height": null,
            "min_width": null,
            "object_fit": null,
            "object_position": null,
            "order": null,
            "overflow": null,
            "overflow_x": null,
            "overflow_y": null,
            "padding": null,
            "right": null,
            "top": null,
            "visibility": null,
            "width": null
          }
        },
        "d962a8630c7243e59cb78051dcb6237d": {
          "model_module": "@jupyter-widgets/controls",
          "model_name": "ButtonStyleModel",
          "model_module_version": "1.5.0",
          "state": {
            "_model_module": "@jupyter-widgets/controls",
            "_model_module_version": "1.5.0",
            "_model_name": "ButtonStyleModel",
            "_view_count": null,
            "_view_module": "@jupyter-widgets/base",
            "_view_module_version": "1.2.0",
            "_view_name": "StyleView",
            "button_color": null,
            "font_weight": ""
          }
        },
        "a89d5d7f791e440ca9713d87377d3c28": {
          "model_module": "@jupyter-widgets/output",
          "model_name": "OutputModel",
          "model_module_version": "1.0.0",
          "state": {
            "_dom_classes": [],
            "_model_module": "@jupyter-widgets/output",
            "_model_module_version": "1.0.0",
            "_model_name": "OutputModel",
            "_view_count": null,
            "_view_module": "@jupyter-widgets/output",
            "_view_module_version": "1.0.0",
            "_view_name": "OutputView",
            "layout": "IPY_MODEL_4e98c24f1e4e4f82bee36ed9e1a68765",
            "msg_id": "",
            "outputs": [
              {
                "output_type": "display_data",
                "data": {
                  "text/plain": "<Figure size 640x640 with 1 Axes>",
                  "image/png": "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\n"
                },
                "metadata": {
                  "needs_background": "light"
                }
              }
            ]
          }
        },
        "4e98c24f1e4e4f82bee36ed9e1a68765": {
          "model_module": "@jupyter-widgets/base",
          "model_name": "LayoutModel",
          "model_module_version": "1.2.0",
          "state": {
            "_model_module": "@jupyter-widgets/base",
            "_model_module_version": "1.2.0",
            "_model_name": "LayoutModel",
            "_view_count": null,
            "_view_module": "@jupyter-widgets/base",
            "_view_module_version": "1.2.0",
            "_view_name": "LayoutView",
            "align_content": null,
            "align_items": null,
            "align_self": null,
            "border": null,
            "bottom": null,
            "display": null,
            "flex": null,
            "flex_flow": null,
            "grid_area": null,
            "grid_auto_columns": null,
            "grid_auto_flow": null,
            "grid_auto_rows": null,
            "grid_column": null,
            "grid_gap": null,
            "grid_row": null,
            "grid_template_areas": null,
            "grid_template_columns": null,
            "grid_template_rows": null,
            "height": null,
            "justify_content": null,
            "justify_items": null,
            "left": null,
            "margin": null,
            "max_height": null,
            "max_width": null,
            "min_height": null,
            "min_width": null,
            "object_fit": null,
            "object_position": null,
            "order": null,
            "overflow": null,
            "overflow_x": null,
            "overflow_y": null,
            "padding": null,
            "right": null,
            "top": null,
            "visibility": null,
            "width": null
          }
        },
        "dba36ad9941a4cc08807d864ea9bf91c": {
          "model_module": "@jupyter-widgets/controls",
          "model_name": "VBoxModel",
          "model_module_version": "1.5.0",
          "state": {
            "_dom_classes": [],
            "_model_module": "@jupyter-widgets/controls",
            "_model_module_version": "1.5.0",
            "_model_name": "VBoxModel",
            "_view_count": null,
            "_view_module": "@jupyter-widgets/controls",
            "_view_module_version": "1.5.0",
            "_view_name": "VBoxView",
            "box_style": "",
            "children": [
              "IPY_MODEL_2ba1bee7aa7c4793984eb4d10c9bb4b8",
              "IPY_MODEL_47139a2ea7b64f70ac9ae124e374dcd1"
            ],
            "layout": "IPY_MODEL_ea7bcd7004014cdc9964f7174767aa5f"
          }
        },
        "2ba1bee7aa7c4793984eb4d10c9bb4b8": {
          "model_module": "@jupyter-widgets/controls",
          "model_name": "HBoxModel",
          "model_module_version": "1.5.0",
          "state": {
            "_dom_classes": [],
            "_model_module": "@jupyter-widgets/controls",
            "_model_module_version": "1.5.0",
            "_model_name": "HBoxModel",
            "_view_count": null,
            "_view_module": "@jupyter-widgets/controls",
            "_view_module_version": "1.5.0",
            "_view_name": "HBoxView",
            "box_style": "",
            "children": [
              "IPY_MODEL_97934d4a60bc4f299f911eb70487b7ad",
              "IPY_MODEL_d0483184d2a84f849955d13bc0f1d443",
              "IPY_MODEL_324c0186375e4dfca59441d7bfb8088a",
              "IPY_MODEL_0ddc43a3bff34e4caf96b443f63e7b79",
              "IPY_MODEL_58f0c8f0961246a3b3aa6cf20da9962b"
            ],
            "layout": "IPY_MODEL_06d20ff9f8c9422ba196773e736f4211"
          }
        },
        "47139a2ea7b64f70ac9ae124e374dcd1": {
          "model_module": "@jupyter-widgets/controls",
          "model_name": "HBoxModel",
          "model_module_version": "1.5.0",
          "state": {
            "_dom_classes": [],
            "_model_module": "@jupyter-widgets/controls",
            "_model_module_version": "1.5.0",
            "_model_name": "HBoxModel",
            "_view_count": null,
            "_view_module": "@jupyter-widgets/controls",
            "_view_module_version": "1.5.0",
            "_view_name": "HBoxView",
            "box_style": "",
            "children": [
              "IPY_MODEL_ef8ce8cd3cf64453b0aef6b85d1e1d85",
              "IPY_MODEL_056df7638ff7403385a71ec06c246d51",
              "IPY_MODEL_62045596757249fd8f03530be38d8d66",
              "IPY_MODEL_5ec5041d0ac449328c084e5765c7ec90"
            ],
            "layout": "IPY_MODEL_b681a41cd9c34b61af408fd43d1f9fdd"
          }
        },
        "ea7bcd7004014cdc9964f7174767aa5f": {
          "model_module": "@jupyter-widgets/base",
          "model_name": "LayoutModel",
          "model_module_version": "1.2.0",
          "state": {
            "_model_module": "@jupyter-widgets/base",
            "_model_module_version": "1.2.0",
            "_model_name": "LayoutModel",
            "_view_count": null,
            "_view_module": "@jupyter-widgets/base",
            "_view_module_version": "1.2.0",
            "_view_name": "LayoutView",
            "align_content": null,
            "align_items": null,
            "align_self": null,
            "border": null,
            "bottom": null,
            "display": null,
            "flex": null,
            "flex_flow": null,
            "grid_area": null,
            "grid_auto_columns": null,
            "grid_auto_flow": null,
            "grid_auto_rows": null,
            "grid_column": null,
            "grid_gap": null,
            "grid_row": null,
            "grid_template_areas": null,
            "grid_template_columns": null,
            "grid_template_rows": null,
            "height": null,
            "justify_content": null,
            "justify_items": null,
            "left": null,
            "margin": null,
            "max_height": null,
            "max_width": null,
            "min_height": null,
            "min_width": null,
            "object_fit": null,
            "object_position": null,
            "order": null,
            "overflow": null,
            "overflow_x": null,
            "overflow_y": null,
            "padding": null,
            "right": null,
            "top": null,
            "visibility": null,
            "width": null
          }
        },
        "97934d4a60bc4f299f911eb70487b7ad": {
          "model_module": "@jupyter-widgets/controls",
          "model_name": "ButtonModel",
          "model_module_version": "1.5.0",
          "state": {
            "_dom_classes": [],
            "_model_module": "@jupyter-widgets/controls",
            "_model_module_version": "1.5.0",
            "_model_name": "ButtonModel",
            "_view_count": null,
            "_view_module": "@jupyter-widgets/controls",
            "_view_module_version": "1.5.0",
            "_view_name": "ButtonView",
            "button_style": "success",
            "description": "Previous",
            "disabled": false,
            "icon": "arrow-left",
            "layout": "IPY_MODEL_8379776a7f264c46a9ca30f87f56da78",
            "style": "IPY_MODEL_ef6184ea9c314bdf9efbbca996975242",
            "tooltip": "Previous Sample"
          }
        },
        "d0483184d2a84f849955d13bc0f1d443": {
          "model_module": "@jupyter-widgets/controls",
          "model_name": "IntSliderModel",
          "model_module_version": "1.5.0",
          "state": {
            "_dom_classes": [],
            "_model_module": "@jupyter-widgets/controls",
            "_model_module_version": "1.5.0",
            "_model_name": "IntSliderModel",
            "_view_count": null,
            "_view_module": "@jupyter-widgets/controls",
            "_view_module_version": "1.5.0",
            "_view_name": "IntSliderView",
            "continuous_update": false,
            "description": "Index:",
            "description_tooltip": null,
            "disabled": false,
            "layout": "IPY_MODEL_f443b3ffb70f406591ae104878507d9d",
            "max": 2066,
            "min": 0,
            "orientation": "horizontal",
            "readout": true,
            "readout_format": "d",
            "step": 1,
            "style": "IPY_MODEL_a90890f2fcd34446b35a6bfa4b92eb8e",
            "value": 421
          }
        },
        "324c0186375e4dfca59441d7bfb8088a": {
          "model_module": "@jupyter-widgets/controls",
          "model_name": "ButtonModel",
          "model_module_version": "1.5.0",
          "state": {
            "_dom_classes": [],
            "_model_module": "@jupyter-widgets/controls",
            "_model_module_version": "1.5.0",
            "_model_name": "ButtonModel",
            "_view_count": null,
            "_view_module": "@jupyter-widgets/controls",
            "_view_module_version": "1.5.0",
            "_view_name": "ButtonView",
            "button_style": "success",
            "description": "Next",
            "disabled": false,
            "icon": "arrow-right",
            "layout": "IPY_MODEL_f0455993a14f4d5480feb1ae057f1808",
            "style": "IPY_MODEL_fb475b6f85de4ec387b81c7b05e911f1",
            "tooltip": "Next Sample"
          }
        },
        "0ddc43a3bff34e4caf96b443f63e7b79": {
          "model_module": "@jupyter-widgets/controls",
          "model_name": "DropdownModel",
          "model_module_version": "1.5.0",
          "state": {
            "_dom_classes": [],
            "_model_module": "@jupyter-widgets/controls",
            "_model_module_version": "1.5.0",
            "_model_name": "DropdownModel",
            "_options_labels": [
              "train",
              "val",
              "test"
            ],
            "_view_count": null,
            "_view_module": "@jupyter-widgets/controls",
            "_view_module_version": "1.5.0",
            "_view_name": "DropdownView",
            "description": "Splits",
            "description_tooltip": null,
            "disabled": false,
            "index": 0,
            "layout": "IPY_MODEL_7756853a173940f4945f3598a949f002",
            "style": "IPY_MODEL_0f0a85067a86453a863a83df3c3dcd3a"
          }
        },
        "58f0c8f0961246a3b3aa6cf20da9962b": {
          "model_module": "@jupyter-widgets/controls",
          "model_name": "FloatRangeSliderModel",
          "model_module_version": "1.5.0",
          "state": {
            "_dom_classes": [],
            "_model_module": "@jupyter-widgets/controls",
            "_model_module_version": "1.5.0",
            "_model_name": "FloatRangeSliderModel",
            "_view_count": null,
            "_view_module": "@jupyter-widgets/controls",
            "_view_module_version": "1.5.0",
            "_view_name": "FloatRangeSliderView",
            "continuous_update": false,
            "description": "Variance:",
            "description_tooltip": null,
            "disabled": false,
            "layout": "IPY_MODEL_dbbea2a2a2ca4ba495bdefc7cb02ba54",
            "max": 10,
            "min": 0,
            "orientation": "horizontal",
            "readout": true,
            "readout_format": ".2f",
            "step": 0.1,
            "style": "IPY_MODEL_b58af30f04374a59bae31d7bad1f9f26",
            "value": [
              0,
              10
            ]
          }
        },
        "06d20ff9f8c9422ba196773e736f4211": {
          "model_module": "@jupyter-widgets/base",
          "model_name": "LayoutModel",
          "model_module_version": "1.2.0",
          "state": {
            "_model_module": "@jupyter-widgets/base",
            "_model_module_version": "1.2.0",
            "_model_name": "LayoutModel",
            "_view_count": null,
            "_view_module": "@jupyter-widgets/base",
            "_view_module_version": "1.2.0",
            "_view_name": "LayoutView",
            "align_content": null,
            "align_items": null,
            "align_self": null,
            "border": null,
            "bottom": null,
            "display": null,
            "flex": null,
            "flex_flow": null,
            "grid_area": null,
            "grid_auto_columns": null,
            "grid_auto_flow": null,
            "grid_auto_rows": null,
            "grid_column": null,
            "grid_gap": null,
            "grid_row": null,
            "grid_template_areas": null,
            "grid_template_columns": null,
            "grid_template_rows": null,
            "height": null,
            "justify_content": null,
            "justify_items": null,
            "left": null,
            "margin": null,
            "max_height": null,
            "max_width": null,
            "min_height": null,
            "min_width": null,
            "object_fit": null,
            "object_position": null,
            "order": null,
            "overflow": null,
            "overflow_x": null,
            "overflow_y": null,
            "padding": null,
            "right": null,
            "top": null,
            "visibility": null,
            "width": null
          }
        },
        "ef8ce8cd3cf64453b0aef6b85d1e1d85": {
          "model_module": "@jupyter-widgets/controls",
          "model_name": "TextModel",
          "model_module_version": "1.5.0",
          "state": {
            "_dom_classes": [],
            "_model_module": "@jupyter-widgets/controls",
            "_model_module_version": "1.5.0",
            "_model_name": "TextModel",
            "_view_count": null,
            "_view_module": "@jupyter-widgets/controls",
            "_view_module_version": "1.5.0",
            "_view_name": "TextView",
            "continuous_update": true,
            "description": "Label:",
            "description_tooltip": null,
            "disabled": false,
            "layout": "IPY_MODEL_04b11b9b1ba449dc9e60553a44526501",
            "placeholder": "Label",
            "style": "IPY_MODEL_17a2d77aeee34631b3eeb21824545b97",
            "value": "iii  loss_var: 0.019"
          }
        },
        "056df7638ff7403385a71ec06c246d51": {
          "model_module": "@jupyter-widgets/controls",
          "model_name": "DropdownModel",
          "model_module_version": "1.5.0",
          "state": {
            "_dom_classes": [],
            "_model_module": "@jupyter-widgets/controls",
            "_model_module_version": "1.5.0",
            "_model_name": "DropdownModel",
            "_options_labels": [
              "i",
              "ii",
              "iii",
              "iv",
              "v",
              "vi",
              "vii",
              "viii",
              "ix",
              "x"
            ],
            "_view_count": null,
            "_view_module": "@jupyter-widgets/controls",
            "_view_module_version": "1.5.0",
            "_view_name": "DropdownView",
            "description": "New Label",
            "description_tooltip": null,
            "disabled": false,
            "index": 0,
            "layout": "IPY_MODEL_eb3a3073f06d48819b93761ea992a152",
            "style": "IPY_MODEL_9cfaad5f37b94dabb3acca5f931df95d"
          }
        },
        "62045596757249fd8f03530be38d8d66": {
          "model_module": "@jupyter-widgets/controls",
          "model_name": "ButtonModel",
          "model_module_version": "1.5.0",
          "state": {
            "_dom_classes": [],
            "_model_module": "@jupyter-widgets/controls",
            "_model_module_version": "1.5.0",
            "_model_name": "ButtonModel",
            "_view_count": null,
            "_view_module": "@jupyter-widgets/controls",
            "_view_module_version": "1.5.0",
            "_view_name": "ButtonView",
            "button_style": "success",
            "description": "Change Label",
            "disabled": false,
            "icon": "check",
            "layout": "IPY_MODEL_2416c47e33f54ca1a4be8ee5dd44fdbc",
            "style": "IPY_MODEL_3ec831b495424451a7d6ca9ad7cf1b2f",
            "tooltip": "Change Label"
          }
        },
        "5ec5041d0ac449328c084e5765c7ec90": {
          "model_module": "@jupyter-widgets/controls",
          "model_name": "ButtonModel",
          "model_module_version": "1.5.0",
          "state": {
            "_dom_classes": [],
            "_model_module": "@jupyter-widgets/controls",
            "_model_module_version": "1.5.0",
            "_model_name": "ButtonModel",
            "_view_count": null,
            "_view_module": "@jupyter-widgets/controls",
            "_view_module_version": "1.5.0",
            "_view_name": "ButtonView",
            "button_style": "danger",
            "description": "Delete",
            "disabled": false,
            "icon": "trash",
            "layout": "IPY_MODEL_d27c2e1bec4643188666102eefa79e51",
            "style": "IPY_MODEL_e151754afb014add97e64afa12c0ac84",
            "tooltip": "Delete"
          }
        },
        "b681a41cd9c34b61af408fd43d1f9fdd": {
          "model_module": "@jupyter-widgets/base",
          "model_name": "LayoutModel",
          "model_module_version": "1.2.0",
          "state": {
            "_model_module": "@jupyter-widgets/base",
            "_model_module_version": "1.2.0",
            "_model_name": "LayoutModel",
            "_view_count": null,
            "_view_module": "@jupyter-widgets/base",
            "_view_module_version": "1.2.0",
            "_view_name": "LayoutView",
            "align_content": null,
            "align_items": null,
            "align_self": null,
            "border": null,
            "bottom": null,
            "display": null,
            "flex": null,
            "flex_flow": null,
            "grid_area": null,
            "grid_auto_columns": null,
            "grid_auto_flow": null,
            "grid_auto_rows": null,
            "grid_column": null,
            "grid_gap": null,
            "grid_row": null,
            "grid_template_areas": null,
            "grid_template_columns": null,
            "grid_template_rows": null,
            "height": null,
            "justify_content": null,
            "justify_items": null,
            "left": null,
            "margin": null,
            "max_height": null,
            "max_width": null,
            "min_height": null,
            "min_width": null,
            "object_fit": null,
            "object_position": null,
            "order": null,
            "overflow": null,
            "overflow_x": null,
            "overflow_y": null,
            "padding": null,
            "right": null,
            "top": null,
            "visibility": null,
            "width": null
          }
        },
        "8379776a7f264c46a9ca30f87f56da78": {
          "model_module": "@jupyter-widgets/base",
          "model_name": "LayoutModel",
          "model_module_version": "1.2.0",
          "state": {
            "_model_module": "@jupyter-widgets/base",
            "_model_module_version": "1.2.0",
            "_model_name": "LayoutModel",
            "_view_count": null,
            "_view_module": "@jupyter-widgets/base",
            "_view_module_version": "1.2.0",
            "_view_name": "LayoutView",
            "align_content": null,
            "align_items": null,
            "align_self": null,
            "border": null,
            "bottom": null,
            "display": null,
            "flex": null,
            "flex_flow": null,
            "grid_area": null,
            "grid_auto_columns": null,
            "grid_auto_flow": null,
            "grid_auto_rows": null,
            "grid_column": null,
            "grid_gap": null,
            "grid_row": null,
            "grid_template_areas": null,
            "grid_template_columns": null,
            "grid_template_rows": null,
            "height": null,
            "justify_content": null,
            "justify_items": null,
            "left": null,
            "margin": null,
            "max_height": null,
            "max_width": null,
            "min_height": null,
            "min_width": null,
            "object_fit": null,
            "object_position": null,
            "order": null,
            "overflow": null,
            "overflow_x": null,
            "overflow_y": null,
            "padding": null,
            "right": null,
            "top": null,
            "visibility": null,
            "width": null
          }
        },
        "ef6184ea9c314bdf9efbbca996975242": {
          "model_module": "@jupyter-widgets/controls",
          "model_name": "ButtonStyleModel",
          "model_module_version": "1.5.0",
          "state": {
            "_model_module": "@jupyter-widgets/controls",
            "_model_module_version": "1.5.0",
            "_model_name": "ButtonStyleModel",
            "_view_count": null,
            "_view_module": "@jupyter-widgets/base",
            "_view_module_version": "1.2.0",
            "_view_name": "StyleView",
            "button_color": null,
            "font_weight": ""
          }
        },
        "f443b3ffb70f406591ae104878507d9d": {
          "model_module": "@jupyter-widgets/base",
          "model_name": "LayoutModel",
          "model_module_version": "1.2.0",
          "state": {
            "_model_module": "@jupyter-widgets/base",
            "_model_module_version": "1.2.0",
            "_model_name": "LayoutModel",
            "_view_count": null,
            "_view_module": "@jupyter-widgets/base",
            "_view_module_version": "1.2.0",
            "_view_name": "LayoutView",
            "align_content": null,
            "align_items": null,
            "align_self": null,
            "border": null,
            "bottom": null,
            "display": null,
            "flex": null,
            "flex_flow": null,
            "grid_area": null,
            "grid_auto_columns": null,
            "grid_auto_flow": null,
            "grid_auto_rows": null,
            "grid_column": null,
            "grid_gap": null,
            "grid_row": null,
            "grid_template_areas": null,
            "grid_template_columns": null,
            "grid_template_rows": null,
            "height": null,
            "justify_content": null,
            "justify_items": null,
            "left": null,
            "margin": null,
            "max_height": null,
            "max_width": null,
            "min_height": null,
            "min_width": null,
            "object_fit": null,
            "object_position": null,
            "order": null,
            "overflow": null,
            "overflow_x": null,
            "overflow_y": null,
            "padding": null,
            "right": null,
            "top": null,
            "visibility": null,
            "width": null
          }
        },
        "a90890f2fcd34446b35a6bfa4b92eb8e": {
          "model_module": "@jupyter-widgets/controls",
          "model_name": "SliderStyleModel",
          "model_module_version": "1.5.0",
          "state": {
            "_model_module": "@jupyter-widgets/controls",
            "_model_module_version": "1.5.0",
            "_model_name": "SliderStyleModel",
            "_view_count": null,
            "_view_module": "@jupyter-widgets/base",
            "_view_module_version": "1.2.0",
            "_view_name": "StyleView",
            "description_width": "",
            "handle_color": null
          }
        },
        "f0455993a14f4d5480feb1ae057f1808": {
          "model_module": "@jupyter-widgets/base",
          "model_name": "LayoutModel",
          "model_module_version": "1.2.0",
          "state": {
            "_model_module": "@jupyter-widgets/base",
            "_model_module_version": "1.2.0",
            "_model_name": "LayoutModel",
            "_view_count": null,
            "_view_module": "@jupyter-widgets/base",
            "_view_module_version": "1.2.0",
            "_view_name": "LayoutView",
            "align_content": null,
            "align_items": null,
            "align_self": null,
            "border": null,
            "bottom": null,
            "display": null,
            "flex": null,
            "flex_flow": null,
            "grid_area": null,
            "grid_auto_columns": null,
            "grid_auto_flow": null,
            "grid_auto_rows": null,
            "grid_column": null,
            "grid_gap": null,
            "grid_row": null,
            "grid_template_areas": null,
            "grid_template_columns": null,
            "grid_template_rows": null,
            "height": null,
            "justify_content": null,
            "justify_items": null,
            "left": null,
            "margin": null,
            "max_height": null,
            "max_width": null,
            "min_height": null,
            "min_width": null,
            "object_fit": null,
            "object_position": null,
            "order": null,
            "overflow": null,
            "overflow_x": null,
            "overflow_y": null,
            "padding": null,
            "right": null,
            "top": null,
            "visibility": null,
            "width": null
          }
        },
        "fb475b6f85de4ec387b81c7b05e911f1": {
          "model_module": "@jupyter-widgets/controls",
          "model_name": "ButtonStyleModel",
          "model_module_version": "1.5.0",
          "state": {
            "_model_module": "@jupyter-widgets/controls",
            "_model_module_version": "1.5.0",
            "_model_name": "ButtonStyleModel",
            "_view_count": null,
            "_view_module": "@jupyter-widgets/base",
            "_view_module_version": "1.2.0",
            "_view_name": "StyleView",
            "button_color": null,
            "font_weight": ""
          }
        },
        "7756853a173940f4945f3598a949f002": {
          "model_module": "@jupyter-widgets/base",
          "model_name": "LayoutModel",
          "model_module_version": "1.2.0",
          "state": {
            "_model_module": "@jupyter-widgets/base",
            "_model_module_version": "1.2.0",
            "_model_name": "LayoutModel",
            "_view_count": null,
            "_view_module": "@jupyter-widgets/base",
            "_view_module_version": "1.2.0",
            "_view_name": "LayoutView",
            "align_content": null,
            "align_items": null,
            "align_self": null,
            "border": null,
            "bottom": null,
            "display": null,
            "flex": null,
            "flex_flow": null,
            "grid_area": null,
            "grid_auto_columns": null,
            "grid_auto_flow": null,
            "grid_auto_rows": null,
            "grid_column": null,
            "grid_gap": null,
            "grid_row": null,
            "grid_template_areas": null,
            "grid_template_columns": null,
            "grid_template_rows": null,
            "height": null,
            "justify_content": null,
            "justify_items": null,
            "left": null,
            "margin": null,
            "max_height": null,
            "max_width": null,
            "min_height": null,
            "min_width": null,
            "object_fit": null,
            "object_position": null,
            "order": null,
            "overflow": null,
            "overflow_x": null,
            "overflow_y": null,
            "padding": null,
            "right": null,
            "top": null,
            "visibility": null,
            "width": null
          }
        },
        "0f0a85067a86453a863a83df3c3dcd3a": {
          "model_module": "@jupyter-widgets/controls",
          "model_name": "DescriptionStyleModel",
          "model_module_version": "1.5.0",
          "state": {
            "_model_module": "@jupyter-widgets/controls",
            "_model_module_version": "1.5.0",
            "_model_name": "DescriptionStyleModel",
            "_view_count": null,
            "_view_module": "@jupyter-widgets/base",
            "_view_module_version": "1.2.0",
            "_view_name": "StyleView",
            "description_width": ""
          }
        },
        "dbbea2a2a2ca4ba495bdefc7cb02ba54": {
          "model_module": "@jupyter-widgets/base",
          "model_name": "LayoutModel",
          "model_module_version": "1.2.0",
          "state": {
            "_model_module": "@jupyter-widgets/base",
            "_model_module_version": "1.2.0",
            "_model_name": "LayoutModel",
            "_view_count": null,
            "_view_module": "@jupyter-widgets/base",
            "_view_module_version": "1.2.0",
            "_view_name": "LayoutView",
            "align_content": null,
            "align_items": null,
            "align_self": null,
            "border": null,
            "bottom": null,
            "display": null,
            "flex": null,
            "flex_flow": null,
            "grid_area": null,
            "grid_auto_columns": null,
            "grid_auto_flow": null,
            "grid_auto_rows": null,
            "grid_column": null,
            "grid_gap": null,
            "grid_row": null,
            "grid_template_areas": null,
            "grid_template_columns": null,
            "grid_template_rows": null,
            "height": null,
            "justify_content": null,
            "justify_items": null,
            "left": null,
            "margin": null,
            "max_height": null,
            "max_width": null,
            "min_height": null,
            "min_width": null,
            "object_fit": null,
            "object_position": null,
            "order": null,
            "overflow": null,
            "overflow_x": null,
            "overflow_y": null,
            "padding": null,
            "right": null,
            "top": null,
            "visibility": null,
            "width": null
          }
        },
        "b58af30f04374a59bae31d7bad1f9f26": {
          "model_module": "@jupyter-widgets/controls",
          "model_name": "SliderStyleModel",
          "model_module_version": "1.5.0",
          "state": {
            "_model_module": "@jupyter-widgets/controls",
            "_model_module_version": "1.5.0",
            "_model_name": "SliderStyleModel",
            "_view_count": null,
            "_view_module": "@jupyter-widgets/base",
            "_view_module_version": "1.2.0",
            "_view_name": "StyleView",
            "description_width": "",
            "handle_color": null
          }
        },
        "04b11b9b1ba449dc9e60553a44526501": {
          "model_module": "@jupyter-widgets/base",
          "model_name": "LayoutModel",
          "model_module_version": "1.2.0",
          "state": {
            "_model_module": "@jupyter-widgets/base",
            "_model_module_version": "1.2.0",
            "_model_name": "LayoutModel",
            "_view_count": null,
            "_view_module": "@jupyter-widgets/base",
            "_view_module_version": "1.2.0",
            "_view_name": "LayoutView",
            "align_content": null,
            "align_items": null,
            "align_self": null,
            "border": null,
            "bottom": null,
            "display": null,
            "flex": null,
            "flex_flow": null,
            "grid_area": null,
            "grid_auto_columns": null,
            "grid_auto_flow": null,
            "grid_auto_rows": null,
            "grid_column": null,
            "grid_gap": null,
            "grid_row": null,
            "grid_template_areas": null,
            "grid_template_columns": null,
            "grid_template_rows": null,
            "height": null,
            "justify_content": null,
            "justify_items": null,
            "left": null,
            "margin": null,
            "max_height": null,
            "max_width": null,
            "min_height": null,
            "min_width": null,
            "object_fit": null,
            "object_position": null,
            "order": null,
            "overflow": null,
            "overflow_x": null,
            "overflow_y": null,
            "padding": null,
            "right": null,
            "top": null,
            "visibility": null,
            "width": null
          }
        },
        "17a2d77aeee34631b3eeb21824545b97": {
          "model_module": "@jupyter-widgets/controls",
          "model_name": "DescriptionStyleModel",
          "model_module_version": "1.5.0",
          "state": {
            "_model_module": "@jupyter-widgets/controls",
            "_model_module_version": "1.5.0",
            "_model_name": "DescriptionStyleModel",
            "_view_count": null,
            "_view_module": "@jupyter-widgets/base",
            "_view_module_version": "1.2.0",
            "_view_name": "StyleView",
            "description_width": ""
          }
        },
        "eb3a3073f06d48819b93761ea992a152": {
          "model_module": "@jupyter-widgets/base",
          "model_name": "LayoutModel",
          "model_module_version": "1.2.0",
          "state": {
            "_model_module": "@jupyter-widgets/base",
            "_model_module_version": "1.2.0",
            "_model_name": "LayoutModel",
            "_view_count": null,
            "_view_module": "@jupyter-widgets/base",
            "_view_module_version": "1.2.0",
            "_view_name": "LayoutView",
            "align_content": null,
            "align_items": null,
            "align_self": null,
            "border": null,
            "bottom": null,
            "display": null,
            "flex": null,
            "flex_flow": null,
            "grid_area": null,
            "grid_auto_columns": null,
            "grid_auto_flow": null,
            "grid_auto_rows": null,
            "grid_column": null,
            "grid_gap": null,
            "grid_row": null,
            "grid_template_areas": null,
            "grid_template_columns": null,
            "grid_template_rows": null,
            "height": null,
            "justify_content": null,
            "justify_items": null,
            "left": null,
            "margin": null,
            "max_height": null,
            "max_width": null,
            "min_height": null,
            "min_width": null,
            "object_fit": null,
            "object_position": null,
            "order": null,
            "overflow": null,
            "overflow_x": null,
            "overflow_y": null,
            "padding": null,
            "right": null,
            "top": null,
            "visibility": null,
            "width": null
          }
        },
        "9cfaad5f37b94dabb3acca5f931df95d": {
          "model_module": "@jupyter-widgets/controls",
          "model_name": "DescriptionStyleModel",
          "model_module_version": "1.5.0",
          "state": {
            "_model_module": "@jupyter-widgets/controls",
            "_model_module_version": "1.5.0",
            "_model_name": "DescriptionStyleModel",
            "_view_count": null,
            "_view_module": "@jupyter-widgets/base",
            "_view_module_version": "1.2.0",
            "_view_name": "StyleView",
            "description_width": ""
          }
        },
        "2416c47e33f54ca1a4be8ee5dd44fdbc": {
          "model_module": "@jupyter-widgets/base",
          "model_name": "LayoutModel",
          "model_module_version": "1.2.0",
          "state": {
            "_model_module": "@jupyter-widgets/base",
            "_model_module_version": "1.2.0",
            "_model_name": "LayoutModel",
            "_view_count": null,
            "_view_module": "@jupyter-widgets/base",
            "_view_module_version": "1.2.0",
            "_view_name": "LayoutView",
            "align_content": null,
            "align_items": null,
            "align_self": null,
            "border": null,
            "bottom": null,
            "display": null,
            "flex": null,
            "flex_flow": null,
            "grid_area": null,
            "grid_auto_columns": null,
            "grid_auto_flow": null,
            "grid_auto_rows": null,
            "grid_column": null,
            "grid_gap": null,
            "grid_row": null,
            "grid_template_areas": null,
            "grid_template_columns": null,
            "grid_template_rows": null,
            "height": null,
            "justify_content": null,
            "justify_items": null,
            "left": null,
            "margin": null,
            "max_height": null,
            "max_width": null,
            "min_height": null,
            "min_width": null,
            "object_fit": null,
            "object_position": null,
            "order": null,
            "overflow": null,
            "overflow_x": null,
            "overflow_y": null,
            "padding": null,
            "right": null,
            "top": null,
            "visibility": null,
            "width": null
          }
        },
        "3ec831b495424451a7d6ca9ad7cf1b2f": {
          "model_module": "@jupyter-widgets/controls",
          "model_name": "ButtonStyleModel",
          "model_module_version": "1.5.0",
          "state": {
            "_model_module": "@jupyter-widgets/controls",
            "_model_module_version": "1.5.0",
            "_model_name": "ButtonStyleModel",
            "_view_count": null,
            "_view_module": "@jupyter-widgets/base",
            "_view_module_version": "1.2.0",
            "_view_name": "StyleView",
            "button_color": null,
            "font_weight": ""
          }
        },
        "d27c2e1bec4643188666102eefa79e51": {
          "model_module": "@jupyter-widgets/base",
          "model_name": "LayoutModel",
          "model_module_version": "1.2.0",
          "state": {
            "_model_module": "@jupyter-widgets/base",
            "_model_module_version": "1.2.0",
            "_model_name": "LayoutModel",
            "_view_count": null,
            "_view_module": "@jupyter-widgets/base",
            "_view_module_version": "1.2.0",
            "_view_name": "LayoutView",
            "align_content": null,
            "align_items": null,
            "align_self": null,
            "border": null,
            "bottom": null,
            "display": null,
            "flex": null,
            "flex_flow": null,
            "grid_area": null,
            "grid_auto_columns": null,
            "grid_auto_flow": null,
            "grid_auto_rows": null,
            "grid_column": null,
            "grid_gap": null,
            "grid_row": null,
            "grid_template_areas": null,
            "grid_template_columns": null,
            "grid_template_rows": null,
            "height": null,
            "justify_content": null,
            "justify_items": null,
            "left": null,
            "margin": null,
            "max_height": null,
            "max_width": null,
            "min_height": null,
            "min_width": null,
            "object_fit": null,
            "object_position": null,
            "order": null,
            "overflow": null,
            "overflow_x": null,
            "overflow_y": null,
            "padding": null,
            "right": null,
            "top": null,
            "visibility": null,
            "width": null
          }
        },
        "e151754afb014add97e64afa12c0ac84": {
          "model_module": "@jupyter-widgets/controls",
          "model_name": "ButtonStyleModel",
          "model_module_version": "1.5.0",
          "state": {
            "_model_module": "@jupyter-widgets/controls",
            "_model_module_version": "1.5.0",
            "_model_name": "ButtonStyleModel",
            "_view_count": null,
            "_view_module": "@jupyter-widgets/base",
            "_view_module_version": "1.2.0",
            "_view_name": "StyleView",
            "button_color": null,
            "font_weight": ""
          }
        },
        "4721a7a1ced04363a0cac26a989cce95": {
          "model_module": "@jupyter-widgets/output",
          "model_name": "OutputModel",
          "model_module_version": "1.0.0",
          "state": {
            "_dom_classes": [],
            "_model_module": "@jupyter-widgets/output",
            "_model_module_version": "1.0.0",
            "_model_name": "OutputModel",
            "_view_count": null,
            "_view_module": "@jupyter-widgets/output",
            "_view_module_version": "1.0.0",
            "_view_name": "OutputView",
            "layout": "IPY_MODEL_49baea02e4154d13a53dba70074d9086",
            "msg_id": "",
            "outputs": [
              {
                "output_type": "display_data",
                "data": {
                  "text/plain": "<Figure size 640x640 with 1 Axes>",
                  "image/png": "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\n"
                },
                "metadata": {
                  "needs_background": "light"
                }
              }
            ]
          }
        },
        "49baea02e4154d13a53dba70074d9086": {
          "model_module": "@jupyter-widgets/base",
          "model_name": "LayoutModel",
          "model_module_version": "1.2.0",
          "state": {
            "_model_module": "@jupyter-widgets/base",
            "_model_module_version": "1.2.0",
            "_model_name": "LayoutModel",
            "_view_count": null,
            "_view_module": "@jupyter-widgets/base",
            "_view_module_version": "1.2.0",
            "_view_name": "LayoutView",
            "align_content": null,
            "align_items": null,
            "align_self": null,
            "border": null,
            "bottom": null,
            "display": null,
            "flex": null,
            "flex_flow": null,
            "grid_area": null,
            "grid_auto_columns": null,
            "grid_auto_flow": null,
            "grid_auto_rows": null,
            "grid_column": null,
            "grid_gap": null,
            "grid_row": null,
            "grid_template_areas": null,
            "grid_template_columns": null,
            "grid_template_rows": null,
            "height": null,
            "justify_content": null,
            "justify_items": null,
            "left": null,
            "margin": null,
            "max_height": null,
            "max_width": null,
            "min_height": null,
            "min_width": null,
            "object_fit": null,
            "object_position": null,
            "order": null,
            "overflow": null,
            "overflow_x": null,
            "overflow_y": null,
            "padding": null,
            "right": null,
            "top": null,
            "visibility": null,
            "width": null
          }
        }
      }
    }
  },
  "cells": [
    {
      "cell_type": "markdown",
      "metadata": {
        "id": "view-in-github",
        "colab_type": "text"
      },
      "source": [
        "<a href=\"https://colab.research.google.com/github/Alikerin/Introduction-to-Data-Centric-AI/blob/main/Introduction_to_Data_Centric_AI.ipynb\" target=\"_parent\"><img src=\"https://colab.research.google.com/assets/colab-badge.svg\" alt=\"Open In Colab\"/></a>"
      ]
    },
    {
      "cell_type": "markdown",
      "source": [
        "# Introduction\n",
        "This notebook contains the code for the \"Introduction to Data-Centric AI\" workshop hosted at [AMLD Africa 2022](https://appliedmldays.org/events/amld-africa-2022).\n",
        "\n",
        "In this notebook we would solve the first [Data-Centric AI Competition](https://https-deeplearning-ai.github.io/data-centric-comp/) organized by Deep Learning.AI and Landing AI.\n"
      ],
      "metadata": {
        "id": "25hW1IlSz7Lg"
      }
    },
    {
      "cell_type": "code",
      "source": [
        "#@title Download Data\n",
        "import gdown\n",
        "\n",
        "!rm -rf data_label_corrected\n",
        "!rm -rf data_label_corrected_mcd\n",
        "!rm -rf data\n",
        "!rm -rf label_book\n",
        "!rm -rf __MACOSX\n",
        "\n",
        "gdown.download(id=\"1hfkG1MR0sHqERFTWY986IA8ASgioT111\", output='data_label_corrected.tar.gz', quiet=True)\n",
        "gdown.download(id=\"102nKEEf8rfdaz9H4rGC7oNWTOOevZnCQ\", output='data.tar.gz', quiet=True)\n",
        "gdown.download(id=\"1HnVydTwTUv-ZkFX-6NGXvxR_6rWRxHBI\", output='label_book.tar.gz', quiet=True)\n",
        "gdown.download(id=\"1lVs82t1A_2vmeQKJ585kZhfVfuU59D5O\", output='data_label_corrected_mcd.zip', quiet=True)\n",
        "\n",
        "!tar -xzf data_label_corrected.tar.gz\n",
        "!tar -xzf data.tar.gz\n",
        "!tar -xzf label_book.tar.gz\n",
        "!unzip -q data_label_corrected_mcd.zip\n",
        "\n",
        "!rm data_label_corrected.tar.gz\n",
        "!rm data_label_corrected_mcd.zip\n",
        "!rm data.tar.gz\n",
        "!rm label_book.tar.gz"
      ],
      "metadata": {
        "cellView": "form",
        "id": "v6FOH54u0KOI"
      },
      "execution_count": 21,
      "outputs": []
    },
    {
      "cell_type": "code",
      "source": [
        "#@title Install Packages\n",
        "!pip -q install dvc[gdrive]\n"
      ],
      "metadata": {
        "colab": {
          "base_uri": "https://localhost:8080/"
        },
        "cellView": "form",
        "id": "hGWcx6df9YQD",
        "outputId": "5e47c834-f4a5-4ce6-fb27-70436a499121"
      },
      "execution_count": 2,
      "outputs": [
        {
          "output_type": "stream",
          "name": "stdout",
          "text": [
            "\u001b[K     |████████████████████████████████| 401 kB 5.1 MB/s \n",
            "\u001b[K     |████████████████████████████████| 291 kB 52.7 MB/s \n",
            "\u001b[K     |████████████████████████████████| 109 kB 63.8 MB/s \n",
            "\u001b[K     |████████████████████████████████| 44 kB 3.0 MB/s \n",
            "\u001b[K     |████████████████████████████████| 237 kB 65.3 MB/s \n",
            "\u001b[K     |████████████████████████████████| 44 kB 3.3 MB/s \n",
            "\u001b[K     |████████████████████████████████| 40 kB 6.9 MB/s \n",
            "\u001b[K     |████████████████████████████████| 42 kB 1.4 MB/s \n",
            "\u001b[K     |████████████████████████████████| 182 kB 73.6 MB/s \n",
            "\u001b[K     |████████████████████████████████| 498 kB 67.3 MB/s \n",
            "\u001b[K     |████████████████████████████████| 346 kB 71.4 MB/s \n",
            "\u001b[K     |████████████████████████████████| 4.5 MB 60.9 MB/s \n",
            "\u001b[K     |████████████████████████████████| 4.1 MB 56.1 MB/s \n",
            "\u001b[K     |████████████████████████████████| 140 kB 76.5 MB/s \n",
            "\u001b[K     |████████████████████████████████| 63 kB 2.1 MB/s \n",
            "\u001b[K     |████████████████████████████████| 57 kB 5.2 MB/s \n",
            "\u001b[K     |████████████████████████████████| 96 kB 6.6 MB/s \n",
            "\u001b[K     |████████████████████████████████| 53 kB 1.1 MB/s \n",
            "\u001b[K     |████████████████████████████████| 62 kB 1.7 MB/s \n",
            "\u001b[K     |████████████████████████████████| 321 kB 79.5 MB/s \n",
            "\u001b[K     |████████████████████████████████| 2.6 MB 51.7 MB/s \n",
            "\u001b[K     |████████████████████████████████| 132 kB 74.6 MB/s \n",
            "\u001b[K     |████████████████████████████████| 79 kB 9.2 MB/s \n",
            "\u001b[K     |████████████████████████████████| 9.8 MB 51.4 MB/s \n",
            "\u001b[K     |████████████████████████████████| 51 kB 7.8 MB/s \n",
            "\u001b[K     |████████████████████████████████| 500 kB 76.9 MB/s \n",
            "\u001b[?25h  Building wheel for configobj (setup.py) ... \u001b[?25l\u001b[?25hdone\n",
            "  Building wheel for nanotime (setup.py) ... \u001b[?25l\u001b[?25hdone\n",
            "  Building wheel for mailchecker (setup.py) ... \u001b[?25l\u001b[?25hdone\n"
          ]
        }
      ]
    },
    {
      "cell_type": "markdown",
      "source": [
        "# Part 1 - Establish a Baseline\n",
        "To establish a baseline performance, we simply train the model on the original version of data"
      ],
      "metadata": {
        "id": "4T9RRnwY0CYn"
      }
    },
    {
      "cell_type": "markdown",
      "source": [
        "## Train and Evaluate"
      ],
      "metadata": {
        "id": "ghUkAGMylScJ"
      }
    },
    {
      "cell_type": "code",
      "execution_count": null,
      "metadata": {
        "id": "mXnCSGD8wvns"
      },
      "outputs": [],
      "source": [
        "import tensorflow as tf\n",
        "from tensorflow import keras\n",
        "import numpy as np\n",
        "import json\n",
        "import sys\n"
      ]
    },
    {
      "cell_type": "code",
      "source": [
        "train_val_directory = \"data\"\n",
        "test_directory = \"label_book\"\n",
        "\n",
        "batch_size = 8\n",
        "tf.random.set_seed(123)\n",
        "\n",
        "labels = [\"i\", \"ii\", \"iii\", \"iv\", \"v\", \"vi\", \"vii\", \"viii\", \"ix\", \"x\"]\n"
      ],
      "metadata": {
        "id": "zVAmodLPxvJc"
      },
      "execution_count": null,
      "outputs": []
    },
    {
      "cell_type": "code",
      "source": [
        "train = tf.keras.preprocessing.image_dataset_from_directory(\n",
        "    train_val_directory + '/train',\n",
        "    labels=\"inferred\",\n",
        "    label_mode=\"categorical\",\n",
        "    class_names=labels,\n",
        "    shuffle=True,\n",
        "    seed=123,\n",
        "    batch_size=batch_size,\n",
        "    image_size=(32, 32),\n",
        ")\n",
        "\n",
        "valid = tf.keras.preprocessing.image_dataset_from_directory(\n",
        "    train_val_directory + '/val',\n",
        "    labels=\"inferred\",\n",
        "    label_mode=\"categorical\",\n",
        "    class_names=labels,\n",
        "    shuffle=False,\n",
        "    seed=123,\n",
        "    batch_size=batch_size,\n",
        "    image_size=(32, 32),\n",
        ")\n",
        "\n",
        "total_length = ((train.cardinality() + valid.cardinality()) * batch_size).numpy()\n",
        "if total_length > 10_000:\n",
        "    print(f\"Dataset size larger than 10,000. Got {total_length} examples\")\n",
        "    sys.exit()\n",
        "\n",
        "test = tf.keras.preprocessing.image_dataset_from_directory(\n",
        "    test_directory,\n",
        "    labels=\"inferred\",\n",
        "    label_mode=\"categorical\",\n",
        "    class_names=labels,\n",
        "    shuffle=False,\n",
        "    seed=123,\n",
        "    batch_size=batch_size,\n",
        "    image_size=(32, 32),\n",
        ")"
      ],
      "metadata": {
        "colab": {
          "base_uri": "https://localhost:8080/"
        },
        "id": "CqjbZ_-BxxsF",
        "outputId": "9df2e652-61c9-4806-d194-7c206fa881c8"
      },
      "execution_count": null,
      "outputs": [
        {
          "output_type": "stream",
          "name": "stdout",
          "text": [
            "Found 2067 files belonging to 10 classes.\n",
            "Found 813 files belonging to 10 classes.\n",
            "Found 52 files belonging to 10 classes.\n"
          ]
        }
      ]
    },
    {
      "cell_type": "code",
      "source": [
        "base_model = tf.keras.applications.ResNet50(\n",
        "    input_shape=(32, 32, 3),\n",
        "    include_top=False,\n",
        "    weights=None,\n",
        ")\n",
        "base_model = tf.keras.Model(\n",
        "    base_model.inputs, outputs=[base_model.get_layer(\"conv2_block3_out\").output]\n",
        ")\n",
        "\n",
        "inputs = tf.keras.Input(shape=(32, 32, 3))\n",
        "x = tf.keras.applications.resnet.preprocess_input(inputs)\n",
        "x = base_model(x)\n",
        "x = tf.keras.layers.GlobalAveragePooling2D()(x)\n",
        "x = tf.keras.layers.Dense(10)(x)\n",
        "model = tf.keras.Model(inputs, x)\n",
        "\n",
        "model.compile(\n",
        "    optimizer=tf.keras.optimizers.Adam(lr=0.0001),\n",
        "    loss=tf.keras.losses.CategoricalCrossentropy(from_logits=True),\n",
        "    metrics=[\"accuracy\"],\n",
        ")\n",
        "model.summary()"
      ],
      "metadata": {
        "colab": {
          "base_uri": "https://localhost:8080/"
        },
        "id": "TU3TsMo2yPa3",
        "outputId": "986623cd-0e7f-48fb-85b1-77d455e5f61d"
      },
      "execution_count": null,
      "outputs": [
        {
          "output_type": "stream",
          "name": "stdout",
          "text": [
            "Model: \"model_1\"\n",
            "_________________________________________________________________\n",
            " Layer (type)                Output Shape              Param #   \n",
            "=================================================================\n",
            " input_2 (InputLayer)        [(None, 32, 32, 3)]       0         \n",
            "                                                                 \n",
            " tf.__operators__.getitem (S  (None, 32, 32, 3)        0         \n",
            " licingOpLambda)                                                 \n",
            "                                                                 \n",
            " tf.nn.bias_add (TFOpLambda)  (None, 32, 32, 3)        0         \n",
            "                                                                 \n",
            " model (Functional)          (None, 8, 8, 256)         229760    \n",
            "                                                                 \n",
            " global_average_pooling2d (G  (None, 256)              0         \n",
            " lobalAveragePooling2D)                                          \n",
            "                                                                 \n",
            " dense (Dense)               (None, 10)                2570      \n",
            "                                                                 \n",
            "=================================================================\n",
            "Total params: 232,330\n",
            "Trainable params: 229,386\n",
            "Non-trainable params: 2,944\n",
            "_________________________________________________________________\n"
          ]
        },
        {
          "output_type": "stream",
          "name": "stderr",
          "text": [
            "/usr/local/lib/python3.7/dist-packages/keras/optimizers/optimizer_v2/adam.py:110: UserWarning: The `lr` argument is deprecated, use `learning_rate` instead.\n",
            "  super(Adam, self).__init__(name, **kwargs)\n"
          ]
        }
      ]
    },
    {
      "cell_type": "code",
      "source": [
        "checkpoint = tf.keras.callbacks.ModelCheckpoint(\n",
        "    \"ckpt_part_1/best_model\",\n",
        "    monitor=\"val_accuracy\",\n",
        "    mode=\"max\",\n",
        "    save_best_only=True,\n",
        "    save_weights_only=True,\n",
        ")\n",
        "early_stopping = tf.keras.callbacks.EarlyStopping(monitor='val_accuracy', patience=10)\n",
        "\n",
        "history = model.fit(\n",
        "    train,\n",
        "    validation_data=valid,\n",
        "    epochs=100,\n",
        "    callbacks=[checkpoint, early_stopping],\n",
        ")"
      ],
      "metadata": {
        "colab": {
          "base_uri": "https://localhost:8080/"
        },
        "id": "VfOHC1gZySBa",
        "outputId": "85446403-83be-429f-d115-b6707eb12663"
      },
      "execution_count": null,
      "outputs": [
        {
          "output_type": "stream",
          "name": "stdout",
          "text": [
            "Epoch 1/100\n",
            "259/259 [==============================] - 18s 16ms/step - loss: 2.0193 - accuracy: 0.2941 - val_loss: 1.9539 - val_accuracy: 0.2362\n",
            "Epoch 2/100\n",
            "259/259 [==============================] - 4s 14ms/step - loss: 1.4691 - accuracy: 0.5259 - val_loss: 1.5672 - val_accuracy: 0.4256\n",
            "Epoch 3/100\n",
            "259/259 [==============================] - 4s 14ms/step - loss: 1.2227 - accuracy: 0.6067 - val_loss: 1.2651 - val_accuracy: 0.5572\n",
            "Epoch 4/100\n",
            "259/259 [==============================] - 4s 14ms/step - loss: 1.0207 - accuracy: 0.6783 - val_loss: 1.2230 - val_accuracy: 0.5584\n",
            "Epoch 5/100\n",
            "259/259 [==============================] - 4s 14ms/step - loss: 0.8845 - accuracy: 0.7209 - val_loss: 1.0808 - val_accuracy: 0.6421\n",
            "Epoch 6/100\n",
            "259/259 [==============================] - 5s 18ms/step - loss: 0.7898 - accuracy: 0.7547 - val_loss: 1.1367 - val_accuracy: 0.5929\n",
            "Epoch 7/100\n",
            "259/259 [==============================] - 4s 14ms/step - loss: 0.7105 - accuracy: 0.7837 - val_loss: 1.1249 - val_accuracy: 0.6076\n",
            "Epoch 8/100\n",
            "259/259 [==============================] - 3s 13ms/step - loss: 0.5813 - accuracy: 0.8307 - val_loss: 1.3063 - val_accuracy: 0.5326\n",
            "Epoch 9/100\n",
            "259/259 [==============================] - 4s 13ms/step - loss: 0.5198 - accuracy: 0.8515 - val_loss: 1.1036 - val_accuracy: 0.6310\n",
            "Epoch 10/100\n",
            "259/259 [==============================] - 3s 13ms/step - loss: 0.4581 - accuracy: 0.8728 - val_loss: 1.3213 - val_accuracy: 0.5560\n",
            "Epoch 11/100\n",
            "259/259 [==============================] - 4s 13ms/step - loss: 0.3879 - accuracy: 0.8979 - val_loss: 1.2123 - val_accuracy: 0.5830\n",
            "Epoch 12/100\n",
            "259/259 [==============================] - 3s 13ms/step - loss: 0.3494 - accuracy: 0.9071 - val_loss: 1.1394 - val_accuracy: 0.6335\n",
            "Epoch 13/100\n",
            "259/259 [==============================] - 4s 14ms/step - loss: 0.2793 - accuracy: 0.9357 - val_loss: 1.0612 - val_accuracy: 0.6568\n",
            "Epoch 14/100\n",
            "259/259 [==============================] - 3s 13ms/step - loss: 0.2666 - accuracy: 0.9318 - val_loss: 1.2071 - val_accuracy: 0.6285\n",
            "Epoch 15/100\n",
            "259/259 [==============================] - 4s 14ms/step - loss: 0.2025 - accuracy: 0.9652 - val_loss: 1.0316 - val_accuracy: 0.6605\n",
            "Epoch 16/100\n",
            "259/259 [==============================] - 3s 13ms/step - loss: 0.2109 - accuracy: 0.9497 - val_loss: 1.3788 - val_accuracy: 0.5806\n",
            "Epoch 17/100\n",
            "259/259 [==============================] - 3s 13ms/step - loss: 0.1642 - accuracy: 0.9666 - val_loss: 1.5762 - val_accuracy: 0.5523\n",
            "Epoch 18/100\n",
            "259/259 [==============================] - 4s 15ms/step - loss: 0.1613 - accuracy: 0.9661 - val_loss: 1.8973 - val_accuracy: 0.5043\n",
            "Epoch 19/100\n",
            "259/259 [==============================] - 5s 17ms/step - loss: 0.1494 - accuracy: 0.9724 - val_loss: 1.4285 - val_accuracy: 0.5781\n",
            "Epoch 20/100\n",
            "259/259 [==============================] - 4s 14ms/step - loss: 0.1478 - accuracy: 0.9632 - val_loss: 1.4543 - val_accuracy: 0.5769\n",
            "Epoch 21/100\n",
            "259/259 [==============================] - 3s 13ms/step - loss: 0.1315 - accuracy: 0.9729 - val_loss: 1.2520 - val_accuracy: 0.6335\n",
            "Epoch 22/100\n",
            "259/259 [==============================] - 4s 14ms/step - loss: 0.0998 - accuracy: 0.9758 - val_loss: 1.3170 - val_accuracy: 0.6187\n",
            "Epoch 23/100\n",
            "259/259 [==============================] - 3s 13ms/step - loss: 0.1005 - accuracy: 0.9831 - val_loss: 1.3564 - val_accuracy: 0.6150\n",
            "Epoch 24/100\n",
            "259/259 [==============================] - 3s 13ms/step - loss: 0.0925 - accuracy: 0.9811 - val_loss: 1.3535 - val_accuracy: 0.6335\n",
            "Epoch 25/100\n",
            "259/259 [==============================] - 4s 14ms/step - loss: 0.0870 - accuracy: 0.9831 - val_loss: 1.2818 - val_accuracy: 0.6199\n"
          ]
        }
      ]
    },
    {
      "cell_type": "code",
      "source": [
        "import matplotlib.pyplot as plt\n",
        "import seaborn as sns\n",
        "from sklearn.metrics import accuracy_score, confusion_matrix\n",
        "\n",
        "def evaluate_model(model, dataset):\n",
        "    labels = np.concatenate([y.numpy() for x, y in dataset], axis=0).argmax(axis=1)\n",
        "    pred_labels = np.argmax(model.predict(dataset), axis=1)\n",
        "    cm = confusion_matrix(labels, pred_labels)\n",
        "    acc = accuracy_score(labels, pred_labels)\n",
        "    return acc, cm\n",
        "\n",
        "def show_confusion_matrix(cm, labels):\n",
        "    plt.figure(figsize=(10, 8))\n",
        "    sns.heatmap(cm, xticklabels=labels, yticklabels=labels, \n",
        "                annot=True, fmt='g')\n",
        "    plt.xlabel('Prediction')\n",
        "    plt.ylabel('Label')\n",
        "    plt.show()"
      ],
      "metadata": {
        "id": "hJOaPjakyXlB"
      },
      "execution_count": null,
      "outputs": []
    },
    {
      "cell_type": "code",
      "source": [
        "model.load_weights(\"ckpt_part_1/best_model\")"
      ],
      "metadata": {
        "colab": {
          "base_uri": "https://localhost:8080/"
        },
        "id": "75XszJ1xybZv",
        "outputId": "d96f91b8-86d2-411c-e51c-9041e7342cb4"
      },
      "execution_count": null,
      "outputs": [
        {
          "output_type": "execute_result",
          "data": {
            "text/plain": [
              "<tensorflow.python.training.tracking.util.CheckpointLoadStatus at 0x7fcc32295850>"
            ]
          },
          "metadata": {},
          "execution_count": 9
        }
      ]
    },
    {
      "cell_type": "code",
      "source": [
        "val_acc, val_cm = evaluate_model(model, valid)\n",
        "print(f\"Validation Accuracy: {val_acc}\")\n",
        "show_confusion_matrix(val_cm, labels)\n"
      ],
      "metadata": {
        "colab": {
          "base_uri": "https://localhost:8080/",
          "height": 533
        },
        "id": "G8EADjcSycaD",
        "outputId": "fd193a61-cfa7-430a-9b39-ae58b522d468"
      },
      "execution_count": null,
      "outputs": [
        {
          "output_type": "stream",
          "name": "stdout",
          "text": [
            "102/102 [==============================] - 1s 7ms/step\n",
            "Validation Accuracy: 0.6605166051660517\n"
          ]
        },
        {
          "output_type": "display_data",
          "data": {
            "text/plain": [
              "<Figure size 720x576 with 2 Axes>"
            ],
            "image/png": "[encoded data removed]"
          },
          "metadata": {
            "needs_background": "light"
          }
        }
      ]
    },
    {
      "cell_type": "code",
      "source": [
        "test_acc, test_cm = evaluate_model(model, test)\n",
        "print(f\"Test Accuracy: {test_acc}\")\n",
        "show_confusion_matrix(test_cm, labels)\n"
      ],
      "metadata": {
        "colab": {
          "base_uri": "https://localhost:8080/",
          "height": 537
        },
        "id": "lDzifxYSygnn",
        "outputId": "0e24f1a6-8e24-46ff-80ec-db7f1a51afe0"
      },
      "execution_count": null,
      "outputs": [
        {
          "output_type": "stream",
          "name": "stdout",
          "text": [
            "7/7 [==============================] - 0s 18ms/step\n",
            "Test Accuracy: 0.5384615384615384\n"
          ]
        },
        {
          "output_type": "display_data",
          "data": {
            "text/plain": [
              "<Figure size 720x576 with 2 Axes>"
            ],
            "image/png": "[encoded data removed]"
          },
          "metadata": {
            "needs_background": "light"
          }
        }
      ]
    },
    {
      "cell_type": "markdown",
      "source": [
        "## Track Data with DVC\n",
        "To keep track of data provenance, we commit data as code using [DVC](https://dvc.org/). To learn more about DVC, check this [tutorial](https://dvc.org/doc/use-cases/versioning-data-and-models/tutorial).\n",
        "\n",
        "We would begin by committing the first version of the data"
      ],
      "metadata": {
        "id": "KXQFWOd6GGcl"
      }
    },
    {
      "cell_type": "code",
      "source": [
        "!git init\n",
        "!git config --global user.email \"i.yusuf@instadeep.com\"\n",
        "!git config --global user.name \"Ibrahim Salihu Yusuf\""
      ],
      "metadata": {
        "id": "tcPnkKuOCSMf"
      },
      "execution_count": null,
      "outputs": []
    },
    {
      "cell_type": "code",
      "source": [
        "!dvc init"
      ],
      "metadata": {
        "colab": {
          "base_uri": "https://localhost:8080/"
        },
        "id": "AEvKIbyfCWAD",
        "outputId": "9c1dafcf-f399-4149-908f-8c74d1fef9bc"
      },
      "execution_count": null,
      "outputs": [
        {
          "output_type": "stream",
          "name": "stdout",
          "text": [
            "Initialized DVC repository.\n",
            "\n",
            "You can now commit the changes to git.\n",
            "\n",
            "\u001b[31m+---------------------------------------------------------------------+\n",
            "\u001b[0m\u001b[31m|\u001b[0m                                                                     \u001b[31m|\u001b[0m\n",
            "\u001b[31m|\u001b[0m        DVC has enabled anonymous aggregate usage analytics.         \u001b[31m|\u001b[0m\n",
            "\u001b[31m|\u001b[0m     Read the analytics documentation (and how to opt-out) here:     \u001b[31m|\u001b[0m\n",
            "\u001b[31m|\u001b[0m             <\u001b[36mhttps://dvc.org/doc/user-guide/analytics\u001b[39m>              \u001b[31m|\u001b[0m\n",
            "\u001b[31m|\u001b[0m                                                                     \u001b[31m|\u001b[0m\n",
            "\u001b[31m+---------------------------------------------------------------------+\n",
            "\u001b[0m\n",
            "\u001b[33mWhat's next?\u001b[39m\n",
            "\u001b[33m------------\u001b[39m\n",
            "- Check out the documentation: <\u001b[36mhttps://dvc.org/doc\u001b[39m>\n",
            "- Get help and share ideas: <\u001b[36mhttps://dvc.org/chat\u001b[39m>\n",
            "- Star us on GitHub: <\u001b[36mhttps://github.com/iterative/dvc\u001b[39m>\n",
            "\u001b[0m"
          ]
        }
      ]
    },
    {
      "cell_type": "code",
      "source": [
        "# Track data directory\n",
        "!dvc add data"
      ],
      "metadata": {
        "id": "Yv88JKnwCfEj"
      },
      "execution_count": null,
      "outputs": []
    },
    {
      "cell_type": "code",
      "source": [
        "!ls"
      ],
      "metadata": {
        "colab": {
          "base_uri": "https://localhost:8080/"
        },
        "id": "9gruBXgVCuVl",
        "outputId": "99e25ad8-8c8c-4782-a768-7511a1f5e3ae"
      },
      "execution_count": null,
      "outputs": [
        {
          "output_type": "stream",
          "name": "stdout",
          "text": [
            "ckpt_part_1  data  data.dvc  data_label_corrected  label_book  sample_data\n"
          ]
        }
      ]
    },
    {
      "cell_type": "code",
      "source": [
        "!cat data.dvc"
      ],
      "metadata": {
        "colab": {
          "base_uri": "https://localhost:8080/"
        },
        "id": "Gt_Gv25_CxDz",
        "outputId": "11e58080-e46c-41a9-b510-ce7c1a267ba4"
      },
      "execution_count": null,
      "outputs": [
        {
          "output_type": "stream",
          "name": "stdout",
          "text": [
            "outs:\n",
            "- md5: fe024fe75f5f74a6a1669c08a3e2d2de.dir\n",
            "  size: 5960945\n",
            "  nfiles: 2884\n",
            "  path: data\n"
          ]
        }
      ]
    },
    {
      "cell_type": "code",
      "source": [
        "!git add data.dvc\n",
        "!git commit -m \"add version_1 data\""
      ],
      "metadata": {
        "colab": {
          "base_uri": "https://localhost:8080/"
        },
        "id": "8mnOaf-1Crov",
        "outputId": "f17cc6b3-5d77-4fdf-b86e-7292115da042"
      },
      "execution_count": null,
      "outputs": [
        {
          "output_type": "stream",
          "name": "stdout",
          "text": [
            "[master (root-commit) fccb847] add version_1 data\n",
            " 4 files changed, 11 insertions(+)\n",
            " create mode 100644 .dvc/.gitignore\n",
            " create mode 100644 .dvc/config\n",
            " create mode 100644 .dvcignore\n",
            " create mode 100644 data.dvc\n"
          ]
        }
      ]
    },
    {
      "cell_type": "code",
      "source": [
        "# Store the data remotely\n",
        "# !dvc remote add -d remote gdrive://1a4AbZ8izazFzPdPD471HqIBMxO2ut6gc #\n",
        "!dvc remote add -d local_remote /tmp/dvcstore"
      ],
      "metadata": {
        "colab": {
          "base_uri": "https://localhost:8080/"
        },
        "id": "B7KOEqDODIxZ",
        "outputId": "c96986ed-9173-446d-cec8-2ecf2c6588c4"
      },
      "execution_count": null,
      "outputs": [
        {
          "output_type": "stream",
          "name": "stdout",
          "text": [
            "Setting 'local_remote' as a default remote.\n",
            "\u001b[0m"
          ]
        }
      ]
    },
    {
      "cell_type": "code",
      "source": [
        "!cat .dvc/config"
      ],
      "metadata": {
        "colab": {
          "base_uri": "https://localhost:8080/"
        },
        "id": "oipfAf1iF1cm",
        "outputId": "b6cc7881-5d81-42fb-e31c-b5fd557f2273"
      },
      "execution_count": null,
      "outputs": [
        {
          "output_type": "stream",
          "name": "stdout",
          "text": [
            "[core]\n",
            "    remote = local_remote\n",
            "['remote \"remote\"']\n",
            "    url = gdrive://1a4AbZ8izazFzPdPD471HqIBMxO2ut6gc\n",
            "['remote \"local_remote\"']\n",
            "    url = /tmp/dvcstore\n"
          ]
        }
      ]
    },
    {
      "cell_type": "code",
      "source": [
        "!dvc push"
      ],
      "metadata": {
        "id": "q4wpime_DZSf"
      },
      "execution_count": null,
      "outputs": []
    },
    {
      "cell_type": "markdown",
      "source": [
        "# Part 2 - Apply Data Augmentation\n",
        "\n",
        "Data augmentation is a process of applying a set of pertubabtion to data samples while preserving the mapping from x -> y.\n",
        "\n",
        "In this part, we would apply rotation, translation and zoom perturbations to each image in an offline manner."
      ],
      "metadata": {
        "id": "K3olVGkc431m"
      }
    },
    {
      "cell_type": "code",
      "source": [
        "import tensorflow as tf\n",
        "from tensorflow import keras\n",
        "import numpy as np\n",
        "import json\n",
        "import sys\n",
        "import os"
      ],
      "metadata": {
        "id": "2Ody49T3428Y"
      },
      "execution_count": 4,
      "outputs": []
    },
    {
      "cell_type": "code",
      "source": [
        "train_val_directory = \"data\"\n",
        "test_directory = \"label_book\"\n",
        "\n",
        "batch_size = 8\n",
        "tf.random.set_seed(123)\n",
        "\n",
        "labels = [\"i\", \"ii\", \"iii\", \"iv\", \"v\", \"vi\", \"vii\", \"viii\", \"ix\", \"x\"]"
      ],
      "metadata": {
        "id": "QJxD049z4-AX"
      },
      "execution_count": 5,
      "outputs": []
    },
    {
      "cell_type": "markdown",
      "source": [
        "## Data Augmentation\n",
        "\n",
        "We generated **three** augmented samples for each original sample."
      ],
      "metadata": {
        "id": "mPwLmXAQ5GLh"
      }
    },
    {
      "cell_type": "code",
      "source": [
        "from keras.preprocessing.image import ImageDataGenerator\n",
        "from PIL import Image\n",
        "import glob\n",
        "\n",
        "datagen = ImageDataGenerator(\n",
        "    rotation_range=30,          # randomly rotate image by upto 30 deg\n",
        "    width_shift_range=0.2,      # randomly shift along x \n",
        "    height_shift_range=0.2,     # randomly shift along y\n",
        "    zoom_range=0.1,             # zooming\n",
        "    fill_mode='nearest')\n",
        "\n",
        "for label in labels:\n",
        "    i = 0\n",
        "    input_dir = f'data/train/{label}'\n",
        "    image_list = glob.glob(f\"{input_dir}/*.png\")\n",
        "    image_array = np.array([np.array(Image.open(image_name).resize((32, 32)))[:, :, np.newaxis] for image_name in image_list])\n",
        "    out_dir = 'aug' #f'data/train/{label}'\n",
        "    os.makedirs(out_dir, exist_ok=True)\n",
        "    max_images = len(image_array)*3\n",
        "    for batch in datagen.flow(image_array, batch_size=batch_size,\n",
        "                            save_to_dir= out_dir,\n",
        "                            save_prefix='aug',\n",
        "                            save_format='png'):\n",
        "        break    \n",
        "        i+=len(batch)\n",
        "        if i > max_images:\n",
        "            break"
      ],
      "metadata": {
        "id": "Ohy6xFqE5AQW"
      },
      "execution_count": 22,
      "outputs": []
    },
    {
      "cell_type": "markdown",
      "source": [
        "## Train and Evaluate"
      ],
      "metadata": {
        "id": "e_hC0nuAlbbW"
      }
    },
    {
      "cell_type": "code",
      "source": [
        "train = tf.keras.preprocessing.image_dataset_from_directory(\n",
        "    train_val_directory + '/train',\n",
        "    labels=\"inferred\",\n",
        "    label_mode=\"categorical\",\n",
        "    class_names=labels,\n",
        "    shuffle=True,\n",
        "    seed=123,\n",
        "    batch_size=batch_size,\n",
        "    image_size=(32, 32),\n",
        ")\n",
        "\n",
        "valid = tf.keras.preprocessing.image_dataset_from_directory(\n",
        "    train_val_directory + '/val',\n",
        "    labels=\"inferred\",\n",
        "    label_mode=\"categorical\",\n",
        "    class_names=labels,\n",
        "    shuffle=False,\n",
        "    seed=123,\n",
        "    batch_size=batch_size,\n",
        "    image_size=(32, 32),\n",
        ")\n",
        "\n",
        "total_length = ((train.cardinality() + valid.cardinality()) * batch_size).numpy()\n",
        "if total_length > 10_000:\n",
        "    print(f\"Dataset size larger than 10,000. Got {total_length} examples\")\n",
        "    sys.exit()\n",
        "\n",
        "test = tf.keras.preprocessing.image_dataset_from_directory(\n",
        "    test_directory,\n",
        "    labels=\"inferred\",\n",
        "    label_mode=\"categorical\",\n",
        "    class_names=labels,\n",
        "    shuffle=False,\n",
        "    seed=123,\n",
        "    batch_size=batch_size,\n",
        "    image_size=(32, 32),\n",
        ")"
      ],
      "metadata": {
        "colab": {
          "base_uri": "https://localhost:8080/"
        },
        "id": "fI3V9hoz5Omq",
        "outputId": "91057aae-7924-473d-c7c9-03eea634730c"
      },
      "execution_count": null,
      "outputs": [
        {
          "output_type": "stream",
          "name": "stdout",
          "text": [
            "Found 8348 files belonging to 10 classes.\n",
            "Found 813 files belonging to 10 classes.\n",
            "Found 52 files belonging to 10 classes.\n"
          ]
        }
      ]
    },
    {
      "cell_type": "code",
      "source": [
        "base_model = tf.keras.applications.ResNet50(\n",
        "    input_shape=(32, 32, 3),\n",
        "    include_top=False,\n",
        "    weights=None,\n",
        ")\n",
        "base_model = tf.keras.Model(\n",
        "    base_model.inputs, outputs=[base_model.get_layer(\"conv2_block3_out\").output]\n",
        ")\n",
        "\n",
        "inputs = tf.keras.Input(shape=(32, 32, 3))\n",
        "x = tf.keras.applications.resnet.preprocess_input(inputs)\n",
        "x = base_model(x)\n",
        "x = tf.keras.layers.GlobalAveragePooling2D()(x)\n",
        "x = tf.keras.layers.Dense(10)(x)\n",
        "model = tf.keras.Model(inputs, x)\n",
        "\n",
        "model.compile(\n",
        "    optimizer=tf.keras.optimizers.Adam(lr=0.0001),\n",
        "    loss=tf.keras.losses.CategoricalCrossentropy(from_logits=True),\n",
        "    metrics=[\"accuracy\"],\n",
        ")\n",
        "model.summary()"
      ],
      "metadata": {
        "colab": {
          "base_uri": "https://localhost:8080/"
        },
        "id": "-fMC37_d5PjA",
        "outputId": "77032e04-422a-4beb-eead-86f4a2589337"
      },
      "execution_count": null,
      "outputs": [
        {
          "output_type": "stream",
          "name": "stdout",
          "text": [
            "Model: \"model_5\"\n",
            "_________________________________________________________________\n",
            " Layer (type)                Output Shape              Param #   \n",
            "=================================================================\n",
            " input_6 (InputLayer)        [(None, 32, 32, 3)]       0         \n",
            "                                                                 \n",
            " tf.__operators__.getitem_2   (None, 32, 32, 3)        0         \n",
            " (SlicingOpLambda)                                               \n",
            "                                                                 \n",
            " tf.nn.bias_add_2 (TFOpLambd  (None, 32, 32, 3)        0         \n",
            " a)                                                              \n",
            "                                                                 \n",
            " model_4 (Functional)        (None, 8, 8, 256)         229760    \n",
            "                                                                 \n",
            " global_average_pooling2d_2   (None, 256)              0         \n",
            " (GlobalAveragePooling2D)                                        \n",
            "                                                                 \n",
            " dense_2 (Dense)             (None, 10)                2570      \n",
            "                                                                 \n",
            "=================================================================\n",
            "Total params: 232,330\n",
            "Trainable params: 229,386\n",
            "Non-trainable params: 2,944\n",
            "_________________________________________________________________\n"
          ]
        },
        {
          "output_type": "stream",
          "name": "stderr",
          "text": [
            "/usr/local/lib/python3.7/dist-packages/keras/optimizers/optimizer_v2/adam.py:110: UserWarning: The `lr` argument is deprecated, use `learning_rate` instead.\n",
            "  super(Adam, self).__init__(name, **kwargs)\n"
          ]
        }
      ]
    },
    {
      "cell_type": "code",
      "source": [
        "checkpoint = tf.keras.callbacks.ModelCheckpoint(\n",
        "    \"ckpt_part_2/best_model\",\n",
        "    monitor=\"val_accuracy\",\n",
        "    mode=\"max\",\n",
        "    save_best_only=True,\n",
        "    save_weights_only=True,\n",
        ")\n",
        "\n",
        "early_stopping = tf.keras.callbacks.EarlyStopping(monitor='val_accuracy', patience=10)\n",
        "\n",
        "history = model.fit(\n",
        "    train,\n",
        "    validation_data=valid,\n",
        "    epochs=100,\n",
        "    callbacks=[checkpoint, early_stopping],\n",
        ")"
      ],
      "metadata": {
        "colab": {
          "base_uri": "https://localhost:8080/"
        },
        "id": "4d7MLo0S5Wzo",
        "outputId": "0cdbb662-cd77-453a-dd13-f6b8ced7f40e"
      },
      "execution_count": null,
      "outputs": [
        {
          "output_type": "stream",
          "name": "stdout",
          "text": [
            "Epoch 1/100\n",
            "1044/1044 [==============================] - 14s 12ms/step - loss: 1.7933 - accuracy: 0.3789 - val_loss: 1.4681 - val_accuracy: 0.4822\n",
            "Epoch 2/100\n",
            "1044/1044 [==============================] - 11s 10ms/step - loss: 1.2990 - accuracy: 0.5696 - val_loss: 1.4929 - val_accuracy: 0.5141\n",
            "Epoch 3/100\n",
            "1044/1044 [==============================] - 11s 11ms/step - loss: 1.0652 - accuracy: 0.6499 - val_loss: 1.0289 - val_accuracy: 0.6236\n",
            "Epoch 4/100\n",
            "1044/1044 [==============================] - 11s 11ms/step - loss: 0.9212 - accuracy: 0.7046 - val_loss: 0.8969 - val_accuracy: 0.6581\n",
            "Epoch 5/100\n",
            "1044/1044 [==============================] - 12s 11ms/step - loss: 0.8179 - accuracy: 0.7351 - val_loss: 0.7913 - val_accuracy: 0.7331\n",
            "Epoch 6/100\n",
            "1044/1044 [==============================] - 12s 11ms/step - loss: 0.7238 - accuracy: 0.7705 - val_loss: 1.1250 - val_accuracy: 0.6335\n",
            "Epoch 7/100\n",
            "1044/1044 [==============================] - 12s 11ms/step - loss: 0.6604 - accuracy: 0.7881 - val_loss: 0.9381 - val_accuracy: 0.6617\n",
            "Epoch 8/100\n",
            "1044/1044 [==============================] - 12s 11ms/step - loss: 0.5890 - accuracy: 0.8110 - val_loss: 0.7963 - val_accuracy: 0.7208\n",
            "Epoch 9/100\n",
            "1044/1044 [==============================] - 11s 10ms/step - loss: 0.5318 - accuracy: 0.8323 - val_loss: 0.9023 - val_accuracy: 0.7159\n",
            "Epoch 10/100\n",
            "1044/1044 [==============================] - 11s 10ms/step - loss: 0.4752 - accuracy: 0.8561 - val_loss: 0.8863 - val_accuracy: 0.6925\n",
            "Epoch 11/100\n",
            "1044/1044 [==============================] - 11s 11ms/step - loss: 0.4299 - accuracy: 0.8625 - val_loss: 0.7517 - val_accuracy: 0.7343\n",
            "Epoch 12/100\n",
            "1044/1044 [==============================] - 12s 11ms/step - loss: 0.3816 - accuracy: 0.8803 - val_loss: 1.0311 - val_accuracy: 0.6790\n",
            "Epoch 13/100\n",
            "1044/1044 [==============================] - 11s 10ms/step - loss: 0.3419 - accuracy: 0.8941 - val_loss: 1.0924 - val_accuracy: 0.6704\n",
            "Epoch 14/100\n",
            "1044/1044 [==============================] - 11s 11ms/step - loss: 0.3066 - accuracy: 0.9072 - val_loss: 1.0210 - val_accuracy: 0.6827\n",
            "Epoch 15/100\n",
            "1044/1044 [==============================] - 11s 10ms/step - loss: 0.2798 - accuracy: 0.9158 - val_loss: 1.0989 - val_accuracy: 0.6740\n",
            "Epoch 16/100\n",
            "1044/1044 [==============================] - 11s 10ms/step - loss: 0.2487 - accuracy: 0.9245 - val_loss: 1.2553 - val_accuracy: 0.6458\n",
            "Epoch 17/100\n",
            "1044/1044 [==============================] - 11s 10ms/step - loss: 0.2206 - accuracy: 0.9335 - val_loss: 0.9267 - val_accuracy: 0.7319\n",
            "Epoch 18/100\n",
            "1044/1044 [==============================] - 11s 10ms/step - loss: 0.2000 - accuracy: 0.9393 - val_loss: 1.0560 - val_accuracy: 0.7122\n",
            "Epoch 19/100\n",
            "1044/1044 [==============================] - 11s 10ms/step - loss: 0.2003 - accuracy: 0.9407 - val_loss: 0.9972 - val_accuracy: 0.7085\n",
            "Epoch 20/100\n",
            "1044/1044 [==============================] - 11s 10ms/step - loss: 0.1651 - accuracy: 0.9544 - val_loss: 0.9222 - val_accuracy: 0.7380\n",
            "Epoch 21/100\n",
            "1044/1044 [==============================] - 12s 11ms/step - loss: 0.1569 - accuracy: 0.9553 - val_loss: 0.9169 - val_accuracy: 0.7331\n",
            "Epoch 22/100\n",
            "1044/1044 [==============================] - 12s 11ms/step - loss: 0.1500 - accuracy: 0.9563 - val_loss: 0.8890 - val_accuracy: 0.7589\n",
            "Epoch 23/100\n",
            "1044/1044 [==============================] - 12s 11ms/step - loss: 0.1396 - accuracy: 0.9584 - val_loss: 1.0837 - val_accuracy: 0.6950\n",
            "Epoch 24/100\n",
            "1044/1044 [==============================] - 12s 11ms/step - loss: 0.1266 - accuracy: 0.9639 - val_loss: 1.1650 - val_accuracy: 0.7109\n",
            "Epoch 25/100\n",
            "1044/1044 [==============================] - 12s 11ms/step - loss: 0.1276 - accuracy: 0.9620 - val_loss: 1.0996 - val_accuracy: 0.7122\n",
            "Epoch 26/100\n",
            "1044/1044 [==============================] - 12s 11ms/step - loss: 0.1045 - accuracy: 0.9736 - val_loss: 1.0634 - val_accuracy: 0.7405\n",
            "Epoch 27/100\n",
            "1044/1044 [==============================] - 12s 11ms/step - loss: 0.1144 - accuracy: 0.9680 - val_loss: 0.8549 - val_accuracy: 0.7811\n",
            "Epoch 28/100\n",
            "1044/1044 [==============================] - 12s 11ms/step - loss: 0.0903 - accuracy: 0.9736 - val_loss: 1.1186 - val_accuracy: 0.7282\n",
            "Epoch 29/100\n",
            "1044/1044 [==============================] - 12s 11ms/step - loss: 0.0992 - accuracy: 0.9696 - val_loss: 1.4532 - val_accuracy: 0.6839\n",
            "Epoch 30/100\n",
            "1044/1044 [==============================] - 12s 11ms/step - loss: 0.0811 - accuracy: 0.9788 - val_loss: 1.9566 - val_accuracy: 0.6396\n",
            "Epoch 31/100\n",
            "1044/1044 [==============================] - 12s 11ms/step - loss: 0.1032 - accuracy: 0.9723 - val_loss: 1.3825 - val_accuracy: 0.6863\n",
            "Epoch 32/100\n",
            "1044/1044 [==============================] - 11s 10ms/step - loss: 0.0813 - accuracy: 0.9765 - val_loss: 1.0466 - val_accuracy: 0.7503\n",
            "Epoch 33/100\n",
            "1044/1044 [==============================] - 11s 11ms/step - loss: 0.0854 - accuracy: 0.9736 - val_loss: 0.9415 - val_accuracy: 0.7847\n",
            "Epoch 34/100\n",
            "1044/1044 [==============================] - 12s 11ms/step - loss: 0.0760 - accuracy: 0.9790 - val_loss: 1.5913 - val_accuracy: 0.6937\n",
            "Epoch 35/100\n",
            "1044/1044 [==============================] - 11s 11ms/step - loss: 0.0733 - accuracy: 0.9786 - val_loss: 1.7046 - val_accuracy: 0.6654\n",
            "Epoch 36/100\n",
            "1044/1044 [==============================] - 12s 11ms/step - loss: 0.0739 - accuracy: 0.9771 - val_loss: 1.1103 - val_accuracy: 0.7306\n",
            "Epoch 37/100\n",
            "1044/1044 [==============================] - 12s 11ms/step - loss: 0.0692 - accuracy: 0.9776 - val_loss: 1.3414 - val_accuracy: 0.7011\n",
            "Epoch 38/100\n",
            "1044/1044 [==============================] - 11s 11ms/step - loss: 0.0790 - accuracy: 0.9759 - val_loss: 1.4466 - val_accuracy: 0.6999\n",
            "Epoch 39/100\n",
            "1044/1044 [==============================] - 12s 11ms/step - loss: 0.0661 - accuracy: 0.9810 - val_loss: 1.4432 - val_accuracy: 0.6999\n",
            "Epoch 40/100\n",
            "1044/1044 [==============================] - 12s 12ms/step - loss: 0.0678 - accuracy: 0.9788 - val_loss: 1.5024 - val_accuracy: 0.7097\n",
            "Epoch 41/100\n",
            "1044/1044 [==============================] - 12s 11ms/step - loss: 0.0689 - accuracy: 0.9775 - val_loss: 1.2970 - val_accuracy: 0.7294\n",
            "Epoch 42/100\n",
            "1044/1044 [==============================] - 11s 10ms/step - loss: 0.0561 - accuracy: 0.9835 - val_loss: 1.0040 - val_accuracy: 0.7614\n",
            "Epoch 43/100\n",
            "1044/1044 [==============================] - 11s 10ms/step - loss: 0.0603 - accuracy: 0.9816 - val_loss: 1.0478 - val_accuracy: 0.7626\n"
          ]
        }
      ]
    },
    {
      "cell_type": "code",
      "source": [
        "import matplotlib.pyplot as plt\n",
        "import seaborn as sns\n",
        "from sklearn.metrics import accuracy_score, confusion_matrix\n",
        "\n",
        "def evaluate_model(model, dataset):\n",
        "    labels = np.concatenate([y.numpy() for x, y in dataset], axis=0).argmax(axis=1)\n",
        "    pred_labels = np.argmax(model.predict(dataset), axis=1)\n",
        "    cm = confusion_matrix(labels, pred_labels)\n",
        "    acc = accuracy_score(labels, pred_labels)\n",
        "    return acc, cm\n",
        "\n",
        "def show_confusion_matrix(cm, labels):\n",
        "    plt.figure(figsize=(10, 8))\n",
        "    sns.heatmap(cm, xticklabels=labels, yticklabels=labels, \n",
        "                annot=True, fmt='g')\n",
        "    plt.xlabel('Prediction')\n",
        "    plt.ylabel('Label')\n",
        "    plt.show()"
      ],
      "metadata": {
        "id": "aRpgX1Xa5bqz"
      },
      "execution_count": null,
      "outputs": []
    },
    {
      "cell_type": "code",
      "source": [
        "model.load_weights(\"ckpt_part_2/best_model\")"
      ],
      "metadata": {
        "colab": {
          "base_uri": "https://localhost:8080/"
        },
        "id": "YCjkqkXd5c3U",
        "outputId": "c3803b7c-4a28-4056-dd1d-50724a84d319"
      },
      "execution_count": null,
      "outputs": [
        {
          "output_type": "execute_result",
          "data": {
            "text/plain": [
              "<tensorflow.python.training.tracking.util.CheckpointLoadStatus at 0x7fcc1b12ec10>"
            ]
          },
          "metadata": {},
          "execution_count": 61
        }
      ]
    },
    {
      "cell_type": "code",
      "source": [
        "val_acc, val_cm = evaluate_model(model, valid)\n",
        "print(f\"Validation Accuracy: {val_acc}\")\n",
        "show_confusion_matrix(val_cm, labels)\n"
      ],
      "metadata": {
        "colab": {
          "base_uri": "https://localhost:8080/",
          "height": 533
        },
        "id": "A7GL4fIa5gyX",
        "outputId": "cdaf2aed-4777-4747-8e92-8f8aabd4b67b"
      },
      "execution_count": null,
      "outputs": [
        {
          "output_type": "stream",
          "name": "stdout",
          "text": [
            "102/102 [==============================] - 1s 7ms/step\n",
            "Validation Accuracy: 0.7847478474784748\n"
          ]
        },
        {
          "output_type": "display_data",
          "data": {
            "text/plain": [
              "<Figure size 720x576 with 2 Axes>"
            ],
            "image/png": "[encoded data removed]"
          },
          "metadata": {
            "needs_background": "light"
          }
        }
      ]
    },
    {
      "cell_type": "code",
      "source": [
        "test_acc, test_cm = evaluate_model(model, test)\n",
        "print(f\"Test Accuracy: {test_acc}\")\n",
        "show_confusion_matrix(test_cm, labels)\n"
      ],
      "metadata": {
        "colab": {
          "base_uri": "https://localhost:8080/",
          "height": 537
        },
        "id": "3cIJdC8y5lxo",
        "outputId": "4ab0bf7e-b89e-4ae3-fe53-fdea9d3e77f2"
      },
      "execution_count": null,
      "outputs": [
        {
          "output_type": "stream",
          "name": "stdout",
          "text": [
            "7/7 [==============================] - 0s 7ms/step\n",
            "Test Accuracy: 0.6923076923076923\n"
          ]
        },
        {
          "output_type": "display_data",
          "data": {
            "text/plain": [
              "<Figure size 720x576 with 2 Axes>"
            ],
            "image/png": "[encoded data removed]"
          },
          "metadata": {
            "needs_background": "light"
          }
        }
      ]
    },
    {
      "cell_type": "code",
      "source": [],
      "metadata": {
        "id": "KFeQYes8aYgO"
      },
      "execution_count": null,
      "outputs": []
    },
    {
      "cell_type": "markdown",
      "source": [
        "## Track Data with DVC\n",
        "We commit the new version of data that has augmented samples."
      ],
      "metadata": {
        "id": "UO4XEJS6aa3h"
      }
    },
    {
      "cell_type": "code",
      "source": [
        "!dvc add data "
      ],
      "metadata": {
        "id": "v3wrJNvOaDc7"
      },
      "execution_count": null,
      "outputs": []
    },
    {
      "cell_type": "code",
      "source": [
        "!cat data.dvc"
      ],
      "metadata": {
        "id": "ndecDrnuaGvf"
      },
      "execution_count": null,
      "outputs": []
    },
    {
      "cell_type": "code",
      "source": [
        "!git add data.dvc\n",
        "!git commit -m \"add version_2 data\""
      ],
      "metadata": {
        "id": "jlDmiF6VaIpu"
      },
      "execution_count": null,
      "outputs": []
    },
    {
      "cell_type": "code",
      "source": [
        "!dvc push"
      ],
      "metadata": {
        "id": "ppD3vrDsaMvl"
      },
      "execution_count": null,
      "outputs": []
    },
    {
      "cell_type": "markdown",
      "source": [
        "# Part 3 - Naïve Label Correction \n",
        "Label cleaning is an important step in improving data quality. When done naïvely, we need to go through all the images and ensure that each image has a correct label mapping. Those with incorrect mappings that can be remedied are corrected, while those that cannot be remedied are deleted. "
      ],
      "metadata": {
        "id": "SGR2bJXL53lt"
      }
    },
    {
      "cell_type": "markdown",
      "source": [
        "## Label Correction\n",
        "Visual investigation of thousands of images is a herculean task. To simplify it we create a custom user interface using [ipython widgets](https://ipywidgets.readthedocs.io/en/stable/) that allows us to inpect and correct labels using button clicks."
      ],
      "metadata": {
        "id": "ao9c7K-C67Kz"
      }
    },
    {
      "cell_type": "code",
      "source": [
        "import os, glob, shutil\n",
        "from PIL import Image\n",
        "import matplotlib.pyplot as plt\n",
        "\n",
        "\n",
        "import ipywidgets as widgets\n",
        "from IPython.display import display\n",
        "from ipywidgets import IntProgress, HTML, VBox, HBox"
      ],
      "metadata": {
        "id": "tYh0uXY556Kv"
      },
      "execution_count": 11,
      "outputs": []
    },
    {
      "cell_type": "code",
      "source": [
        "splits = {\n",
        "    \"train\": glob.glob(f\"data/train/*/*.png\"),\n",
        "    \"val\": glob.glob(f\"data/val/*/*.png\"),\n",
        "    \"test\": glob.glob(\"label_book/*/*.png\")\n",
        "}\n",
        "path = None\n",
        "\n",
        "def display_img(splits_dropdown, index):\n",
        "    global label, path\n",
        "    path = splits[splits_dropdown][index]\n",
        "    label.value = path.split(\"/\")[-2]\n",
        "    plt.figure(figsize=(8, 8), dpi=80)\n",
        "    plt.imshow(Image.open(splits[splits_dropdown][index]), cmap='gray', vmin=0, vmax=255)\n",
        "    plt.axis(\"off\")\n",
        "    plt.show()\n",
        "\n",
        "next_button = widgets.Button(\n",
        "    description='Next',\n",
        "    disabled=False,\n",
        "    button_style='success',\n",
        "    tooltip='Next Sample',\n",
        "    icon='arrow-right'\n",
        ")\n",
        "\n",
        "prev_button = widgets.Button(\n",
        "    description='Previous',\n",
        "    disabled=False,\n",
        "    button_style='success',\n",
        "    tooltip='Previous Sample',\n",
        "    icon='arrow-left'\n",
        ")\n",
        "change_label_btn = widgets.Button(\n",
        "    description='Change Label',\n",
        "    disabled=False,\n",
        "    button_style='success',\n",
        "    tooltip='Change Label',\n",
        "    icon='check'\n",
        ")\n",
        "delete_btn = widgets.Button(\n",
        "    description='Delete',\n",
        "    disabled=False,\n",
        "    button_style='danger',\n",
        "    tooltip='Delete',\n",
        "    icon='fa-trash'\n",
        ")\n",
        "splits_dropdown = widgets.Dropdown(\n",
        "    description='Splits',\n",
        "    options=['train', 'val', 'test'],\n",
        "    value='train',\n",
        "    disabled=False,\n",
        ")\n",
        "\n",
        "index = widgets.IntSlider(\n",
        "    value=0,\n",
        "    min=0,\n",
        "    max=len(splits[splits_dropdown.value])-1,\n",
        "    step=1,\n",
        "    description='Index:',\n",
        "    disabled=False,\n",
        "    continuous_update=False,\n",
        "    orientation='horizontal',\n",
        "    readout=True,\n",
        "    readout_format='d'\n",
        ")\n",
        "  \n",
        "label = widgets.Text(\n",
        "    value='',\n",
        "    placeholder='Label',\n",
        "    description='Label:',\n",
        "    disabled=False\n",
        ")\n",
        "\n",
        "new_label = widgets.Dropdown(\n",
        "    description='New Label',\n",
        "    options=[\"i\", \"ii\", \"iii\", \"iv\", \"v\", \"vi\", \"vii\", \"viii\", \"ix\", \"x\"],\n",
        "    value='i',\n",
        "    disabled=False,\n",
        ")\n",
        "\n",
        "ui_1 = widgets.HBox([prev_button, index, next_button, splits_dropdown])\n",
        "ui_2 = widgets.HBox([label, new_label, change_label_btn, delete_btn])\n",
        "ui = widgets.VBox([ui_1, ui_2])\n",
        "\n",
        "interactive_out = widgets.interactive_output(display_img, {\"splits_dropdown\":splits_dropdown, \"index\": index})\n",
        "\n",
        "def increment(_):\n",
        "    with interactive_out:\n",
        "        index.value+=1\n",
        "\n",
        "def decrement(_):\n",
        "    with interactive_out:\n",
        "        index.value-=1\n",
        "\n",
        "def change_label(_):\n",
        "  new_path = path.split(\"/\")\n",
        "  new_path[-2] = new_label.value\n",
        "  new_path = \"/\".join(new_path)\n",
        "  shutil.move(path, new_path)\n",
        "\n",
        "def delete_action(_):\n",
        "    os.remove(path)\n",
        "\n",
        "def update_index(_):\n",
        "    index.max = len(splits[splits_dropdown.value])-1\n",
        "\n",
        "splits_dropdown.observe(update_index)\n",
        "\n",
        "prev_button.on_click(decrement)\n",
        "next_button.on_click(increment)\n",
        "change_label_btn.on_click(change_label)\n",
        "delete_btn.on_click(delete_action)\n",
        "\n",
        "display(ui, interactive_out)"
      ],
      "metadata": {
        "colab": {
          "base_uri": "https://localhost:8080/",
          "height": 580,
          "referenced_widgets": [
            "09e817f8c6994d4abcd3b2c23d8bbdcd",
            "57aee5861cf4429c92f79cbfe28b258d",
            "10b26b82191940788a4147ed59e41e85",
            "b4b1775834ff49f3a75718b6b96a182d",
            "8736147618e54c4b91b373ffce0b59e9",
            "925b58a4161048b2a416881d0552ce56",
            "f1c834309bd9455e8fdcc483c2597af5",
            "c39d3af2bf4e4019a1eda28d6ca77b0f",
            "e601ee00bf6c4835b374a283a085e38e",
            "409e1371434f4f7f98dea68966325bd1",
            "1893113c8a7e4875a8b304a2ba2bf719",
            "89de775a499b4cf6b6315092195c87b3",
            "72763c01d5b144e584b9491fe05b7b77",
            "8ad93c260c214d15a564cc7d35ff215b",
            "44c26df690204e14ad1bfe73c56d1229",
            "b290e208dc774cce81e355cf57f792aa",
            "8a899859bd0c4d0f946c1fc2a542091e",
            "7f132e1d410943c0bd563278cc8bed38",
            "affe67278d394a38987cfa418faee75e",
            "0149401518ec45fb955e1447cbf6185b",
            "223409b301474f78aa1b7a7f7c66ae5c",
            "8e28b0e6f9fb465d9b4107e582d55246",
            "f866a1bc567e4e4aa6093865111b4bd5",
            "e90bc5a00ff349a3b8e358775969244e",
            "477c72b7bdce4ac9b5f1a39e02412f73",
            "5994f62e44074147810a1e0e2376e0ab",
            "08c2b492f8924f0981dd5a10705204b0",
            "b6e142163a934cdc96ff3a1523920ef5",
            "533754a6c5d84446873827247a09fcde",
            "d962a8630c7243e59cb78051dcb6237d",
            "a89d5d7f791e440ca9713d87377d3c28",
            "4e98c24f1e4e4f82bee36ed9e1a68765"
          ]
        },
        "id": "-0BaSMXm5_K6",
        "outputId": "36dc8754-1d30-4ced-84ee-d6f89dc00154"
      },
      "execution_count": 27,
      "outputs": [
        {
          "output_type": "display_data",
          "data": {
            "text/plain": [
              "VBox(children=(HBox(children=(Button(button_style='success', description='Previous', icon='arrow-left', style=…"
            ],
            "application/vnd.jupyter.widget-view+json": {
              "version_major": 2,
              "version_minor": 0,
              "model_id": "09e817f8c6994d4abcd3b2c23d8bbdcd"
            }
          },
          "metadata": {}
        },
        {
          "output_type": "display_data",
          "data": {
            "text/plain": [
              "Output()"
            ],
            "application/vnd.jupyter.widget-view+json": {
              "version_major": 2,
              "version_minor": 0,
              "model_id": "a89d5d7f791e440ca9713d87377d3c28"
            }
          },
          "metadata": {}
        }
      ]
    },
    {
      "cell_type": "markdown",
      "source": [
        "## Train and Evalaute"
      ],
      "metadata": {
        "id": "w3q2eWNklk2g"
      }
    },
    {
      "cell_type": "code",
      "source": [
        "!rm -rf data\n",
        "!mv data_label_corrected data"
      ],
      "metadata": {
        "id": "iut3Ugcq6IuG"
      },
      "execution_count": 14,
      "outputs": []
    },
    {
      "cell_type": "code",
      "source": [
        "import tensorflow as tf\n",
        "from tensorflow import keras\n",
        "import numpy as np\n",
        "import json\n",
        "import sys"
      ],
      "metadata": {
        "id": "7CtEAOEA6tXm"
      },
      "execution_count": 15,
      "outputs": []
    },
    {
      "cell_type": "code",
      "source": [
        "train_val_directory = \"data\"\n",
        "test_directory = \"label_book\"\n",
        "\n",
        "batch_size = 8\n",
        "tf.random.set_seed(123)\n",
        "\n",
        "labels = [\"i\", \"ii\", \"iii\", \"iv\", \"v\", \"vi\", \"vii\", \"viii\", \"ix\", \"x\"]"
      ],
      "metadata": {
        "id": "rzhkq8c26tXm"
      },
      "execution_count": 16,
      "outputs": []
    },
    {
      "cell_type": "markdown",
      "source": [
        "### Data Augmentation\n",
        "We apply same data augmentation used in part 1."
      ],
      "metadata": {
        "id": "3b_jA2ml6tXm"
      }
    },
    {
      "cell_type": "code",
      "source": [
        "from keras.preprocessing.image import ImageDataGenerator\n",
        "from PIL import Image\n",
        "import glob\n",
        "\n",
        "datagen = ImageDataGenerator(\n",
        "    rotation_range=30,          # randomly rotate image by upto 30 deg\n",
        "    width_shift_range=0.2,      # randomly shift along x \n",
        "    height_shift_range=0.2,     # randomly shift along y\n",
        "    zoom_range=0.1,             # zooming\n",
        "    fill_mode='nearest')\n",
        "\n",
        "for label in labels:\n",
        "    i = 0\n",
        "    input_dir = f'{train_val_directory}/train/{label}'\n",
        "    image_list = glob.glob(f\"{input_dir}/*.png\")\n",
        "    image_array = np.array([np.array(Image.open(image_name).resize((32, 32)))[:, :, np.newaxis] for image_name in image_list])\n",
        "    out_dir = f'{train_val_directory}/train/{label}'\n",
        "    os.makedirs(out_dir, exist_ok=True)\n",
        "    max_images = len(image_array)*3\n",
        "    for batch in datagen.flow(image_array, batch_size=batch_size,\n",
        "                            save_to_dir= out_dir,\n",
        "                            save_prefix='aug',\n",
        "                            save_format='png'):    \n",
        "        i+=len(batch)\n",
        "        if i > max_images:\n",
        "            break"
      ],
      "metadata": {
        "id": "hjIqfmoj6tXn"
      },
      "execution_count": 17,
      "outputs": []
    },
    {
      "cell_type": "code",
      "source": [
        "train = tf.keras.preprocessing.image_dataset_from_directory(\n",
        "    train_val_directory + '/train',\n",
        "    labels=\"inferred\",\n",
        "    label_mode=\"categorical\",\n",
        "    class_names=labels,\n",
        "    shuffle=True,\n",
        "    seed=123,\n",
        "    batch_size=batch_size,\n",
        "    image_size=(32, 32),\n",
        ")\n",
        "\n",
        "valid = tf.keras.preprocessing.image_dataset_from_directory(\n",
        "    train_val_directory + '/val',\n",
        "    labels=\"inferred\",\n",
        "    label_mode=\"categorical\",\n",
        "    class_names=labels,\n",
        "    shuffle=False,\n",
        "    seed=123,\n",
        "    batch_size=batch_size,\n",
        "    image_size=(32, 32),\n",
        ")\n",
        "\n",
        "total_length = ((train.cardinality() + valid.cardinality()) * batch_size).numpy()\n",
        "if total_length > 10_000:\n",
        "    print(f\"Dataset size larger than 10,000. Got {total_length} examples\")\n",
        "    sys.exit()\n",
        "\n",
        "test = tf.keras.preprocessing.image_dataset_from_directory(\n",
        "    test_directory,\n",
        "    labels=\"inferred\",\n",
        "    label_mode=\"categorical\",\n",
        "    class_names=labels,\n",
        "    shuffle=False,\n",
        "    seed=123,\n",
        "    batch_size=batch_size,\n",
        "    image_size=(32, 32),\n",
        ")"
      ],
      "metadata": {
        "colab": {
          "base_uri": "https://localhost:8080/"
        },
        "id": "LHJ8L2oh6tXn",
        "outputId": "ea0e8f10-54d3-411f-bc96-d3021b6ca0cf"
      },
      "execution_count": 18,
      "outputs": [
        {
          "output_type": "stream",
          "name": "stdout",
          "text": [
            "Found 7672 files belonging to 10 classes.\n",
            "Found 809 files belonging to 10 classes.\n",
            "Found 52 files belonging to 10 classes.\n"
          ]
        }
      ]
    },
    {
      "cell_type": "code",
      "source": [
        "base_model = tf.keras.applications.ResNet50(\n",
        "    input_shape=(32, 32, 3),\n",
        "    include_top=False,\n",
        "    weights=None,\n",
        ")\n",
        "base_model = tf.keras.Model(\n",
        "    base_model.inputs, outputs=[base_model.get_layer(\"conv2_block3_out\").output]\n",
        ")\n",
        "\n",
        "inputs = tf.keras.Input(shape=(32, 32, 3))\n",
        "x = tf.keras.applications.resnet.preprocess_input(inputs)\n",
        "x = base_model(x)\n",
        "x = tf.keras.layers.GlobalAveragePooling2D()(x)\n",
        "x = tf.keras.layers.Dense(10)(x)\n",
        "model = tf.keras.Model(inputs, x)\n",
        "\n",
        "model.compile(\n",
        "    optimizer=tf.keras.optimizers.Adam(lr=0.0001),\n",
        "    loss=tf.keras.losses.CategoricalCrossentropy(from_logits=True),\n",
        "    metrics=[\"accuracy\"],\n",
        ")\n",
        "model.summary()"
      ],
      "metadata": {
        "colab": {
          "base_uri": "https://localhost:8080/"
        },
        "id": "KAkJU-416tXn",
        "outputId": "ac6b4e2b-6c0c-4c5a-936f-adbb38cda462"
      },
      "execution_count": 19,
      "outputs": [
        {
          "output_type": "stream",
          "name": "stdout",
          "text": [
            "Model: \"model_3\"\n",
            "_________________________________________________________________\n",
            " Layer (type)                Output Shape              Param #   \n",
            "=================================================================\n",
            " input_4 (InputLayer)        [(None, 32, 32, 3)]       0         \n",
            "                                                                 \n",
            " tf.__operators__.getitem_1   (None, 32, 32, 3)        0         \n",
            " (SlicingOpLambda)                                               \n",
            "                                                                 \n",
            " tf.nn.bias_add_1 (TFOpLambd  (None, 32, 32, 3)        0         \n",
            " a)                                                              \n",
            "                                                                 \n",
            " model_2 (Functional)        (None, 8, 8, 256)         229760    \n",
            "                                                                 \n",
            " global_average_pooling2d_1   (None, 256)              0         \n",
            " (GlobalAveragePooling2D)                                        \n",
            "                                                                 \n",
            " dense_1 (Dense)             (None, 10)                2570      \n",
            "                                                                 \n",
            "=================================================================\n",
            "Total params: 232,330\n",
            "Trainable params: 229,386\n",
            "Non-trainable params: 2,944\n",
            "_________________________________________________________________\n"
          ]
        },
        {
          "output_type": "stream",
          "name": "stderr",
          "text": [
            "/usr/local/lib/python3.7/dist-packages/keras/optimizers/optimizer_v2/adam.py:110: UserWarning: The `lr` argument is deprecated, use `learning_rate` instead.\n",
            "  super(Adam, self).__init__(name, **kwargs)\n"
          ]
        }
      ]
    },
    {
      "cell_type": "code",
      "source": [
        "checkpoint = tf.keras.callbacks.ModelCheckpoint(\n",
        "    \"ckpt_part_3/best_model\",\n",
        "    monitor=\"val_accuracy\",\n",
        "    mode=\"max\",\n",
        "    save_best_only=True,\n",
        "    save_weights_only=True,\n",
        ")\n",
        "early_stopping = tf.keras.callbacks.EarlyStopping(monitor='val_accuracy', patience=10)\n",
        "\n",
        "history = model.fit(\n",
        "    train,\n",
        "    validation_data=valid,\n",
        "    epochs=100,\n",
        "    callbacks=[checkpoint,], #early_stopping\n",
        ")"
      ],
      "metadata": {
        "colab": {
          "base_uri": "https://localhost:8080/"
        },
        "id": "FyKEub856tXn",
        "outputId": "0f77c5c1-5e63-4f0d-d68c-023bac7da991"
      },
      "execution_count": 20,
      "outputs": [
        {
          "output_type": "stream",
          "name": "stdout",
          "text": [
            "Epoch 1/100\n",
            "959/959 [==============================] - 13s 12ms/step - loss: 1.7556 - accuracy: 0.3859 - val_loss: 1.4200 - val_accuracy: 0.5031\n",
            "Epoch 2/100\n",
            "959/959 [==============================] - 13s 13ms/step - loss: 1.1687 - accuracy: 0.6126 - val_loss: 0.9279 - val_accuracy: 0.6922\n",
            "Epoch 3/100\n",
            "959/959 [==============================] - 11s 12ms/step - loss: 0.9086 - accuracy: 0.6985 - val_loss: 1.0243 - val_accuracy: 0.6391\n",
            "Epoch 4/100\n",
            "959/959 [==============================] - 12s 12ms/step - loss: 0.7373 - accuracy: 0.7573 - val_loss: 0.6786 - val_accuracy: 0.7738\n",
            "Epoch 5/100\n",
            "959/959 [==============================] - 11s 12ms/step - loss: 0.6249 - accuracy: 0.7958 - val_loss: 0.5700 - val_accuracy: 0.7948\n",
            "Epoch 6/100\n",
            "959/959 [==============================] - 11s 11ms/step - loss: 0.5328 - accuracy: 0.8304 - val_loss: 0.6139 - val_accuracy: 0.7960\n",
            "Epoch 7/100\n",
            "959/959 [==============================] - 12s 12ms/step - loss: 0.4667 - accuracy: 0.8497 - val_loss: 0.6263 - val_accuracy: 0.8022\n",
            "Epoch 8/100\n",
            "959/959 [==============================] - 13s 13ms/step - loss: 0.4052 - accuracy: 0.8715 - val_loss: 0.6098 - val_accuracy: 0.8121\n",
            "Epoch 9/100\n",
            "959/959 [==============================] - 11s 11ms/step - loss: 0.3608 - accuracy: 0.8849 - val_loss: 0.5506 - val_accuracy: 0.8269\n",
            "Epoch 10/100\n",
            "959/959 [==============================] - 11s 12ms/step - loss: 0.3131 - accuracy: 0.9011 - val_loss: 0.6875 - val_accuracy: 0.7998\n",
            "Epoch 11/100\n",
            "959/959 [==============================] - 11s 11ms/step - loss: 0.2817 - accuracy: 0.9111 - val_loss: 0.5746 - val_accuracy: 0.8220\n",
            "Epoch 12/100\n",
            "959/959 [==============================] - 12s 12ms/step - loss: 0.2430 - accuracy: 0.9257 - val_loss: 0.5692 - val_accuracy: 0.8443\n",
            "Epoch 13/100\n",
            "959/959 [==============================] - 11s 11ms/step - loss: 0.2250 - accuracy: 0.9316 - val_loss: 0.6368 - val_accuracy: 0.7874\n",
            "Epoch 14/100\n",
            "959/959 [==============================] - 11s 12ms/step - loss: 0.2004 - accuracy: 0.9410 - val_loss: 0.6203 - val_accuracy: 0.8084\n",
            "Epoch 15/100\n",
            "959/959 [==============================] - 15s 16ms/step - loss: 0.1838 - accuracy: 0.9434 - val_loss: 0.5352 - val_accuracy: 0.8368\n",
            "Epoch 16/100\n",
            "959/959 [==============================] - 12s 12ms/step - loss: 0.1619 - accuracy: 0.9528 - val_loss: 0.7658 - val_accuracy: 0.7812\n",
            "Epoch 17/100\n",
            "959/959 [==============================] - 11s 12ms/step - loss: 0.1498 - accuracy: 0.9572 - val_loss: 0.5187 - val_accuracy: 0.8356\n",
            "Epoch 18/100\n",
            "959/959 [==============================] - 11s 11ms/step - loss: 0.1376 - accuracy: 0.9588 - val_loss: 0.6341 - val_accuracy: 0.8158\n",
            "Epoch 19/100\n",
            "959/959 [==============================] - 11s 12ms/step - loss: 0.1286 - accuracy: 0.9619 - val_loss: 0.9598 - val_accuracy: 0.7701\n",
            "Epoch 20/100\n",
            "959/959 [==============================] - 11s 11ms/step - loss: 0.1107 - accuracy: 0.9692 - val_loss: 0.6568 - val_accuracy: 0.8208\n",
            "Epoch 21/100\n",
            "959/959 [==============================] - 11s 12ms/step - loss: 0.1112 - accuracy: 0.9673 - val_loss: 0.6465 - val_accuracy: 0.8158\n",
            "Epoch 22/100\n",
            "959/959 [==============================] - 11s 11ms/step - loss: 0.0957 - accuracy: 0.9737 - val_loss: 0.5422 - val_accuracy: 0.8455\n",
            "Epoch 23/100\n",
            "959/959 [==============================] - 11s 11ms/step - loss: 0.0950 - accuracy: 0.9730 - val_loss: 0.8774 - val_accuracy: 0.7911\n",
            "Epoch 24/100\n",
            "959/959 [==============================] - 11s 12ms/step - loss: 0.0904 - accuracy: 0.9734 - val_loss: 0.5205 - val_accuracy: 0.8480\n",
            "Epoch 25/100\n",
            "959/959 [==============================] - 11s 11ms/step - loss: 0.0903 - accuracy: 0.9742 - val_loss: 0.5389 - val_accuracy: 0.8578\n",
            "Epoch 26/100\n",
            "959/959 [==============================] - 11s 12ms/step - loss: 0.0777 - accuracy: 0.9778 - val_loss: 0.6522 - val_accuracy: 0.8121\n",
            "Epoch 27/100\n",
            "959/959 [==============================] - 11s 12ms/step - loss: 0.0721 - accuracy: 0.9793 - val_loss: 0.6501 - val_accuracy: 0.8356\n",
            "Epoch 28/100\n",
            "959/959 [==============================] - 12s 12ms/step - loss: 0.0831 - accuracy: 0.9731 - val_loss: 0.5856 - val_accuracy: 0.8282\n",
            "Epoch 29/100\n",
            "959/959 [==============================] - 12s 12ms/step - loss: 0.0760 - accuracy: 0.9785 - val_loss: 0.7784 - val_accuracy: 0.8084\n",
            "Epoch 30/100\n",
            "959/959 [==============================] - 11s 12ms/step - loss: 0.0563 - accuracy: 0.9857 - val_loss: 0.5927 - val_accuracy: 0.8418\n",
            "Epoch 31/100\n",
            "959/959 [==============================] - 11s 12ms/step - loss: 0.0721 - accuracy: 0.9778 - val_loss: 0.7922 - val_accuracy: 0.8133\n",
            "Epoch 32/100\n",
            "959/959 [==============================] - 12s 12ms/step - loss: 0.0523 - accuracy: 0.9857 - val_loss: 0.6795 - val_accuracy: 0.8282\n",
            "Epoch 33/100\n",
            "959/959 [==============================] - 12s 12ms/step - loss: 0.0676 - accuracy: 0.9798 - val_loss: 0.6415 - val_accuracy: 0.8269\n",
            "Epoch 34/100\n",
            "959/959 [==============================] - 11s 11ms/step - loss: 0.0589 - accuracy: 0.9828 - val_loss: 0.6305 - val_accuracy: 0.8195\n",
            "Epoch 35/100\n",
            "959/959 [==============================] - 17s 18ms/step - loss: 0.0478 - accuracy: 0.9872 - val_loss: 0.5739 - val_accuracy: 0.8430\n",
            "Epoch 36/100\n",
            "959/959 [==============================] - 11s 12ms/step - loss: 0.0509 - accuracy: 0.9853 - val_loss: 0.7030 - val_accuracy: 0.8245\n",
            "Epoch 37/100\n",
            "959/959 [==============================] - 11s 12ms/step - loss: 0.0462 - accuracy: 0.9870 - val_loss: 0.7630 - val_accuracy: 0.8245\n",
            "Epoch 38/100\n",
            "959/959 [==============================] - 11s 12ms/step - loss: 0.0516 - accuracy: 0.9850 - val_loss: 0.9592 - val_accuracy: 0.7911\n",
            "Epoch 39/100\n",
            "959/959 [==============================] - 11s 12ms/step - loss: 0.0551 - accuracy: 0.9832 - val_loss: 0.5957 - val_accuracy: 0.8529\n",
            "Epoch 40/100\n",
            "959/959 [==============================] - 11s 12ms/step - loss: 0.0407 - accuracy: 0.9883 - val_loss: 0.6801 - val_accuracy: 0.8269\n",
            "Epoch 41/100\n",
            "959/959 [==============================] - 11s 12ms/step - loss: 0.0527 - accuracy: 0.9838 - val_loss: 1.0737 - val_accuracy: 0.7824\n",
            "Epoch 42/100\n",
            "959/959 [==============================] - 12s 12ms/step - loss: 0.0536 - accuracy: 0.9841 - val_loss: 0.7585 - val_accuracy: 0.8269\n",
            "Epoch 43/100\n",
            "959/959 [==============================] - 12s 13ms/step - loss: 0.0388 - accuracy: 0.9900 - val_loss: 0.7061 - val_accuracy: 0.8133\n",
            "Epoch 44/100\n",
            "959/959 [==============================] - 12s 13ms/step - loss: 0.0398 - accuracy: 0.9879 - val_loss: 0.7331 - val_accuracy: 0.8171\n",
            "Epoch 45/100\n",
            "959/959 [==============================] - 10s 11ms/step - loss: 0.0398 - accuracy: 0.9887 - val_loss: 0.7132 - val_accuracy: 0.8368\n",
            "Epoch 46/100\n",
            "959/959 [==============================] - 11s 11ms/step - loss: 0.0435 - accuracy: 0.9862 - val_loss: 0.7706 - val_accuracy: 0.7936\n",
            "Epoch 47/100\n",
            "959/959 [==============================] - 11s 11ms/step - loss: 0.0336 - accuracy: 0.9904 - val_loss: 0.6415 - val_accuracy: 0.8405\n",
            "Epoch 48/100\n",
            "959/959 [==============================] - 14s 15ms/step - loss: 0.0304 - accuracy: 0.9913 - val_loss: 0.8219 - val_accuracy: 0.8072\n",
            "Epoch 49/100\n",
            "959/959 [==============================] - 13s 14ms/step - loss: 0.0363 - accuracy: 0.9891 - val_loss: 0.8301 - val_accuracy: 0.8208\n",
            "Epoch 50/100\n",
            "959/959 [==============================] - 12s 13ms/step - loss: 0.0426 - accuracy: 0.9872 - val_loss: 1.0357 - val_accuracy: 0.8047\n",
            "Epoch 51/100\n",
            "959/959 [==============================] - 12s 13ms/step - loss: 0.0370 - accuracy: 0.9883 - val_loss: 1.0471 - val_accuracy: 0.8133\n",
            "Epoch 52/100\n",
            "959/959 [==============================] - 12s 13ms/step - loss: 0.0395 - accuracy: 0.9891 - val_loss: 0.7782 - val_accuracy: 0.8208\n",
            "Epoch 53/100\n",
            "959/959 [==============================] - 13s 14ms/step - loss: 0.0319 - accuracy: 0.9898 - val_loss: 0.7369 - val_accuracy: 0.8220\n",
            "Epoch 54/100\n",
            "959/959 [==============================] - 12s 12ms/step - loss: 0.0322 - accuracy: 0.9907 - val_loss: 0.7942 - val_accuracy: 0.8269\n",
            "Epoch 55/100\n",
            "959/959 [==============================] - 14s 15ms/step - loss: 0.0314 - accuracy: 0.9920 - val_loss: 0.7805 - val_accuracy: 0.8096\n",
            "Epoch 56/100\n",
            "959/959 [==============================] - 11s 11ms/step - loss: 0.0353 - accuracy: 0.9892 - val_loss: 1.0156 - val_accuracy: 0.7775\n",
            "Epoch 57/100\n",
            "959/959 [==============================] - 11s 12ms/step - loss: 0.0240 - accuracy: 0.9941 - val_loss: 0.7669 - val_accuracy: 0.8072\n",
            "Epoch 58/100\n",
            "959/959 [==============================] - 11s 12ms/step - loss: 0.0375 - accuracy: 0.9889 - val_loss: 0.7287 - val_accuracy: 0.8245\n",
            "Epoch 59/100\n",
            "959/959 [==============================] - 12s 12ms/step - loss: 0.0361 - accuracy: 0.9901 - val_loss: 0.6697 - val_accuracy: 0.8492\n",
            "Epoch 60/100\n",
            "959/959 [==============================] - 11s 12ms/step - loss: 0.0257 - accuracy: 0.9927 - val_loss: 0.7605 - val_accuracy: 0.8331\n",
            "Epoch 61/100\n",
            "959/959 [==============================] - 11s 12ms/step - loss: 0.0352 - accuracy: 0.9897 - val_loss: 0.9486 - val_accuracy: 0.7886\n",
            "Epoch 62/100\n",
            "959/959 [==============================] - 12s 12ms/step - loss: 0.0307 - accuracy: 0.9910 - val_loss: 0.9332 - val_accuracy: 0.8010\n",
            "Epoch 63/100\n",
            "959/959 [==============================] - 13s 13ms/step - loss: 0.0251 - accuracy: 0.9937 - val_loss: 0.7192 - val_accuracy: 0.8405\n",
            "Epoch 64/100\n",
            "959/959 [==============================] - 11s 11ms/step - loss: 0.0317 - accuracy: 0.9907 - val_loss: 0.7260 - val_accuracy: 0.8405\n",
            "Epoch 65/100\n",
            "959/959 [==============================] - 11s 11ms/step - loss: 0.0259 - accuracy: 0.9924 - val_loss: 0.7741 - val_accuracy: 0.8096\n",
            "Epoch 66/100\n",
            "959/959 [==============================] - 11s 11ms/step - loss: 0.0200 - accuracy: 0.9944 - val_loss: 0.6799 - val_accuracy: 0.8319\n",
            "Epoch 67/100\n",
            "959/959 [==============================] - 11s 11ms/step - loss: 0.0362 - accuracy: 0.9889 - val_loss: 1.0594 - val_accuracy: 0.7911\n",
            "Epoch 68/100\n",
            "959/959 [==============================] - 11s 11ms/step - loss: 0.0256 - accuracy: 0.9924 - val_loss: 0.5816 - val_accuracy: 0.8702\n",
            "Epoch 69/100\n",
            "959/959 [==============================] - 11s 12ms/step - loss: 0.0170 - accuracy: 0.9960 - val_loss: 0.7775 - val_accuracy: 0.8331\n",
            "Epoch 70/100\n",
            "959/959 [==============================] - 11s 11ms/step - loss: 0.0323 - accuracy: 0.9904 - val_loss: 0.9890 - val_accuracy: 0.8022\n",
            "Epoch 71/100\n",
            "959/959 [==============================] - 11s 11ms/step - loss: 0.0263 - accuracy: 0.9920 - val_loss: 0.7372 - val_accuracy: 0.8443\n",
            "Epoch 72/100\n",
            "959/959 [==============================] - 11s 11ms/step - loss: 0.0189 - accuracy: 0.9958 - val_loss: 0.6980 - val_accuracy: 0.8467\n",
            "Epoch 73/100\n",
            "959/959 [==============================] - 11s 11ms/step - loss: 0.0311 - accuracy: 0.9904 - val_loss: 0.5975 - val_accuracy: 0.8739\n",
            "Epoch 74/100\n",
            "959/959 [==============================] - 11s 12ms/step - loss: 0.0221 - accuracy: 0.9940 - val_loss: 0.8744 - val_accuracy: 0.8096\n",
            "Epoch 75/100\n",
            "959/959 [==============================] - 11s 11ms/step - loss: 0.0170 - accuracy: 0.9958 - val_loss: 0.6331 - val_accuracy: 0.8566\n",
            "Epoch 76/100\n",
            "959/959 [==============================] - 11s 11ms/step - loss: 0.0215 - accuracy: 0.9947 - val_loss: 0.6599 - val_accuracy: 0.8677\n",
            "Epoch 77/100\n",
            "959/959 [==============================] - 11s 11ms/step - loss: 0.0227 - accuracy: 0.9930 - val_loss: 0.7389 - val_accuracy: 0.8504\n",
            "Epoch 78/100\n",
            "959/959 [==============================] - 11s 11ms/step - loss: 0.0221 - accuracy: 0.9937 - val_loss: 0.7241 - val_accuracy: 0.8480\n",
            "Epoch 79/100\n",
            "959/959 [==============================] - 11s 11ms/step - loss: 0.0229 - accuracy: 0.9927 - val_loss: 0.7127 - val_accuracy: 0.8480\n",
            "Epoch 80/100\n",
            "959/959 [==============================] - 14s 15ms/step - loss: 0.0137 - accuracy: 0.9958 - val_loss: 0.6340 - val_accuracy: 0.8665\n",
            "Epoch 81/100\n",
            "959/959 [==============================] - 11s 11ms/step - loss: 0.0319 - accuracy: 0.9896 - val_loss: 0.9714 - val_accuracy: 0.7973\n",
            "Epoch 82/100\n",
            "959/959 [==============================] - 11s 11ms/step - loss: 0.0207 - accuracy: 0.9943 - val_loss: 0.7381 - val_accuracy: 0.8504\n",
            "Epoch 83/100\n",
            "959/959 [==============================] - 11s 11ms/step - loss: 0.0202 - accuracy: 0.9936 - val_loss: 0.7038 - val_accuracy: 0.8529\n",
            "Epoch 84/100\n",
            "959/959 [==============================] - 11s 11ms/step - loss: 0.0234 - accuracy: 0.9926 - val_loss: 0.6371 - val_accuracy: 0.8665\n",
            "Epoch 85/100\n",
            "959/959 [==============================] - 11s 11ms/step - loss: 0.0255 - accuracy: 0.9922 - val_loss: 0.8985 - val_accuracy: 0.8146\n",
            "Epoch 86/100\n",
            "959/959 [==============================] - 11s 11ms/step - loss: 0.0147 - accuracy: 0.9960 - val_loss: 1.1415 - val_accuracy: 0.7800\n",
            "Epoch 87/100\n",
            "959/959 [==============================] - 11s 11ms/step - loss: 0.0183 - accuracy: 0.9953 - val_loss: 0.6977 - val_accuracy: 0.8554\n",
            "Epoch 88/100\n",
            "959/959 [==============================] - 11s 11ms/step - loss: 0.0277 - accuracy: 0.9907 - val_loss: 0.7934 - val_accuracy: 0.8269\n",
            "Epoch 89/100\n",
            "959/959 [==============================] - 11s 11ms/step - loss: 0.0285 - accuracy: 0.9910 - val_loss: 0.6624 - val_accuracy: 0.8541\n",
            "Epoch 90/100\n",
            "959/959 [==============================] - 11s 11ms/step - loss: 0.0158 - accuracy: 0.9949 - val_loss: 0.7096 - val_accuracy: 0.8566\n",
            "Epoch 91/100\n",
            "959/959 [==============================] - 11s 11ms/step - loss: 0.0162 - accuracy: 0.9961 - val_loss: 0.8654 - val_accuracy: 0.8121\n",
            "Epoch 92/100\n",
            "959/959 [==============================] - 11s 11ms/step - loss: 0.0229 - accuracy: 0.9928 - val_loss: 0.6708 - val_accuracy: 0.8789\n",
            "Epoch 93/100\n",
            "959/959 [==============================] - 11s 12ms/step - loss: 0.0198 - accuracy: 0.9943 - val_loss: 0.6743 - val_accuracy: 0.8492\n",
            "Epoch 94/100\n",
            "959/959 [==============================] - 11s 11ms/step - loss: 0.0175 - accuracy: 0.9957 - val_loss: 0.8551 - val_accuracy: 0.8356\n",
            "Epoch 95/100\n",
            "959/959 [==============================] - 11s 11ms/step - loss: 0.0141 - accuracy: 0.9958 - val_loss: 0.7019 - val_accuracy: 0.8628\n",
            "Epoch 96/100\n",
            "959/959 [==============================] - 11s 11ms/step - loss: 0.0182 - accuracy: 0.9945 - val_loss: 0.7640 - val_accuracy: 0.8702\n",
            "Epoch 97/100\n",
            "959/959 [==============================] - 11s 11ms/step - loss: 0.0170 - accuracy: 0.9958 - val_loss: 0.6527 - val_accuracy: 0.8653\n",
            "Epoch 98/100\n",
            "959/959 [==============================] - 11s 11ms/step - loss: 0.0236 - accuracy: 0.9935 - val_loss: 0.7120 - val_accuracy: 0.8566\n",
            "Epoch 99/100\n",
            "959/959 [==============================] - 11s 11ms/step - loss: 0.0176 - accuracy: 0.9953 - val_loss: 0.7433 - val_accuracy: 0.8541\n",
            "Epoch 100/100\n",
            "959/959 [==============================] - 14s 15ms/step - loss: 0.0178 - accuracy: 0.9941 - val_loss: 0.6876 - val_accuracy: 0.8591\n"
          ]
        }
      ]
    },
    {
      "cell_type": "code",
      "source": [
        "import matplotlib.pyplot as plt\n",
        "import seaborn as sns\n",
        "from sklearn.metrics import accuracy_score, confusion_matrix\n",
        "\n",
        "def evaluate_model(model, dataset):\n",
        "    labels = np.concatenate([y.numpy() for x, y in dataset], axis=0).argmax(axis=1)\n",
        "    pred_labels = np.argmax(model.predict(dataset), axis=1)\n",
        "    cm = confusion_matrix(labels, pred_labels)\n",
        "    acc = accuracy_score(labels, pred_labels)\n",
        "    return acc, cm\n",
        "\n",
        "def show_confusion_matrix(cm, labels):\n",
        "    plt.figure(figsize=(10, 8))\n",
        "    sns.heatmap(cm, xticklabels=labels, yticklabels=labels, \n",
        "                annot=True, fmt='g')\n",
        "    plt.xlabel('Prediction')\n",
        "    plt.ylabel('Label')\n",
        "    plt.show()"
      ],
      "metadata": {
        "id": "7pHKpRHB6tXo"
      },
      "execution_count": 21,
      "outputs": []
    },
    {
      "cell_type": "code",
      "source": [
        "model.load_weights(\"ckpt_part_3/best_model\")"
      ],
      "metadata": {
        "colab": {
          "base_uri": "https://localhost:8080/"
        },
        "id": "8MM-rGp76tXo",
        "outputId": "5cc28611-dbe0-4438-f295-e371015db27b"
      },
      "execution_count": 22,
      "outputs": [
        {
          "output_type": "execute_result",
          "data": {
            "text/plain": [
              "<tensorflow.python.training.tracking.util.CheckpointLoadStatus at 0x7f6c5626d8d0>"
            ]
          },
          "metadata": {},
          "execution_count": 22
        }
      ]
    },
    {
      "cell_type": "code",
      "source": [
        "val_acc, val_cm = evaluate_model(model, valid)\n",
        "print(f\"Validation Accuracy: {val_acc}\")\n",
        "show_confusion_matrix(val_cm, labels)\n"
      ],
      "metadata": {
        "colab": {
          "base_uri": "https://localhost:8080/",
          "height": 537
        },
        "id": "8Jx8q6PvPmH6",
        "outputId": "d4604b1d-d6ff-4be2-d247-d66086675e1d"
      },
      "execution_count": 23,
      "outputs": [
        {
          "output_type": "stream",
          "name": "stdout",
          "text": [
            "102/102 [==============================] - 1s 7ms/step\n",
            "Validation Accuracy: 0.8788627935723115\n"
          ]
        },
        {
          "output_type": "display_data",
          "data": {
            "text/plain": [
              "<Figure size 720x576 with 2 Axes>"
            ],
            "image/png": "[encoded data removed]"
          },
          "metadata": {
            "needs_background": "light"
          }
        }
      ]
    },
    {
      "cell_type": "code",
      "source": [
        "test_acc, test_cm = evaluate_model(model, test)\n",
        "print(f\"Test Accuracy: {test_acc}\")\n",
        "show_confusion_matrix(test_cm, labels)\n"
      ],
      "metadata": {
        "colab": {
          "base_uri": "https://localhost:8080/",
          "height": 537
        },
        "id": "7hKhjnZbPotV",
        "outputId": "826dbe70-acc0-48a1-83b2-90844c881968"
      },
      "execution_count": 24,
      "outputs": [
        {
          "output_type": "stream",
          "name": "stdout",
          "text": [
            "7/7 [==============================] - 0s 6ms/step\n",
            "Test Accuracy: 0.7884615384615384\n"
          ]
        },
        {
          "output_type": "display_data",
          "data": {
            "text/plain": [
              "<Figure size 720x576 with 2 Axes>"
            ],
            "image/png": "[encoded data removed]"
          },
          "metadata": {
            "needs_background": "light"
          }
        }
      ]
    },
    {
      "cell_type": "markdown",
      "source": [
        "## Track Data with DVC\n",
        "We commit the new version of data with correct labels and augmented samples."
      ],
      "metadata": {
        "id": "FYQ-8GteajM1"
      }
    },
    {
      "cell_type": "code",
      "source": [
        "!dvc add data"
      ],
      "metadata": {
        "id": "mvpiO8NBahKJ"
      },
      "execution_count": null,
      "outputs": []
    },
    {
      "cell_type": "code",
      "source": [
        "!cat data.dvc"
      ],
      "metadata": {
        "id": "AgOaRR21ahKK"
      },
      "execution_count": null,
      "outputs": []
    },
    {
      "cell_type": "code",
      "source": [
        "!git add data.dvc\n",
        "!git commit -m \"add version_3 data\""
      ],
      "metadata": {
        "id": "0Nn3Fw5kahKK"
      },
      "execution_count": null,
      "outputs": []
    },
    {
      "cell_type": "code",
      "source": [
        "!dvc push"
      ],
      "metadata": {
        "id": "iSpHUwtkahKK"
      },
      "execution_count": null,
      "outputs": []
    },
    {
      "cell_type": "markdown",
      "source": [
        "#Part 4 - Label Correction with Monte Carlo Dropout\n",
        "When images are a few thousands, say 3k, it may be possible to do naive label correction. However, when we have samples in the order of tens of thousands, it becomes nearly impossible to go inspect all of them. \n",
        "\n",
        "To avoid going through all samples, we measure prediction uncertainty and only inspect samples with uncertainty above a selected threshold. To measure prediction uncertainty, we use [Monte-Carlo Dropout](https://docs.aws.amazon.com/prescriptive-guidance/latest/ml-quantifying-uncertainty/mc-dropout.html)"
      ],
      "metadata": {
        "id": "biO7HIXRvtWJ"
      }
    },
    {
      "cell_type": "markdown",
      "source": [
        "\n",
        "## Prediction Uncertainty\n",
        "We add a monte-carlo dropout layer to the model and perform 50 prediction runs for each sample. We compute prediction uncertainty as the variance of logloss over 50 runs."
      ],
      "metadata": {
        "id": "ziE8MBZGv4Sl"
      }
    },
    {
      "cell_type": "code",
      "source": [
        "import tensorflow as tf\n",
        "from tensorflow import keras\n",
        "import numpy as np\n",
        "import json\n",
        "import sys\n",
        "import pathlib\n",
        "import os\n",
        "import pandas as pd\n",
        "\n",
        "batch_size = 8\n",
        "tf.random.set_seed(123)\n",
        "\n",
        "labels = ['i', 'ii', 'iii', 'iv', 'ix', 'v', 'vi', 'vii', 'viii', 'x']"
      ],
      "metadata": {
        "id": "UYzIg0sAHw2O"
      },
      "execution_count": 4,
      "outputs": []
    },
    {
      "cell_type": "code",
      "source": [
        "train_dir = pathlib.Path('data/train')\n",
        "val_dir = pathlib.Path('data/val')\n",
        "test_dir = pathlib.Path('label_book')"
      ],
      "metadata": {
        "id": "5gRs2mEwMMd0"
      },
      "execution_count": 5,
      "outputs": []
    },
    {
      "cell_type": "code",
      "source": [
        "AUTOTUNE = tf.data.AUTOTUNE"
      ],
      "metadata": {
        "id": "TjtFknLLJgXe"
      },
      "execution_count": 6,
      "outputs": []
    },
    {
      "cell_type": "code",
      "source": [
        "def create_dataset_df(ds):\n",
        "  df = pd.DataFrame({\"filenames\": [filename.numpy().decode() for filename in ds]})\n",
        "  df['label'] = df['filenames'].apply(lambda x: get_label(x).numpy())\n",
        "  return df"
      ],
      "metadata": {
        "id": "zrtE5gwHLy3G"
      },
      "execution_count": 7,
      "outputs": []
    },
    {
      "cell_type": "code",
      "source": [
        "class_names = np.array(sorted([item.name for item in train_dir.glob('*') if not item.name.startswith(\".\")])) #!= '.DS_Store'\n",
        "print(class_names)"
      ],
      "metadata": {
        "colab": {
          "base_uri": "https://localhost:8080/"
        },
        "id": "-KvsmL5mGMHj",
        "outputId": "8df07cbb-5f01-4012-9f46-2f7dd9866250"
      },
      "execution_count": 8,
      "outputs": [
        {
          "output_type": "stream",
          "name": "stdout",
          "text": [
            "['i' 'ii' 'iii' 'iv' 'ix' 'v' 'vi' 'vii' 'viii' 'x']\n"
          ]
        }
      ]
    },
    {
      "cell_type": "code",
      "source": [
        "def get_label(file_path):\n",
        "  # Convert the path to a list of path components\n",
        "  parts = tf.strings.split(file_path, os.path.sep)\n",
        "  # The second to last is the class-directory\n",
        "  one_hot = parts[-2] == class_names\n",
        "  # Integer encode the label\n",
        "  return tf.argmax(one_hot)\n",
        "\n",
        "def decode_img(img):\n",
        "  # Convert the compressed string to a 3D uint8 tensor\n",
        "  img = tf.io.decode_jpeg(img, channels=3)\n",
        "  # Resize the image to the desired size\n",
        "  return tf.image.resize(img, [32, 32])\n",
        "\n",
        "def process_path(file_path):\n",
        "  label = get_label(file_path)\n",
        "  # Load the raw data from the file as a string\n",
        "  img = tf.io.read_file(file_path)\n",
        "  img = decode_img(img)\n",
        "  return img, label"
      ],
      "metadata": {
        "id": "as5wGZ0GGMnM"
      },
      "execution_count": 9,
      "outputs": []
    },
    {
      "cell_type": "code",
      "source": [
        "image_count = len(list(train_dir.glob('*/*.png')))\n",
        "\n",
        "train_ds = tf.data.Dataset.list_files(str(train_dir/'*/*.png'), shuffle=False)\n",
        "train_ds = train_ds.shuffle(image_count, reshuffle_each_iteration=False)\n",
        "val_ds = tf.data.Dataset.list_files(str(val_dir/'*/*.png'), shuffle=False)\n",
        "test_ds = tf.data.Dataset.list_files(str(test_dir/'*/*.png'), shuffle=False)\n",
        "\n",
        "\n",
        "train_df = create_dataset_df(train_ds)\n",
        "val_df = create_dataset_df(val_ds)\n",
        "test_df = create_dataset_df(test_ds)"
      ],
      "metadata": {
        "id": "qaqDWxVDZmOL"
      },
      "execution_count": 10,
      "outputs": []
    },
    {
      "cell_type": "code",
      "source": [
        "train_ds = train_ds.map(process_path, num_parallel_calls=AUTOTUNE)\n",
        "val_ds = val_ds.map(process_path, num_parallel_calls=AUTOTUNE)\n",
        "test_ds = test_ds.map(process_path, num_parallel_calls=AUTOTUNE)"
      ],
      "metadata": {
        "id": "uT5dexdsGcGv"
      },
      "execution_count": 11,
      "outputs": []
    },
    {
      "cell_type": "code",
      "source": [
        "def configure_for_performance(ds, shuffle=False):\n",
        "  ds = ds.cache()\n",
        "  if shuffle:\n",
        "    ds = ds.shuffle(buffer_size=1000)\n",
        "  ds = ds.batch(8)\n",
        "  ds = ds.prefetch(buffer_size=AUTOTUNE)\n",
        "  return ds\n",
        "\n",
        "train_ds = configure_for_performance(train_ds, shuffle=True)\n",
        "val_ds = configure_for_performance(val_ds)\n",
        "test_ds = configure_for_performance(test_ds)"
      ],
      "metadata": {
        "id": "uJc0Ok-OJsut"
      },
      "execution_count": 12,
      "outputs": []
    },
    {
      "cell_type": "code",
      "source": [
        "class MonteCarloDropout(tf.keras.layers.Dropout):\n",
        "    \"\"\"Implementation of MonteCarlo Dropout\"\"\"\n",
        "\n",
        "    def call(self, inputs):\n",
        "        \"\"\"Change training argument to default True\"\"\"\n",
        "        return super().call(inputs, training=True)"
      ],
      "metadata": {
        "id": "bsiQOQTIKKj1"
      },
      "execution_count": 13,
      "outputs": []
    },
    {
      "cell_type": "code",
      "source": [
        "class MyModel(tf.keras.Model):\n",
        "\n",
        "  def __init__(self):\n",
        "    super().__init__()\n",
        "    base_model = tf.keras.applications.ResNet50(\n",
        "    input_shape=(32, 32, 3),\n",
        "    include_top=False,\n",
        "    weights=None,\n",
        ")\n",
        "    base_model = tf.keras.applications.ResNet50(\n",
        "        input_shape=(32, 32, 3),\n",
        "        include_top=False,\n",
        "        weights=None,\n",
        "    )\n",
        "    self.base_model = tf.keras.Model(\n",
        "        base_model.inputs, outputs=[base_model.get_layer(\"conv2_block3_out\").output]\n",
        "    )\n",
        "    self.dropout = MonteCarloDropout(0.5)\n",
        "    self.dense1 = tf.keras.layers.Dense(10)\n",
        "\n",
        "  def call(self, inputs):\n",
        "    x = tf.keras.applications.resnet.preprocess_input(inputs)\n",
        "    x = self.base_model(x)\n",
        "    x = tf.keras.layers.GlobalAveragePooling2D()(x)\n",
        "    x = self.dropout(x)\n",
        "    x = self.dense1(x)\n",
        "    return x\n",
        "\n",
        "  def predict_step(self, data):\n",
        "      \"\"\"Predict Step\"\"\"\n",
        "      x, y = data\n",
        "\n",
        "      pred_class_logits = []\n",
        "\n",
        "      for _ in range(50):\n",
        "          y_pred = self(x)\n",
        "          pred_class_logits.append(y_pred)\n",
        "\n",
        "      class_raw_logits = tf.stack(pred_class_logits, axis=1)\n",
        "      pred_class_logits = tf.math.reduce_mean(tf.stack(pred_class_logits), axis=0)\n",
        "      return pred_class_logits, y, class_raw_logits\n",
        "\n",
        "\n"
      ],
      "metadata": {
        "id": "fnuRkrqaRdrq"
      },
      "execution_count": 14,
      "outputs": []
    },
    {
      "cell_type": "code",
      "source": [
        "model = MyModel()\n",
        "model.build((1, 32, 32, 3))\n",
        "model.compile(\n",
        "    optimizer=tf.keras.optimizers.Adam(lr=0.0001),\n",
        "    loss=tf.keras.losses.SparseCategoricalCrossentropy(from_logits=True),\n",
        "    metrics=[\"accuracy\"],\n",
        ")\n",
        "model.summary()"
      ],
      "metadata": {
        "colab": {
          "base_uri": "https://localhost:8080/"
        },
        "id": "pqCWUgdHqX8E",
        "outputId": "d29e0f06-0fd0-4f3e-fbce-3a609355ea4c"
      },
      "execution_count": 15,
      "outputs": [
        {
          "output_type": "stream",
          "name": "stdout",
          "text": [
            "Model: \"my_model\"\n",
            "_________________________________________________________________\n",
            " Layer (type)                Output Shape              Param #   \n",
            "=================================================================\n",
            " model (Functional)          (None, 8, 8, 256)         229760    \n",
            "                                                                 \n",
            " monte_carlo_dropout (MonteC  multiple                 0         \n",
            " arloDropout)                                                    \n",
            "                                                                 \n",
            " dense (Dense)               multiple                  2570      \n",
            "                                                                 \n",
            "=================================================================\n",
            "Total params: 232,330\n",
            "Trainable params: 229,386\n",
            "Non-trainable params: 2,944\n",
            "_________________________________________________________________\n"
          ]
        },
        {
          "output_type": "stream",
          "name": "stderr",
          "text": [
            "/usr/local/lib/python3.7/dist-packages/keras/optimizers/optimizer_v2/adam.py:110: UserWarning: The `lr` argument is deprecated, use `learning_rate` instead.\n",
            "  super(Adam, self).__init__(name, **kwargs)\n"
          ]
        }
      ]
    },
    {
      "cell_type": "code",
      "source": [
        "checkpoint = tf.keras.callbacks.ModelCheckpoint(\n",
        "    \"ckpt_part_4/best_model\",\n",
        "    monitor=\"val_accuracy\",\n",
        "    mode=\"max\",\n",
        "    save_best_only=True,\n",
        "    save_weights_only=True,\n",
        ")\n",
        "early_stopping = tf.keras.callbacks.EarlyStopping(monitor='val_accuracy', patience=10)\n",
        "\n",
        "history = model.fit(\n",
        "    train_ds,\n",
        "    validation_data=val_ds,\n",
        "    epochs=100,\n",
        "    callbacks=[checkpoint, early_stopping],\n",
        ")"
      ],
      "metadata": {
        "colab": {
          "base_uri": "https://localhost:8080/"
        },
        "id": "SxHvLE3usXMq",
        "outputId": "ecc3b0ea-7ca4-49b6-f7f1-17ed3996ddb1"
      },
      "execution_count": 16,
      "outputs": [
        {
          "output_type": "stream",
          "name": "stdout",
          "text": [
            "Epoch 1/100\n",
            "259/259 [==============================] - 14s 14ms/step - loss: 2.9212 - accuracy: 0.1374 - val_loss: 2.5908 - val_accuracy: 0.1538\n",
            "Epoch 2/100\n",
            "259/259 [==============================] - 2s 8ms/step - loss: 2.2900 - accuracy: 0.2651 - val_loss: 2.5449 - val_accuracy: 0.2374\n",
            "Epoch 3/100\n",
            "259/259 [==============================] - 2s 8ms/step - loss: 2.0317 - accuracy: 0.3372 - val_loss: 2.1913 - val_accuracy: 0.3124\n",
            "Epoch 4/100\n",
            "259/259 [==============================] - 2s 8ms/step - loss: 1.6820 - accuracy: 0.4286 - val_loss: 1.8745 - val_accuracy: 0.3998\n",
            "Epoch 5/100\n",
            "259/259 [==============================] - 2s 8ms/step - loss: 1.5361 - accuracy: 0.4717 - val_loss: 1.7924 - val_accuracy: 0.4391\n",
            "Epoch 6/100\n",
            "259/259 [==============================] - 2s 9ms/step - loss: 1.3639 - accuracy: 0.5360 - val_loss: 1.5631 - val_accuracy: 0.4674\n",
            "Epoch 7/100\n",
            "259/259 [==============================] - 2s 9ms/step - loss: 1.2481 - accuracy: 0.5747 - val_loss: 1.5520 - val_accuracy: 0.5154\n",
            "Epoch 8/100\n",
            "259/259 [==============================] - 2s 8ms/step - loss: 1.0942 - accuracy: 0.6231 - val_loss: 1.3839 - val_accuracy: 0.5215\n",
            "Epoch 9/100\n",
            "259/259 [==============================] - 2s 8ms/step - loss: 1.0163 - accuracy: 0.6580 - val_loss: 1.4361 - val_accuracy: 0.5338\n",
            "Epoch 10/100\n",
            "259/259 [==============================] - 2s 8ms/step - loss: 0.9223 - accuracy: 0.6880 - val_loss: 1.3023 - val_accuracy: 0.6015\n",
            "Epoch 11/100\n",
            "259/259 [==============================] - 2s 8ms/step - loss: 0.8433 - accuracy: 0.7175 - val_loss: 1.2802 - val_accuracy: 0.5658\n",
            "Epoch 12/100\n",
            "259/259 [==============================] - 2s 8ms/step - loss: 0.8159 - accuracy: 0.7204 - val_loss: 1.3352 - val_accuracy: 0.5904\n",
            "Epoch 13/100\n",
            "259/259 [==============================] - 2s 8ms/step - loss: 0.7172 - accuracy: 0.7533 - val_loss: 1.2737 - val_accuracy: 0.5929\n",
            "Epoch 14/100\n",
            "259/259 [==============================] - 3s 12ms/step - loss: 0.6647 - accuracy: 0.7736 - val_loss: 1.2428 - val_accuracy: 0.6298\n",
            "Epoch 15/100\n",
            "259/259 [==============================] - 2s 9ms/step - loss: 0.6166 - accuracy: 0.7886 - val_loss: 1.0196 - val_accuracy: 0.6617\n",
            "Epoch 16/100\n",
            "259/259 [==============================] - 2s 8ms/step - loss: 0.5638 - accuracy: 0.8021 - val_loss: 1.3124 - val_accuracy: 0.5929\n",
            "Epoch 17/100\n",
            "259/259 [==============================] - 2s 8ms/step - loss: 0.5447 - accuracy: 0.8244 - val_loss: 1.2031 - val_accuracy: 0.6421\n",
            "Epoch 18/100\n",
            "259/259 [==============================] - 2s 8ms/step - loss: 0.4927 - accuracy: 0.8428 - val_loss: 1.4115 - val_accuracy: 0.6199\n",
            "Epoch 19/100\n",
            "259/259 [==============================] - 2s 8ms/step - loss: 0.4504 - accuracy: 0.8481 - val_loss: 1.6513 - val_accuracy: 0.5695\n",
            "Epoch 20/100\n",
            "259/259 [==============================] - 2s 8ms/step - loss: 0.3892 - accuracy: 0.8703 - val_loss: 1.2118 - val_accuracy: 0.6605\n",
            "Epoch 21/100\n",
            "259/259 [==============================] - 2s 8ms/step - loss: 0.3901 - accuracy: 0.8689 - val_loss: 1.3427 - val_accuracy: 0.6531\n",
            "Epoch 22/100\n",
            "259/259 [==============================] - 2s 8ms/step - loss: 0.3169 - accuracy: 0.9013 - val_loss: 1.3638 - val_accuracy: 0.6224\n",
            "Epoch 23/100\n",
            "259/259 [==============================] - 2s 8ms/step - loss: 0.3233 - accuracy: 0.8984 - val_loss: 1.3761 - val_accuracy: 0.6273\n",
            "Epoch 24/100\n",
            "259/259 [==============================] - 2s 8ms/step - loss: 0.2808 - accuracy: 0.9115 - val_loss: 1.5916 - val_accuracy: 0.6273\n",
            "Epoch 25/100\n",
            "259/259 [==============================] - 2s 8ms/step - loss: 0.2690 - accuracy: 0.9144 - val_loss: 1.4309 - val_accuracy: 0.6187\n"
          ]
        }
      ]
    },
    {
      "cell_type": "code",
      "source": [
        "model.load_weights(\"ckpt_part_4/best_model\")"
      ],
      "metadata": {
        "colab": {
          "base_uri": "https://localhost:8080/"
        },
        "id": "ckeps0kw2GJI",
        "outputId": "8415dced-8bc0-4931-98f2-d390be987e28"
      },
      "execution_count": 17,
      "outputs": [
        {
          "output_type": "execute_result",
          "data": {
            "text/plain": [
              "<tensorflow.python.training.tracking.util.CheckpointLoadStatus at 0x7fd15050c810>"
            ]
          },
          "metadata": {},
          "execution_count": 17
        }
      ]
    },
    {
      "cell_type": "code",
      "source": [
        "import matplotlib.pyplot as plt\n",
        "import seaborn as sns\n",
        "from sklearn.metrics import accuracy_score, confusion_matrix\n",
        "\n",
        "def evaluate_model(model, dataset):\n",
        "    labels = np.concatenate([y.numpy() for x, y in dataset], axis=0).argmax(axis=1)\n",
        "    pred_labels = np.argmax(model.predict(dataset), axis=1)\n",
        "    cm = confusion_matrix(labels, pred_labels)\n",
        "    acc = accuracy_score(labels, pred_labels)\n",
        "    return acc, cm\n",
        "\n",
        "def show_confusion_matrix(cm, labels):\n",
        "    plt.figure(figsize=(10, 8))\n",
        "    sns.heatmap(cm, xticklabels=labels, yticklabels=labels, \n",
        "                annot=True, fmt='g')\n",
        "    plt.xlabel('Prediction')\n",
        "    plt.ylabel('Label')\n",
        "    plt.show()\n",
        "\n",
        "def evaluate_model2(model, ds, df):\n",
        "  model_prediction = model.predict(ds)\n",
        "  loss_fn = tf.keras.losses.SparseCategoricalCrossentropy(\n",
        "      from_logits=True, reduction=tf.keras.losses.Reduction.NONE\n",
        "  )\n",
        "  loss = loss_fn(\n",
        "      np.repeat(model_prediction[1][:, np.newaxis], axis=1, repeats=50),\n",
        "      model_prediction[2],\n",
        "  )\n",
        "  loss_variance = np.var(loss, axis=1)\n",
        "  predicted_labels = np.argmax(model_prediction[0], axis=1)\n",
        "  cm = confusion_matrix(model_prediction[1], predicted_labels)\n",
        "  acc = accuracy_score(model_prediction[1], predicted_labels)\n",
        "\n",
        "  df.loc[:, \"loss_variance\"] = loss_variance\n",
        "  df.loc[:, \"predicted_label\"] = predicted_labels\n",
        "  df.loc[:, \"label\"] = model_prediction[1]\n",
        "  return df, acc, cm"
      ],
      "metadata": {
        "id": "T_GUiXKW5GRI"
      },
      "execution_count": 18,
      "outputs": []
    },
    {
      "cell_type": "code",
      "source": [
        "train_ds = tf.data.Dataset.list_files(str(train_dir/'*/*.png'), shuffle=False)\n",
        "train_df = create_dataset_df(train_ds)\n",
        "train_ds = train_ds.map(process_path, num_parallel_calls=AUTOTUNE)\n",
        "train_ds = configure_for_performance(train_ds, shuffle=False)\n",
        "\n",
        "\n",
        "train_df, train_acc, train_cm = evaluate_model2(model, train_ds, train_df)\n",
        "print(f\"Train Accuracy: {train_acc}\")\n",
        "show_confusion_matrix(train_cm, labels)\n"
      ],
      "metadata": {
        "colab": {
          "base_uri": "https://localhost:8080/",
          "height": 533
        },
        "id": "9DJFT5cO7yeY",
        "outputId": "5f085da9-e261-4e42-93b5-31e5bc456655"
      },
      "execution_count": 19,
      "outputs": [
        {
          "output_type": "stream",
          "name": "stdout",
          "text": [
            "259/259 [==============================] - 22s 48ms/step\n",
            "Train Accuracy: 0.9632317368166424\n"
          ]
        },
        {
          "output_type": "display_data",
          "data": {
            "text/plain": [
              "<Figure size 720x576 with 2 Axes>"
            ],
            "image/png": "[encoded data removed]"
          },
          "metadata": {
            "needs_background": "light"
          }
        }
      ]
    },
    {
      "cell_type": "code",
      "source": [
        "val_df, val_acc, val_cm = evaluate_model2(model, val_ds, val_df)\n",
        "print(f\"Val Accuracy: {val_acc}\")\n",
        "show_confusion_matrix(val_cm, labels)\n"
      ],
      "metadata": {
        "colab": {
          "base_uri": "https://localhost:8080/",
          "height": 533
        },
        "id": "zMXADpBp73oX",
        "outputId": "08e9cb05-81fb-44d2-f164-128ede15386f"
      },
      "execution_count": 20,
      "outputs": [
        {
          "output_type": "stream",
          "name": "stdout",
          "text": [
            "102/102 [==============================] - 4s 38ms/step\n",
            "Val Accuracy: 0.7183271832718328\n"
          ]
        },
        {
          "output_type": "display_data",
          "data": {
            "text/plain": [
              "<Figure size 720x576 with 2 Axes>"
            ],
            "image/png": "[encoded data removed]"
          },
          "metadata": {
            "needs_background": "light"
          }
        }
      ]
    },
    {
      "cell_type": "code",
      "source": [
        "test_df, test_acc, test_cm = evaluate_model2(model, test_ds, test_df)\n",
        "print(f\"Test Accuracy: {test_acc}\")\n",
        "show_confusion_matrix(test_cm, labels)\n"
      ],
      "metadata": {
        "colab": {
          "base_uri": "https://localhost:8080/",
          "height": 537
        },
        "id": "vw31TVtx-yLm",
        "outputId": "deb42f3b-19a2-4018-edbc-3344b346e810"
      },
      "execution_count": 21,
      "outputs": [
        {
          "output_type": "stream",
          "name": "stdout",
          "text": [
            "7/7 [==============================] - 0s 48ms/step\n",
            "Test Accuracy: 0.5576923076923077\n"
          ]
        },
        {
          "output_type": "display_data",
          "data": {
            "text/plain": [
              "<Figure size 720x576 with 2 Axes>"
            ],
            "image/png": "[encoded data removed]"
          },
          "metadata": {
            "needs_background": "light"
          }
        }
      ]
    },
    {
      "cell_type": "code",
      "source": [
        "test_df[test_df['loss_variance'] > 1.0]"
      ],
      "metadata": {
        "colab": {
          "base_uri": "https://localhost:8080/",
          "height": 457
        },
        "id": "rrDTJI07Ok9O",
        "outputId": "cab530a3-4c37-4633-e9f8-e6b1f646bcad"
      },
      "execution_count": 22,
      "outputs": [
        {
          "output_type": "execute_result",
          "data": {
            "text/plain": [
              "                                            filenames  label  loss_variance  \\\n",
              "7   label_book/ii/a3b8f1fc-ce5d-11eb-b317-38f9d35e...      1       1.521194   \n",
              "18  label_book/iv/a6f8c07c-ce5d-11eb-b317-38f9d35e...      3       5.716460   \n",
              "21  label_book/ix/a7967416-ce5d-11eb-b317-38f9d35e...      4       1.792846   \n",
              "23  label_book/ix/a7ae10bc-ce5d-11eb-b317-38f9d35e...      4       3.027948   \n",
              "24  label_book/ix/a7dae376-ce5d-11eb-b317-38f9d35e...      4       1.007142   \n",
              "25  label_book/ix/a821f1a8-ce5d-11eb-b317-38f9d35e...      4       1.263406   \n",
              "26  label_book/v/a88a741c-ce5d-11eb-b317-38f9d35ea...      5       1.523610   \n",
              "28  label_book/v/a8d56ac6-ce5d-11eb-b317-38f9d35ea...      5       1.028805   \n",
              "32  label_book/vi/a2f7b186-ce5d-11eb-b317-38f9d35e...      6       1.498479   \n",
              "38  label_book/vii/a55094e8-ce5d-11eb-b317-38f9d35...      7       1.355349   \n",
              "41  label_book/vii/a5ade382-ce5d-11eb-b317-38f9d35...      7       1.314596   \n",
              "47  label_book/x/a97df060-ce5d-11eb-b317-38f9d35ea...      9       2.597375   \n",
              "49  label_book/x/a9b14348-ce5d-11eb-b317-38f9d35ea...      9       1.222234   \n",
              "\n",
              "    predicted_label  \n",
              "7                 8  \n",
              "18                2  \n",
              "21                3  \n",
              "23                3  \n",
              "24                3  \n",
              "25                4  \n",
              "26                1  \n",
              "28                0  \n",
              "32                0  \n",
              "38                2  \n",
              "41                2  \n",
              "47                5  \n",
              "49                4  "
            ],
            "text/html": [
              "\n",
              "  <div id=\"df-415eaa57-2acd-4960-8a7b-9fb13e52bdc2\">\n",
              "    <div class=\"colab-df-container\">\n",
              "      <div>\n",
              "<style scoped>\n",
              "    .dataframe tbody tr th:only-of-type {\n",
              "        vertical-align: middle;\n",
              "    }\n",
              "\n",
              "    .dataframe tbody tr th {\n",
              "        vertical-align: top;\n",
              "    }\n",
              "\n",
              "    .dataframe thead th {\n",
              "        text-align: right;\n",
              "    }\n",
              "</style>\n",
              "<table border=\"1\" class=\"dataframe\">\n",
              "  <thead>\n",
              "    <tr style=\"text-align: right;\">\n",
              "      <th></th>\n",
              "      <th>filenames</th>\n",
              "      <th>label</th>\n",
              "      <th>loss_variance</th>\n",
              "      <th>predicted_label</th>\n",
              "    </tr>\n",
              "  </thead>\n",
              "  <tbody>\n",
              "    <tr>\n",
              "      <th>7</th>\n",
              "      <td>label_book/ii/a3b8f1fc-ce5d-11eb-b317-38f9d35e...</td>\n",
              "      <td>1</td>\n",
              "      <td>1.521194</td>\n",
              "      <td>8</td>\n",
              "    </tr>\n",
              "    <tr>\n",
              "      <th>18</th>\n",
              "      <td>label_book/iv/a6f8c07c-ce5d-11eb-b317-38f9d35e...</td>\n",
              "      <td>3</td>\n",
              "      <td>5.716460</td>\n",
              "      <td>2</td>\n",
              "    </tr>\n",
              "    <tr>\n",
              "      <th>21</th>\n",
              "      <td>label_book/ix/a7967416-ce5d-11eb-b317-38f9d35e...</td>\n",
              "      <td>4</td>\n",
              "      <td>1.792846</td>\n",
              "      <td>3</td>\n",
              "    </tr>\n",
              "    <tr>\n",
              "      <th>23</th>\n",
              "      <td>label_book/ix/a7ae10bc-ce5d-11eb-b317-38f9d35e...</td>\n",
              "      <td>4</td>\n",
              "      <td>3.027948</td>\n",
              "      <td>3</td>\n",
              "    </tr>\n",
              "    <tr>\n",
              "      <th>24</th>\n",
              "      <td>label_book/ix/a7dae376-ce5d-11eb-b317-38f9d35e...</td>\n",
              "      <td>4</td>\n",
              "      <td>1.007142</td>\n",
              "      <td>3</td>\n",
              "    </tr>\n",
              "    <tr>\n",
              "      <th>25</th>\n",
              "      <td>label_book/ix/a821f1a8-ce5d-11eb-b317-38f9d35e...</td>\n",
              "      <td>4</td>\n",
              "      <td>1.263406</td>\n",
              "      <td>4</td>\n",
              "    </tr>\n",
              "    <tr>\n",
              "      <th>26</th>\n",
              "      <td>label_book/v/a88a741c-ce5d-11eb-b317-38f9d35ea...</td>\n",
              "      <td>5</td>\n",
              "      <td>1.523610</td>\n",
              "      <td>1</td>\n",
              "    </tr>\n",
              "    <tr>\n",
              "      <th>28</th>\n",
              "      <td>label_book/v/a8d56ac6-ce5d-11eb-b317-38f9d35ea...</td>\n",
              "      <td>5</td>\n",
              "      <td>1.028805</td>\n",
              "      <td>0</td>\n",
              "    </tr>\n",
              "    <tr>\n",
              "      <th>32</th>\n",
              "      <td>label_book/vi/a2f7b186-ce5d-11eb-b317-38f9d35e...</td>\n",
              "      <td>6</td>\n",
              "      <td>1.498479</td>\n",
              "      <td>0</td>\n",
              "    </tr>\n",
              "    <tr>\n",
              "      <th>38</th>\n",
              "      <td>label_book/vii/a55094e8-ce5d-11eb-b317-38f9d35...</td>\n",
              "      <td>7</td>\n",
              "      <td>1.355349</td>\n",
              "      <td>2</td>\n",
              "    </tr>\n",
              "    <tr>\n",
              "      <th>41</th>\n",
              "      <td>label_book/vii/a5ade382-ce5d-11eb-b317-38f9d35...</td>\n",
              "      <td>7</td>\n",
              "      <td>1.314596</td>\n",
              "      <td>2</td>\n",
              "    </tr>\n",
              "    <tr>\n",
              "      <th>47</th>\n",
              "      <td>label_book/x/a97df060-ce5d-11eb-b317-38f9d35ea...</td>\n",
              "      <td>9</td>\n",
              "      <td>2.597375</td>\n",
              "      <td>5</td>\n",
              "    </tr>\n",
              "    <tr>\n",
              "      <th>49</th>\n",
              "      <td>label_book/x/a9b14348-ce5d-11eb-b317-38f9d35ea...</td>\n",
              "      <td>9</td>\n",
              "      <td>1.222234</td>\n",
              "      <td>4</td>\n",
              "    </tr>\n",
              "  </tbody>\n",
              "</table>\n",
              "</div>\n",
              "      <button class=\"colab-df-convert\" onclick=\"convertToInteractive('df-415eaa57-2acd-4960-8a7b-9fb13e52bdc2')\"\n",
              "              title=\"Convert this dataframe to an interactive table.\"\n",
              "              style=\"display:none;\">\n",
              "        \n",
              "  <svg xmlns=\"http://www.w3.org/2000/svg\" height=\"24px\"viewBox=\"0 0 24 24\"\n",
              "       width=\"24px\">\n",
              "    <path d=\"M0 0h24v24H0V0z\" fill=\"none\"/>\n",
              "    <path d=\"M18.56 5.44l.94 2.06.94-2.06 2.06-.94-2.06-.94-.94-2.06-.94 2.06-2.06.94zm-11 1L8.5 8.5l.94-2.06 2.06-.94-2.06-.94L8.5 2.5l-.94 2.06-2.06.94zm10 10l.94 2.06.94-2.06 2.06-.94-2.06-.94-.94-2.06-.94 2.06-2.06.94z\"/><path d=\"M17.41 7.96l-1.37-1.37c-.4-.4-.92-.59-1.43-.59-.52 0-1.04.2-1.43.59L10.3 9.45l-7.72 7.72c-.78.78-.78 2.05 0 2.83L4 21.41c.39.39.9.59 1.41.59.51 0 1.02-.2 1.41-.59l7.78-7.78 2.81-2.81c.8-.78.8-2.07 0-2.86zM5.41 20L4 18.59l7.72-7.72 1.47 1.35L5.41 20z\"/>\n",
              "  </svg>\n",
              "      </button>\n",
              "      \n",
              "  <style>\n",
              "    .colab-df-container {\n",
              "      display:flex;\n",
              "      flex-wrap:wrap;\n",
              "      gap: 12px;\n",
              "    }\n",
              "\n",
              "    .colab-df-convert {\n",
              "      background-color: #E8F0FE;\n",
              "      border: none;\n",
              "      border-radius: 50%;\n",
              "      cursor: pointer;\n",
              "      display: none;\n",
              "      fill: #1967D2;\n",
              "      height: 32px;\n",
              "      padding: 0 0 0 0;\n",
              "      width: 32px;\n",
              "    }\n",
              "\n",
              "    .colab-df-convert:hover {\n",
              "      background-color: #E2EBFA;\n",
              "      box-shadow: 0px 1px 2px rgba(60, 64, 67, 0.3), 0px 1px 3px 1px rgba(60, 64, 67, 0.15);\n",
              "      fill: #174EA6;\n",
              "    }\n",
              "\n",
              "    [theme=dark] .colab-df-convert {\n",
              "      background-color: #3B4455;\n",
              "      fill: #D2E3FC;\n",
              "    }\n",
              "\n",
              "    [theme=dark] .colab-df-convert:hover {\n",
              "      background-color: #434B5C;\n",
              "      box-shadow: 0px 1px 3px 1px rgba(0, 0, 0, 0.15);\n",
              "      filter: drop-shadow(0px 1px 2px rgba(0, 0, 0, 0.3));\n",
              "      fill: #FFFFFF;\n",
              "    }\n",
              "  </style>\n",
              "\n",
              "      <script>\n",
              "        const buttonEl =\n",
              "          document.querySelector('#df-415eaa57-2acd-4960-8a7b-9fb13e52bdc2 button.colab-df-convert');\n",
              "        buttonEl.style.display =\n",
              "          google.colab.kernel.accessAllowed ? 'block' : 'none';\n",
              "\n",
              "        async function convertToInteractive(key) {\n",
              "          const element = document.querySelector('#df-415eaa57-2acd-4960-8a7b-9fb13e52bdc2');\n",
              "          const dataTable =\n",
              "            await google.colab.kernel.invokeFunction('convertToInteractive',\n",
              "                                                     [key], {});\n",
              "          if (!dataTable) return;\n",
              "\n",
              "          const docLinkHtml = 'Like what you see? Visit the ' +\n",
              "            '<a target=\"_blank\" href=https://colab.research.google.com/notebooks/data_table.ipynb>data table notebook</a>'\n",
              "            + ' to learn more about interactive tables.';\n",
              "          element.innerHTML = '';\n",
              "          dataTable['output_type'] = 'display_data';\n",
              "          await google.colab.output.renderOutput(dataTable, element);\n",
              "          const docLink = document.createElement('div');\n",
              "          docLink.innerHTML = docLinkHtml;\n",
              "          element.appendChild(docLink);\n",
              "        }\n",
              "      </script>\n",
              "    </div>\n",
              "  </div>\n",
              "  "
            ]
          },
          "metadata": {},
          "execution_count": 22
        }
      ]
    },
    {
      "cell_type": "code",
      "source": [
        "train_df[['loss_variance']].describe()"
      ],
      "metadata": {
        "colab": {
          "base_uri": "https://localhost:8080/",
          "height": 300
        },
        "id": "0i9of01oQjY0",
        "outputId": "22e1dc1d-dc07-4512-81e0-233ceb74e3b7"
      },
      "execution_count": 23,
      "outputs": [
        {
          "output_type": "execute_result",
          "data": {
            "text/plain": [
              "       loss_variance\n",
              "count   2.067000e+03\n",
              "mean    1.103253e-01\n",
              "std     2.075817e-01\n",
              "min     1.442954e-08\n",
              "25%     7.017246e-03\n",
              "50%     3.509161e-02\n",
              "75%     1.222691e-01\n",
              "max     2.117602e+00"
            ],
            "text/html": [
              "\n",
              "  <div id=\"df-0efab017-1b94-4bae-8ec7-906b07b2cf76\">\n",
              "    <div class=\"colab-df-container\">\n",
              "      <div>\n",
              "<style scoped>\n",
              "    .dataframe tbody tr th:only-of-type {\n",
              "        vertical-align: middle;\n",
              "    }\n",
              "\n",
              "    .dataframe tbody tr th {\n",
              "        vertical-align: top;\n",
              "    }\n",
              "\n",
              "    .dataframe thead th {\n",
              "        text-align: right;\n",
              "    }\n",
              "</style>\n",
              "<table border=\"1\" class=\"dataframe\">\n",
              "  <thead>\n",
              "    <tr style=\"text-align: right;\">\n",
              "      <th></th>\n",
              "      <th>loss_variance</th>\n",
              "    </tr>\n",
              "  </thead>\n",
              "  <tbody>\n",
              "    <tr>\n",
              "      <th>count</th>\n",
              "      <td>2.067000e+03</td>\n",
              "    </tr>\n",
              "    <tr>\n",
              "      <th>mean</th>\n",
              "      <td>1.103253e-01</td>\n",
              "    </tr>\n",
              "    <tr>\n",
              "      <th>std</th>\n",
              "      <td>2.075817e-01</td>\n",
              "    </tr>\n",
              "    <tr>\n",
              "      <th>min</th>\n",
              "      <td>1.442954e-08</td>\n",
              "    </tr>\n",
              "    <tr>\n",
              "      <th>25%</th>\n",
              "      <td>7.017246e-03</td>\n",
              "    </tr>\n",
              "    <tr>\n",
              "      <th>50%</th>\n",
              "      <td>3.509161e-02</td>\n",
              "    </tr>\n",
              "    <tr>\n",
              "      <th>75%</th>\n",
              "      <td>1.222691e-01</td>\n",
              "    </tr>\n",
              "    <tr>\n",
              "      <th>max</th>\n",
              "      <td>2.117602e+00</td>\n",
              "    </tr>\n",
              "  </tbody>\n",
              "</table>\n",
              "</div>\n",
              "      <button class=\"colab-df-convert\" onclick=\"convertToInteractive('df-0efab017-1b94-4bae-8ec7-906b07b2cf76')\"\n",
              "              title=\"Convert this dataframe to an interactive table.\"\n",
              "              style=\"display:none;\">\n",
              "        \n",
              "  <svg xmlns=\"http://www.w3.org/2000/svg\" height=\"24px\"viewBox=\"0 0 24 24\"\n",
              "       width=\"24px\">\n",
              "    <path d=\"M0 0h24v24H0V0z\" fill=\"none\"/>\n",
              "    <path d=\"M18.56 5.44l.94 2.06.94-2.06 2.06-.94-2.06-.94-.94-2.06-.94 2.06-2.06.94zm-11 1L8.5 8.5l.94-2.06 2.06-.94-2.06-.94L8.5 2.5l-.94 2.06-2.06.94zm10 10l.94 2.06.94-2.06 2.06-.94-2.06-.94-.94-2.06-.94 2.06-2.06.94z\"/><path d=\"M17.41 7.96l-1.37-1.37c-.4-.4-.92-.59-1.43-.59-.52 0-1.04.2-1.43.59L10.3 9.45l-7.72 7.72c-.78.78-.78 2.05 0 2.83L4 21.41c.39.39.9.59 1.41.59.51 0 1.02-.2 1.41-.59l7.78-7.78 2.81-2.81c.8-.78.8-2.07 0-2.86zM5.41 20L4 18.59l7.72-7.72 1.47 1.35L5.41 20z\"/>\n",
              "  </svg>\n",
              "      </button>\n",
              "      \n",
              "  <style>\n",
              "    .colab-df-container {\n",
              "      display:flex;\n",
              "      flex-wrap:wrap;\n",
              "      gap: 12px;\n",
              "    }\n",
              "\n",
              "    .colab-df-convert {\n",
              "      background-color: #E8F0FE;\n",
              "      border: none;\n",
              "      border-radius: 50%;\n",
              "      cursor: pointer;\n",
              "      display: none;\n",
              "      fill: #1967D2;\n",
              "      height: 32px;\n",
              "      padding: 0 0 0 0;\n",
              "      width: 32px;\n",
              "    }\n",
              "\n",
              "    .colab-df-convert:hover {\n",
              "      background-color: #E2EBFA;\n",
              "      box-shadow: 0px 1px 2px rgba(60, 64, 67, 0.3), 0px 1px 3px 1px rgba(60, 64, 67, 0.15);\n",
              "      fill: #174EA6;\n",
              "    }\n",
              "\n",
              "    [theme=dark] .colab-df-convert {\n",
              "      background-color: #3B4455;\n",
              "      fill: #D2E3FC;\n",
              "    }\n",
              "\n",
              "    [theme=dark] .colab-df-convert:hover {\n",
              "      background-color: #434B5C;\n",
              "      box-shadow: 0px 1px 3px 1px rgba(0, 0, 0, 0.15);\n",
              "      filter: drop-shadow(0px 1px 2px rgba(0, 0, 0, 0.3));\n",
              "      fill: #FFFFFF;\n",
              "    }\n",
              "  </style>\n",
              "\n",
              "      <script>\n",
              "        const buttonEl =\n",
              "          document.querySelector('#df-0efab017-1b94-4bae-8ec7-906b07b2cf76 button.colab-df-convert');\n",
              "        buttonEl.style.display =\n",
              "          google.colab.kernel.accessAllowed ? 'block' : 'none';\n",
              "\n",
              "        async function convertToInteractive(key) {\n",
              "          const element = document.querySelector('#df-0efab017-1b94-4bae-8ec7-906b07b2cf76');\n",
              "          const dataTable =\n",
              "            await google.colab.kernel.invokeFunction('convertToInteractive',\n",
              "                                                     [key], {});\n",
              "          if (!dataTable) return;\n",
              "\n",
              "          const docLinkHtml = 'Like what you see? Visit the ' +\n",
              "            '<a target=\"_blank\" href=https://colab.research.google.com/notebooks/data_table.ipynb>data table notebook</a>'\n",
              "            + ' to learn more about interactive tables.';\n",
              "          element.innerHTML = '';\n",
              "          dataTable['output_type'] = 'display_data';\n",
              "          await google.colab.output.renderOutput(dataTable, element);\n",
              "          const docLink = document.createElement('div');\n",
              "          docLink.innerHTML = docLinkHtml;\n",
              "          element.appendChild(docLink);\n",
              "        }\n",
              "      </script>\n",
              "    </div>\n",
              "  </div>\n",
              "  "
            ]
          },
          "metadata": {},
          "execution_count": 23
        }
      ]
    },
    {
      "cell_type": "markdown",
      "source": [
        "## Label Correction\n",
        "We perform label correction by inspecting a subset of each dataset with prediction uncertainty above a selected threshold."
      ],
      "metadata": {
        "id": "6aevpp2PNW-Q"
      }
    },
    {
      "cell_type": "code",
      "source": [
        "import os, glob, shutil\n",
        "from PIL import Image\n",
        "import matplotlib.pyplot as plt\n",
        "\n",
        "\n",
        "import ipywidgets as widgets\n",
        "from IPython.display import display\n",
        "from ipywidgets import IntProgress, HTML, VBox, HBox"
      ],
      "metadata": {
        "id": "CwuQ8GYLaq9Z"
      },
      "execution_count": 24,
      "outputs": []
    },
    {
      "cell_type": "code",
      "source": [
        "splits = {\n",
        "    \"train\": train_df,\n",
        "    \"val\": val_df,\n",
        "    \"test\": test_df\n",
        "}\n",
        "path = None\n",
        "\n",
        "def display_img(splits_dropdown, index, var_slider):\n",
        "    global label, path\n",
        "    df = splits[splits_dropdown]\n",
        "    row = df[(df['loss_variance']>= var_slider[0]) & (df['loss_variance']<= var_slider[1])].iloc[index]\n",
        "    path = row.filenames\n",
        "    label.value = str(labels[row.label]) + \"  \" + f\"loss_var: {row.loss_variance:.3f}\"\n",
        "    plt.figure(figsize=(8, 8), dpi=80)\n",
        "    plt.imshow(Image.open(path), cmap='gray', vmin=0, vmax=255)\n",
        "    plt.axis(\"off\")\n",
        "    plt.show()\n",
        "\n",
        "next_button = widgets.Button(\n",
        "    description='Next',\n",
        "    disabled=False,\n",
        "    button_style='success',\n",
        "    tooltip='Next Sample',\n",
        "    icon='arrow-right'\n",
        ")\n",
        "\n",
        "prev_button = widgets.Button(\n",
        "    description='Previous',\n",
        "    disabled=False,\n",
        "    button_style='success',\n",
        "    tooltip='Previous Sample',\n",
        "    icon='arrow-left'\n",
        ")\n",
        "change_label_btn = widgets.Button(\n",
        "    description='Change Label',\n",
        "    disabled=False,\n",
        "    button_style='success',\n",
        "    tooltip='Change Label',\n",
        "    icon='check'\n",
        ")\n",
        "delete_btn = widgets.Button(\n",
        "    description='Delete',\n",
        "    disabled=False,\n",
        "    button_style='danger',\n",
        "    tooltip='Delete',\n",
        "    icon='fa-trash'\n",
        ")\n",
        "splits_dropdown = widgets.Dropdown(\n",
        "    description='Splits',\n",
        "    options=['train', 'val', 'test'],\n",
        "    value='train',\n",
        "    disabled=False,\n",
        ")\n",
        "\n",
        "index = widgets.IntSlider(\n",
        "    value=0,\n",
        "    min=0,\n",
        "    max=len(splits[splits_dropdown.value])-1,\n",
        "    step=1,\n",
        "    description='Index:',\n",
        "    disabled=False,\n",
        "    continuous_update=False,\n",
        "    orientation='horizontal',\n",
        "    readout=True,\n",
        "    readout_format='d'\n",
        ")\n",
        "\n",
        "var_slider = widgets.FloatRangeSlider(\n",
        "    value=[0, 10],\n",
        "    min=0.0,\n",
        "    max=10.0,\n",
        "    description='Variance:',\n",
        "    disabled=False,\n",
        "    continuous_update=False,\n",
        "    orientation='horizontal',\n",
        "    readout=True,\n",
        ")\n",
        "  \n",
        "label = widgets.Text(\n",
        "    value='',\n",
        "    placeholder='Label',\n",
        "    description='Label:',\n",
        "    disabled=False\n",
        ")\n",
        "\n",
        "new_label = widgets.Dropdown(\n",
        "    description='New Label',\n",
        "    options=[\"i\", \"ii\", \"iii\", \"iv\", \"v\", \"vi\", \"vii\", \"viii\", \"ix\", \"x\"],\n",
        "    value='i',\n",
        "    disabled=False,\n",
        ")\n",
        "\n",
        "ui_1 = widgets.HBox([prev_button, index, next_button, splits_dropdown, var_slider])\n",
        "ui_2 = widgets.HBox([label, new_label, change_label_btn, delete_btn])\n",
        "ui = widgets.VBox([ui_1, ui_2])\n",
        "\n",
        "interactive_out = widgets.interactive_output(display_img, {\"splits_dropdown\":splits_dropdown, \"index\": index, \"var_slider\":var_slider})\n",
        "\n",
        "def increment(_):\n",
        "    with interactive_out:\n",
        "        index.value+=1\n",
        "\n",
        "def decrement(_):\n",
        "    with interactive_out:\n",
        "        index.value-=1\n",
        "\n",
        "def change_label(_):\n",
        "  new_path = path.split(\"/\")\n",
        "  new_path[-2] = new_label.value\n",
        "  new_path = \"/\".join(new_path)\n",
        "  shutil.move(path, new_path)\n",
        "\n",
        "def delete_action(_):\n",
        "    os.remove(path)\n",
        "\n",
        "def update_index(_):\n",
        "    df = splits[splits_dropdown.value]\n",
        "    df = df[(df['loss_variance'] >= var_slider.value[0]) & (df['loss_variance']<= var_slider.value[1])]\n",
        "    index.max = len(df)-1\n",
        "\n",
        "splits_dropdown.observe(update_index)\n",
        "var_slider.observe(update_index)\n",
        "\n",
        "prev_button.on_click(decrement)\n",
        "next_button.on_click(increment)\n",
        "change_label_btn.on_click(change_label)\n",
        "delete_btn.on_click(delete_action)\n",
        "\n",
        "display(ui, interactive_out)"
      ],
      "metadata": {
        "colab": {
          "base_uri": "https://localhost:8080/",
          "height": 580,
          "referenced_widgets": [
            "dba36ad9941a4cc08807d864ea9bf91c",
            "2ba1bee7aa7c4793984eb4d10c9bb4b8",
            "47139a2ea7b64f70ac9ae124e374dcd1",
            "ea7bcd7004014cdc9964f7174767aa5f",
            "97934d4a60bc4f299f911eb70487b7ad",
            "d0483184d2a84f849955d13bc0f1d443",
            "324c0186375e4dfca59441d7bfb8088a",
            "0ddc43a3bff34e4caf96b443f63e7b79",
            "58f0c8f0961246a3b3aa6cf20da9962b",
            "06d20ff9f8c9422ba196773e736f4211",
            "ef8ce8cd3cf64453b0aef6b85d1e1d85",
            "056df7638ff7403385a71ec06c246d51",
            "62045596757249fd8f03530be38d8d66",
            "5ec5041d0ac449328c084e5765c7ec90",
            "b681a41cd9c34b61af408fd43d1f9fdd",
            "8379776a7f264c46a9ca30f87f56da78",
            "ef6184ea9c314bdf9efbbca996975242",
            "f443b3ffb70f406591ae104878507d9d",
            "a90890f2fcd34446b35a6bfa4b92eb8e",
            "f0455993a14f4d5480feb1ae057f1808",
            "fb475b6f85de4ec387b81c7b05e911f1",
            "7756853a173940f4945f3598a949f002",
            "0f0a85067a86453a863a83df3c3dcd3a",
            "dbbea2a2a2ca4ba495bdefc7cb02ba54",
            "b58af30f04374a59bae31d7bad1f9f26",
            "04b11b9b1ba449dc9e60553a44526501",
            "17a2d77aeee34631b3eeb21824545b97",
            "eb3a3073f06d48819b93761ea992a152",
            "9cfaad5f37b94dabb3acca5f931df95d",
            "2416c47e33f54ca1a4be8ee5dd44fdbc",
            "3ec831b495424451a7d6ca9ad7cf1b2f",
            "d27c2e1bec4643188666102eefa79e51",
            "e151754afb014add97e64afa12c0ac84",
            "4721a7a1ced04363a0cac26a989cce95",
            "49baea02e4154d13a53dba70074d9086"
          ]
        },
        "id": "ubI9rFA-OuAL",
        "outputId": "34e72561-6a8d-4005-9fac-c5c77d21b2c7"
      },
      "execution_count": 28,
      "outputs": [
        {
          "output_type": "display_data",
          "data": {
            "text/plain": [
              "VBox(children=(HBox(children=(Button(button_style='success', description='Previous', icon='arrow-left', style=…"
            ],
            "application/vnd.jupyter.widget-view+json": {
              "version_major": 2,
              "version_minor": 0,
              "model_id": "dba36ad9941a4cc08807d864ea9bf91c"
            }
          },
          "metadata": {}
        },
        {
          "output_type": "display_data",
          "data": {
            "text/plain": [
              "Output()"
            ],
            "application/vnd.jupyter.widget-view+json": {
              "version_major": 2,
              "version_minor": 0,
              "model_id": "4721a7a1ced04363a0cac26a989cce95"
            }
          },
          "metadata": {}
        }
      ]
    },
    {
      "cell_type": "markdown",
      "source": [
        "## Train and Evaluate"
      ],
      "metadata": {
        "id": "yiV89Qt-QDVS"
      }
    },
    {
      "cell_type": "code",
      "source": [
        "!rm -rf data\n",
        "!mv data_label_corrected_mcd data"
      ],
      "metadata": {
        "id": "GpToYjZlQlQr"
      },
      "execution_count": 3,
      "outputs": []
    },
    {
      "cell_type": "code",
      "source": [
        "import tensorflow as tf\n",
        "from tensorflow import keras\n",
        "import numpy as np\n",
        "import json\n",
        "import sys\n",
        "import os"
      ],
      "metadata": {
        "id": "DO-PK7W6K4NP"
      },
      "execution_count": 4,
      "outputs": []
    },
    {
      "cell_type": "code",
      "source": [
        "train_val_directory = \"data\"\n",
        "test_directory = \"label_book\"\n",
        "\n",
        "batch_size = 8\n",
        "tf.random.set_seed(123)\n",
        "\n",
        "labels = [\"i\", \"ii\", \"iii\", \"iv\", \"v\", \"vi\", \"vii\", \"viii\", \"ix\", \"x\"]"
      ],
      "metadata": {
        "id": "mQnyIPyFK4Ne"
      },
      "execution_count": 5,
      "outputs": []
    },
    {
      "cell_type": "markdown",
      "source": [
        "### Data Augmentation\n",
        "We apply same data augmentation used in part 1."
      ],
      "metadata": {
        "id": "J-_eJz-7K4Ne"
      }
    },
    {
      "cell_type": "code",
      "source": [
        "from keras.preprocessing.image import ImageDataGenerator\n",
        "from PIL import Image\n",
        "import glob\n",
        "\n",
        "datagen = ImageDataGenerator(\n",
        "    rotation_range=30,          # randomly rotate image by upto 30 deg\n",
        "    width_shift_range=0.2,      # randomly shift along x \n",
        "    height_shift_range=0.2,     # randomly shift along y\n",
        "    zoom_range=0.1,             # zooming\n",
        "    fill_mode='nearest')\n",
        "\n",
        "for label in labels:\n",
        "    i = 0\n",
        "    input_dir = f'{train_val_directory}/train/{label}'\n",
        "    image_list = glob.glob(f\"{input_dir}/*.png\")\n",
        "    image_array = np.array([np.array(Image.open(image_name).resize((32, 32)))[:, :, np.newaxis] for image_name in image_list])\n",
        "    out_dir = f'{train_val_directory}/train/{label}'\n",
        "    os.makedirs(out_dir, exist_ok=True)\n",
        "    max_images = len(image_array)*3\n",
        "    for batch in datagen.flow(image_array, batch_size=batch_size,\n",
        "                            save_to_dir= out_dir,\n",
        "                            save_prefix='aug',\n",
        "                            save_format='png'):    \n",
        "        i+=len(batch)\n",
        "        if i > max_images:\n",
        "            break"
      ],
      "metadata": {
        "id": "diKHNdewK4Nf"
      },
      "execution_count": 6,
      "outputs": []
    },
    {
      "cell_type": "code",
      "source": [
        "train = tf.keras.preprocessing.image_dataset_from_directory(\n",
        "    train_val_directory + '/train',\n",
        "    labels=\"inferred\",\n",
        "    label_mode=\"categorical\",\n",
        "    class_names=labels,\n",
        "    shuffle=True,\n",
        "    seed=123,\n",
        "    batch_size=batch_size,\n",
        "    image_size=(32, 32),\n",
        ")\n",
        "\n",
        "valid = tf.keras.preprocessing.image_dataset_from_directory(\n",
        "    train_val_directory + '/val',\n",
        "    labels=\"inferred\",\n",
        "    label_mode=\"categorical\",\n",
        "    class_names=labels,\n",
        "    shuffle=False,\n",
        "    seed=123,\n",
        "    batch_size=batch_size,\n",
        "    image_size=(32, 32),\n",
        ")\n",
        "\n",
        "total_length = ((train.cardinality() + valid.cardinality()) * batch_size).numpy()\n",
        "if total_length > 10_000:\n",
        "    print(f\"Dataset size larger than 10,000. Got {total_length} examples\")\n",
        "    sys.exit()\n",
        "\n",
        "test = tf.keras.preprocessing.image_dataset_from_directory(\n",
        "    test_directory,\n",
        "    labels=\"inferred\",\n",
        "    label_mode=\"categorical\",\n",
        "    class_names=labels,\n",
        "    shuffle=False,\n",
        "    seed=123,\n",
        "    batch_size=batch_size,\n",
        "    image_size=(32, 32),\n",
        ")"
      ],
      "metadata": {
        "colab": {
          "base_uri": "https://localhost:8080/"
        },
        "outputId": "ff32ccf7-1a87-4af2-ab54-68a747a8b6c1",
        "id": "GRjti1dgK4Nf"
      },
      "execution_count": 7,
      "outputs": [
        {
          "output_type": "stream",
          "name": "stdout",
          "text": [
            "Found 7651 files belonging to 10 classes.\n",
            "Found 803 files belonging to 10 classes.\n",
            "Found 52 files belonging to 10 classes.\n"
          ]
        }
      ]
    },
    {
      "cell_type": "code",
      "source": [
        "base_model = tf.keras.applications.ResNet50(\n",
        "    input_shape=(32, 32, 3),\n",
        "    include_top=False,\n",
        "    weights=None,\n",
        ")\n",
        "base_model = tf.keras.Model(\n",
        "    base_model.inputs, outputs=[base_model.get_layer(\"conv2_block3_out\").output]\n",
        ")\n",
        "\n",
        "inputs = tf.keras.Input(shape=(32, 32, 3))\n",
        "x = tf.keras.applications.resnet.preprocess_input(inputs)\n",
        "x = base_model(x)\n",
        "x = tf.keras.layers.GlobalAveragePooling2D()(x)\n",
        "x = tf.keras.layers.Dense(10)(x)\n",
        "model = tf.keras.Model(inputs, x)\n",
        "\n",
        "model.compile(\n",
        "    optimizer=tf.keras.optimizers.Adam(lr=0.0001),\n",
        "    loss=tf.keras.losses.CategoricalCrossentropy(from_logits=True),\n",
        "    metrics=[\"accuracy\"],\n",
        ")\n",
        "model.summary()"
      ],
      "metadata": {
        "colab": {
          "base_uri": "https://localhost:8080/"
        },
        "outputId": "6a846f4a-8294-42e9-c0b6-14d385fa5362",
        "id": "ycslOiEnK4Ng"
      },
      "execution_count": 8,
      "outputs": [
        {
          "output_type": "stream",
          "name": "stdout",
          "text": [
            "Model: \"model_1\"\n",
            "_________________________________________________________________\n",
            " Layer (type)                Output Shape              Param #   \n",
            "=================================================================\n",
            " input_2 (InputLayer)        [(None, 32, 32, 3)]       0         \n",
            "                                                                 \n",
            " tf.__operators__.getitem (S  (None, 32, 32, 3)        0         \n",
            " licingOpLambda)                                                 \n",
            "                                                                 \n",
            " tf.nn.bias_add (TFOpLambda)  (None, 32, 32, 3)        0         \n",
            "                                                                 \n",
            " model (Functional)          (None, 8, 8, 256)         229760    \n",
            "                                                                 \n",
            " global_average_pooling2d (G  (None, 256)              0         \n",
            " lobalAveragePooling2D)                                          \n",
            "                                                                 \n",
            " dense (Dense)               (None, 10)                2570      \n",
            "                                                                 \n",
            "=================================================================\n",
            "Total params: 232,330\n",
            "Trainable params: 229,386\n",
            "Non-trainable params: 2,944\n",
            "_________________________________________________________________\n"
          ]
        },
        {
          "output_type": "stream",
          "name": "stderr",
          "text": [
            "/usr/local/lib/python3.7/dist-packages/keras/optimizers/optimizer_v2/adam.py:110: UserWarning: The `lr` argument is deprecated, use `learning_rate` instead.\n",
            "  super(Adam, self).__init__(name, **kwargs)\n"
          ]
        }
      ]
    },
    {
      "cell_type": "code",
      "source": [
        "checkpoint = tf.keras.callbacks.ModelCheckpoint(\n",
        "    \"ckpt_part_4_2/best_model\",\n",
        "    monitor=\"val_accuracy\",\n",
        "    mode=\"max\",\n",
        "    save_best_only=True,\n",
        "    save_weights_only=True,\n",
        ")\n",
        "early_stopping = tf.keras.callbacks.EarlyStopping(monitor='val_accuracy', patience=10)\n",
        "\n",
        "history = model.fit(\n",
        "    train,\n",
        "    validation_data=valid,\n",
        "    epochs=100,\n",
        "    callbacks=[checkpoint],\n",
        ")"
      ],
      "metadata": {
        "colab": {
          "base_uri": "https://localhost:8080/"
        },
        "outputId": "eb104458-33ff-4ca0-93f3-8150f4db4f36",
        "id": "TfRJyaeUK4Ng"
      },
      "execution_count": 9,
      "outputs": [
        {
          "output_type": "stream",
          "name": "stdout",
          "text": [
            "Epoch 1/100\n",
            "957/957 [==============================] - 35s 23ms/step - loss: 1.7479 - accuracy: 0.3849 - val_loss: 1.6956 - val_accuracy: 0.4284\n",
            "Epoch 2/100\n",
            "957/957 [==============================] - 11s 11ms/step - loss: 1.1893 - accuracy: 0.6032 - val_loss: 0.9704 - val_accuracy: 0.6800\n",
            "Epoch 3/100\n",
            "957/957 [==============================] - 11s 11ms/step - loss: 0.9081 - accuracy: 0.7000 - val_loss: 1.0002 - val_accuracy: 0.6501\n",
            "Epoch 4/100\n",
            "957/957 [==============================] - 10s 11ms/step - loss: 0.7543 - accuracy: 0.7492 - val_loss: 0.8963 - val_accuracy: 0.6899\n",
            "Epoch 5/100\n",
            "957/957 [==============================] - 11s 12ms/step - loss: 0.6501 - accuracy: 0.7915 - val_loss: 0.9556 - val_accuracy: 0.6737\n",
            "Epoch 6/100\n",
            "957/957 [==============================] - 11s 11ms/step - loss: 0.5648 - accuracy: 0.8192 - val_loss: 0.6373 - val_accuracy: 0.7945\n",
            "Epoch 7/100\n",
            "957/957 [==============================] - 11s 11ms/step - loss: 0.4975 - accuracy: 0.8424 - val_loss: 0.5437 - val_accuracy: 0.8157\n",
            "Epoch 8/100\n",
            "957/957 [==============================] - 12s 12ms/step - loss: 0.4327 - accuracy: 0.8620 - val_loss: 0.7139 - val_accuracy: 0.7771\n",
            "Epoch 9/100\n",
            "957/957 [==============================] - 11s 11ms/step - loss: 0.3750 - accuracy: 0.8807 - val_loss: 0.7220 - val_accuracy: 0.7522\n",
            "Epoch 10/100\n",
            "957/957 [==============================] - 11s 11ms/step - loss: 0.3417 - accuracy: 0.8913 - val_loss: 0.6035 - val_accuracy: 0.8120\n",
            "Epoch 11/100\n",
            "957/957 [==============================] - 10s 11ms/step - loss: 0.2993 - accuracy: 0.9089 - val_loss: 0.7816 - val_accuracy: 0.7621\n",
            "Epoch 12/100\n",
            "957/957 [==============================] - 10s 11ms/step - loss: 0.2702 - accuracy: 0.9109 - val_loss: 0.7406 - val_accuracy: 0.7858\n",
            "Epoch 13/100\n",
            "957/957 [==============================] - 10s 11ms/step - loss: 0.2410 - accuracy: 0.9252 - val_loss: 0.7505 - val_accuracy: 0.7671\n",
            "Epoch 14/100\n",
            "957/957 [==============================] - 10s 11ms/step - loss: 0.2223 - accuracy: 0.9313 - val_loss: 0.7464 - val_accuracy: 0.7796\n",
            "Epoch 15/100\n",
            "957/957 [==============================] - 11s 11ms/step - loss: 0.1908 - accuracy: 0.9413 - val_loss: 0.6348 - val_accuracy: 0.7970\n",
            "Epoch 16/100\n",
            "957/957 [==============================] - 11s 11ms/step - loss: 0.1718 - accuracy: 0.9507 - val_loss: 0.8859 - val_accuracy: 0.7696\n",
            "Epoch 17/100\n",
            "957/957 [==============================] - 10s 11ms/step - loss: 0.1576 - accuracy: 0.9523 - val_loss: 0.7645 - val_accuracy: 0.7783\n",
            "Epoch 18/100\n",
            "957/957 [==============================] - 11s 11ms/step - loss: 0.1525 - accuracy: 0.9528 - val_loss: 0.6385 - val_accuracy: 0.8057\n",
            "Epoch 19/100\n",
            "957/957 [==============================] - 13s 14ms/step - loss: 0.1338 - accuracy: 0.9588 - val_loss: 0.9026 - val_accuracy: 0.7335\n",
            "Epoch 20/100\n",
            "957/957 [==============================] - 14s 14ms/step - loss: 0.1239 - accuracy: 0.9631 - val_loss: 0.7241 - val_accuracy: 0.7721\n",
            "Epoch 21/100\n",
            "957/957 [==============================] - 11s 11ms/step - loss: 0.1143 - accuracy: 0.9678 - val_loss: 0.6543 - val_accuracy: 0.8169\n",
            "Epoch 22/100\n",
            "957/957 [==============================] - 10s 11ms/step - loss: 0.0958 - accuracy: 0.9732 - val_loss: 0.8055 - val_accuracy: 0.7933\n",
            "Epoch 23/100\n",
            "957/957 [==============================] - 10s 11ms/step - loss: 0.1033 - accuracy: 0.9712 - val_loss: 0.7052 - val_accuracy: 0.7945\n",
            "Epoch 24/100\n",
            "957/957 [==============================] - 10s 11ms/step - loss: 0.0968 - accuracy: 0.9695 - val_loss: 1.1516 - val_accuracy: 0.6961\n",
            "Epoch 25/100\n",
            "957/957 [==============================] - 10s 11ms/step - loss: 0.0889 - accuracy: 0.9735 - val_loss: 0.5398 - val_accuracy: 0.8468\n",
            "Epoch 26/100\n",
            "957/957 [==============================] - 10s 11ms/step - loss: 0.0729 - accuracy: 0.9816 - val_loss: 0.7879 - val_accuracy: 0.7821\n",
            "Epoch 27/100\n",
            "957/957 [==============================] - 10s 11ms/step - loss: 0.0781 - accuracy: 0.9767 - val_loss: 0.7653 - val_accuracy: 0.8032\n",
            "Epoch 28/100\n",
            "957/957 [==============================] - 11s 11ms/step - loss: 0.0740 - accuracy: 0.9786 - val_loss: 0.8958 - val_accuracy: 0.7846\n",
            "Epoch 29/100\n",
            "957/957 [==============================] - 11s 11ms/step - loss: 0.0761 - accuracy: 0.9774 - val_loss: 0.7421 - val_accuracy: 0.8057\n",
            "Epoch 30/100\n",
            "957/957 [==============================] - 11s 11ms/step - loss: 0.0707 - accuracy: 0.9791 - val_loss: 0.6748 - val_accuracy: 0.8319\n",
            "Epoch 31/100\n",
            "957/957 [==============================] - 11s 11ms/step - loss: 0.0708 - accuracy: 0.9782 - val_loss: 0.6855 - val_accuracy: 0.8107\n",
            "Epoch 32/100\n",
            "957/957 [==============================] - 11s 11ms/step - loss: 0.0506 - accuracy: 0.9861 - val_loss: 1.0035 - val_accuracy: 0.7634\n",
            "Epoch 33/100\n",
            "957/957 [==============================] - 10s 11ms/step - loss: 0.0614 - accuracy: 0.9818 - val_loss: 0.6532 - val_accuracy: 0.8207\n",
            "Epoch 34/100\n",
            "957/957 [==============================] - 10s 11ms/step - loss: 0.0576 - accuracy: 0.9826 - val_loss: 0.7259 - val_accuracy: 0.8144\n",
            "Epoch 35/100\n",
            "957/957 [==============================] - 11s 11ms/step - loss: 0.0592 - accuracy: 0.9831 - val_loss: 0.5725 - val_accuracy: 0.8269\n",
            "Epoch 36/100\n",
            "957/957 [==============================] - 14s 15ms/step - loss: 0.0559 - accuracy: 0.9829 - val_loss: 0.6202 - val_accuracy: 0.8331\n",
            "Epoch 37/100\n",
            "957/957 [==============================] - 12s 12ms/step - loss: 0.0572 - accuracy: 0.9833 - val_loss: 0.8563 - val_accuracy: 0.7858\n",
            "Epoch 38/100\n",
            "957/957 [==============================] - 13s 13ms/step - loss: 0.0479 - accuracy: 0.9859 - val_loss: 0.6514 - val_accuracy: 0.8269\n",
            "Epoch 39/100\n",
            "957/957 [==============================] - 11s 11ms/step - loss: 0.0533 - accuracy: 0.9825 - val_loss: 0.8421 - val_accuracy: 0.7920\n",
            "Epoch 40/100\n",
            "957/957 [==============================] - 11s 11ms/step - loss: 0.0433 - accuracy: 0.9878 - val_loss: 0.6695 - val_accuracy: 0.8381\n",
            "Epoch 41/100\n",
            "957/957 [==============================] - 10s 11ms/step - loss: 0.0463 - accuracy: 0.9869 - val_loss: 0.6599 - val_accuracy: 0.8394\n",
            "Epoch 42/100\n",
            "957/957 [==============================] - 10s 11ms/step - loss: 0.0454 - accuracy: 0.9864 - val_loss: 0.6632 - val_accuracy: 0.8443\n",
            "Epoch 43/100\n",
            "957/957 [==============================] - 10s 11ms/step - loss: 0.0427 - accuracy: 0.9868 - val_loss: 0.8074 - val_accuracy: 0.8095\n",
            "Epoch 44/100\n",
            "957/957 [==============================] - 11s 11ms/step - loss: 0.0422 - accuracy: 0.9871 - val_loss: 0.6607 - val_accuracy: 0.8418\n",
            "Epoch 45/100\n",
            "957/957 [==============================] - 10s 11ms/step - loss: 0.0415 - accuracy: 0.9864 - val_loss: 0.9008 - val_accuracy: 0.7721\n",
            "Epoch 46/100\n",
            "957/957 [==============================] - 10s 11ms/step - loss: 0.0397 - accuracy: 0.9889 - val_loss: 0.7915 - val_accuracy: 0.8281\n",
            "Epoch 47/100\n",
            "957/957 [==============================] - 10s 11ms/step - loss: 0.0395 - accuracy: 0.9881 - val_loss: 1.1735 - val_accuracy: 0.7584\n",
            "Epoch 48/100\n",
            "957/957 [==============================] - 10s 11ms/step - loss: 0.0487 - accuracy: 0.9854 - val_loss: 0.9985 - val_accuracy: 0.7684\n",
            "Epoch 49/100\n",
            "957/957 [==============================] - 10s 11ms/step - loss: 0.0329 - accuracy: 0.9906 - val_loss: 1.0085 - val_accuracy: 0.7833\n",
            "Epoch 50/100\n",
            "957/957 [==============================] - 10s 11ms/step - loss: 0.0351 - accuracy: 0.9893 - val_loss: 0.6695 - val_accuracy: 0.8294\n",
            "Epoch 51/100\n",
            "957/957 [==============================] - 10s 11ms/step - loss: 0.0376 - accuracy: 0.9884 - val_loss: 0.6742 - val_accuracy: 0.8244\n",
            "Epoch 52/100\n",
            "957/957 [==============================] - 10s 11ms/step - loss: 0.0348 - accuracy: 0.9905 - val_loss: 1.2783 - val_accuracy: 0.7522\n",
            "Epoch 53/100\n",
            "957/957 [==============================] - 10s 11ms/step - loss: 0.0396 - accuracy: 0.9881 - val_loss: 0.7460 - val_accuracy: 0.8306\n",
            "Epoch 54/100\n",
            "957/957 [==============================] - 11s 11ms/step - loss: 0.0326 - accuracy: 0.9906 - val_loss: 0.6572 - val_accuracy: 0.8207\n",
            "Epoch 55/100\n",
            "957/957 [==============================] - 11s 11ms/step - loss: 0.0267 - accuracy: 0.9933 - val_loss: 0.5842 - val_accuracy: 0.8593\n",
            "Epoch 56/100\n",
            "957/957 [==============================] - 11s 12ms/step - loss: 0.0326 - accuracy: 0.9915 - val_loss: 0.5796 - val_accuracy: 0.8605\n",
            "Epoch 57/100\n",
            "957/957 [==============================] - 16s 17ms/step - loss: 0.0380 - accuracy: 0.9877 - val_loss: 0.6615 - val_accuracy: 0.8356\n",
            "Epoch 58/100\n",
            "957/957 [==============================] - 10s 11ms/step - loss: 0.0326 - accuracy: 0.9903 - val_loss: 0.8542 - val_accuracy: 0.8269\n",
            "Epoch 59/100\n",
            "957/957 [==============================] - 10s 11ms/step - loss: 0.0345 - accuracy: 0.9897 - val_loss: 0.6943 - val_accuracy: 0.8306\n",
            "Epoch 60/100\n",
            "957/957 [==============================] - 10s 11ms/step - loss: 0.0280 - accuracy: 0.9927 - val_loss: 0.5659 - val_accuracy: 0.8506\n",
            "Epoch 61/100\n",
            "957/957 [==============================] - 10s 11ms/step - loss: 0.0255 - accuracy: 0.9924 - val_loss: 0.7626 - val_accuracy: 0.8319\n",
            "Epoch 62/100\n",
            "957/957 [==============================] - 10s 11ms/step - loss: 0.0318 - accuracy: 0.9906 - val_loss: 0.7675 - val_accuracy: 0.8194\n",
            "Epoch 63/100\n",
            "957/957 [==============================] - 10s 11ms/step - loss: 0.0326 - accuracy: 0.9899 - val_loss: 0.7640 - val_accuracy: 0.8232\n",
            "Epoch 64/100\n",
            "957/957 [==============================] - 11s 11ms/step - loss: 0.0325 - accuracy: 0.9901 - val_loss: 0.5524 - val_accuracy: 0.8717\n",
            "Epoch 65/100\n",
            "957/957 [==============================] - 11s 11ms/step - loss: 0.0189 - accuracy: 0.9953 - val_loss: 0.5716 - val_accuracy: 0.8506\n",
            "Epoch 66/100\n",
            "957/957 [==============================] - 10s 11ms/step - loss: 0.0360 - accuracy: 0.9888 - val_loss: 1.4393 - val_accuracy: 0.7310\n",
            "Epoch 67/100\n",
            "957/957 [==============================] - 11s 11ms/step - loss: 0.0334 - accuracy: 0.9898 - val_loss: 0.6128 - val_accuracy: 0.8468\n",
            "Epoch 68/100\n",
            "957/957 [==============================] - 11s 11ms/step - loss: 0.0148 - accuracy: 0.9963 - val_loss: 0.4905 - val_accuracy: 0.8667\n",
            "Epoch 69/100\n",
            "957/957 [==============================] - 11s 11ms/step - loss: 0.0260 - accuracy: 0.9920 - val_loss: 0.6536 - val_accuracy: 0.8443\n",
            "Epoch 70/100\n",
            "957/957 [==============================] - 10s 11ms/step - loss: 0.0289 - accuracy: 0.9923 - val_loss: 0.5340 - val_accuracy: 0.8655\n",
            "Epoch 71/100\n",
            "957/957 [==============================] - 11s 11ms/step - loss: 0.0259 - accuracy: 0.9932 - val_loss: 0.5915 - val_accuracy: 0.8568\n",
            "Epoch 72/100\n",
            "957/957 [==============================] - 10s 11ms/step - loss: 0.0315 - accuracy: 0.9912 - val_loss: 0.8723 - val_accuracy: 0.8020\n",
            "Epoch 73/100\n",
            "957/957 [==============================] - 11s 11ms/step - loss: 0.0281 - accuracy: 0.9923 - val_loss: 0.6518 - val_accuracy: 0.8605\n",
            "Epoch 74/100\n",
            "957/957 [==============================] - 11s 11ms/step - loss: 0.0172 - accuracy: 0.9952 - val_loss: 0.6160 - val_accuracy: 0.8580\n",
            "Epoch 75/100\n",
            "957/957 [==============================] - 12s 13ms/step - loss: 0.0261 - accuracy: 0.9923 - val_loss: 0.6182 - val_accuracy: 0.8518\n",
            "Epoch 76/100\n",
            "957/957 [==============================] - 11s 11ms/step - loss: 0.0242 - accuracy: 0.9926 - val_loss: 0.6097 - val_accuracy: 0.8605\n",
            "Epoch 77/100\n",
            "957/957 [==============================] - 11s 12ms/step - loss: 0.0231 - accuracy: 0.9935 - val_loss: 0.6936 - val_accuracy: 0.8281\n",
            "Epoch 78/100\n",
            "957/957 [==============================] - 10s 11ms/step - loss: 0.0217 - accuracy: 0.9933 - val_loss: 0.6774 - val_accuracy: 0.8593\n",
            "Epoch 79/100\n",
            "957/957 [==============================] - 10s 11ms/step - loss: 0.0221 - accuracy: 0.9940 - val_loss: 0.6108 - val_accuracy: 0.8655\n",
            "Epoch 80/100\n",
            "957/957 [==============================] - 10s 11ms/step - loss: 0.0245 - accuracy: 0.9926 - val_loss: 0.6406 - val_accuracy: 0.8543\n",
            "Epoch 81/100\n",
            "957/957 [==============================] - 11s 11ms/step - loss: 0.0301 - accuracy: 0.9903 - val_loss: 0.5848 - val_accuracy: 0.8605\n",
            "Epoch 82/100\n",
            "957/957 [==============================] - 11s 11ms/step - loss: 0.0174 - accuracy: 0.9954 - val_loss: 0.5284 - val_accuracy: 0.8705\n",
            "Epoch 83/100\n",
            "957/957 [==============================] - 11s 11ms/step - loss: 0.0303 - accuracy: 0.9903 - val_loss: 0.9710 - val_accuracy: 0.8281\n",
            "Epoch 84/100\n",
            "957/957 [==============================] - 11s 11ms/step - loss: 0.0244 - accuracy: 0.9927 - val_loss: 0.4907 - val_accuracy: 0.8966\n",
            "Epoch 85/100\n",
            "957/957 [==============================] - 11s 11ms/step - loss: 0.0244 - accuracy: 0.9916 - val_loss: 0.5961 - val_accuracy: 0.8605\n",
            "Epoch 86/100\n",
            "957/957 [==============================] - 11s 11ms/step - loss: 0.0223 - accuracy: 0.9928 - val_loss: 0.6286 - val_accuracy: 0.8680\n",
            "Epoch 87/100\n",
            "957/957 [==============================] - 11s 11ms/step - loss: 0.0211 - accuracy: 0.9940 - val_loss: 0.8151 - val_accuracy: 0.8468\n",
            "Epoch 88/100\n",
            "957/957 [==============================] - 11s 11ms/step - loss: 0.0213 - accuracy: 0.9933 - val_loss: 0.5537 - val_accuracy: 0.8767\n",
            "Epoch 89/100\n",
            "957/957 [==============================] - 10s 11ms/step - loss: 0.0169 - accuracy: 0.9950 - val_loss: 0.5609 - val_accuracy: 0.8817\n",
            "Epoch 90/100\n",
            "957/957 [==============================] - 10s 10ms/step - loss: 0.0245 - accuracy: 0.9927 - val_loss: 0.5430 - val_accuracy: 0.8730\n",
            "Epoch 91/100\n",
            "957/957 [==============================] - 10s 11ms/step - loss: 0.0264 - accuracy: 0.9915 - val_loss: 0.6370 - val_accuracy: 0.8829\n",
            "Epoch 92/100\n",
            "957/957 [==============================] - 11s 11ms/step - loss: 0.0120 - accuracy: 0.9973 - val_loss: 0.5610 - val_accuracy: 0.8817\n",
            "Epoch 93/100\n",
            "957/957 [==============================] - 13s 13ms/step - loss: 0.0253 - accuracy: 0.9918 - val_loss: 0.6454 - val_accuracy: 0.8555\n",
            "Epoch 94/100\n",
            "957/957 [==============================] - 11s 11ms/step - loss: 0.0205 - accuracy: 0.9935 - val_loss: 0.7329 - val_accuracy: 0.8431\n",
            "Epoch 95/100\n",
            "957/957 [==============================] - 13s 14ms/step - loss: 0.0202 - accuracy: 0.9945 - val_loss: 0.6251 - val_accuracy: 0.8593\n",
            "Epoch 96/100\n",
            "957/957 [==============================] - 11s 11ms/step - loss: 0.0136 - accuracy: 0.9957 - val_loss: 0.6413 - val_accuracy: 0.8755\n",
            "Epoch 97/100\n",
            "957/957 [==============================] - 11s 12ms/step - loss: 0.0219 - accuracy: 0.9932 - val_loss: 0.5653 - val_accuracy: 0.8680\n",
            "Epoch 98/100\n",
            "957/957 [==============================] - 11s 11ms/step - loss: 0.0189 - accuracy: 0.9946 - val_loss: 0.6197 - val_accuracy: 0.8618\n",
            "Epoch 99/100\n",
            "957/957 [==============================] - 11s 11ms/step - loss: 0.0179 - accuracy: 0.9944 - val_loss: 0.5114 - val_accuracy: 0.8792\n",
            "Epoch 100/100\n",
            "957/957 [==============================] - 11s 11ms/step - loss: 0.0241 - accuracy: 0.9931 - val_loss: 0.7381 - val_accuracy: 0.8269\n"
          ]
        }
      ]
    },
    {
      "cell_type": "code",
      "source": [
        "import matplotlib.pyplot as plt\n",
        "import seaborn as sns\n",
        "from sklearn.metrics import accuracy_score, confusion_matrix\n",
        "\n",
        "def evaluate_model(model, dataset):\n",
        "    labels = np.concatenate([y.numpy() for x, y in dataset], axis=0).argmax(axis=1)\n",
        "    pred_labels = np.argmax(model.predict(dataset), axis=1)\n",
        "    cm = confusion_matrix(labels, pred_labels)\n",
        "    acc = accuracy_score(labels, pred_labels)\n",
        "    return acc, cm\n",
        "\n",
        "def show_confusion_matrix(cm, labels):\n",
        "    plt.figure(figsize=(10, 8))\n",
        "    sns.heatmap(cm, xticklabels=labels, yticklabels=labels, \n",
        "                annot=True, fmt='g')\n",
        "    plt.xlabel('Prediction')\n",
        "    plt.ylabel('Label')\n",
        "    plt.show()"
      ],
      "metadata": {
        "id": "nk4UDFidK4Nh"
      },
      "execution_count": 10,
      "outputs": []
    },
    {
      "cell_type": "code",
      "source": [
        "model.load_weights(\"ckpt_part_4_2/best_model\")"
      ],
      "metadata": {
        "colab": {
          "base_uri": "https://localhost:8080/"
        },
        "outputId": "b0c65a75-53e2-4823-fe07-13cdef7f8915",
        "id": "kJJIhc9SK4Nh"
      },
      "execution_count": 11,
      "outputs": [
        {
          "output_type": "execute_result",
          "data": {
            "text/plain": [
              "<tensorflow.python.training.tracking.util.CheckpointLoadStatus at 0x7f6c564a3450>"
            ]
          },
          "metadata": {},
          "execution_count": 11
        }
      ]
    },
    {
      "cell_type": "code",
      "source": [
        "val_acc, val_cm = evaluate_model(model, valid)\n",
        "print(f\"Validation Accuracy: {val_acc}\")\n",
        "show_confusion_matrix(val_cm, labels)\n"
      ],
      "metadata": {
        "colab": {
          "base_uri": "https://localhost:8080/",
          "height": 533
        },
        "outputId": "50a16dfc-f095-47ec-abe3-612886c552f6",
        "id": "oDEeN003K4Nh"
      },
      "execution_count": 12,
      "outputs": [
        {
          "output_type": "stream",
          "name": "stdout",
          "text": [
            "101/101 [==============================] - 1s 7ms/step\n",
            "Validation Accuracy: 0.8966376089663761\n"
          ]
        },
        {
          "output_type": "display_data",
          "data": {
            "text/plain": [
              "<Figure size 720x576 with 2 Axes>"
            ],
            "image/png": "[encoded data removed]"
          },
          "metadata": {
            "needs_background": "light"
          }
        }
      ]
    },
    {
      "cell_type": "code",
      "source": [
        "test_acc, test_cm = evaluate_model(model, test)\n",
        "print(f\"Test Accuracy: {test_acc}\")\n",
        "show_confusion_matrix(test_cm, labels)\n"
      ],
      "metadata": {
        "colab": {
          "base_uri": "https://localhost:8080/",
          "height": 537
        },
        "outputId": "0b625a68-b6e3-4405-d169-b714d6e3d24d",
        "id": "zQP0wt4uK4Nh"
      },
      "execution_count": 13,
      "outputs": [
        {
          "output_type": "stream",
          "name": "stdout",
          "text": [
            "7/7 [==============================] - 0s 19ms/step\n",
            "Test Accuracy: 0.7115384615384616\n"
          ]
        },
        {
          "output_type": "display_data",
          "data": {
            "text/plain": [
              "<Figure size 720x576 with 2 Axes>"
            ],
            "image/png": "[encoded data removed]"
          },
          "metadata": {
            "needs_background": "light"
          }
        }
      ]
    },
    {
      "cell_type": "markdown",
      "source": [
        "## Track Data with DVC\n",
        "We commit the new version of data with correct labels and augmented samples."
      ],
      "metadata": {
        "id": "6EyoTOzcK4Ni"
      }
    },
    {
      "cell_type": "code",
      "source": [
        "!dvc add data"
      ],
      "metadata": {
        "id": "MRAWxOaMK4Ni"
      },
      "execution_count": null,
      "outputs": []
    },
    {
      "cell_type": "code",
      "source": [
        "!cat data.dvc"
      ],
      "metadata": {
        "id": "82Gorv2pK4Ni"
      },
      "execution_count": null,
      "outputs": []
    },
    {
      "cell_type": "code",
      "source": [
        "!git add data.dvc\n",
        "!git commit -m \"add version_4 data\""
      ],
      "metadata": {
        "id": "h7-9PpuPK4Ni"
      },
      "execution_count": null,
      "outputs": []
    },
    {
      "cell_type": "code",
      "source": [
        "!dvc push"
      ],
      "metadata": {
        "id": "cORjd90XK4Ni"
      },
      "execution_count": null,
      "outputs": []
    },
    {
      "cell_type": "code",
      "source": [],
      "metadata": {
        "id": "Qb5Udj22j2mV"
      },
      "execution_count": null,
      "outputs": []
    }
  ]
}