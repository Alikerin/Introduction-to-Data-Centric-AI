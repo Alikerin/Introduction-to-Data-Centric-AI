{
  "nbformat": 4,
  "nbformat_minor": 0,
  "metadata": {
    "colab": {
      "provenance": [],
      "collapsed_sections": [],
      "toc_visible": true,
      "include_colab_link": true
    },
    "kernelspec": {
      "name": "python3",
      "display_name": "Python 3"
    },
    "language_info": {
      "name": "python"
    },
    "accelerator": "GPU",
    "gpuClass": "standard",
    "widgets": {
      "application/vnd.jupyter.widget-state+json": {
        "2a91ffe39f3d4555b8aea48907e4d0e9": {
          "model_module": "@jupyter-widgets/controls",
          "model_name": "VBoxModel",
          "model_module_version": "1.5.0",
          "state": {
            "_dom_classes": [],
            "_model_module": "@jupyter-widgets/controls",
            "_model_module_version": "1.5.0",
            "_model_name": "VBoxModel",
            "_view_count": null,
            "_view_module": "@jupyter-widgets/controls",
            "_view_module_version": "1.5.0",
            "_view_name": "VBoxView",
            "box_style": "",
            "children": [
              "IPY_MODEL_e25ecb63a35a44c0aeaffcb47d691603",
              "IPY_MODEL_864bc9f8148f4aa7b1b29946c952e19b"
            ],
            "layout": "IPY_MODEL_37d77ed1a6e343c0b0a0bbda894c9ab0"
          }
        },
        "e25ecb63a35a44c0aeaffcb47d691603": {
          "model_module": "@jupyter-widgets/controls",
          "model_name": "HBoxModel",
          "model_module_version": "1.5.0",
          "state": {
            "_dom_classes": [],
            "_model_module": "@jupyter-widgets/controls",
            "_model_module_version": "1.5.0",
            "_model_name": "HBoxModel",
            "_view_count": null,
            "_view_module": "@jupyter-widgets/controls",
            "_view_module_version": "1.5.0",
            "_view_name": "HBoxView",
            "box_style": "",
            "children": [
              "IPY_MODEL_494ceaa14429460db40d738324776368",
              "IPY_MODEL_8f30779db32d48f88d0b44ad4ff7d08b",
              "IPY_MODEL_b94f577092b14ec28b16980289057566",
              "IPY_MODEL_cdfaba18b0f84422a0b5a437e4857341"
            ],
            "layout": "IPY_MODEL_f7b6ba7dd8994b2fb7c4bbbf66ef8d2c"
          }
        },
        "864bc9f8148f4aa7b1b29946c952e19b": {
          "model_module": "@jupyter-widgets/controls",
          "model_name": "HBoxModel",
          "model_module_version": "1.5.0",
          "state": {
            "_dom_classes": [],
            "_model_module": "@jupyter-widgets/controls",
            "_model_module_version": "1.5.0",
            "_model_name": "HBoxModel",
            "_view_count": null,
            "_view_module": "@jupyter-widgets/controls",
            "_view_module_version": "1.5.0",
            "_view_name": "HBoxView",
            "box_style": "",
            "children": [
              "IPY_MODEL_d80c514cf46f4f4f9e7bc0891ebc3197",
              "IPY_MODEL_46dbcab04d0f4712b99a4dc29e9bea53",
              "IPY_MODEL_9add66375cd94ae9bfdc4e3004b1482f",
              "IPY_MODEL_3b7c5a81c69a4b77a42459eae0917f6e"
            ],
            "layout": "IPY_MODEL_95e479550d7248b0857165babfd4ab76"
          }
        },
        "37d77ed1a6e343c0b0a0bbda894c9ab0": {
          "model_module": "@jupyter-widgets/base",
          "model_name": "LayoutModel",
          "model_module_version": "1.2.0",
          "state": {
            "_model_module": "@jupyter-widgets/base",
            "_model_module_version": "1.2.0",
            "_model_name": "LayoutModel",
            "_view_count": null,
            "_view_module": "@jupyter-widgets/base",
            "_view_module_version": "1.2.0",
            "_view_name": "LayoutView",
            "align_content": null,
            "align_items": null,
            "align_self": null,
            "border": null,
            "bottom": null,
            "display": null,
            "flex": null,
            "flex_flow": null,
            "grid_area": null,
            "grid_auto_columns": null,
            "grid_auto_flow": null,
            "grid_auto_rows": null,
            "grid_column": null,
            "grid_gap": null,
            "grid_row": null,
            "grid_template_areas": null,
            "grid_template_columns": null,
            "grid_template_rows": null,
            "height": null,
            "justify_content": null,
            "justify_items": null,
            "left": null,
            "margin": null,
            "max_height": null,
            "max_width": null,
            "min_height": null,
            "min_width": null,
            "object_fit": null,
            "object_position": null,
            "order": null,
            "overflow": null,
            "overflow_x": null,
            "overflow_y": null,
            "padding": null,
            "right": null,
            "top": null,
            "visibility": null,
            "width": null
          }
        },
        "494ceaa14429460db40d738324776368": {
          "model_module": "@jupyter-widgets/controls",
          "model_name": "ButtonModel",
          "model_module_version": "1.5.0",
          "state": {
            "_dom_classes": [],
            "_model_module": "@jupyter-widgets/controls",
            "_model_module_version": "1.5.0",
            "_model_name": "ButtonModel",
            "_view_count": null,
            "_view_module": "@jupyter-widgets/controls",
            "_view_module_version": "1.5.0",
            "_view_name": "ButtonView",
            "button_style": "success",
            "description": "Previous",
            "disabled": false,
            "icon": "arrow-left",
            "layout": "IPY_MODEL_4f6d17e0396547e4952dfb29e787177c",
            "style": "IPY_MODEL_05ecc1055dd6401f983f82d34623d89f",
            "tooltip": "Previous Sample"
          }
        },
        "8f30779db32d48f88d0b44ad4ff7d08b": {
          "model_module": "@jupyter-widgets/controls",
          "model_name": "IntSliderModel",
          "model_module_version": "1.5.0",
          "state": {
            "_dom_classes": [],
            "_model_module": "@jupyter-widgets/controls",
            "_model_module_version": "1.5.0",
            "_model_name": "IntSliderModel",
            "_view_count": null,
            "_view_module": "@jupyter-widgets/controls",
            "_view_module_version": "1.5.0",
            "_view_name": "IntSliderView",
            "continuous_update": false,
            "description": "Index:",
            "description_tooltip": null,
            "disabled": false,
            "layout": "IPY_MODEL_847207df2e5440e3a9cf67a2d1bc9d92",
            "max": 2066,
            "min": 0,
            "orientation": "horizontal",
            "readout": true,
            "readout_format": "d",
            "step": 1,
            "style": "IPY_MODEL_9fa359797b8f4049bf9fad831cc41c62",
            "value": 4
          }
        },
        "b94f577092b14ec28b16980289057566": {
          "model_module": "@jupyter-widgets/controls",
          "model_name": "ButtonModel",
          "model_module_version": "1.5.0",
          "state": {
            "_dom_classes": [],
            "_model_module": "@jupyter-widgets/controls",
            "_model_module_version": "1.5.0",
            "_model_name": "ButtonModel",
            "_view_count": null,
            "_view_module": "@jupyter-widgets/controls",
            "_view_module_version": "1.5.0",
            "_view_name": "ButtonView",
            "button_style": "success",
            "description": "Next",
            "disabled": false,
            "icon": "arrow-right",
            "layout": "IPY_MODEL_edca92a34ea94589a6eae917dd1b0b62",
            "style": "IPY_MODEL_797762f553d24062ad03b2bc967da50a",
            "tooltip": "Next Sample"
          }
        },
        "cdfaba18b0f84422a0b5a437e4857341": {
          "model_module": "@jupyter-widgets/controls",
          "model_name": "DropdownModel",
          "model_module_version": "1.5.0",
          "state": {
            "_dom_classes": [],
            "_model_module": "@jupyter-widgets/controls",
            "_model_module_version": "1.5.0",
            "_model_name": "DropdownModel",
            "_options_labels": [
              "train",
              "val",
              "test"
            ],
            "_view_count": null,
            "_view_module": "@jupyter-widgets/controls",
            "_view_module_version": "1.5.0",
            "_view_name": "DropdownView",
            "description": "Splits",
            "description_tooltip": null,
            "disabled": false,
            "index": 0,
            "layout": "IPY_MODEL_e51de64bba3c496490f001e40bb01358",
            "style": "IPY_MODEL_07ddf0444e8049579b14d4acec76115c"
          }
        },
        "f7b6ba7dd8994b2fb7c4bbbf66ef8d2c": {
          "model_module": "@jupyter-widgets/base",
          "model_name": "LayoutModel",
          "model_module_version": "1.2.0",
          "state": {
            "_model_module": "@jupyter-widgets/base",
            "_model_module_version": "1.2.0",
            "_model_name": "LayoutModel",
            "_view_count": null,
            "_view_module": "@jupyter-widgets/base",
            "_view_module_version": "1.2.0",
            "_view_name": "LayoutView",
            "align_content": null,
            "align_items": null,
            "align_self": null,
            "border": null,
            "bottom": null,
            "display": null,
            "flex": null,
            "flex_flow": null,
            "grid_area": null,
            "grid_auto_columns": null,
            "grid_auto_flow": null,
            "grid_auto_rows": null,
            "grid_column": null,
            "grid_gap": null,
            "grid_row": null,
            "grid_template_areas": null,
            "grid_template_columns": null,
            "grid_template_rows": null,
            "height": null,
            "justify_content": null,
            "justify_items": null,
            "left": null,
            "margin": null,
            "max_height": null,
            "max_width": null,
            "min_height": null,
            "min_width": null,
            "object_fit": null,
            "object_position": null,
            "order": null,
            "overflow": null,
            "overflow_x": null,
            "overflow_y": null,
            "padding": null,
            "right": null,
            "top": null,
            "visibility": null,
            "width": null
          }
        },
        "d80c514cf46f4f4f9e7bc0891ebc3197": {
          "model_module": "@jupyter-widgets/controls",
          "model_name": "TextModel",
          "model_module_version": "1.5.0",
          "state": {
            "_dom_classes": [],
            "_model_module": "@jupyter-widgets/controls",
            "_model_module_version": "1.5.0",
            "_model_name": "TextModel",
            "_view_count": null,
            "_view_module": "@jupyter-widgets/controls",
            "_view_module_version": "1.5.0",
            "_view_name": "TextView",
            "continuous_update": true,
            "description": "Label:",
            "description_tooltip": null,
            "disabled": false,
            "layout": "IPY_MODEL_3d04c3637b2c4c88abd49d09a958f5a6",
            "placeholder": "Label",
            "style": "IPY_MODEL_147d8523e3ad45688b0b24bdb8173b36",
            "value": "vii"
          }
        },
        "46dbcab04d0f4712b99a4dc29e9bea53": {
          "model_module": "@jupyter-widgets/controls",
          "model_name": "DropdownModel",
          "model_module_version": "1.5.0",
          "state": {
            "_dom_classes": [],
            "_model_module": "@jupyter-widgets/controls",
            "_model_module_version": "1.5.0",
            "_model_name": "DropdownModel",
            "_options_labels": [
              "i",
              "ii",
              "iii",
              "iv",
              "v",
              "vi",
              "vii",
              "viii",
              "ix",
              "x"
            ],
            "_view_count": null,
            "_view_module": "@jupyter-widgets/controls",
            "_view_module_version": "1.5.0",
            "_view_name": "DropdownView",
            "description": "New Label",
            "description_tooltip": null,
            "disabled": false,
            "index": 0,
            "layout": "IPY_MODEL_765b6c5333064186880dbedb3f16f1cf",
            "style": "IPY_MODEL_dd9800b0870244e8bcef5ab41b243747"
          }
        },
        "9add66375cd94ae9bfdc4e3004b1482f": {
          "model_module": "@jupyter-widgets/controls",
          "model_name": "ButtonModel",
          "model_module_version": "1.5.0",
          "state": {
            "_dom_classes": [],
            "_model_module": "@jupyter-widgets/controls",
            "_model_module_version": "1.5.0",
            "_model_name": "ButtonModel",
            "_view_count": null,
            "_view_module": "@jupyter-widgets/controls",
            "_view_module_version": "1.5.0",
            "_view_name": "ButtonView",
            "button_style": "success",
            "description": "Change Label",
            "disabled": false,
            "icon": "check",
            "layout": "IPY_MODEL_36f77a1dd4a74cfcbbfb9881ac06d280",
            "style": "IPY_MODEL_c203110bbc634376b75611aaecdbb6dc",
            "tooltip": "Change Label"
          }
        },
        "3b7c5a81c69a4b77a42459eae0917f6e": {
          "model_module": "@jupyter-widgets/controls",
          "model_name": "ButtonModel",
          "model_module_version": "1.5.0",
          "state": {
            "_dom_classes": [],
            "_model_module": "@jupyter-widgets/controls",
            "_model_module_version": "1.5.0",
            "_model_name": "ButtonModel",
            "_view_count": null,
            "_view_module": "@jupyter-widgets/controls",
            "_view_module_version": "1.5.0",
            "_view_name": "ButtonView",
            "button_style": "danger",
            "description": "Delete",
            "disabled": false,
            "icon": "trash",
            "layout": "IPY_MODEL_a5eecf21e12b438181e118935f44adbb",
            "style": "IPY_MODEL_160cf4d8b273471e86d82abed0259de9",
            "tooltip": "Delete"
          }
        },
        "95e479550d7248b0857165babfd4ab76": {
          "model_module": "@jupyter-widgets/base",
          "model_name": "LayoutModel",
          "model_module_version": "1.2.0",
          "state": {
            "_model_module": "@jupyter-widgets/base",
            "_model_module_version": "1.2.0",
            "_model_name": "LayoutModel",
            "_view_count": null,
            "_view_module": "@jupyter-widgets/base",
            "_view_module_version": "1.2.0",
            "_view_name": "LayoutView",
            "align_content": null,
            "align_items": null,
            "align_self": null,
            "border": null,
            "bottom": null,
            "display": null,
            "flex": null,
            "flex_flow": null,
            "grid_area": null,
            "grid_auto_columns": null,
            "grid_auto_flow": null,
            "grid_auto_rows": null,
            "grid_column": null,
            "grid_gap": null,
            "grid_row": null,
            "grid_template_areas": null,
            "grid_template_columns": null,
            "grid_template_rows": null,
            "height": null,
            "justify_content": null,
            "justify_items": null,
            "left": null,
            "margin": null,
            "max_height": null,
            "max_width": null,
            "min_height": null,
            "min_width": null,
            "object_fit": null,
            "object_position": null,
            "order": null,
            "overflow": null,
            "overflow_x": null,
            "overflow_y": null,
            "padding": null,
            "right": null,
            "top": null,
            "visibility": null,
            "width": null
          }
        },
        "4f6d17e0396547e4952dfb29e787177c": {
          "model_module": "@jupyter-widgets/base",
          "model_name": "LayoutModel",
          "model_module_version": "1.2.0",
          "state": {
            "_model_module": "@jupyter-widgets/base",
            "_model_module_version": "1.2.0",
            "_model_name": "LayoutModel",
            "_view_count": null,
            "_view_module": "@jupyter-widgets/base",
            "_view_module_version": "1.2.0",
            "_view_name": "LayoutView",
            "align_content": null,
            "align_items": null,
            "align_self": null,
            "border": null,
            "bottom": null,
            "display": null,
            "flex": null,
            "flex_flow": null,
            "grid_area": null,
            "grid_auto_columns": null,
            "grid_auto_flow": null,
            "grid_auto_rows": null,
            "grid_column": null,
            "grid_gap": null,
            "grid_row": null,
            "grid_template_areas": null,
            "grid_template_columns": null,
            "grid_template_rows": null,
            "height": null,
            "justify_content": null,
            "justify_items": null,
            "left": null,
            "margin": null,
            "max_height": null,
            "max_width": null,
            "min_height": null,
            "min_width": null,
            "object_fit": null,
            "object_position": null,
            "order": null,
            "overflow": null,
            "overflow_x": null,
            "overflow_y": null,
            "padding": null,
            "right": null,
            "top": null,
            "visibility": null,
            "width": null
          }
        },
        "05ecc1055dd6401f983f82d34623d89f": {
          "model_module": "@jupyter-widgets/controls",
          "model_name": "ButtonStyleModel",
          "model_module_version": "1.5.0",
          "state": {
            "_model_module": "@jupyter-widgets/controls",
            "_model_module_version": "1.5.0",
            "_model_name": "ButtonStyleModel",
            "_view_count": null,
            "_view_module": "@jupyter-widgets/base",
            "_view_module_version": "1.2.0",
            "_view_name": "StyleView",
            "button_color": null,
            "font_weight": ""
          }
        },
        "847207df2e5440e3a9cf67a2d1bc9d92": {
          "model_module": "@jupyter-widgets/base",
          "model_name": "LayoutModel",
          "model_module_version": "1.2.0",
          "state": {
            "_model_module": "@jupyter-widgets/base",
            "_model_module_version": "1.2.0",
            "_model_name": "LayoutModel",
            "_view_count": null,
            "_view_module": "@jupyter-widgets/base",
            "_view_module_version": "1.2.0",
            "_view_name": "LayoutView",
            "align_content": null,
            "align_items": null,
            "align_self": null,
            "border": null,
            "bottom": null,
            "display": null,
            "flex": null,
            "flex_flow": null,
            "grid_area": null,
            "grid_auto_columns": null,
            "grid_auto_flow": null,
            "grid_auto_rows": null,
            "grid_column": null,
            "grid_gap": null,
            "grid_row": null,
            "grid_template_areas": null,
            "grid_template_columns": null,
            "grid_template_rows": null,
            "height": null,
            "justify_content": null,
            "justify_items": null,
            "left": null,
            "margin": null,
            "max_height": null,
            "max_width": null,
            "min_height": null,
            "min_width": null,
            "object_fit": null,
            "object_position": null,
            "order": null,
            "overflow": null,
            "overflow_x": null,
            "overflow_y": null,
            "padding": null,
            "right": null,
            "top": null,
            "visibility": null,
            "width": null
          }
        },
        "9fa359797b8f4049bf9fad831cc41c62": {
          "model_module": "@jupyter-widgets/controls",
          "model_name": "SliderStyleModel",
          "model_module_version": "1.5.0",
          "state": {
            "_model_module": "@jupyter-widgets/controls",
            "_model_module_version": "1.5.0",
            "_model_name": "SliderStyleModel",
            "_view_count": null,
            "_view_module": "@jupyter-widgets/base",
            "_view_module_version": "1.2.0",
            "_view_name": "StyleView",
            "description_width": "",
            "handle_color": null
          }
        },
        "edca92a34ea94589a6eae917dd1b0b62": {
          "model_module": "@jupyter-widgets/base",
          "model_name": "LayoutModel",
          "model_module_version": "1.2.0",
          "state": {
            "_model_module": "@jupyter-widgets/base",
            "_model_module_version": "1.2.0",
            "_model_name": "LayoutModel",
            "_view_count": null,
            "_view_module": "@jupyter-widgets/base",
            "_view_module_version": "1.2.0",
            "_view_name": "LayoutView",
            "align_content": null,
            "align_items": null,
            "align_self": null,
            "border": null,
            "bottom": null,
            "display": null,
            "flex": null,
            "flex_flow": null,
            "grid_area": null,
            "grid_auto_columns": null,
            "grid_auto_flow": null,
            "grid_auto_rows": null,
            "grid_column": null,
            "grid_gap": null,
            "grid_row": null,
            "grid_template_areas": null,
            "grid_template_columns": null,
            "grid_template_rows": null,
            "height": null,
            "justify_content": null,
            "justify_items": null,
            "left": null,
            "margin": null,
            "max_height": null,
            "max_width": null,
            "min_height": null,
            "min_width": null,
            "object_fit": null,
            "object_position": null,
            "order": null,
            "overflow": null,
            "overflow_x": null,
            "overflow_y": null,
            "padding": null,
            "right": null,
            "top": null,
            "visibility": null,
            "width": null
          }
        },
        "797762f553d24062ad03b2bc967da50a": {
          "model_module": "@jupyter-widgets/controls",
          "model_name": "ButtonStyleModel",
          "model_module_version": "1.5.0",
          "state": {
            "_model_module": "@jupyter-widgets/controls",
            "_model_module_version": "1.5.0",
            "_model_name": "ButtonStyleModel",
            "_view_count": null,
            "_view_module": "@jupyter-widgets/base",
            "_view_module_version": "1.2.0",
            "_view_name": "StyleView",
            "button_color": null,
            "font_weight": ""
          }
        },
        "e51de64bba3c496490f001e40bb01358": {
          "model_module": "@jupyter-widgets/base",
          "model_name": "LayoutModel",
          "model_module_version": "1.2.0",
          "state": {
            "_model_module": "@jupyter-widgets/base",
            "_model_module_version": "1.2.0",
            "_model_name": "LayoutModel",
            "_view_count": null,
            "_view_module": "@jupyter-widgets/base",
            "_view_module_version": "1.2.0",
            "_view_name": "LayoutView",
            "align_content": null,
            "align_items": null,
            "align_self": null,
            "border": null,
            "bottom": null,
            "display": null,
            "flex": null,
            "flex_flow": null,
            "grid_area": null,
            "grid_auto_columns": null,
            "grid_auto_flow": null,
            "grid_auto_rows": null,
            "grid_column": null,
            "grid_gap": null,
            "grid_row": null,
            "grid_template_areas": null,
            "grid_template_columns": null,
            "grid_template_rows": null,
            "height": null,
            "justify_content": null,
            "justify_items": null,
            "left": null,
            "margin": null,
            "max_height": null,
            "max_width": null,
            "min_height": null,
            "min_width": null,
            "object_fit": null,
            "object_position": null,
            "order": null,
            "overflow": null,
            "overflow_x": null,
            "overflow_y": null,
            "padding": null,
            "right": null,
            "top": null,
            "visibility": null,
            "width": null
          }
        },
        "07ddf0444e8049579b14d4acec76115c": {
          "model_module": "@jupyter-widgets/controls",
          "model_name": "DescriptionStyleModel",
          "model_module_version": "1.5.0",
          "state": {
            "_model_module": "@jupyter-widgets/controls",
            "_model_module_version": "1.5.0",
            "_model_name": "DescriptionStyleModel",
            "_view_count": null,
            "_view_module": "@jupyter-widgets/base",
            "_view_module_version": "1.2.0",
            "_view_name": "StyleView",
            "description_width": ""
          }
        },
        "3d04c3637b2c4c88abd49d09a958f5a6": {
          "model_module": "@jupyter-widgets/base",
          "model_name": "LayoutModel",
          "model_module_version": "1.2.0",
          "state": {
            "_model_module": "@jupyter-widgets/base",
            "_model_module_version": "1.2.0",
            "_model_name": "LayoutModel",
            "_view_count": null,
            "_view_module": "@jupyter-widgets/base",
            "_view_module_version": "1.2.0",
            "_view_name": "LayoutView",
            "align_content": null,
            "align_items": null,
            "align_self": null,
            "border": null,
            "bottom": null,
            "display": null,
            "flex": null,
            "flex_flow": null,
            "grid_area": null,
            "grid_auto_columns": null,
            "grid_auto_flow": null,
            "grid_auto_rows": null,
            "grid_column": null,
            "grid_gap": null,
            "grid_row": null,
            "grid_template_areas": null,
            "grid_template_columns": null,
            "grid_template_rows": null,
            "height": null,
            "justify_content": null,
            "justify_items": null,
            "left": null,
            "margin": null,
            "max_height": null,
            "max_width": null,
            "min_height": null,
            "min_width": null,
            "object_fit": null,
            "object_position": null,
            "order": null,
            "overflow": null,
            "overflow_x": null,
            "overflow_y": null,
            "padding": null,
            "right": null,
            "top": null,
            "visibility": null,
            "width": null
          }
        },
        "147d8523e3ad45688b0b24bdb8173b36": {
          "model_module": "@jupyter-widgets/controls",
          "model_name": "DescriptionStyleModel",
          "model_module_version": "1.5.0",
          "state": {
            "_model_module": "@jupyter-widgets/controls",
            "_model_module_version": "1.5.0",
            "_model_name": "DescriptionStyleModel",
            "_view_count": null,
            "_view_module": "@jupyter-widgets/base",
            "_view_module_version": "1.2.0",
            "_view_name": "StyleView",
            "description_width": ""
          }
        },
        "765b6c5333064186880dbedb3f16f1cf": {
          "model_module": "@jupyter-widgets/base",
          "model_name": "LayoutModel",
          "model_module_version": "1.2.0",
          "state": {
            "_model_module": "@jupyter-widgets/base",
            "_model_module_version": "1.2.0",
            "_model_name": "LayoutModel",
            "_view_count": null,
            "_view_module": "@jupyter-widgets/base",
            "_view_module_version": "1.2.0",
            "_view_name": "LayoutView",
            "align_content": null,
            "align_items": null,
            "align_self": null,
            "border": null,
            "bottom": null,
            "display": null,
            "flex": null,
            "flex_flow": null,
            "grid_area": null,
            "grid_auto_columns": null,
            "grid_auto_flow": null,
            "grid_auto_rows": null,
            "grid_column": null,
            "grid_gap": null,
            "grid_row": null,
            "grid_template_areas": null,
            "grid_template_columns": null,
            "grid_template_rows": null,
            "height": null,
            "justify_content": null,
            "justify_items": null,
            "left": null,
            "margin": null,
            "max_height": null,
            "max_width": null,
            "min_height": null,
            "min_width": null,
            "object_fit": null,
            "object_position": null,
            "order": null,
            "overflow": null,
            "overflow_x": null,
            "overflow_y": null,
            "padding": null,
            "right": null,
            "top": null,
            "visibility": null,
            "width": null
          }
        },
        "dd9800b0870244e8bcef5ab41b243747": {
          "model_module": "@jupyter-widgets/controls",
          "model_name": "DescriptionStyleModel",
          "model_module_version": "1.5.0",
          "state": {
            "_model_module": "@jupyter-widgets/controls",
            "_model_module_version": "1.5.0",
            "_model_name": "DescriptionStyleModel",
            "_view_count": null,
            "_view_module": "@jupyter-widgets/base",
            "_view_module_version": "1.2.0",
            "_view_name": "StyleView",
            "description_width": ""
          }
        },
        "36f77a1dd4a74cfcbbfb9881ac06d280": {
          "model_module": "@jupyter-widgets/base",
          "model_name": "LayoutModel",
          "model_module_version": "1.2.0",
          "state": {
            "_model_module": "@jupyter-widgets/base",
            "_model_module_version": "1.2.0",
            "_model_name": "LayoutModel",
            "_view_count": null,
            "_view_module": "@jupyter-widgets/base",
            "_view_module_version": "1.2.0",
            "_view_name": "LayoutView",
            "align_content": null,
            "align_items": null,
            "align_self": null,
            "border": null,
            "bottom": null,
            "display": null,
            "flex": null,
            "flex_flow": null,
            "grid_area": null,
            "grid_auto_columns": null,
            "grid_auto_flow": null,
            "grid_auto_rows": null,
            "grid_column": null,
            "grid_gap": null,
            "grid_row": null,
            "grid_template_areas": null,
            "grid_template_columns": null,
            "grid_template_rows": null,
            "height": null,
            "justify_content": null,
            "justify_items": null,
            "left": null,
            "margin": null,
            "max_height": null,
            "max_width": null,
            "min_height": null,
            "min_width": null,
            "object_fit": null,
            "object_position": null,
            "order": null,
            "overflow": null,
            "overflow_x": null,
            "overflow_y": null,
            "padding": null,
            "right": null,
            "top": null,
            "visibility": null,
            "width": null
          }
        },
        "c203110bbc634376b75611aaecdbb6dc": {
          "model_module": "@jupyter-widgets/controls",
          "model_name": "ButtonStyleModel",
          "model_module_version": "1.5.0",
          "state": {
            "_model_module": "@jupyter-widgets/controls",
            "_model_module_version": "1.5.0",
            "_model_name": "ButtonStyleModel",
            "_view_count": null,
            "_view_module": "@jupyter-widgets/base",
            "_view_module_version": "1.2.0",
            "_view_name": "StyleView",
            "button_color": null,
            "font_weight": ""
          }
        },
        "a5eecf21e12b438181e118935f44adbb": {
          "model_module": "@jupyter-widgets/base",
          "model_name": "LayoutModel",
          "model_module_version": "1.2.0",
          "state": {
            "_model_module": "@jupyter-widgets/base",
            "_model_module_version": "1.2.0",
            "_model_name": "LayoutModel",
            "_view_count": null,
            "_view_module": "@jupyter-widgets/base",
            "_view_module_version": "1.2.0",
            "_view_name": "LayoutView",
            "align_content": null,
            "align_items": null,
            "align_self": null,
            "border": null,
            "bottom": null,
            "display": null,
            "flex": null,
            "flex_flow": null,
            "grid_area": null,
            "grid_auto_columns": null,
            "grid_auto_flow": null,
            "grid_auto_rows": null,
            "grid_column": null,
            "grid_gap": null,
            "grid_row": null,
            "grid_template_areas": null,
            "grid_template_columns": null,
            "grid_template_rows": null,
            "height": null,
            "justify_content": null,
            "justify_items": null,
            "left": null,
            "margin": null,
            "max_height": null,
            "max_width": null,
            "min_height": null,
            "min_width": null,
            "object_fit": null,
            "object_position": null,
            "order": null,
            "overflow": null,
            "overflow_x": null,
            "overflow_y": null,
            "padding": null,
            "right": null,
            "top": null,
            "visibility": null,
            "width": null
          }
        },
        "160cf4d8b273471e86d82abed0259de9": {
          "model_module": "@jupyter-widgets/controls",
          "model_name": "ButtonStyleModel",
          "model_module_version": "1.5.0",
          "state": {
            "_model_module": "@jupyter-widgets/controls",
            "_model_module_version": "1.5.0",
            "_model_name": "ButtonStyleModel",
            "_view_count": null,
            "_view_module": "@jupyter-widgets/base",
            "_view_module_version": "1.2.0",
            "_view_name": "StyleView",
            "button_color": null,
            "font_weight": ""
          }
        },
        "8348e54217b341a4b25d38f73dce6191": {
          "model_module": "@jupyter-widgets/output",
          "model_name": "OutputModel",
          "model_module_version": "1.0.0",
          "state": {
            "_dom_classes": [],
            "_model_module": "@jupyter-widgets/output",
            "_model_module_version": "1.0.0",
            "_model_name": "OutputModel",
            "_view_count": null,
            "_view_module": "@jupyter-widgets/output",
            "_view_module_version": "1.0.0",
            "_view_name": "OutputView",
            "layout": "IPY_MODEL_95fa64e1e9724b8c930ac9108bca7220",
            "msg_id": "",
            "outputs": [
              {
                "output_type": "display_data",
                "data": {
                  "text/plain": "<Figure size 640x640 with 1 Axes>",
                  "image/png": "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\n"
                },
                "metadata": {
                  "needs_background": "light"
                }
              }
            ]
          }
        },
        "95fa64e1e9724b8c930ac9108bca7220": {
          "model_module": "@jupyter-widgets/base",
          "model_name": "LayoutModel",
          "model_module_version": "1.2.0",
          "state": {
            "_model_module": "@jupyter-widgets/base",
            "_model_module_version": "1.2.0",
            "_model_name": "LayoutModel",
            "_view_count": null,
            "_view_module": "@jupyter-widgets/base",
            "_view_module_version": "1.2.0",
            "_view_name": "LayoutView",
            "align_content": null,
            "align_items": null,
            "align_self": null,
            "border": null,
            "bottom": null,
            "display": null,
            "flex": null,
            "flex_flow": null,
            "grid_area": null,
            "grid_auto_columns": null,
            "grid_auto_flow": null,
            "grid_auto_rows": null,
            "grid_column": null,
            "grid_gap": null,
            "grid_row": null,
            "grid_template_areas": null,
            "grid_template_columns": null,
            "grid_template_rows": null,
            "height": null,
            "justify_content": null,
            "justify_items": null,
            "left": null,
            "margin": null,
            "max_height": null,
            "max_width": null,
            "min_height": null,
            "min_width": null,
            "object_fit": null,
            "object_position": null,
            "order": null,
            "overflow": null,
            "overflow_x": null,
            "overflow_y": null,
            "padding": null,
            "right": null,
            "top": null,
            "visibility": null,
            "width": null
          }
        },
        "3c993203f8ea482281b5833ae02f0964": {
          "model_module": "@jupyter-widgets/controls",
          "model_name": "IntSliderModel",
          "model_module_version": "1.5.0",
          "state": {
            "_dom_classes": [],
            "_model_module": "@jupyter-widgets/controls",
            "_model_module_version": "1.5.0",
            "_model_name": "IntSliderModel",
            "_view_count": null,
            "_view_module": "@jupyter-widgets/controls",
            "_view_module_version": "1.5.0",
            "_view_name": "IntSliderView",
            "continuous_update": false,
            "description": "Index:",
            "description_tooltip": null,
            "disabled": false,
            "layout": "IPY_MODEL_7cd3c7dc9fb348ae85bcd2800bfeadcd",
            "max": 933,
            "min": 0,
            "orientation": "horizontal",
            "readout": true,
            "readout_format": "d",
            "step": 1,
            "style": "IPY_MODEL_4f8cf54f78b34adf95a4c87641dd42a8",
            "value": 782
          }
        },
        "7cd3c7dc9fb348ae85bcd2800bfeadcd": {
          "model_module": "@jupyter-widgets/base",
          "model_name": "LayoutModel",
          "model_module_version": "1.2.0",
          "state": {
            "_model_module": "@jupyter-widgets/base",
            "_model_module_version": "1.2.0",
            "_model_name": "LayoutModel",
            "_view_count": null,
            "_view_module": "@jupyter-widgets/base",
            "_view_module_version": "1.2.0",
            "_view_name": "LayoutView",
            "align_content": null,
            "align_items": null,
            "align_self": null,
            "border": null,
            "bottom": null,
            "display": null,
            "flex": null,
            "flex_flow": null,
            "grid_area": null,
            "grid_auto_columns": null,
            "grid_auto_flow": null,
            "grid_auto_rows": null,
            "grid_column": null,
            "grid_gap": null,
            "grid_row": null,
            "grid_template_areas": null,
            "grid_template_columns": null,
            "grid_template_rows": null,
            "height": null,
            "justify_content": null,
            "justify_items": null,
            "left": null,
            "margin": null,
            "max_height": null,
            "max_width": null,
            "min_height": null,
            "min_width": null,
            "object_fit": null,
            "object_position": null,
            "order": null,
            "overflow": null,
            "overflow_x": null,
            "overflow_y": null,
            "padding": null,
            "right": null,
            "top": null,
            "visibility": null,
            "width": null
          }
        },
        "4f8cf54f78b34adf95a4c87641dd42a8": {
          "model_module": "@jupyter-widgets/controls",
          "model_name": "SliderStyleModel",
          "model_module_version": "1.5.0",
          "state": {
            "_model_module": "@jupyter-widgets/controls",
            "_model_module_version": "1.5.0",
            "_model_name": "SliderStyleModel",
            "_view_count": null,
            "_view_module": "@jupyter-widgets/base",
            "_view_module_version": "1.2.0",
            "_view_name": "StyleView",
            "description_width": "",
            "handle_color": null
          }
        },
        "dba36ad9941a4cc08807d864ea9bf91c": {
          "model_module": "@jupyter-widgets/controls",
          "model_name": "VBoxModel",
          "model_module_version": "1.5.0",
          "state": {
            "_dom_classes": [],
            "_model_module": "@jupyter-widgets/controls",
            "_model_module_version": "1.5.0",
            "_model_name": "VBoxModel",
            "_view_count": null,
            "_view_module": "@jupyter-widgets/controls",
            "_view_module_version": "1.5.0",
            "_view_name": "VBoxView",
            "box_style": "",
            "children": [
              "IPY_MODEL_2ba1bee7aa7c4793984eb4d10c9bb4b8",
              "IPY_MODEL_47139a2ea7b64f70ac9ae124e374dcd1"
            ],
            "layout": "IPY_MODEL_ea7bcd7004014cdc9964f7174767aa5f"
          }
        },
        "2ba1bee7aa7c4793984eb4d10c9bb4b8": {
          "model_module": "@jupyter-widgets/controls",
          "model_name": "HBoxModel",
          "model_module_version": "1.5.0",
          "state": {
            "_dom_classes": [],
            "_model_module": "@jupyter-widgets/controls",
            "_model_module_version": "1.5.0",
            "_model_name": "HBoxModel",
            "_view_count": null,
            "_view_module": "@jupyter-widgets/controls",
            "_view_module_version": "1.5.0",
            "_view_name": "HBoxView",
            "box_style": "",
            "children": [
              "IPY_MODEL_97934d4a60bc4f299f911eb70487b7ad",
              "IPY_MODEL_d0483184d2a84f849955d13bc0f1d443",
              "IPY_MODEL_324c0186375e4dfca59441d7bfb8088a",
              "IPY_MODEL_0ddc43a3bff34e4caf96b443f63e7b79",
              "IPY_MODEL_58f0c8f0961246a3b3aa6cf20da9962b"
            ],
            "layout": "IPY_MODEL_06d20ff9f8c9422ba196773e736f4211"
          }
        },
        "47139a2ea7b64f70ac9ae124e374dcd1": {
          "model_module": "@jupyter-widgets/controls",
          "model_name": "HBoxModel",
          "model_module_version": "1.5.0",
          "state": {
            "_dom_classes": [],
            "_model_module": "@jupyter-widgets/controls",
            "_model_module_version": "1.5.0",
            "_model_name": "HBoxModel",
            "_view_count": null,
            "_view_module": "@jupyter-widgets/controls",
            "_view_module_version": "1.5.0",
            "_view_name": "HBoxView",
            "box_style": "",
            "children": [
              "IPY_MODEL_ef8ce8cd3cf64453b0aef6b85d1e1d85",
              "IPY_MODEL_056df7638ff7403385a71ec06c246d51",
              "IPY_MODEL_62045596757249fd8f03530be38d8d66",
              "IPY_MODEL_5ec5041d0ac449328c084e5765c7ec90"
            ],
            "layout": "IPY_MODEL_b681a41cd9c34b61af408fd43d1f9fdd"
          }
        },
        "ea7bcd7004014cdc9964f7174767aa5f": {
          "model_module": "@jupyter-widgets/base",
          "model_name": "LayoutModel",
          "model_module_version": "1.2.0",
          "state": {
            "_model_module": "@jupyter-widgets/base",
            "_model_module_version": "1.2.0",
            "_model_name": "LayoutModel",
            "_view_count": null,
            "_view_module": "@jupyter-widgets/base",
            "_view_module_version": "1.2.0",
            "_view_name": "LayoutView",
            "align_content": null,
            "align_items": null,
            "align_self": null,
            "border": null,
            "bottom": null,
            "display": null,
            "flex": null,
            "flex_flow": null,
            "grid_area": null,
            "grid_auto_columns": null,
            "grid_auto_flow": null,
            "grid_auto_rows": null,
            "grid_column": null,
            "grid_gap": null,
            "grid_row": null,
            "grid_template_areas": null,
            "grid_template_columns": null,
            "grid_template_rows": null,
            "height": null,
            "justify_content": null,
            "justify_items": null,
            "left": null,
            "margin": null,
            "max_height": null,
            "max_width": null,
            "min_height": null,
            "min_width": null,
            "object_fit": null,
            "object_position": null,
            "order": null,
            "overflow": null,
            "overflow_x": null,
            "overflow_y": null,
            "padding": null,
            "right": null,
            "top": null,
            "visibility": null,
            "width": null
          }
        },
        "97934d4a60bc4f299f911eb70487b7ad": {
          "model_module": "@jupyter-widgets/controls",
          "model_name": "ButtonModel",
          "model_module_version": "1.5.0",
          "state": {
            "_dom_classes": [],
            "_model_module": "@jupyter-widgets/controls",
            "_model_module_version": "1.5.0",
            "_model_name": "ButtonModel",
            "_view_count": null,
            "_view_module": "@jupyter-widgets/controls",
            "_view_module_version": "1.5.0",
            "_view_name": "ButtonView",
            "button_style": "success",
            "description": "Previous",
            "disabled": false,
            "icon": "arrow-left",
            "layout": "IPY_MODEL_8379776a7f264c46a9ca30f87f56da78",
            "style": "IPY_MODEL_ef6184ea9c314bdf9efbbca996975242",
            "tooltip": "Previous Sample"
          }
        },
        "d0483184d2a84f849955d13bc0f1d443": {
          "model_module": "@jupyter-widgets/controls",
          "model_name": "IntSliderModel",
          "model_module_version": "1.5.0",
          "state": {
            "_dom_classes": [],
            "_model_module": "@jupyter-widgets/controls",
            "_model_module_version": "1.5.0",
            "_model_name": "IntSliderModel",
            "_view_count": null,
            "_view_module": "@jupyter-widgets/controls",
            "_view_module_version": "1.5.0",
            "_view_name": "IntSliderView",
            "continuous_update": false,
            "description": "Index:",
            "description_tooltip": null,
            "disabled": false,
            "layout": "IPY_MODEL_f443b3ffb70f406591ae104878507d9d",
            "max": 2066,
            "min": 0,
            "orientation": "horizontal",
            "readout": true,
            "readout_format": "d",
            "step": 1,
            "style": "IPY_MODEL_a90890f2fcd34446b35a6bfa4b92eb8e",
            "value": 421
          }
        },
        "324c0186375e4dfca59441d7bfb8088a": {
          "model_module": "@jupyter-widgets/controls",
          "model_name": "ButtonModel",
          "model_module_version": "1.5.0",
          "state": {
            "_dom_classes": [],
            "_model_module": "@jupyter-widgets/controls",
            "_model_module_version": "1.5.0",
            "_model_name": "ButtonModel",
            "_view_count": null,
            "_view_module": "@jupyter-widgets/controls",
            "_view_module_version": "1.5.0",
            "_view_name": "ButtonView",
            "button_style": "success",
            "description": "Next",
            "disabled": false,
            "icon": "arrow-right",
            "layout": "IPY_MODEL_f0455993a14f4d5480feb1ae057f1808",
            "style": "IPY_MODEL_fb475b6f85de4ec387b81c7b05e911f1",
            "tooltip": "Next Sample"
          }
        },
        "0ddc43a3bff34e4caf96b443f63e7b79": {
          "model_module": "@jupyter-widgets/controls",
          "model_name": "DropdownModel",
          "model_module_version": "1.5.0",
          "state": {
            "_dom_classes": [],
            "_model_module": "@jupyter-widgets/controls",
            "_model_module_version": "1.5.0",
            "_model_name": "DropdownModel",
            "_options_labels": [
              "train",
              "val",
              "test"
            ],
            "_view_count": null,
            "_view_module": "@jupyter-widgets/controls",
            "_view_module_version": "1.5.0",
            "_view_name": "DropdownView",
            "description": "Splits",
            "description_tooltip": null,
            "disabled": false,
            "index": 0,
            "layout": "IPY_MODEL_7756853a173940f4945f3598a949f002",
            "style": "IPY_MODEL_0f0a85067a86453a863a83df3c3dcd3a"
          }
        },
        "58f0c8f0961246a3b3aa6cf20da9962b": {
          "model_module": "@jupyter-widgets/controls",
          "model_name": "FloatRangeSliderModel",
          "model_module_version": "1.5.0",
          "state": {
            "_dom_classes": [],
            "_model_module": "@jupyter-widgets/controls",
            "_model_module_version": "1.5.0",
            "_model_name": "FloatRangeSliderModel",
            "_view_count": null,
            "_view_module": "@jupyter-widgets/controls",
            "_view_module_version": "1.5.0",
            "_view_name": "FloatRangeSliderView",
            "continuous_update": false,
            "description": "Variance:",
            "description_tooltip": null,
            "disabled": false,
            "layout": "IPY_MODEL_dbbea2a2a2ca4ba495bdefc7cb02ba54",
            "max": 10,
            "min": 0,
            "orientation": "horizontal",
            "readout": true,
            "readout_format": ".2f",
            "step": 0.1,
            "style": "IPY_MODEL_b58af30f04374a59bae31d7bad1f9f26",
            "value": [
              0,
              10
            ]
          }
        },
        "06d20ff9f8c9422ba196773e736f4211": {
          "model_module": "@jupyter-widgets/base",
          "model_name": "LayoutModel",
          "model_module_version": "1.2.0",
          "state": {
            "_model_module": "@jupyter-widgets/base",
            "_model_module_version": "1.2.0",
            "_model_name": "LayoutModel",
            "_view_count": null,
            "_view_module": "@jupyter-widgets/base",
            "_view_module_version": "1.2.0",
            "_view_name": "LayoutView",
            "align_content": null,
            "align_items": null,
            "align_self": null,
            "border": null,
            "bottom": null,
            "display": null,
            "flex": null,
            "flex_flow": null,
            "grid_area": null,
            "grid_auto_columns": null,
            "grid_auto_flow": null,
            "grid_auto_rows": null,
            "grid_column": null,
            "grid_gap": null,
            "grid_row": null,
            "grid_template_areas": null,
            "grid_template_columns": null,
            "grid_template_rows": null,
            "height": null,
            "justify_content": null,
            "justify_items": null,
            "left": null,
            "margin": null,
            "max_height": null,
            "max_width": null,
            "min_height": null,
            "min_width": null,
            "object_fit": null,
            "object_position": null,
            "order": null,
            "overflow": null,
            "overflow_x": null,
            "overflow_y": null,
            "padding": null,
            "right": null,
            "top": null,
            "visibility": null,
            "width": null
          }
        },
        "ef8ce8cd3cf64453b0aef6b85d1e1d85": {
          "model_module": "@jupyter-widgets/controls",
          "model_name": "TextModel",
          "model_module_version": "1.5.0",
          "state": {
            "_dom_classes": [],
            "_model_module": "@jupyter-widgets/controls",
            "_model_module_version": "1.5.0",
            "_model_name": "TextModel",
            "_view_count": null,
            "_view_module": "@jupyter-widgets/controls",
            "_view_module_version": "1.5.0",
            "_view_name": "TextView",
            "continuous_update": true,
            "description": "Label:",
            "description_tooltip": null,
            "disabled": false,
            "layout": "IPY_MODEL_04b11b9b1ba449dc9e60553a44526501",
            "placeholder": "Label",
            "style": "IPY_MODEL_17a2d77aeee34631b3eeb21824545b97",
            "value": "iii  loss_var: 0.019"
          }
        },
        "056df7638ff7403385a71ec06c246d51": {
          "model_module": "@jupyter-widgets/controls",
          "model_name": "DropdownModel",
          "model_module_version": "1.5.0",
          "state": {
            "_dom_classes": [],
            "_model_module": "@jupyter-widgets/controls",
            "_model_module_version": "1.5.0",
            "_model_name": "DropdownModel",
            "_options_labels": [
              "i",
              "ii",
              "iii",
              "iv",
              "v",
              "vi",
              "vii",
              "viii",
              "ix",
              "x"
            ],
            "_view_count": null,
            "_view_module": "@jupyter-widgets/controls",
            "_view_module_version": "1.5.0",
            "_view_name": "DropdownView",
            "description": "New Label",
            "description_tooltip": null,
            "disabled": false,
            "index": 0,
            "layout": "IPY_MODEL_eb3a3073f06d48819b93761ea992a152",
            "style": "IPY_MODEL_9cfaad5f37b94dabb3acca5f931df95d"
          }
        },
        "62045596757249fd8f03530be38d8d66": {
          "model_module": "@jupyter-widgets/controls",
          "model_name": "ButtonModel",
          "model_module_version": "1.5.0",
          "state": {
            "_dom_classes": [],
            "_model_module": "@jupyter-widgets/controls",
            "_model_module_version": "1.5.0",
            "_model_name": "ButtonModel",
            "_view_count": null,
            "_view_module": "@jupyter-widgets/controls",
            "_view_module_version": "1.5.0",
            "_view_name": "ButtonView",
            "button_style": "success",
            "description": "Change Label",
            "disabled": false,
            "icon": "check",
            "layout": "IPY_MODEL_2416c47e33f54ca1a4be8ee5dd44fdbc",
            "style": "IPY_MODEL_3ec831b495424451a7d6ca9ad7cf1b2f",
            "tooltip": "Change Label"
          }
        },
        "5ec5041d0ac449328c084e5765c7ec90": {
          "model_module": "@jupyter-widgets/controls",
          "model_name": "ButtonModel",
          "model_module_version": "1.5.0",
          "state": {
            "_dom_classes": [],
            "_model_module": "@jupyter-widgets/controls",
            "_model_module_version": "1.5.0",
            "_model_name": "ButtonModel",
            "_view_count": null,
            "_view_module": "@jupyter-widgets/controls",
            "_view_module_version": "1.5.0",
            "_view_name": "ButtonView",
            "button_style": "danger",
            "description": "Delete",
            "disabled": false,
            "icon": "trash",
            "layout": "IPY_MODEL_d27c2e1bec4643188666102eefa79e51",
            "style": "IPY_MODEL_e151754afb014add97e64afa12c0ac84",
            "tooltip": "Delete"
          }
        },
        "b681a41cd9c34b61af408fd43d1f9fdd": {
          "model_module": "@jupyter-widgets/base",
          "model_name": "LayoutModel",
          "model_module_version": "1.2.0",
          "state": {
            "_model_module": "@jupyter-widgets/base",
            "_model_module_version": "1.2.0",
            "_model_name": "LayoutModel",
            "_view_count": null,
            "_view_module": "@jupyter-widgets/base",
            "_view_module_version": "1.2.0",
            "_view_name": "LayoutView",
            "align_content": null,
            "align_items": null,
            "align_self": null,
            "border": null,
            "bottom": null,
            "display": null,
            "flex": null,
            "flex_flow": null,
            "grid_area": null,
            "grid_auto_columns": null,
            "grid_auto_flow": null,
            "grid_auto_rows": null,
            "grid_column": null,
            "grid_gap": null,
            "grid_row": null,
            "grid_template_areas": null,
            "grid_template_columns": null,
            "grid_template_rows": null,
            "height": null,
            "justify_content": null,
            "justify_items": null,
            "left": null,
            "margin": null,
            "max_height": null,
            "max_width": null,
            "min_height": null,
            "min_width": null,
            "object_fit": null,
            "object_position": null,
            "order": null,
            "overflow": null,
            "overflow_x": null,
            "overflow_y": null,
            "padding": null,
            "right": null,
            "top": null,
            "visibility": null,
            "width": null
          }
        },
        "8379776a7f264c46a9ca30f87f56da78": {
          "model_module": "@jupyter-widgets/base",
          "model_name": "LayoutModel",
          "model_module_version": "1.2.0",
          "state": {
            "_model_module": "@jupyter-widgets/base",
            "_model_module_version": "1.2.0",
            "_model_name": "LayoutModel",
            "_view_count": null,
            "_view_module": "@jupyter-widgets/base",
            "_view_module_version": "1.2.0",
            "_view_name": "LayoutView",
            "align_content": null,
            "align_items": null,
            "align_self": null,
            "border": null,
            "bottom": null,
            "display": null,
            "flex": null,
            "flex_flow": null,
            "grid_area": null,
            "grid_auto_columns": null,
            "grid_auto_flow": null,
            "grid_auto_rows": null,
            "grid_column": null,
            "grid_gap": null,
            "grid_row": null,
            "grid_template_areas": null,
            "grid_template_columns": null,
            "grid_template_rows": null,
            "height": null,
            "justify_content": null,
            "justify_items": null,
            "left": null,
            "margin": null,
            "max_height": null,
            "max_width": null,
            "min_height": null,
            "min_width": null,
            "object_fit": null,
            "object_position": null,
            "order": null,
            "overflow": null,
            "overflow_x": null,
            "overflow_y": null,
            "padding": null,
            "right": null,
            "top": null,
            "visibility": null,
            "width": null
          }
        },
        "ef6184ea9c314bdf9efbbca996975242": {
          "model_module": "@jupyter-widgets/controls",
          "model_name": "ButtonStyleModel",
          "model_module_version": "1.5.0",
          "state": {
            "_model_module": "@jupyter-widgets/controls",
            "_model_module_version": "1.5.0",
            "_model_name": "ButtonStyleModel",
            "_view_count": null,
            "_view_module": "@jupyter-widgets/base",
            "_view_module_version": "1.2.0",
            "_view_name": "StyleView",
            "button_color": null,
            "font_weight": ""
          }
        },
        "f443b3ffb70f406591ae104878507d9d": {
          "model_module": "@jupyter-widgets/base",
          "model_name": "LayoutModel",
          "model_module_version": "1.2.0",
          "state": {
            "_model_module": "@jupyter-widgets/base",
            "_model_module_version": "1.2.0",
            "_model_name": "LayoutModel",
            "_view_count": null,
            "_view_module": "@jupyter-widgets/base",
            "_view_module_version": "1.2.0",
            "_view_name": "LayoutView",
            "align_content": null,
            "align_items": null,
            "align_self": null,
            "border": null,
            "bottom": null,
            "display": null,
            "flex": null,
            "flex_flow": null,
            "grid_area": null,
            "grid_auto_columns": null,
            "grid_auto_flow": null,
            "grid_auto_rows": null,
            "grid_column": null,
            "grid_gap": null,
            "grid_row": null,
            "grid_template_areas": null,
            "grid_template_columns": null,
            "grid_template_rows": null,
            "height": null,
            "justify_content": null,
            "justify_items": null,
            "left": null,
            "margin": null,
            "max_height": null,
            "max_width": null,
            "min_height": null,
            "min_width": null,
            "object_fit": null,
            "object_position": null,
            "order": null,
            "overflow": null,
            "overflow_x": null,
            "overflow_y": null,
            "padding": null,
            "right": null,
            "top": null,
            "visibility": null,
            "width": null
          }
        },
        "a90890f2fcd34446b35a6bfa4b92eb8e": {
          "model_module": "@jupyter-widgets/controls",
          "model_name": "SliderStyleModel",
          "model_module_version": "1.5.0",
          "state": {
            "_model_module": "@jupyter-widgets/controls",
            "_model_module_version": "1.5.0",
            "_model_name": "SliderStyleModel",
            "_view_count": null,
            "_view_module": "@jupyter-widgets/base",
            "_view_module_version": "1.2.0",
            "_view_name": "StyleView",
            "description_width": "",
            "handle_color": null
          }
        },
        "f0455993a14f4d5480feb1ae057f1808": {
          "model_module": "@jupyter-widgets/base",
          "model_name": "LayoutModel",
          "model_module_version": "1.2.0",
          "state": {
            "_model_module": "@jupyter-widgets/base",
            "_model_module_version": "1.2.0",
            "_model_name": "LayoutModel",
            "_view_count": null,
            "_view_module": "@jupyter-widgets/base",
            "_view_module_version": "1.2.0",
            "_view_name": "LayoutView",
            "align_content": null,
            "align_items": null,
            "align_self": null,
            "border": null,
            "bottom": null,
            "display": null,
            "flex": null,
            "flex_flow": null,
            "grid_area": null,
            "grid_auto_columns": null,
            "grid_auto_flow": null,
            "grid_auto_rows": null,
            "grid_column": null,
            "grid_gap": null,
            "grid_row": null,
            "grid_template_areas": null,
            "grid_template_columns": null,
            "grid_template_rows": null,
            "height": null,
            "justify_content": null,
            "justify_items": null,
            "left": null,
            "margin": null,
            "max_height": null,
            "max_width": null,
            "min_height": null,
            "min_width": null,
            "object_fit": null,
            "object_position": null,
            "order": null,
            "overflow": null,
            "overflow_x": null,
            "overflow_y": null,
            "padding": null,
            "right": null,
            "top": null,
            "visibility": null,
            "width": null
          }
        },
        "fb475b6f85de4ec387b81c7b05e911f1": {
          "model_module": "@jupyter-widgets/controls",
          "model_name": "ButtonStyleModel",
          "model_module_version": "1.5.0",
          "state": {
            "_model_module": "@jupyter-widgets/controls",
            "_model_module_version": "1.5.0",
            "_model_name": "ButtonStyleModel",
            "_view_count": null,
            "_view_module": "@jupyter-widgets/base",
            "_view_module_version": "1.2.0",
            "_view_name": "StyleView",
            "button_color": null,
            "font_weight": ""
          }
        },
        "7756853a173940f4945f3598a949f002": {
          "model_module": "@jupyter-widgets/base",
          "model_name": "LayoutModel",
          "model_module_version": "1.2.0",
          "state": {
            "_model_module": "@jupyter-widgets/base",
            "_model_module_version": "1.2.0",
            "_model_name": "LayoutModel",
            "_view_count": null,
            "_view_module": "@jupyter-widgets/base",
            "_view_module_version": "1.2.0",
            "_view_name": "LayoutView",
            "align_content": null,
            "align_items": null,
            "align_self": null,
            "border": null,
            "bottom": null,
            "display": null,
            "flex": null,
            "flex_flow": null,
            "grid_area": null,
            "grid_auto_columns": null,
            "grid_auto_flow": null,
            "grid_auto_rows": null,
            "grid_column": null,
            "grid_gap": null,
            "grid_row": null,
            "grid_template_areas": null,
            "grid_template_columns": null,
            "grid_template_rows": null,
            "height": null,
            "justify_content": null,
            "justify_items": null,
            "left": null,
            "margin": null,
            "max_height": null,
            "max_width": null,
            "min_height": null,
            "min_width": null,
            "object_fit": null,
            "object_position": null,
            "order": null,
            "overflow": null,
            "overflow_x": null,
            "overflow_y": null,
            "padding": null,
            "right": null,
            "top": null,
            "visibility": null,
            "width": null
          }
        },
        "0f0a85067a86453a863a83df3c3dcd3a": {
          "model_module": "@jupyter-widgets/controls",
          "model_name": "DescriptionStyleModel",
          "model_module_version": "1.5.0",
          "state": {
            "_model_module": "@jupyter-widgets/controls",
            "_model_module_version": "1.5.0",
            "_model_name": "DescriptionStyleModel",
            "_view_count": null,
            "_view_module": "@jupyter-widgets/base",
            "_view_module_version": "1.2.0",
            "_view_name": "StyleView",
            "description_width": ""
          }
        },
        "dbbea2a2a2ca4ba495bdefc7cb02ba54": {
          "model_module": "@jupyter-widgets/base",
          "model_name": "LayoutModel",
          "model_module_version": "1.2.0",
          "state": {
            "_model_module": "@jupyter-widgets/base",
            "_model_module_version": "1.2.0",
            "_model_name": "LayoutModel",
            "_view_count": null,
            "_view_module": "@jupyter-widgets/base",
            "_view_module_version": "1.2.0",
            "_view_name": "LayoutView",
            "align_content": null,
            "align_items": null,
            "align_self": null,
            "border": null,
            "bottom": null,
            "display": null,
            "flex": null,
            "flex_flow": null,
            "grid_area": null,
            "grid_auto_columns": null,
            "grid_auto_flow": null,
            "grid_auto_rows": null,
            "grid_column": null,
            "grid_gap": null,
            "grid_row": null,
            "grid_template_areas": null,
            "grid_template_columns": null,
            "grid_template_rows": null,
            "height": null,
            "justify_content": null,
            "justify_items": null,
            "left": null,
            "margin": null,
            "max_height": null,
            "max_width": null,
            "min_height": null,
            "min_width": null,
            "object_fit": null,
            "object_position": null,
            "order": null,
            "overflow": null,
            "overflow_x": null,
            "overflow_y": null,
            "padding": null,
            "right": null,
            "top": null,
            "visibility": null,
            "width": null
          }
        },
        "b58af30f04374a59bae31d7bad1f9f26": {
          "model_module": "@jupyter-widgets/controls",
          "model_name": "SliderStyleModel",
          "model_module_version": "1.5.0",
          "state": {
            "_model_module": "@jupyter-widgets/controls",
            "_model_module_version": "1.5.0",
            "_model_name": "SliderStyleModel",
            "_view_count": null,
            "_view_module": "@jupyter-widgets/base",
            "_view_module_version": "1.2.0",
            "_view_name": "StyleView",
            "description_width": "",
            "handle_color": null
          }
        },
        "04b11b9b1ba449dc9e60553a44526501": {
          "model_module": "@jupyter-widgets/base",
          "model_name": "LayoutModel",
          "model_module_version": "1.2.0",
          "state": {
            "_model_module": "@jupyter-widgets/base",
            "_model_module_version": "1.2.0",
            "_model_name": "LayoutModel",
            "_view_count": null,
            "_view_module": "@jupyter-widgets/base",
            "_view_module_version": "1.2.0",
            "_view_name": "LayoutView",
            "align_content": null,
            "align_items": null,
            "align_self": null,
            "border": null,
            "bottom": null,
            "display": null,
            "flex": null,
            "flex_flow": null,
            "grid_area": null,
            "grid_auto_columns": null,
            "grid_auto_flow": null,
            "grid_auto_rows": null,
            "grid_column": null,
            "grid_gap": null,
            "grid_row": null,
            "grid_template_areas": null,
            "grid_template_columns": null,
            "grid_template_rows": null,
            "height": null,
            "justify_content": null,
            "justify_items": null,
            "left": null,
            "margin": null,
            "max_height": null,
            "max_width": null,
            "min_height": null,
            "min_width": null,
            "object_fit": null,
            "object_position": null,
            "order": null,
            "overflow": null,
            "overflow_x": null,
            "overflow_y": null,
            "padding": null,
            "right": null,
            "top": null,
            "visibility": null,
            "width": null
          }
        },
        "17a2d77aeee34631b3eeb21824545b97": {
          "model_module": "@jupyter-widgets/controls",
          "model_name": "DescriptionStyleModel",
          "model_module_version": "1.5.0",
          "state": {
            "_model_module": "@jupyter-widgets/controls",
            "_model_module_version": "1.5.0",
            "_model_name": "DescriptionStyleModel",
            "_view_count": null,
            "_view_module": "@jupyter-widgets/base",
            "_view_module_version": "1.2.0",
            "_view_name": "StyleView",
            "description_width": ""
          }
        },
        "eb3a3073f06d48819b93761ea992a152": {
          "model_module": "@jupyter-widgets/base",
          "model_name": "LayoutModel",
          "model_module_version": "1.2.0",
          "state": {
            "_model_module": "@jupyter-widgets/base",
            "_model_module_version": "1.2.0",
            "_model_name": "LayoutModel",
            "_view_count": null,
            "_view_module": "@jupyter-widgets/base",
            "_view_module_version": "1.2.0",
            "_view_name": "LayoutView",
            "align_content": null,
            "align_items": null,
            "align_self": null,
            "border": null,
            "bottom": null,
            "display": null,
            "flex": null,
            "flex_flow": null,
            "grid_area": null,
            "grid_auto_columns": null,
            "grid_auto_flow": null,
            "grid_auto_rows": null,
            "grid_column": null,
            "grid_gap": null,
            "grid_row": null,
            "grid_template_areas": null,
            "grid_template_columns": null,
            "grid_template_rows": null,
            "height": null,
            "justify_content": null,
            "justify_items": null,
            "left": null,
            "margin": null,
            "max_height": null,
            "max_width": null,
            "min_height": null,
            "min_width": null,
            "object_fit": null,
            "object_position": null,
            "order": null,
            "overflow": null,
            "overflow_x": null,
            "overflow_y": null,
            "padding": null,
            "right": null,
            "top": null,
            "visibility": null,
            "width": null
          }
        },
        "9cfaad5f37b94dabb3acca5f931df95d": {
          "model_module": "@jupyter-widgets/controls",
          "model_name": "DescriptionStyleModel",
          "model_module_version": "1.5.0",
          "state": {
            "_model_module": "@jupyter-widgets/controls",
            "_model_module_version": "1.5.0",
            "_model_name": "DescriptionStyleModel",
            "_view_count": null,
            "_view_module": "@jupyter-widgets/base",
            "_view_module_version": "1.2.0",
            "_view_name": "StyleView",
            "description_width": ""
          }
        },
        "2416c47e33f54ca1a4be8ee5dd44fdbc": {
          "model_module": "@jupyter-widgets/base",
          "model_name": "LayoutModel",
          "model_module_version": "1.2.0",
          "state": {
            "_model_module": "@jupyter-widgets/base",
            "_model_module_version": "1.2.0",
            "_model_name": "LayoutModel",
            "_view_count": null,
            "_view_module": "@jupyter-widgets/base",
            "_view_module_version": "1.2.0",
            "_view_name": "LayoutView",
            "align_content": null,
            "align_items": null,
            "align_self": null,
            "border": null,
            "bottom": null,
            "display": null,
            "flex": null,
            "flex_flow": null,
            "grid_area": null,
            "grid_auto_columns": null,
            "grid_auto_flow": null,
            "grid_auto_rows": null,
            "grid_column": null,
            "grid_gap": null,
            "grid_row": null,
            "grid_template_areas": null,
            "grid_template_columns": null,
            "grid_template_rows": null,
            "height": null,
            "justify_content": null,
            "justify_items": null,
            "left": null,
            "margin": null,
            "max_height": null,
            "max_width": null,
            "min_height": null,
            "min_width": null,
            "object_fit": null,
            "object_position": null,
            "order": null,
            "overflow": null,
            "overflow_x": null,
            "overflow_y": null,
            "padding": null,
            "right": null,
            "top": null,
            "visibility": null,
            "width": null
          }
        },
        "3ec831b495424451a7d6ca9ad7cf1b2f": {
          "model_module": "@jupyter-widgets/controls",
          "model_name": "ButtonStyleModel",
          "model_module_version": "1.5.0",
          "state": {
            "_model_module": "@jupyter-widgets/controls",
            "_model_module_version": "1.5.0",
            "_model_name": "ButtonStyleModel",
            "_view_count": null,
            "_view_module": "@jupyter-widgets/base",
            "_view_module_version": "1.2.0",
            "_view_name": "StyleView",
            "button_color": null,
            "font_weight": ""
          }
        },
        "d27c2e1bec4643188666102eefa79e51": {
          "model_module": "@jupyter-widgets/base",
          "model_name": "LayoutModel",
          "model_module_version": "1.2.0",
          "state": {
            "_model_module": "@jupyter-widgets/base",
            "_model_module_version": "1.2.0",
            "_model_name": "LayoutModel",
            "_view_count": null,
            "_view_module": "@jupyter-widgets/base",
            "_view_module_version": "1.2.0",
            "_view_name": "LayoutView",
            "align_content": null,
            "align_items": null,
            "align_self": null,
            "border": null,
            "bottom": null,
            "display": null,
            "flex": null,
            "flex_flow": null,
            "grid_area": null,
            "grid_auto_columns": null,
            "grid_auto_flow": null,
            "grid_auto_rows": null,
            "grid_column": null,
            "grid_gap": null,
            "grid_row": null,
            "grid_template_areas": null,
            "grid_template_columns": null,
            "grid_template_rows": null,
            "height": null,
            "justify_content": null,
            "justify_items": null,
            "left": null,
            "margin": null,
            "max_height": null,
            "max_width": null,
            "min_height": null,
            "min_width": null,
            "object_fit": null,
            "object_position": null,
            "order": null,
            "overflow": null,
            "overflow_x": null,
            "overflow_y": null,
            "padding": null,
            "right": null,
            "top": null,
            "visibility": null,
            "width": null
          }
        },
        "e151754afb014add97e64afa12c0ac84": {
          "model_module": "@jupyter-widgets/controls",
          "model_name": "ButtonStyleModel",
          "model_module_version": "1.5.0",
          "state": {
            "_model_module": "@jupyter-widgets/controls",
            "_model_module_version": "1.5.0",
            "_model_name": "ButtonStyleModel",
            "_view_count": null,
            "_view_module": "@jupyter-widgets/base",
            "_view_module_version": "1.2.0",
            "_view_name": "StyleView",
            "button_color": null,
            "font_weight": ""
          }
        },
        "4721a7a1ced04363a0cac26a989cce95": {
          "model_module": "@jupyter-widgets/output",
          "model_name": "OutputModel",
          "model_module_version": "1.0.0",
          "state": {
            "_dom_classes": [],
            "_model_module": "@jupyter-widgets/output",
            "_model_module_version": "1.0.0",
            "_model_name": "OutputModel",
            "_view_count": null,
            "_view_module": "@jupyter-widgets/output",
            "_view_module_version": "1.0.0",
            "_view_name": "OutputView",
            "layout": "IPY_MODEL_49baea02e4154d13a53dba70074d9086",
            "msg_id": "",
            "outputs": [
              {
                "output_type": "display_data",
                "data": {
                  "text/plain": "<Figure size 640x640 with 1 Axes>",
                  "image/png": "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\n"
                },
                "metadata": {
                  "needs_background": "light"
                }
              }
            ]
          }
        },
        "49baea02e4154d13a53dba70074d9086": {
          "model_module": "@jupyter-widgets/base",
          "model_name": "LayoutModel",
          "model_module_version": "1.2.0",
          "state": {
            "_model_module": "@jupyter-widgets/base",
            "_model_module_version": "1.2.0",
            "_model_name": "LayoutModel",
            "_view_count": null,
            "_view_module": "@jupyter-widgets/base",
            "_view_module_version": "1.2.0",
            "_view_name": "LayoutView",
            "align_content": null,
            "align_items": null,
            "align_self": null,
            "border": null,
            "bottom": null,
            "display": null,
            "flex": null,
            "flex_flow": null,
            "grid_area": null,
            "grid_auto_columns": null,
            "grid_auto_flow": null,
            "grid_auto_rows": null,
            "grid_column": null,
            "grid_gap": null,
            "grid_row": null,
            "grid_template_areas": null,
            "grid_template_columns": null,
            "grid_template_rows": null,
            "height": null,
            "justify_content": null,
            "justify_items": null,
            "left": null,
            "margin": null,
            "max_height": null,
            "max_width": null,
            "min_height": null,
            "min_width": null,
            "object_fit": null,
            "object_position": null,
            "order": null,
            "overflow": null,
            "overflow_x": null,
            "overflow_y": null,
            "padding": null,
            "right": null,
            "top": null,
            "visibility": null,
            "width": null
          }
        }
      }
    }
  },
  "cells": [
    {
      "cell_type": "markdown",
      "metadata": {
        "id": "view-in-github",
        "colab_type": "text"
      },
      "source": [
        "<a href=\"https://colab.research.google.com/github/Alikerin/Introduction-to-Data-Centric-AI/blob/main/Introduction_to_Data_Centric_AI.ipynb\" target=\"_parent\"><img src=\"https://colab.research.google.com/assets/colab-badge.svg\" alt=\"Open In Colab\"/></a>"
      ]
    },
    {
      "cell_type": "markdown",
      "source": [
        "# Introduction\n",
        "This notebook contains the code for the \"Introduction to Data-Centric AI\" workshop hosted at [AMLD Africa 2022](https://appliedmldays.org/events/amld-africa-2022).\n",
        "\n",
        "In this notebook we would solve the first [Data-Centric AI Competition](https://https-deeplearning-ai.github.io/data-centric-comp/) organized by Deep Learning.AI and Landing AI.\n"
      ],
      "metadata": {
        "id": "25hW1IlSz7Lg"
      }
    },
    {
      "cell_type": "code",
      "source": [
        "#@title Download Data\n",
        "import gdown\n",
        "\n",
        "!rm -rf data_label_corrected\n",
        "!rm -rf data\n",
        "!rm -rf label_book\n",
        "\n",
        "gdown.download(id=\"1hfkG1MR0sHqERFTWY986IA8ASgioT111\", output='data_label_corrected.tar.gz', quiet=True)\n",
        "gdown.download(id=\"102nKEEf8rfdaz9H4rGC7oNWTOOevZnCQ\", output='data.tar.gz', quiet=True)\n",
        "gdown.download(id=\"1HnVydTwTUv-ZkFX-6NGXvxR_6rWRxHBI\", output='label_book.tar.gz', quiet=True)\n",
        "\n",
        "!tar -xzf data_label_corrected.tar.gz\n",
        "!tar -xzf data.tar.gz\n",
        "!tar -xzf label_book.tar.gz\n",
        "\n",
        "!rm data_label_corrected.tar.gz\n",
        "!rm data.tar.gz\n",
        "!rm label_book.tar.gz"
      ],
      "metadata": {
        "cellView": "form",
        "id": "v6FOH54u0KOI"
      },
      "execution_count": 2,
      "outputs": []
    },
    {
      "cell_type": "code",
      "source": [
        "#@title Install Packages\n",
        "!pip -q install dvc[gdrive]\n"
      ],
      "metadata": {
        "colab": {
          "base_uri": "https://localhost:8080/"
        },
        "cellView": "form",
        "id": "hGWcx6df9YQD",
        "outputId": "d227ee76-c070-4465-98b8-597696437f08"
      },
      "execution_count": 3,
      "outputs": [
        {
          "output_type": "stream",
          "name": "stdout",
          "text": [
            "\u001b[K     |████████████████████████████████| 401 kB 14.7 MB/s \n",
            "\u001b[K     |████████████████████████████████| 44 kB 2.9 MB/s \n",
            "\u001b[K     |████████████████████████████████| 40 kB 6.2 MB/s \n",
            "\u001b[K     |████████████████████████████████| 44 kB 2.8 MB/s \n",
            "\u001b[K     |████████████████████████████████| 291 kB 70.5 MB/s \n",
            "\u001b[K     |████████████████████████████████| 109 kB 72.5 MB/s \n",
            "\u001b[K     |████████████████████████████████| 237 kB 73.7 MB/s \n",
            "\u001b[K     |████████████████████████████████| 42 kB 1.4 MB/s \n",
            "\u001b[K     |████████████████████████████████| 346 kB 67.5 MB/s \n",
            "\u001b[K     |████████████████████████████████| 498 kB 72.1 MB/s \n",
            "\u001b[K     |████████████████████████████████| 182 kB 63.9 MB/s \n",
            "\u001b[K     |████████████████████████████████| 4.5 MB 61.2 MB/s \n",
            "\u001b[K     |████████████████████████████████| 4.1 MB 45.9 MB/s \n",
            "\u001b[K     |████████████████████████████████| 140 kB 56.7 MB/s \n",
            "\u001b[K     |████████████████████████████████| 63 kB 2.0 MB/s \n",
            "\u001b[K     |████████████████████████████████| 57 kB 5.4 MB/s \n",
            "\u001b[K     |████████████████████████████████| 62 kB 1.7 MB/s \n",
            "\u001b[K     |████████████████████████████████| 96 kB 6.1 MB/s \n",
            "\u001b[K     |████████████████████████████████| 321 kB 72.3 MB/s \n",
            "\u001b[K     |████████████████████████████████| 53 kB 1.6 MB/s \n",
            "\u001b[K     |████████████████████████████████| 2.6 MB 54.5 MB/s \n",
            "\u001b[K     |████████████████████████████████| 132 kB 73.7 MB/s \n",
            "\u001b[K     |████████████████████████████████| 79 kB 9.0 MB/s \n",
            "\u001b[K     |████████████████████████████████| 9.8 MB 59.0 MB/s \n",
            "\u001b[K     |████████████████████████████████| 51 kB 8.0 MB/s \n",
            "\u001b[K     |████████████████████████████████| 500 kB 72.9 MB/s \n",
            "\u001b[?25h  Building wheel for configobj (setup.py) ... \u001b[?25l\u001b[?25hdone\n",
            "  Building wheel for nanotime (setup.py) ... \u001b[?25l\u001b[?25hdone\n",
            "  Building wheel for mailchecker (setup.py) ... \u001b[?25l\u001b[?25hdone\n"
          ]
        }
      ]
    },
    {
      "cell_type": "markdown",
      "source": [
        "# Part 1 - Establish a Baseline\n",
        "To establish a baseline performance, we simply train the model on the original version of data"
      ],
      "metadata": {
        "id": "4T9RRnwY0CYn"
      }
    },
    {
      "cell_type": "code",
      "execution_count": null,
      "metadata": {
        "id": "mXnCSGD8wvns"
      },
      "outputs": [],
      "source": [
        "import tensorflow as tf\n",
        "from tensorflow import keras\n",
        "import numpy as np\n",
        "import json\n",
        "import sys\n"
      ]
    },
    {
      "cell_type": "code",
      "source": [
        "train_val_directory = \"data\"\n",
        "test_directory = \"label_book\"\n",
        "\n",
        "batch_size = 8\n",
        "tf.random.set_seed(123)\n",
        "\n",
        "labels = [\"i\", \"ii\", \"iii\", \"iv\", \"v\", \"vi\", \"vii\", \"viii\", \"ix\", \"x\"]\n"
      ],
      "metadata": {
        "id": "zVAmodLPxvJc"
      },
      "execution_count": null,
      "outputs": []
    },
    {
      "cell_type": "code",
      "source": [
        "train = tf.keras.preprocessing.image_dataset_from_directory(\n",
        "    train_val_directory + '/train',\n",
        "    labels=\"inferred\",\n",
        "    label_mode=\"categorical\",\n",
        "    class_names=labels,\n",
        "    shuffle=True,\n",
        "    seed=123,\n",
        "    batch_size=batch_size,\n",
        "    image_size=(32, 32),\n",
        ")\n",
        "\n",
        "valid = tf.keras.preprocessing.image_dataset_from_directory(\n",
        "    train_val_directory + '/val',\n",
        "    labels=\"inferred\",\n",
        "    label_mode=\"categorical\",\n",
        "    class_names=labels,\n",
        "    shuffle=False,\n",
        "    seed=123,\n",
        "    batch_size=batch_size,\n",
        "    image_size=(32, 32),\n",
        ")\n",
        "\n",
        "total_length = ((train.cardinality() + valid.cardinality()) * batch_size).numpy()\n",
        "if total_length > 10_000:\n",
        "    print(f\"Dataset size larger than 10,000. Got {total_length} examples\")\n",
        "    sys.exit()\n",
        "\n",
        "test = tf.keras.preprocessing.image_dataset_from_directory(\n",
        "    test_directory,\n",
        "    labels=\"inferred\",\n",
        "    label_mode=\"categorical\",\n",
        "    class_names=labels,\n",
        "    shuffle=False,\n",
        "    seed=123,\n",
        "    batch_size=batch_size,\n",
        "    image_size=(32, 32),\n",
        ")"
      ],
      "metadata": {
        "colab": {
          "base_uri": "https://localhost:8080/"
        },
        "id": "CqjbZ_-BxxsF",
        "outputId": "9df2e652-61c9-4806-d194-7c206fa881c8"
      },
      "execution_count": null,
      "outputs": [
        {
          "output_type": "stream",
          "name": "stdout",
          "text": [
            "Found 2067 files belonging to 10 classes.\n",
            "Found 813 files belonging to 10 classes.\n",
            "Found 52 files belonging to 10 classes.\n"
          ]
        }
      ]
    },
    {
      "cell_type": "code",
      "source": [
        "base_model = tf.keras.applications.ResNet50(\n",
        "    input_shape=(32, 32, 3),\n",
        "    include_top=False,\n",
        "    weights=None,\n",
        ")\n",
        "base_model = tf.keras.Model(\n",
        "    base_model.inputs, outputs=[base_model.get_layer(\"conv2_block3_out\").output]\n",
        ")\n",
        "\n",
        "inputs = tf.keras.Input(shape=(32, 32, 3))\n",
        "x = tf.keras.applications.resnet.preprocess_input(inputs)\n",
        "x = base_model(x)\n",
        "x = tf.keras.layers.GlobalAveragePooling2D()(x)\n",
        "x = tf.keras.layers.Dense(10)(x)\n",
        "model = tf.keras.Model(inputs, x)\n",
        "\n",
        "model.compile(\n",
        "    optimizer=tf.keras.optimizers.Adam(lr=0.0001),\n",
        "    loss=tf.keras.losses.CategoricalCrossentropy(from_logits=True),\n",
        "    metrics=[\"accuracy\"],\n",
        ")\n",
        "model.summary()"
      ],
      "metadata": {
        "colab": {
          "base_uri": "https://localhost:8080/"
        },
        "id": "TU3TsMo2yPa3",
        "outputId": "986623cd-0e7f-48fb-85b1-77d455e5f61d"
      },
      "execution_count": null,
      "outputs": [
        {
          "output_type": "stream",
          "name": "stdout",
          "text": [
            "Model: \"model_1\"\n",
            "_________________________________________________________________\n",
            " Layer (type)                Output Shape              Param #   \n",
            "=================================================================\n",
            " input_2 (InputLayer)        [(None, 32, 32, 3)]       0         \n",
            "                                                                 \n",
            " tf.__operators__.getitem (S  (None, 32, 32, 3)        0         \n",
            " licingOpLambda)                                                 \n",
            "                                                                 \n",
            " tf.nn.bias_add (TFOpLambda)  (None, 32, 32, 3)        0         \n",
            "                                                                 \n",
            " model (Functional)          (None, 8, 8, 256)         229760    \n",
            "                                                                 \n",
            " global_average_pooling2d (G  (None, 256)              0         \n",
            " lobalAveragePooling2D)                                          \n",
            "                                                                 \n",
            " dense (Dense)               (None, 10)                2570      \n",
            "                                                                 \n",
            "=================================================================\n",
            "Total params: 232,330\n",
            "Trainable params: 229,386\n",
            "Non-trainable params: 2,944\n",
            "_________________________________________________________________\n"
          ]
        },
        {
          "output_type": "stream",
          "name": "stderr",
          "text": [
            "/usr/local/lib/python3.7/dist-packages/keras/optimizers/optimizer_v2/adam.py:110: UserWarning: The `lr` argument is deprecated, use `learning_rate` instead.\n",
            "  super(Adam, self).__init__(name, **kwargs)\n"
          ]
        }
      ]
    },
    {
      "cell_type": "code",
      "source": [
        "checkpoint = tf.keras.callbacks.ModelCheckpoint(\n",
        "    \"ckpt_part_1/best_model\",\n",
        "    monitor=\"val_accuracy\",\n",
        "    mode=\"max\",\n",
        "    save_best_only=True,\n",
        "    save_weights_only=True,\n",
        ")\n",
        "early_stopping = tf.keras.callbacks.EarlyStopping(monitor='val_accuracy', patience=10)\n",
        "\n",
        "history = model.fit(\n",
        "    train,\n",
        "    validation_data=valid,\n",
        "    epochs=100,\n",
        "    callbacks=[checkpoint, early_stopping],\n",
        ")"
      ],
      "metadata": {
        "colab": {
          "base_uri": "https://localhost:8080/"
        },
        "id": "VfOHC1gZySBa",
        "outputId": "85446403-83be-429f-d115-b6707eb12663"
      },
      "execution_count": null,
      "outputs": [
        {
          "output_type": "stream",
          "name": "stdout",
          "text": [
            "Epoch 1/100\n",
            "259/259 [==============================] - 18s 16ms/step - loss: 2.0193 - accuracy: 0.2941 - val_loss: 1.9539 - val_accuracy: 0.2362\n",
            "Epoch 2/100\n",
            "259/259 [==============================] - 4s 14ms/step - loss: 1.4691 - accuracy: 0.5259 - val_loss: 1.5672 - val_accuracy: 0.4256\n",
            "Epoch 3/100\n",
            "259/259 [==============================] - 4s 14ms/step - loss: 1.2227 - accuracy: 0.6067 - val_loss: 1.2651 - val_accuracy: 0.5572\n",
            "Epoch 4/100\n",
            "259/259 [==============================] - 4s 14ms/step - loss: 1.0207 - accuracy: 0.6783 - val_loss: 1.2230 - val_accuracy: 0.5584\n",
            "Epoch 5/100\n",
            "259/259 [==============================] - 4s 14ms/step - loss: 0.8845 - accuracy: 0.7209 - val_loss: 1.0808 - val_accuracy: 0.6421\n",
            "Epoch 6/100\n",
            "259/259 [==============================] - 5s 18ms/step - loss: 0.7898 - accuracy: 0.7547 - val_loss: 1.1367 - val_accuracy: 0.5929\n",
            "Epoch 7/100\n",
            "259/259 [==============================] - 4s 14ms/step - loss: 0.7105 - accuracy: 0.7837 - val_loss: 1.1249 - val_accuracy: 0.6076\n",
            "Epoch 8/100\n",
            "259/259 [==============================] - 3s 13ms/step - loss: 0.5813 - accuracy: 0.8307 - val_loss: 1.3063 - val_accuracy: 0.5326\n",
            "Epoch 9/100\n",
            "259/259 [==============================] - 4s 13ms/step - loss: 0.5198 - accuracy: 0.8515 - val_loss: 1.1036 - val_accuracy: 0.6310\n",
            "Epoch 10/100\n",
            "259/259 [==============================] - 3s 13ms/step - loss: 0.4581 - accuracy: 0.8728 - val_loss: 1.3213 - val_accuracy: 0.5560\n",
            "Epoch 11/100\n",
            "259/259 [==============================] - 4s 13ms/step - loss: 0.3879 - accuracy: 0.8979 - val_loss: 1.2123 - val_accuracy: 0.5830\n",
            "Epoch 12/100\n",
            "259/259 [==============================] - 3s 13ms/step - loss: 0.3494 - accuracy: 0.9071 - val_loss: 1.1394 - val_accuracy: 0.6335\n",
            "Epoch 13/100\n",
            "259/259 [==============================] - 4s 14ms/step - loss: 0.2793 - accuracy: 0.9357 - val_loss: 1.0612 - val_accuracy: 0.6568\n",
            "Epoch 14/100\n",
            "259/259 [==============================] - 3s 13ms/step - loss: 0.2666 - accuracy: 0.9318 - val_loss: 1.2071 - val_accuracy: 0.6285\n",
            "Epoch 15/100\n",
            "259/259 [==============================] - 4s 14ms/step - loss: 0.2025 - accuracy: 0.9652 - val_loss: 1.0316 - val_accuracy: 0.6605\n",
            "Epoch 16/100\n",
            "259/259 [==============================] - 3s 13ms/step - loss: 0.2109 - accuracy: 0.9497 - val_loss: 1.3788 - val_accuracy: 0.5806\n",
            "Epoch 17/100\n",
            "259/259 [==============================] - 3s 13ms/step - loss: 0.1642 - accuracy: 0.9666 - val_loss: 1.5762 - val_accuracy: 0.5523\n",
            "Epoch 18/100\n",
            "259/259 [==============================] - 4s 15ms/step - loss: 0.1613 - accuracy: 0.9661 - val_loss: 1.8973 - val_accuracy: 0.5043\n",
            "Epoch 19/100\n",
            "259/259 [==============================] - 5s 17ms/step - loss: 0.1494 - accuracy: 0.9724 - val_loss: 1.4285 - val_accuracy: 0.5781\n",
            "Epoch 20/100\n",
            "259/259 [==============================] - 4s 14ms/step - loss: 0.1478 - accuracy: 0.9632 - val_loss: 1.4543 - val_accuracy: 0.5769\n",
            "Epoch 21/100\n",
            "259/259 [==============================] - 3s 13ms/step - loss: 0.1315 - accuracy: 0.9729 - val_loss: 1.2520 - val_accuracy: 0.6335\n",
            "Epoch 22/100\n",
            "259/259 [==============================] - 4s 14ms/step - loss: 0.0998 - accuracy: 0.9758 - val_loss: 1.3170 - val_accuracy: 0.6187\n",
            "Epoch 23/100\n",
            "259/259 [==============================] - 3s 13ms/step - loss: 0.1005 - accuracy: 0.9831 - val_loss: 1.3564 - val_accuracy: 0.6150\n",
            "Epoch 24/100\n",
            "259/259 [==============================] - 3s 13ms/step - loss: 0.0925 - accuracy: 0.9811 - val_loss: 1.3535 - val_accuracy: 0.6335\n",
            "Epoch 25/100\n",
            "259/259 [==============================] - 4s 14ms/step - loss: 0.0870 - accuracy: 0.9831 - val_loss: 1.2818 - val_accuracy: 0.6199\n"
          ]
        }
      ]
    },
    {
      "cell_type": "code",
      "source": [
        "import matplotlib.pyplot as plt\n",
        "import seaborn as sns\n",
        "from sklearn.metrics import accuracy_score, confusion_matrix\n",
        "\n",
        "def evaluate_model(model, dataset):\n",
        "    labels = np.concatenate([y.numpy() for x, y in dataset], axis=0).argmax(axis=1)\n",
        "    pred_labels = np.argmax(model.predict(dataset), axis=1)\n",
        "    cm = confusion_matrix(labels, pred_labels)\n",
        "    acc = accuracy_score(labels, pred_labels)\n",
        "    return acc, cm\n",
        "\n",
        "def show_confusion_matrix(cm, labels):\n",
        "    plt.figure(figsize=(10, 8))\n",
        "    sns.heatmap(cm, xticklabels=labels, yticklabels=labels, \n",
        "                annot=True, fmt='g')\n",
        "    plt.xlabel('Prediction')\n",
        "    plt.ylabel('Label')\n",
        "    plt.show()"
      ],
      "metadata": {
        "id": "hJOaPjakyXlB"
      },
      "execution_count": null,
      "outputs": []
    },
    {
      "cell_type": "code",
      "source": [
        "model.load_weights(\"ckpt_part_1/best_model\")"
      ],
      "metadata": {
        "colab": {
          "base_uri": "https://localhost:8080/"
        },
        "id": "75XszJ1xybZv",
        "outputId": "d96f91b8-86d2-411c-e51c-9041e7342cb4"
      },
      "execution_count": null,
      "outputs": [
        {
          "output_type": "execute_result",
          "data": {
            "text/plain": [
              "<tensorflow.python.training.tracking.util.CheckpointLoadStatus at 0x7fcc32295850>"
            ]
          },
          "metadata": {},
          "execution_count": 9
        }
      ]
    },
    {
      "cell_type": "code",
      "source": [
        "val_acc, val_cm = evaluate_model(model, valid)\n",
        "print(f\"Validation Accuracy: {val_acc}\")\n",
        "show_confusion_matrix(val_cm, labels)\n"
      ],
      "metadata": {
        "colab": {
          "base_uri": "https://localhost:8080/",
          "height": 533
        },
        "id": "G8EADjcSycaD",
        "outputId": "fd193a61-cfa7-430a-9b39-ae58b522d468"
      },
      "execution_count": null,
      "outputs": [
        {
          "output_type": "stream",
          "name": "stdout",
          "text": [
            "102/102 [==============================] - 1s 7ms/step\n",
            "Validation Accuracy: 0.6605166051660517\n"
          ]
        },
        {
          "output_type": "display_data",
          "data": {
            "text/plain": [
              "<Figure size 720x576 with 2 Axes>"
            ],
            "image/png": "[encoded data removed]"
          },
          "metadata": {
            "needs_background": "light"
          }
        }
      ]
    },
    {
      "cell_type": "code",
      "source": [
        "test_acc, test_cm = evaluate_model(model, test)\n",
        "print(f\"Test Accuracy: {test_acc}\")\n",
        "show_confusion_matrix(test_cm, labels)\n"
      ],
      "metadata": {
        "colab": {
          "base_uri": "https://localhost:8080/",
          "height": 537
        },
        "id": "lDzifxYSygnn",
        "outputId": "0e24f1a6-8e24-46ff-80ec-db7f1a51afe0"
      },
      "execution_count": null,
      "outputs": [
        {
          "output_type": "stream",
          "name": "stdout",
          "text": [
            "7/7 [==============================] - 0s 18ms/step\n",
            "Test Accuracy: 0.5384615384615384\n"
          ]
        },
        {
          "output_type": "display_data",
          "data": {
            "text/plain": [
              "<Figure size 720x576 with 2 Axes>"
            ],
            "image/png": "[encoded data removed]"
          },
          "metadata": {
            "needs_background": "light"
          }
        }
      ]
    },
    {
      "cell_type": "markdown",
      "source": [
        "## Track Data with DVC\n",
        "To keep track of data provenance, we commit data as code using [DVC](https://dvc.org/). To learn more about DVC, check this [tutorial](https://dvc.org/doc/use-cases/versioning-data-and-models/tutorial).\n",
        "\n",
        "We would begin by committing the first version of the data"
      ],
      "metadata": {
        "id": "KXQFWOd6GGcl"
      }
    },
    {
      "cell_type": "code",
      "source": [
        "!git init\n",
        "!git config --global user.email \"i.yusuf@instadeep.com\"\n",
        "!git config --global user.name \"Ibrahim Salihu Yusuf\""
      ],
      "metadata": {
        "id": "tcPnkKuOCSMf"
      },
      "execution_count": null,
      "outputs": []
    },
    {
      "cell_type": "code",
      "source": [
        "!dvc init"
      ],
      "metadata": {
        "colab": {
          "base_uri": "https://localhost:8080/"
        },
        "id": "AEvKIbyfCWAD",
        "outputId": "9c1dafcf-f399-4149-908f-8c74d1fef9bc"
      },
      "execution_count": null,
      "outputs": [
        {
          "output_type": "stream",
          "name": "stdout",
          "text": [
            "Initialized DVC repository.\n",
            "\n",
            "You can now commit the changes to git.\n",
            "\n",
            "\u001b[31m+---------------------------------------------------------------------+\n",
            "\u001b[0m\u001b[31m|\u001b[0m                                                                     \u001b[31m|\u001b[0m\n",
            "\u001b[31m|\u001b[0m        DVC has enabled anonymous aggregate usage analytics.         \u001b[31m|\u001b[0m\n",
            "\u001b[31m|\u001b[0m     Read the analytics documentation (and how to opt-out) here:     \u001b[31m|\u001b[0m\n",
            "\u001b[31m|\u001b[0m             <\u001b[36mhttps://dvc.org/doc/user-guide/analytics\u001b[39m>              \u001b[31m|\u001b[0m\n",
            "\u001b[31m|\u001b[0m                                                                     \u001b[31m|\u001b[0m\n",
            "\u001b[31m+---------------------------------------------------------------------+\n",
            "\u001b[0m\n",
            "\u001b[33mWhat's next?\u001b[39m\n",
            "\u001b[33m------------\u001b[39m\n",
            "- Check out the documentation: <\u001b[36mhttps://dvc.org/doc\u001b[39m>\n",
            "- Get help and share ideas: <\u001b[36mhttps://dvc.org/chat\u001b[39m>\n",
            "- Star us on GitHub: <\u001b[36mhttps://github.com/iterative/dvc\u001b[39m>\n",
            "\u001b[0m"
          ]
        }
      ]
    },
    {
      "cell_type": "code",
      "source": [
        "# Track data directory\n",
        "!dvc add data # Create data.dvc"
      ],
      "metadata": {
        "id": "Yv88JKnwCfEj"
      },
      "execution_count": null,
      "outputs": []
    },
    {
      "cell_type": "code",
      "source": [
        "!ls"
      ],
      "metadata": {
        "colab": {
          "base_uri": "https://localhost:8080/"
        },
        "id": "9gruBXgVCuVl",
        "outputId": "99e25ad8-8c8c-4782-a768-7511a1f5e3ae"
      },
      "execution_count": null,
      "outputs": [
        {
          "output_type": "stream",
          "name": "stdout",
          "text": [
            "ckpt_part_1  data  data.dvc  data_label_corrected  label_book  sample_data\n"
          ]
        }
      ]
    },
    {
      "cell_type": "code",
      "source": [
        "!cat data.dvc"
      ],
      "metadata": {
        "colab": {
          "base_uri": "https://localhost:8080/"
        },
        "id": "Gt_Gv25_CxDz",
        "outputId": "11e58080-e46c-41a9-b510-ce7c1a267ba4"
      },
      "execution_count": null,
      "outputs": [
        {
          "output_type": "stream",
          "name": "stdout",
          "text": [
            "outs:\n",
            "- md5: fe024fe75f5f74a6a1669c08a3e2d2de.dir\n",
            "  size: 5960945\n",
            "  nfiles: 2884\n",
            "  path: data\n"
          ]
        }
      ]
    },
    {
      "cell_type": "code",
      "source": [
        "!git add data.dvc\n",
        "!git commit -m \"add version_1 data\""
      ],
      "metadata": {
        "colab": {
          "base_uri": "https://localhost:8080/"
        },
        "id": "8mnOaf-1Crov",
        "outputId": "f17cc6b3-5d77-4fdf-b86e-7292115da042"
      },
      "execution_count": null,
      "outputs": [
        {
          "output_type": "stream",
          "name": "stdout",
          "text": [
            "[master (root-commit) fccb847] add version_1 data\n",
            " 4 files changed, 11 insertions(+)\n",
            " create mode 100644 .dvc/.gitignore\n",
            " create mode 100644 .dvc/config\n",
            " create mode 100644 .dvcignore\n",
            " create mode 100644 data.dvc\n"
          ]
        }
      ]
    },
    {
      "cell_type": "code",
      "source": [
        "# Store the data remotely\n",
        "# !dvc remote add -d remote gdrive://1a4AbZ8izazFzPdPD471HqIBMxO2ut6gc #\n",
        "!dvc remote add -d local_remote /tmp/dvcstore"
      ],
      "metadata": {
        "colab": {
          "base_uri": "https://localhost:8080/"
        },
        "id": "B7KOEqDODIxZ",
        "outputId": "c96986ed-9173-446d-cec8-2ecf2c6588c4"
      },
      "execution_count": null,
      "outputs": [
        {
          "output_type": "stream",
          "name": "stdout",
          "text": [
            "Setting 'local_remote' as a default remote.\n",
            "\u001b[0m"
          ]
        }
      ]
    },
    {
      "cell_type": "code",
      "source": [
        "!cat .dvc/config"
      ],
      "metadata": {
        "colab": {
          "base_uri": "https://localhost:8080/"
        },
        "id": "oipfAf1iF1cm",
        "outputId": "b6cc7881-5d81-42fb-e31c-b5fd557f2273"
      },
      "execution_count": null,
      "outputs": [
        {
          "output_type": "stream",
          "name": "stdout",
          "text": [
            "[core]\n",
            "    remote = local_remote\n",
            "['remote \"remote\"']\n",
            "    url = gdrive://1a4AbZ8izazFzPdPD471HqIBMxO2ut6gc\n",
            "['remote \"local_remote\"']\n",
            "    url = /tmp/dvcstore\n"
          ]
        }
      ]
    },
    {
      "cell_type": "code",
      "source": [
        "!dvc push"
      ],
      "metadata": {
        "id": "q4wpime_DZSf"
      },
      "execution_count": null,
      "outputs": []
    },
    {
      "cell_type": "markdown",
      "source": [
        "# Part 2 - Apply Data Augmentation\n",
        "\n",
        "Data augmentation is a process of applying a set of pertubabtion to data samples while preserving the mapping from x -> y.\n",
        "\n",
        "In this part, we would apply rotation, translation and zoom perturbations to each image in an offline manner."
      ],
      "metadata": {
        "id": "K3olVGkc431m"
      }
    },
    {
      "cell_type": "code",
      "source": [
        "import tensorflow as tf\n",
        "from tensorflow import keras\n",
        "import numpy as np\n",
        "import json\n",
        "import sys\n",
        "import os"
      ],
      "metadata": {
        "id": "2Ody49T3428Y"
      },
      "execution_count": null,
      "outputs": []
    },
    {
      "cell_type": "code",
      "source": [
        "train_val_directory = \"data\"\n",
        "test_directory = \"label_book\"\n",
        "\n",
        "batch_size = 8\n",
        "tf.random.set_seed(123)\n",
        "\n",
        "labels = [\"i\", \"ii\", \"iii\", \"iv\", \"v\", \"vi\", \"vii\", \"viii\", \"ix\", \"x\"]"
      ],
      "metadata": {
        "id": "QJxD049z4-AX"
      },
      "execution_count": null,
      "outputs": []
    },
    {
      "cell_type": "markdown",
      "source": [
        "## Data Augmentation\n",
        "\n",
        "We generated **three** augmented samples for each original sample."
      ],
      "metadata": {
        "id": "mPwLmXAQ5GLh"
      }
    },
    {
      "cell_type": "code",
      "source": [
        "from keras.preprocessing.image import ImageDataGenerator\n",
        "from PIL import Image\n",
        "import glob\n",
        "\n",
        "datagen = ImageDataGenerator(\n",
        "    rotation_range=30,          # randomly rotate image by upto 90 deg\n",
        "    width_shift_range=0.2,      # randomly shift along x \n",
        "    height_shift_range=0.2,     # randomly shift along y\n",
        "    zoom_range=0.2,             # zooming\n",
        "    fill_mode='nearest')\n",
        "\n",
        "for label in labels:\n",
        "    i = 0\n",
        "    input_dir = f'data/train/{label}'\n",
        "    image_list = glob.glob(f\"{input_dir}/*.png\")\n",
        "    image_array = np.array([np.array(Image.open(image_name).resize((32, 32)))[:, :, np.newaxis] for image_name in image_list])\n",
        "    out_dir = f'data/train/{label}'\n",
        "    os.makedirs(out_dir, exist_ok=True)\n",
        "    max_images = len(image_array)*3\n",
        "    for batch in datagen.flow(image_array, batch_size=batch_size,\n",
        "                            save_to_dir= out_dir,\n",
        "                            save_prefix='aug',\n",
        "                            save_format='png'):    \n",
        "        i+=len(batch)\n",
        "        if i > max_images:\n",
        "            break"
      ],
      "metadata": {
        "id": "Ohy6xFqE5AQW"
      },
      "execution_count": null,
      "outputs": []
    },
    {
      "cell_type": "code",
      "source": [
        "train = tf.keras.preprocessing.image_dataset_from_directory(\n",
        "    train_val_directory + '/train',\n",
        "    labels=\"inferred\",\n",
        "    label_mode=\"categorical\",\n",
        "    class_names=labels,\n",
        "    shuffle=True,\n",
        "    seed=123,\n",
        "    batch_size=batch_size,\n",
        "    image_size=(32, 32),\n",
        ")\n",
        "\n",
        "valid = tf.keras.preprocessing.image_dataset_from_directory(\n",
        "    train_val_directory + '/val',\n",
        "    labels=\"inferred\",\n",
        "    label_mode=\"categorical\",\n",
        "    class_names=labels,\n",
        "    shuffle=False,\n",
        "    seed=123,\n",
        "    batch_size=batch_size,\n",
        "    image_size=(32, 32),\n",
        ")\n",
        "\n",
        "total_length = ((train.cardinality() + valid.cardinality()) * batch_size).numpy()\n",
        "if total_length > 10_000:\n",
        "    print(f\"Dataset size larger than 10,000. Got {total_length} examples\")\n",
        "    sys.exit()\n",
        "\n",
        "test = tf.keras.preprocessing.image_dataset_from_directory(\n",
        "    test_directory,\n",
        "    labels=\"inferred\",\n",
        "    label_mode=\"categorical\",\n",
        "    class_names=labels,\n",
        "    shuffle=False,\n",
        "    seed=123,\n",
        "    batch_size=batch_size,\n",
        "    image_size=(32, 32),\n",
        ")"
      ],
      "metadata": {
        "colab": {
          "base_uri": "https://localhost:8080/"
        },
        "id": "fI3V9hoz5Omq",
        "outputId": "91057aae-7924-473d-c7c9-03eea634730c"
      },
      "execution_count": null,
      "outputs": [
        {
          "output_type": "stream",
          "name": "stdout",
          "text": [
            "Found 8348 files belonging to 10 classes.\n",
            "Found 813 files belonging to 10 classes.\n",
            "Found 52 files belonging to 10 classes.\n"
          ]
        }
      ]
    },
    {
      "cell_type": "code",
      "source": [
        "base_model = tf.keras.applications.ResNet50(\n",
        "    input_shape=(32, 32, 3),\n",
        "    include_top=False,\n",
        "    weights=None,\n",
        ")\n",
        "base_model = tf.keras.Model(\n",
        "    base_model.inputs, outputs=[base_model.get_layer(\"conv2_block3_out\").output]\n",
        ")\n",
        "\n",
        "inputs = tf.keras.Input(shape=(32, 32, 3))\n",
        "x = tf.keras.applications.resnet.preprocess_input(inputs)\n",
        "x = base_model(x)\n",
        "x = tf.keras.layers.GlobalAveragePooling2D()(x)\n",
        "x = tf.keras.layers.Dense(10)(x)\n",
        "model = tf.keras.Model(inputs, x)\n",
        "\n",
        "model.compile(\n",
        "    optimizer=tf.keras.optimizers.Adam(lr=0.0001),\n",
        "    loss=tf.keras.losses.CategoricalCrossentropy(from_logits=True),\n",
        "    metrics=[\"accuracy\"],\n",
        ")\n",
        "model.summary()"
      ],
      "metadata": {
        "colab": {
          "base_uri": "https://localhost:8080/"
        },
        "id": "-fMC37_d5PjA",
        "outputId": "77032e04-422a-4beb-eead-86f4a2589337"
      },
      "execution_count": null,
      "outputs": [
        {
          "output_type": "stream",
          "name": "stdout",
          "text": [
            "Model: \"model_5\"\n",
            "_________________________________________________________________\n",
            " Layer (type)                Output Shape              Param #   \n",
            "=================================================================\n",
            " input_6 (InputLayer)        [(None, 32, 32, 3)]       0         \n",
            "                                                                 \n",
            " tf.__operators__.getitem_2   (None, 32, 32, 3)        0         \n",
            " (SlicingOpLambda)                                               \n",
            "                                                                 \n",
            " tf.nn.bias_add_2 (TFOpLambd  (None, 32, 32, 3)        0         \n",
            " a)                                                              \n",
            "                                                                 \n",
            " model_4 (Functional)        (None, 8, 8, 256)         229760    \n",
            "                                                                 \n",
            " global_average_pooling2d_2   (None, 256)              0         \n",
            " (GlobalAveragePooling2D)                                        \n",
            "                                                                 \n",
            " dense_2 (Dense)             (None, 10)                2570      \n",
            "                                                                 \n",
            "=================================================================\n",
            "Total params: 232,330\n",
            "Trainable params: 229,386\n",
            "Non-trainable params: 2,944\n",
            "_________________________________________________________________\n"
          ]
        },
        {
          "output_type": "stream",
          "name": "stderr",
          "text": [
            "/usr/local/lib/python3.7/dist-packages/keras/optimizers/optimizer_v2/adam.py:110: UserWarning: The `lr` argument is deprecated, use `learning_rate` instead.\n",
            "  super(Adam, self).__init__(name, **kwargs)\n"
          ]
        }
      ]
    },
    {
      "cell_type": "code",
      "source": [
        "checkpoint = tf.keras.callbacks.ModelCheckpoint(\n",
        "    \"ckpt_part_2/best_model\",\n",
        "    monitor=\"val_accuracy\",\n",
        "    mode=\"max\",\n",
        "    save_best_only=True,\n",
        "    save_weights_only=True,\n",
        ")\n",
        "\n",
        "early_stopping = tf.keras.callbacks.EarlyStopping(monitor='val_accuracy', patience=10)\n",
        "\n",
        "history = model.fit(\n",
        "    train,\n",
        "    validation_data=valid,\n",
        "    epochs=100,\n",
        "    callbacks=[checkpoint, early_stopping],\n",
        ")"
      ],
      "metadata": {
        "colab": {
          "base_uri": "https://localhost:8080/"
        },
        "id": "4d7MLo0S5Wzo",
        "outputId": "0cdbb662-cd77-453a-dd13-f6b8ced7f40e"
      },
      "execution_count": null,
      "outputs": [
        {
          "output_type": "stream",
          "name": "stdout",
          "text": [
            "Epoch 1/100\n",
            "1044/1044 [==============================] - 14s 12ms/step - loss: 1.7933 - accuracy: 0.3789 - val_loss: 1.4681 - val_accuracy: 0.4822\n",
            "Epoch 2/100\n",
            "1044/1044 [==============================] - 11s 10ms/step - loss: 1.2990 - accuracy: 0.5696 - val_loss: 1.4929 - val_accuracy: 0.5141\n",
            "Epoch 3/100\n",
            "1044/1044 [==============================] - 11s 11ms/step - loss: 1.0652 - accuracy: 0.6499 - val_loss: 1.0289 - val_accuracy: 0.6236\n",
            "Epoch 4/100\n",
            "1044/1044 [==============================] - 11s 11ms/step - loss: 0.9212 - accuracy: 0.7046 - val_loss: 0.8969 - val_accuracy: 0.6581\n",
            "Epoch 5/100\n",
            "1044/1044 [==============================] - 12s 11ms/step - loss: 0.8179 - accuracy: 0.7351 - val_loss: 0.7913 - val_accuracy: 0.7331\n",
            "Epoch 6/100\n",
            "1044/1044 [==============================] - 12s 11ms/step - loss: 0.7238 - accuracy: 0.7705 - val_loss: 1.1250 - val_accuracy: 0.6335\n",
            "Epoch 7/100\n",
            "1044/1044 [==============================] - 12s 11ms/step - loss: 0.6604 - accuracy: 0.7881 - val_loss: 0.9381 - val_accuracy: 0.6617\n",
            "Epoch 8/100\n",
            "1044/1044 [==============================] - 12s 11ms/step - loss: 0.5890 - accuracy: 0.8110 - val_loss: 0.7963 - val_accuracy: 0.7208\n",
            "Epoch 9/100\n",
            "1044/1044 [==============================] - 11s 10ms/step - loss: 0.5318 - accuracy: 0.8323 - val_loss: 0.9023 - val_accuracy: 0.7159\n",
            "Epoch 10/100\n",
            "1044/1044 [==============================] - 11s 10ms/step - loss: 0.4752 - accuracy: 0.8561 - val_loss: 0.8863 - val_accuracy: 0.6925\n",
            "Epoch 11/100\n",
            "1044/1044 [==============================] - 11s 11ms/step - loss: 0.4299 - accuracy: 0.8625 - val_loss: 0.7517 - val_accuracy: 0.7343\n",
            "Epoch 12/100\n",
            "1044/1044 [==============================] - 12s 11ms/step - loss: 0.3816 - accuracy: 0.8803 - val_loss: 1.0311 - val_accuracy: 0.6790\n",
            "Epoch 13/100\n",
            "1044/1044 [==============================] - 11s 10ms/step - loss: 0.3419 - accuracy: 0.8941 - val_loss: 1.0924 - val_accuracy: 0.6704\n",
            "Epoch 14/100\n",
            "1044/1044 [==============================] - 11s 11ms/step - loss: 0.3066 - accuracy: 0.9072 - val_loss: 1.0210 - val_accuracy: 0.6827\n",
            "Epoch 15/100\n",
            "1044/1044 [==============================] - 11s 10ms/step - loss: 0.2798 - accuracy: 0.9158 - val_loss: 1.0989 - val_accuracy: 0.6740\n",
            "Epoch 16/100\n",
            "1044/1044 [==============================] - 11s 10ms/step - loss: 0.2487 - accuracy: 0.9245 - val_loss: 1.2553 - val_accuracy: 0.6458\n",
            "Epoch 17/100\n",
            "1044/1044 [==============================] - 11s 10ms/step - loss: 0.2206 - accuracy: 0.9335 - val_loss: 0.9267 - val_accuracy: 0.7319\n",
            "Epoch 18/100\n",
            "1044/1044 [==============================] - 11s 10ms/step - loss: 0.2000 - accuracy: 0.9393 - val_loss: 1.0560 - val_accuracy: 0.7122\n",
            "Epoch 19/100\n",
            "1044/1044 [==============================] - 11s 10ms/step - loss: 0.2003 - accuracy: 0.9407 - val_loss: 0.9972 - val_accuracy: 0.7085\n",
            "Epoch 20/100\n",
            "1044/1044 [==============================] - 11s 10ms/step - loss: 0.1651 - accuracy: 0.9544 - val_loss: 0.9222 - val_accuracy: 0.7380\n",
            "Epoch 21/100\n",
            "1044/1044 [==============================] - 12s 11ms/step - loss: 0.1569 - accuracy: 0.9553 - val_loss: 0.9169 - val_accuracy: 0.7331\n",
            "Epoch 22/100\n",
            "1044/1044 [==============================] - 12s 11ms/step - loss: 0.1500 - accuracy: 0.9563 - val_loss: 0.8890 - val_accuracy: 0.7589\n",
            "Epoch 23/100\n",
            "1044/1044 [==============================] - 12s 11ms/step - loss: 0.1396 - accuracy: 0.9584 - val_loss: 1.0837 - val_accuracy: 0.6950\n",
            "Epoch 24/100\n",
            "1044/1044 [==============================] - 12s 11ms/step - loss: 0.1266 - accuracy: 0.9639 - val_loss: 1.1650 - val_accuracy: 0.7109\n",
            "Epoch 25/100\n",
            "1044/1044 [==============================] - 12s 11ms/step - loss: 0.1276 - accuracy: 0.9620 - val_loss: 1.0996 - val_accuracy: 0.7122\n",
            "Epoch 26/100\n",
            "1044/1044 [==============================] - 12s 11ms/step - loss: 0.1045 - accuracy: 0.9736 - val_loss: 1.0634 - val_accuracy: 0.7405\n",
            "Epoch 27/100\n",
            "1044/1044 [==============================] - 12s 11ms/step - loss: 0.1144 - accuracy: 0.9680 - val_loss: 0.8549 - val_accuracy: 0.7811\n",
            "Epoch 28/100\n",
            "1044/1044 [==============================] - 12s 11ms/step - loss: 0.0903 - accuracy: 0.9736 - val_loss: 1.1186 - val_accuracy: 0.7282\n",
            "Epoch 29/100\n",
            "1044/1044 [==============================] - 12s 11ms/step - loss: 0.0992 - accuracy: 0.9696 - val_loss: 1.4532 - val_accuracy: 0.6839\n",
            "Epoch 30/100\n",
            "1044/1044 [==============================] - 12s 11ms/step - loss: 0.0811 - accuracy: 0.9788 - val_loss: 1.9566 - val_accuracy: 0.6396\n",
            "Epoch 31/100\n",
            "1044/1044 [==============================] - 12s 11ms/step - loss: 0.1032 - accuracy: 0.9723 - val_loss: 1.3825 - val_accuracy: 0.6863\n",
            "Epoch 32/100\n",
            "1044/1044 [==============================] - 11s 10ms/step - loss: 0.0813 - accuracy: 0.9765 - val_loss: 1.0466 - val_accuracy: 0.7503\n",
            "Epoch 33/100\n",
            "1044/1044 [==============================] - 11s 11ms/step - loss: 0.0854 - accuracy: 0.9736 - val_loss: 0.9415 - val_accuracy: 0.7847\n",
            "Epoch 34/100\n",
            "1044/1044 [==============================] - 12s 11ms/step - loss: 0.0760 - accuracy: 0.9790 - val_loss: 1.5913 - val_accuracy: 0.6937\n",
            "Epoch 35/100\n",
            "1044/1044 [==============================] - 11s 11ms/step - loss: 0.0733 - accuracy: 0.9786 - val_loss: 1.7046 - val_accuracy: 0.6654\n",
            "Epoch 36/100\n",
            "1044/1044 [==============================] - 12s 11ms/step - loss: 0.0739 - accuracy: 0.9771 - val_loss: 1.1103 - val_accuracy: 0.7306\n",
            "Epoch 37/100\n",
            "1044/1044 [==============================] - 12s 11ms/step - loss: 0.0692 - accuracy: 0.9776 - val_loss: 1.3414 - val_accuracy: 0.7011\n",
            "Epoch 38/100\n",
            "1044/1044 [==============================] - 11s 11ms/step - loss: 0.0790 - accuracy: 0.9759 - val_loss: 1.4466 - val_accuracy: 0.6999\n",
            "Epoch 39/100\n",
            "1044/1044 [==============================] - 12s 11ms/step - loss: 0.0661 - accuracy: 0.9810 - val_loss: 1.4432 - val_accuracy: 0.6999\n",
            "Epoch 40/100\n",
            "1044/1044 [==============================] - 12s 12ms/step - loss: 0.0678 - accuracy: 0.9788 - val_loss: 1.5024 - val_accuracy: 0.7097\n",
            "Epoch 41/100\n",
            "1044/1044 [==============================] - 12s 11ms/step - loss: 0.0689 - accuracy: 0.9775 - val_loss: 1.2970 - val_accuracy: 0.7294\n",
            "Epoch 42/100\n",
            "1044/1044 [==============================] - 11s 10ms/step - loss: 0.0561 - accuracy: 0.9835 - val_loss: 1.0040 - val_accuracy: 0.7614\n",
            "Epoch 43/100\n",
            "1044/1044 [==============================] - 11s 10ms/step - loss: 0.0603 - accuracy: 0.9816 - val_loss: 1.0478 - val_accuracy: 0.7626\n"
          ]
        }
      ]
    },
    {
      "cell_type": "code",
      "source": [
        "import matplotlib.pyplot as plt\n",
        "import seaborn as sns\n",
        "from sklearn.metrics import accuracy_score, confusion_matrix\n",
        "\n",
        "def evaluate_model(model, dataset):\n",
        "    labels = np.concatenate([y.numpy() for x, y in dataset], axis=0).argmax(axis=1)\n",
        "    pred_labels = np.argmax(model.predict(dataset), axis=1)\n",
        "    cm = confusion_matrix(labels, pred_labels)\n",
        "    acc = accuracy_score(labels, pred_labels)\n",
        "    return acc, cm\n",
        "\n",
        "def show_confusion_matrix(cm, labels):\n",
        "    plt.figure(figsize=(10, 8))\n",
        "    sns.heatmap(cm, xticklabels=labels, yticklabels=labels, \n",
        "                annot=True, fmt='g')\n",
        "    plt.xlabel('Prediction')\n",
        "    plt.ylabel('Label')\n",
        "    plt.show()"
      ],
      "metadata": {
        "id": "aRpgX1Xa5bqz"
      },
      "execution_count": null,
      "outputs": []
    },
    {
      "cell_type": "code",
      "source": [
        "model.load_weights(\"ckpt_part_2/best_model\")"
      ],
      "metadata": {
        "colab": {
          "base_uri": "https://localhost:8080/"
        },
        "id": "YCjkqkXd5c3U",
        "outputId": "c3803b7c-4a28-4056-dd1d-50724a84d319"
      },
      "execution_count": null,
      "outputs": [
        {
          "output_type": "execute_result",
          "data": {
            "text/plain": [
              "<tensorflow.python.training.tracking.util.CheckpointLoadStatus at 0x7fcc1b12ec10>"
            ]
          },
          "metadata": {},
          "execution_count": 61
        }
      ]
    },
    {
      "cell_type": "code",
      "source": [
        "val_acc, val_cm = evaluate_model(model, valid)\n",
        "print(f\"Validation Accuracy: {val_acc}\")\n",
        "show_confusion_matrix(val_cm, labels)\n"
      ],
      "metadata": {
        "colab": {
          "base_uri": "https://localhost:8080/",
          "height": 533
        },
        "id": "A7GL4fIa5gyX",
        "outputId": "cdaf2aed-4777-4747-8e92-8f8aabd4b67b"
      },
      "execution_count": null,
      "outputs": [
        {
          "output_type": "stream",
          "name": "stdout",
          "text": [
            "102/102 [==============================] - 1s 7ms/step\n",
            "Validation Accuracy: 0.7847478474784748\n"
          ]
        },
        {
          "output_type": "display_data",
          "data": {
            "text/plain": [
              "<Figure size 720x576 with 2 Axes>"
            ],
            "image/png": "[encoded data removed]"
          },
          "metadata": {
            "needs_background": "light"
          }
        }
      ]
    },
    {
      "cell_type": "code",
      "source": [
        "test_acc, test_cm = evaluate_model(model, test)\n",
        "print(f\"Test Accuracy: {test_acc}\")\n",
        "show_confusion_matrix(test_cm, labels)\n"
      ],
      "metadata": {
        "colab": {
          "base_uri": "https://localhost:8080/",
          "height": 537
        },
        "id": "3cIJdC8y5lxo",
        "outputId": "4ab0bf7e-b89e-4ae3-fe53-fdea9d3e77f2"
      },
      "execution_count": null,
      "outputs": [
        {
          "output_type": "stream",
          "name": "stdout",
          "text": [
            "7/7 [==============================] - 0s 7ms/step\n",
            "Test Accuracy: 0.6923076923076923\n"
          ]
        },
        {
          "output_type": "display_data",
          "data": {
            "text/plain": [
              "<Figure size 720x576 with 2 Axes>"
            ],
            "image/png": "[encoded data removed]"
          },
          "metadata": {
            "needs_background": "light"
          }
        }
      ]
    },
    {
      "cell_type": "code",
      "source": [],
      "metadata": {
        "id": "KFeQYes8aYgO"
      },
      "execution_count": null,
      "outputs": []
    },
    {
      "cell_type": "markdown",
      "source": [
        "## Track Data with DVC\n",
        "We commit the new version of data that has augmented samples."
      ],
      "metadata": {
        "id": "UO4XEJS6aa3h"
      }
    },
    {
      "cell_type": "code",
      "source": [
        "!dvc add data "
      ],
      "metadata": {
        "id": "v3wrJNvOaDc7"
      },
      "execution_count": null,
      "outputs": []
    },
    {
      "cell_type": "code",
      "source": [
        "!cat data.dvc"
      ],
      "metadata": {
        "id": "ndecDrnuaGvf"
      },
      "execution_count": null,
      "outputs": []
    },
    {
      "cell_type": "code",
      "source": [
        "!git add data.dvc\n",
        "!git commit -m \"add version_2 data\""
      ],
      "metadata": {
        "id": "jlDmiF6VaIpu"
      },
      "execution_count": null,
      "outputs": []
    },
    {
      "cell_type": "code",
      "source": [
        "!dvc push"
      ],
      "metadata": {
        "id": "ppD3vrDsaMvl"
      },
      "execution_count": null,
      "outputs": []
    },
    {
      "cell_type": "markdown",
      "source": [
        "# Part 3 - Naïve Label Correction \n",
        "Label cleaning is an important step in improving data quality. When done naïvely, we need to go through all the images and ensure that each image has a correct label mapping. Those with incorrect mappings that can be remedied are corrected, while those that cannot be remedied are deleted. "
      ],
      "metadata": {
        "id": "SGR2bJXL53lt"
      }
    },
    {
      "cell_type": "markdown",
      "source": [
        "## Label Correction\n",
        "Visual investigation of thousands of images is a herculean task. To simplify it we create a custom user interface using [ipython widgets](https://ipywidgets.readthedocs.io/en/stable/) that allows us to inpect and correct labels using button clicks."
      ],
      "metadata": {
        "id": "ao9c7K-C67Kz"
      }
    },
    {
      "cell_type": "code",
      "source": [
        "import os, glob, shutil\n",
        "from PIL import Image\n",
        "import matplotlib.pyplot as plt\n",
        "\n",
        "\n",
        "import ipywidgets as widgets\n",
        "from IPython.display import display\n",
        "from ipywidgets import IntProgress, HTML, VBox, HBox"
      ],
      "metadata": {
        "id": "tYh0uXY556Kv"
      },
      "execution_count": null,
      "outputs": []
    },
    {
      "cell_type": "code",
      "source": [
        "splits = {\n",
        "    \"train\": glob.glob(f\"data/train/*/*.png\"),\n",
        "    \"val\": glob.glob(f\"data/val/*/*.png\"),\n",
        "    \"test\": glob.glob(\"label_book/*/*.png\")\n",
        "}\n",
        "path = None\n",
        "\n",
        "def display_img(splits_dropdown, index):\n",
        "    global label, path\n",
        "    path = splits[splits_dropdown][index]\n",
        "    label.value = path.split(\"/\")[-2]\n",
        "    plt.figure(figsize=(8, 8), dpi=80)\n",
        "    plt.imshow(Image.open(splits[splits_dropdown][index]), cmap='gray', vmin=0, vmax=255)\n",
        "    plt.axis(\"off\")\n",
        "    plt.show()\n",
        "\n",
        "next_button = widgets.Button(\n",
        "    description='Next',\n",
        "    disabled=False,\n",
        "    button_style='success',\n",
        "    tooltip='Next Sample',\n",
        "    icon='arrow-right'\n",
        ")\n",
        "\n",
        "prev_button = widgets.Button(\n",
        "    description='Previous',\n",
        "    disabled=False,\n",
        "    button_style='success',\n",
        "    tooltip='Previous Sample',\n",
        "    icon='arrow-left'\n",
        ")\n",
        "change_label_btn = widgets.Button(\n",
        "    description='Change Label',\n",
        "    disabled=False,\n",
        "    button_style='success',\n",
        "    tooltip='Change Label',\n",
        "    icon='check'\n",
        ")\n",
        "delete_btn = widgets.Button(\n",
        "    description='Delete',\n",
        "    disabled=False,\n",
        "    button_style='danger',\n",
        "    tooltip='Delete',\n",
        "    icon='fa-trash'\n",
        ")\n",
        "splits_dropdown = widgets.Dropdown(\n",
        "    description='Splits',\n",
        "    options=['train', 'val', 'test'],\n",
        "    value='train',\n",
        "    disabled=False,\n",
        ")\n",
        "\n",
        "index = widgets.IntSlider(\n",
        "    value=0,\n",
        "    min=0,\n",
        "    max=len(splits[splits_dropdown.value])-1,\n",
        "    step=1,\n",
        "    description='Index:',\n",
        "    disabled=False,\n",
        "    continuous_update=False,\n",
        "    orientation='horizontal',\n",
        "    readout=True,\n",
        "    readout_format='d'\n",
        ")\n",
        "  \n",
        "label = widgets.Text(\n",
        "    value='',\n",
        "    placeholder='Label',\n",
        "    description='Label:',\n",
        "    disabled=False\n",
        ")\n",
        "\n",
        "new_label = widgets.Dropdown(\n",
        "    description='New Label',\n",
        "    options=[\"i\", \"ii\", \"iii\", \"iv\", \"v\", \"vi\", \"vii\", \"viii\", \"ix\", \"x\"],\n",
        "    value='i',\n",
        "    disabled=False,\n",
        ")\n",
        "\n",
        "ui_1 = widgets.HBox([prev_button, index, next_button, splits_dropdown])\n",
        "ui_2 = widgets.HBox([label, new_label, change_label_btn, delete_btn])\n",
        "ui = widgets.VBox([ui_1, ui_2])\n",
        "\n",
        "interactive_out = widgets.interactive_output(display_img, {\"splits_dropdown\":splits_dropdown, \"index\": index})\n",
        "\n",
        "def increment(_):\n",
        "    with interactive_out:\n",
        "        index.value+=1\n",
        "\n",
        "def decrement(_):\n",
        "    with interactive_out:\n",
        "        index.value-=1\n",
        "\n",
        "def change_label(_):\n",
        "  new_path = path.split(\"/\")\n",
        "  new_path[-2] = new_label.value\n",
        "  new_path = \"/\".join(new_path)\n",
        "  shutil.move(path, new_path)\n",
        "\n",
        "def delete_action(_):\n",
        "    os.remove(path)\n",
        "\n",
        "def update_index(_):\n",
        "    index.max = len(splits[splits_dropdown.value])-1\n",
        "\n",
        "splits_dropdown.observe(update_index)\n",
        "\n",
        "prev_button.on_click(decrement)\n",
        "next_button.on_click(increment)\n",
        "change_label_btn.on_click(change_label)\n",
        "delete_btn.on_click(delete_action)\n",
        "\n",
        "display(ui, interactive_out)"
      ],
      "metadata": {
        "colab": {
          "base_uri": "https://localhost:8080/",
          "height": 576,
          "referenced_widgets": [
            "2a91ffe39f3d4555b8aea48907e4d0e9",
            "e25ecb63a35a44c0aeaffcb47d691603",
            "864bc9f8148f4aa7b1b29946c952e19b",
            "37d77ed1a6e343c0b0a0bbda894c9ab0",
            "494ceaa14429460db40d738324776368",
            "8f30779db32d48f88d0b44ad4ff7d08b",
            "b94f577092b14ec28b16980289057566",
            "cdfaba18b0f84422a0b5a437e4857341",
            "f7b6ba7dd8994b2fb7c4bbbf66ef8d2c",
            "d80c514cf46f4f4f9e7bc0891ebc3197",
            "46dbcab04d0f4712b99a4dc29e9bea53",
            "9add66375cd94ae9bfdc4e3004b1482f",
            "3b7c5a81c69a4b77a42459eae0917f6e",
            "95e479550d7248b0857165babfd4ab76",
            "4f6d17e0396547e4952dfb29e787177c",
            "05ecc1055dd6401f983f82d34623d89f",
            "847207df2e5440e3a9cf67a2d1bc9d92",
            "9fa359797b8f4049bf9fad831cc41c62",
            "edca92a34ea94589a6eae917dd1b0b62",
            "797762f553d24062ad03b2bc967da50a",
            "e51de64bba3c496490f001e40bb01358",
            "07ddf0444e8049579b14d4acec76115c",
            "3d04c3637b2c4c88abd49d09a958f5a6",
            "147d8523e3ad45688b0b24bdb8173b36",
            "765b6c5333064186880dbedb3f16f1cf",
            "dd9800b0870244e8bcef5ab41b243747",
            "36f77a1dd4a74cfcbbfb9881ac06d280",
            "c203110bbc634376b75611aaecdbb6dc",
            "a5eecf21e12b438181e118935f44adbb",
            "160cf4d8b273471e86d82abed0259de9",
            "8348e54217b341a4b25d38f73dce6191",
            "95fa64e1e9724b8c930ac9108bca7220"
          ]
        },
        "id": "-0BaSMXm5_K6",
        "outputId": "91cd769f-0ecf-4994-b6b8-aa110db998e7"
      },
      "execution_count": null,
      "outputs": [
        {
          "output_type": "display_data",
          "data": {
            "text/plain": [
              "VBox(children=(HBox(children=(Button(button_style='success', description='Previous', icon='arrow-left', style=…"
            ],
            "application/vnd.jupyter.widget-view+json": {
              "version_major": 2,
              "version_minor": 0,
              "model_id": "2a91ffe39f3d4555b8aea48907e4d0e9"
            }
          },
          "metadata": {}
        },
        {
          "output_type": "display_data",
          "data": {
            "text/plain": [
              "Output()"
            ],
            "application/vnd.jupyter.widget-view+json": {
              "version_major": 2,
              "version_minor": 0,
              "model_id": "8348e54217b341a4b25d38f73dce6191"
            }
          },
          "metadata": {}
        }
      ]
    },
    {
      "cell_type": "code",
      "source": [
        "!rm -rf data\n",
        "!mv data_label_corrected data"
      ],
      "metadata": {
        "id": "iut3Ugcq6IuG"
      },
      "execution_count": null,
      "outputs": []
    },
    {
      "cell_type": "code",
      "source": [
        "import tensorflow as tf\n",
        "from tensorflow import keras\n",
        "import numpy as np\n",
        "import json\n",
        "import sys"
      ],
      "metadata": {
        "id": "7CtEAOEA6tXm"
      },
      "execution_count": null,
      "outputs": []
    },
    {
      "cell_type": "code",
      "source": [
        "train_val_directory = \"data\"\n",
        "test_directory = \"label_book\"\n",
        "\n",
        "batch_size = 8\n",
        "tf.random.set_seed(123)\n",
        "\n",
        "labels = [\"i\", \"ii\", \"iii\", \"iv\", \"v\", \"vi\", \"vii\", \"viii\", \"ix\", \"x\"]"
      ],
      "metadata": {
        "id": "rzhkq8c26tXm"
      },
      "execution_count": null,
      "outputs": []
    },
    {
      "cell_type": "markdown",
      "source": [
        "## Data Augmentation\n",
        "We apply same data augmentation used in part 1."
      ],
      "metadata": {
        "id": "3b_jA2ml6tXm"
      }
    },
    {
      "cell_type": "code",
      "source": [
        "from keras.preprocessing.image import ImageDataGenerator\n",
        "from PIL import Image\n",
        "import glob\n",
        "\n",
        "datagen = ImageDataGenerator(\n",
        "    rotation_range=30,          # randomly rotate image by upto 90 deg\n",
        "    width_shift_range=0.2,      # randomly shift along x \n",
        "    height_shift_range=0.2,     # randomly shift along y\n",
        "    zoom_range=0.2,             # zooming\n",
        "    fill_mode='nearest')\n",
        "\n",
        "for label in labels:\n",
        "    i = 0\n",
        "    input_dir = f'data/train/{label}'\n",
        "    image_list = glob.glob(f\"{input_dir}/*.png\")\n",
        "    image_array = np.array([np.array(Image.open(image_name).resize((32, 32)))[:, :, np.newaxis] for image_name in image_list])\n",
        "    out_dir = f'data/train/{label}'\n",
        "    os.makedirs(out_dir, exist_ok=True)\n",
        "    max_images = len(image_array)*3\n",
        "    for batch in datagen.flow(image_array, batch_size=batch_size,\n",
        "                            save_to_dir= out_dir,\n",
        "                            save_prefix='aug',\n",
        "                            save_format='png'):    \n",
        "        i+=len(batch)\n",
        "        if i > max_images:\n",
        "            break"
      ],
      "metadata": {
        "id": "hjIqfmoj6tXn"
      },
      "execution_count": null,
      "outputs": []
    },
    {
      "cell_type": "code",
      "source": [
        "train = tf.keras.preprocessing.image_dataset_from_directory(\n",
        "    train_val_directory + '/train',\n",
        "    labels=\"inferred\",\n",
        "    label_mode=\"categorical\",\n",
        "    class_names=labels,\n",
        "    shuffle=True,\n",
        "    seed=123,\n",
        "    batch_size=batch_size,\n",
        "    image_size=(32, 32),\n",
        ")\n",
        "\n",
        "valid = tf.keras.preprocessing.image_dataset_from_directory(\n",
        "    train_val_directory + '/val',\n",
        "    labels=\"inferred\",\n",
        "    label_mode=\"categorical\",\n",
        "    class_names=labels,\n",
        "    shuffle=False,\n",
        "    seed=123,\n",
        "    batch_size=batch_size,\n",
        "    image_size=(32, 32),\n",
        ")\n",
        "\n",
        "total_length = ((train.cardinality() + valid.cardinality()) * batch_size).numpy()\n",
        "if total_length > 10_000:\n",
        "    print(f\"Dataset size larger than 10,000. Got {total_length} examples\")\n",
        "    sys.exit()\n",
        "\n",
        "test = tf.keras.preprocessing.image_dataset_from_directory(\n",
        "    test_directory,\n",
        "    labels=\"inferred\",\n",
        "    label_mode=\"categorical\",\n",
        "    class_names=labels,\n",
        "    shuffle=False,\n",
        "    seed=123,\n",
        "    batch_size=batch_size,\n",
        "    image_size=(32, 32),\n",
        ")"
      ],
      "metadata": {
        "colab": {
          "base_uri": "https://localhost:8080/"
        },
        "id": "LHJ8L2oh6tXn",
        "outputId": "73cfc893-cb1f-463f-8c16-9f76aeae8009"
      },
      "execution_count": null,
      "outputs": [
        {
          "output_type": "stream",
          "name": "stdout",
          "text": [
            "Found 7671 files belonging to 10 classes.\n",
            "Found 809 files belonging to 10 classes.\n",
            "Found 52 files belonging to 10 classes.\n"
          ]
        }
      ]
    },
    {
      "cell_type": "code",
      "source": [
        "base_model = tf.keras.applications.ResNet50(\n",
        "    input_shape=(32, 32, 3),\n",
        "    include_top=False,\n",
        "    weights=None,\n",
        ")\n",
        "base_model = tf.keras.Model(\n",
        "    base_model.inputs, outputs=[base_model.get_layer(\"conv2_block3_out\").output]\n",
        ")\n",
        "\n",
        "inputs = tf.keras.Input(shape=(32, 32, 3))\n",
        "x = tf.keras.applications.resnet.preprocess_input(inputs)\n",
        "x = base_model(x)\n",
        "x = tf.keras.layers.GlobalAveragePooling2D()(x)\n",
        "x = tf.keras.layers.Dense(10)(x)\n",
        "model = tf.keras.Model(inputs, x)\n",
        "\n",
        "model.compile(\n",
        "    optimizer=tf.keras.optimizers.Adam(lr=0.0001),\n",
        "    loss=tf.keras.losses.CategoricalCrossentropy(from_logits=True),\n",
        "    metrics=[\"accuracy\"],\n",
        ")\n",
        "model.summary()"
      ],
      "metadata": {
        "colab": {
          "base_uri": "https://localhost:8080/"
        },
        "id": "KAkJU-416tXn",
        "outputId": "72e93880-c195-4530-f18b-7b2d939d7bd2"
      },
      "execution_count": null,
      "outputs": [
        {
          "output_type": "stream",
          "name": "stdout",
          "text": [
            "Model: \"model_7\"\n",
            "_________________________________________________________________\n",
            " Layer (type)                Output Shape              Param #   \n",
            "=================================================================\n",
            " input_8 (InputLayer)        [(None, 32, 32, 3)]       0         \n",
            "                                                                 \n",
            " tf.__operators__.getitem_3   (None, 32, 32, 3)        0         \n",
            " (SlicingOpLambda)                                               \n",
            "                                                                 \n",
            " tf.nn.bias_add_3 (TFOpLambd  (None, 32, 32, 3)        0         \n",
            " a)                                                              \n",
            "                                                                 \n",
            " model_6 (Functional)        (None, 8, 8, 256)         229760    \n",
            "                                                                 \n",
            " global_average_pooling2d_3   (None, 256)              0         \n",
            " (GlobalAveragePooling2D)                                        \n",
            "                                                                 \n",
            " dense_3 (Dense)             (None, 10)                2570      \n",
            "                                                                 \n",
            "=================================================================\n",
            "Total params: 232,330\n",
            "Trainable params: 229,386\n",
            "Non-trainable params: 2,944\n",
            "_________________________________________________________________\n"
          ]
        },
        {
          "output_type": "stream",
          "name": "stderr",
          "text": [
            "/usr/local/lib/python3.7/dist-packages/keras/optimizers/optimizer_v2/adam.py:110: UserWarning: The `lr` argument is deprecated, use `learning_rate` instead.\n",
            "  super(Adam, self).__init__(name, **kwargs)\n"
          ]
        }
      ]
    },
    {
      "cell_type": "code",
      "source": [
        "checkpoint = tf.keras.callbacks.ModelCheckpoint(\n",
        "    \"ckpt_part_3/best_model\",\n",
        "    monitor=\"val_accuracy\",\n",
        "    mode=\"max\",\n",
        "    save_best_only=True,\n",
        "    save_weights_only=True,\n",
        ")\n",
        "early_stopping = tf.keras.callbacks.EarlyStopping(monitor='val_accuracy', patience=10)\n",
        "\n",
        "history = model.fit(\n",
        "    train,\n",
        "    validation_data=valid,\n",
        "    epochs=100,\n",
        "    callbacks=[checkpoint, early_stopping],\n",
        ")"
      ],
      "metadata": {
        "colab": {
          "base_uri": "https://localhost:8080/"
        },
        "id": "FyKEub856tXn",
        "outputId": "42f541d1-7c43-46ce-db38-8a19a91dd4f0"
      },
      "execution_count": null,
      "outputs": [
        {
          "output_type": "stream",
          "name": "stdout",
          "text": [
            "Epoch 1/100\n",
            "959/959 [==============================] - 15s 15ms/step - loss: 1.7510 - accuracy: 0.3804 - val_loss: 1.4197 - val_accuracy: 0.5340\n",
            "Epoch 2/100\n",
            "959/959 [==============================] - 10s 11ms/step - loss: 1.1851 - accuracy: 0.5946 - val_loss: 1.0499 - val_accuracy: 0.6848\n",
            "Epoch 3/100\n",
            "959/959 [==============================] - 10s 11ms/step - loss: 0.9161 - accuracy: 0.6983 - val_loss: 0.8632 - val_accuracy: 0.7095\n",
            "Epoch 4/100\n",
            "959/959 [==============================] - 10s 11ms/step - loss: 0.7539 - accuracy: 0.7565 - val_loss: 0.6740 - val_accuracy: 0.7800\n",
            "Epoch 5/100\n",
            "959/959 [==============================] - 10s 11ms/step - loss: 0.6574 - accuracy: 0.7883 - val_loss: 0.6056 - val_accuracy: 0.7886\n",
            "Epoch 6/100\n",
            "959/959 [==============================] - 10s 11ms/step - loss: 0.5589 - accuracy: 0.8210 - val_loss: 0.6398 - val_accuracy: 0.7911\n",
            "Epoch 7/100\n",
            "959/959 [==============================] - 10s 10ms/step - loss: 0.4785 - accuracy: 0.8464 - val_loss: 0.6912 - val_accuracy: 0.7392\n",
            "Epoch 8/100\n",
            "959/959 [==============================] - 10s 10ms/step - loss: 0.4186 - accuracy: 0.8660 - val_loss: 0.7190 - val_accuracy: 0.7503\n",
            "Epoch 9/100\n",
            "959/959 [==============================] - 10s 10ms/step - loss: 0.3729 - accuracy: 0.8828 - val_loss: 0.6300 - val_accuracy: 0.7911\n",
            "Epoch 10/100\n",
            "959/959 [==============================] - 10s 10ms/step - loss: 0.3244 - accuracy: 0.8984 - val_loss: 0.5234 - val_accuracy: 0.8269\n",
            "Epoch 11/100\n",
            "959/959 [==============================] - 10s 10ms/step - loss: 0.2809 - accuracy: 0.9147 - val_loss: 0.6779 - val_accuracy: 0.7738\n",
            "Epoch 12/100\n",
            "959/959 [==============================] - 10s 10ms/step - loss: 0.2546 - accuracy: 0.9217 - val_loss: 0.5776 - val_accuracy: 0.8096\n",
            "Epoch 13/100\n",
            "959/959 [==============================] - 10s 10ms/step - loss: 0.2222 - accuracy: 0.9346 - val_loss: 0.8723 - val_accuracy: 0.7293\n",
            "Epoch 14/100\n",
            "959/959 [==============================] - 10s 10ms/step - loss: 0.2036 - accuracy: 0.9373 - val_loss: 0.5816 - val_accuracy: 0.8232\n",
            "Epoch 15/100\n",
            "959/959 [==============================] - 10s 11ms/step - loss: 0.1843 - accuracy: 0.9434 - val_loss: 0.4944 - val_accuracy: 0.8430\n",
            "Epoch 16/100\n",
            "959/959 [==============================] - 10s 10ms/step - loss: 0.1640 - accuracy: 0.9509 - val_loss: 1.0558 - val_accuracy: 0.7033\n",
            "Epoch 17/100\n",
            "959/959 [==============================] - 10s 10ms/step - loss: 0.1542 - accuracy: 0.9548 - val_loss: 0.4756 - val_accuracy: 0.8591\n",
            "Epoch 18/100\n",
            "959/959 [==============================] - 10s 10ms/step - loss: 0.1313 - accuracy: 0.9626 - val_loss: 0.6262 - val_accuracy: 0.8245\n",
            "Epoch 19/100\n",
            "959/959 [==============================] - 11s 12ms/step - loss: 0.1274 - accuracy: 0.9626 - val_loss: 0.6355 - val_accuracy: 0.8146\n",
            "Epoch 20/100\n",
            "959/959 [==============================] - 10s 10ms/step - loss: 0.1065 - accuracy: 0.9713 - val_loss: 0.8146 - val_accuracy: 0.7701\n",
            "Epoch 21/100\n",
            "959/959 [==============================] - 10s 10ms/step - loss: 0.1024 - accuracy: 0.9698 - val_loss: 0.6149 - val_accuracy: 0.8356\n",
            "Epoch 22/100\n",
            "959/959 [==============================] - 10s 10ms/step - loss: 0.0916 - accuracy: 0.9763 - val_loss: 0.5645 - val_accuracy: 0.8443\n",
            "Epoch 23/100\n",
            "959/959 [==============================] - 10s 10ms/step - loss: 0.0827 - accuracy: 0.9785 - val_loss: 1.1530 - val_accuracy: 0.6959\n",
            "Epoch 24/100\n",
            "959/959 [==============================] - 10s 10ms/step - loss: 0.0887 - accuracy: 0.9730 - val_loss: 0.9427 - val_accuracy: 0.7664\n",
            "Epoch 25/100\n",
            "959/959 [==============================] - 10s 11ms/step - loss: 0.0860 - accuracy: 0.9752 - val_loss: 0.9449 - val_accuracy: 0.7689\n",
            "Epoch 26/100\n",
            "959/959 [==============================] - 10s 10ms/step - loss: 0.0721 - accuracy: 0.9788 - val_loss: 0.6913 - val_accuracy: 0.8096\n",
            "Epoch 27/100\n",
            "959/959 [==============================] - 10s 10ms/step - loss: 0.0668 - accuracy: 0.9807 - val_loss: 0.5478 - val_accuracy: 0.8541\n"
          ]
        }
      ]
    },
    {
      "cell_type": "code",
      "source": [
        "import matplotlib.pyplot as plt\n",
        "import seaborn as sns\n",
        "from sklearn.metrics import accuracy_score, confusion_matrix\n",
        "\n",
        "def evaluate_model(model, dataset):\n",
        "    labels = np.concatenate([y.numpy() for x, y in dataset], axis=0).argmax(axis=1)\n",
        "    pred_labels = np.argmax(model.predict(dataset), axis=1)\n",
        "    cm = confusion_matrix(labels, pred_labels)\n",
        "    acc = accuracy_score(labels, pred_labels)\n",
        "    return acc, cm\n",
        "\n",
        "def show_confusion_matrix(cm, labels):\n",
        "    plt.figure(figsize=(10, 8))\n",
        "    sns.heatmap(cm, xticklabels=labels, yticklabels=labels, \n",
        "                annot=True, fmt='g')\n",
        "    plt.xlabel('Prediction')\n",
        "    plt.ylabel('Label')\n",
        "    plt.show()"
      ],
      "metadata": {
        "id": "7pHKpRHB6tXo"
      },
      "execution_count": null,
      "outputs": []
    },
    {
      "cell_type": "code",
      "source": [
        "model.load_weights(\"ckpt_part_3/best_model\")"
      ],
      "metadata": {
        "colab": {
          "base_uri": "https://localhost:8080/"
        },
        "id": "8MM-rGp76tXo",
        "outputId": "28db1952-1425-4152-fb08-5359298a9ddb"
      },
      "execution_count": null,
      "outputs": [
        {
          "output_type": "execute_result",
          "data": {
            "text/plain": [
              "<tensorflow.python.training.tracking.util.CheckpointLoadStatus at 0x7fcc1a7c2f50>"
            ]
          },
          "metadata": {},
          "execution_count": 72
        }
      ]
    },
    {
      "cell_type": "code",
      "source": [
        "val_acc, val_cm = evaluate_model(model, valid)\n",
        "print(f\"Validation Accuracy: {val_acc}\")\n",
        "show_confusion_matrix(val_cm, labels)\n"
      ],
      "metadata": {
        "colab": {
          "base_uri": "https://localhost:8080/",
          "height": 533
        },
        "id": "TP9mHnFm6tXo",
        "outputId": "c43e64ff-3483-4e8f-f632-d3d0b1999106"
      },
      "execution_count": null,
      "outputs": [
        {
          "output_type": "stream",
          "name": "stdout",
          "text": [
            "102/102 [==============================] - 1s 7ms/step\n",
            "Validation Accuracy: 0.8590852904820766\n"
          ]
        },
        {
          "output_type": "display_data",
          "data": {
            "text/plain": [
              "<Figure size 720x576 with 2 Axes>"
            ],
            "image/png": "[encoded data removed]"
          },
          "metadata": {
            "needs_background": "light"
          }
        }
      ]
    },
    {
      "cell_type": "code",
      "source": [
        "test_acc, test_cm = evaluate_model(model, test)\n",
        "print(f\"Test Accuracy: {test_acc}\")\n",
        "show_confusion_matrix(test_cm, labels)\n"
      ],
      "metadata": {
        "colab": {
          "base_uri": "https://localhost:8080/",
          "height": 537
        },
        "id": "HIvPPdLs6tXo",
        "outputId": "cea1ece1-4068-4358-adae-ef4a5874ea1a"
      },
      "execution_count": null,
      "outputs": [
        {
          "output_type": "stream",
          "name": "stdout",
          "text": [
            "7/7 [==============================] - 0s 6ms/step\n",
            "Test Accuracy: 0.7692307692307693\n"
          ]
        },
        {
          "output_type": "display_data",
          "data": {
            "text/plain": [
              "<Figure size 720x576 with 2 Axes>"
            ],
            "image/png": "[encoded data removed]"
          },
          "metadata": {
            "needs_background": "light"
          }
        }
      ]
    },
    {
      "cell_type": "markdown",
      "source": [
        "## Track Data with DVC\n",
        "We commit the new version of data with correct labels and augmented samples."
      ],
      "metadata": {
        "id": "FYQ-8GteajM1"
      }
    },
    {
      "cell_type": "code",
      "source": [
        "!dvc add data # Create data.dvc"
      ],
      "metadata": {
        "id": "mvpiO8NBahKJ"
      },
      "execution_count": null,
      "outputs": []
    },
    {
      "cell_type": "code",
      "source": [
        "!cat data.dvc"
      ],
      "metadata": {
        "id": "AgOaRR21ahKK"
      },
      "execution_count": null,
      "outputs": []
    },
    {
      "cell_type": "code",
      "source": [
        "!git add data.dvc\n",
        "!git commit -m \"add version_3 data\""
      ],
      "metadata": {
        "id": "0Nn3Fw5kahKK"
      },
      "execution_count": null,
      "outputs": []
    },
    {
      "cell_type": "code",
      "source": [
        "!dvc push"
      ],
      "metadata": {
        "id": "iSpHUwtkahKK"
      },
      "execution_count": null,
      "outputs": []
    },
    {
      "cell_type": "markdown",
      "source": [
        "#Part 4 - Label Correction with Monte Carlo Dropout\n",
        "When images are a few thousands, say 3k, it may be possible to do naive label correction. However, when we have samples in the order of tens of thousands, it becomes nearly impossible to go inspect all of them. \n",
        "\n",
        "To avoid going through all samples, we measure prediction uncertainty and only inspect samples with uncertainty above a selected threshold. To measure prediction uncertainty, we use [Monte-Carlo Dropout](https://docs.aws.amazon.com/prescriptive-guidance/latest/ml-quantifying-uncertainty/mc-dropout.html)"
      ],
      "metadata": {
        "id": "biO7HIXRvtWJ"
      }
    },
    {
      "cell_type": "markdown",
      "source": [
        "\n",
        "## Prediction Uncertainty\n",
        "We add a monte-carlo dropout layer to the model and perform 50 prediction runs for each sample. We compute prediction uncertainty as the variance of logloss over 50 runs."
      ],
      "metadata": {
        "id": "ziE8MBZGv4Sl"
      }
    },
    {
      "cell_type": "code",
      "source": [
        "import tensorflow as tf\n",
        "from tensorflow import keras\n",
        "import numpy as np\n",
        "import json\n",
        "import sys\n",
        "import pathlib\n",
        "import os\n",
        "import pandas as pd\n",
        "\n",
        "batch_size = 8\n",
        "tf.random.set_seed(123)\n",
        "\n",
        "labels = ['i', 'ii', 'iii', 'iv', 'ix', 'v', 'vi', 'vii', 'viii', 'x']"
      ],
      "metadata": {
        "id": "UYzIg0sAHw2O"
      },
      "execution_count": 4,
      "outputs": []
    },
    {
      "cell_type": "code",
      "source": [
        "train_dir = pathlib.Path('data/train')\n",
        "val_dir = pathlib.Path('data/val')\n",
        "test_dir = pathlib.Path('label_book')"
      ],
      "metadata": {
        "id": "5gRs2mEwMMd0"
      },
      "execution_count": 5,
      "outputs": []
    },
    {
      "cell_type": "code",
      "source": [
        "AUTOTUNE = tf.data.AUTOTUNE"
      ],
      "metadata": {
        "id": "TjtFknLLJgXe"
      },
      "execution_count": 6,
      "outputs": []
    },
    {
      "cell_type": "code",
      "source": [
        "def create_dataset_df(ds):\n",
        "  df = pd.DataFrame({\"filenames\": [filename.numpy().decode() for filename in ds]})\n",
        "  df['label'] = df['filenames'].apply(lambda x: get_label(x).numpy())\n",
        "  return df"
      ],
      "metadata": {
        "id": "zrtE5gwHLy3G"
      },
      "execution_count": 7,
      "outputs": []
    },
    {
      "cell_type": "code",
      "source": [
        "class_names = np.array(sorted([item.name for item in train_dir.glob('*') if not item.name.startswith(\".\")])) #!= '.DS_Store'\n",
        "print(class_names)"
      ],
      "metadata": {
        "colab": {
          "base_uri": "https://localhost:8080/"
        },
        "id": "-KvsmL5mGMHj",
        "outputId": "8df07cbb-5f01-4012-9f46-2f7dd9866250"
      },
      "execution_count": 8,
      "outputs": [
        {
          "output_type": "stream",
          "name": "stdout",
          "text": [
            "['i' 'ii' 'iii' 'iv' 'ix' 'v' 'vi' 'vii' 'viii' 'x']\n"
          ]
        }
      ]
    },
    {
      "cell_type": "code",
      "source": [
        "def get_label(file_path):\n",
        "  # Convert the path to a list of path components\n",
        "  parts = tf.strings.split(file_path, os.path.sep)\n",
        "  # The second to last is the class-directory\n",
        "  one_hot = parts[-2] == class_names\n",
        "  # Integer encode the label\n",
        "  return tf.argmax(one_hot)\n",
        "\n",
        "def decode_img(img):\n",
        "  # Convert the compressed string to a 3D uint8 tensor\n",
        "  img = tf.io.decode_jpeg(img, channels=3)\n",
        "  # Resize the image to the desired size\n",
        "  return tf.image.resize(img, [32, 32])\n",
        "\n",
        "def process_path(file_path):\n",
        "  label = get_label(file_path)\n",
        "  # Load the raw data from the file as a string\n",
        "  img = tf.io.read_file(file_path)\n",
        "  img = decode_img(img)\n",
        "  return img, label"
      ],
      "metadata": {
        "id": "as5wGZ0GGMnM"
      },
      "execution_count": 9,
      "outputs": []
    },
    {
      "cell_type": "code",
      "source": [
        "image_count = len(list(train_dir.glob('*/*.png')))\n",
        "\n",
        "train_ds = tf.data.Dataset.list_files(str(train_dir/'*/*.png'), shuffle=False)\n",
        "train_ds = train_ds.shuffle(image_count, reshuffle_each_iteration=False)\n",
        "val_ds = tf.data.Dataset.list_files(str(val_dir/'*/*.png'), shuffle=False)\n",
        "test_ds = tf.data.Dataset.list_files(str(test_dir/'*/*.png'), shuffle=False)\n",
        "\n",
        "\n",
        "train_df = create_dataset_df(train_ds)\n",
        "val_df = create_dataset_df(val_ds)\n",
        "test_df = create_dataset_df(test_ds)"
      ],
      "metadata": {
        "id": "qaqDWxVDZmOL"
      },
      "execution_count": 10,
      "outputs": []
    },
    {
      "cell_type": "code",
      "source": [
        "train_ds = train_ds.map(process_path, num_parallel_calls=AUTOTUNE)\n",
        "val_ds = val_ds.map(process_path, num_parallel_calls=AUTOTUNE)\n",
        "test_ds = test_ds.map(process_path, num_parallel_calls=AUTOTUNE)"
      ],
      "metadata": {
        "id": "uT5dexdsGcGv"
      },
      "execution_count": 11,
      "outputs": []
    },
    {
      "cell_type": "code",
      "source": [
        "def configure_for_performance(ds, shuffle=False):\n",
        "  ds = ds.cache()\n",
        "  if shuffle:\n",
        "    ds = ds.shuffle(buffer_size=1000)\n",
        "  ds = ds.batch(8)\n",
        "  ds = ds.prefetch(buffer_size=AUTOTUNE)\n",
        "  return ds\n",
        "\n",
        "train_ds = configure_for_performance(train_ds, shuffle=True)\n",
        "val_ds = configure_for_performance(val_ds)\n",
        "test_ds = configure_for_performance(test_ds)"
      ],
      "metadata": {
        "id": "uJc0Ok-OJsut"
      },
      "execution_count": 12,
      "outputs": []
    },
    {
      "cell_type": "code",
      "source": [
        "class MonteCarloDropout(tf.keras.layers.Dropout):\n",
        "    \"\"\"Implementation of MonteCarlo Dropout\"\"\"\n",
        "\n",
        "    def call(self, inputs):\n",
        "        \"\"\"Change training argument to default True\"\"\"\n",
        "        return super().call(inputs, training=True)"
      ],
      "metadata": {
        "id": "bsiQOQTIKKj1"
      },
      "execution_count": 13,
      "outputs": []
    },
    {
      "cell_type": "code",
      "source": [
        "class MyModel(tf.keras.Model):\n",
        "\n",
        "  def __init__(self):\n",
        "    super().__init__()\n",
        "    base_model = tf.keras.applications.ResNet50(\n",
        "    input_shape=(32, 32, 3),\n",
        "    include_top=False,\n",
        "    weights=None,\n",
        ")\n",
        "    base_model = tf.keras.applications.ResNet50(\n",
        "        input_shape=(32, 32, 3),\n",
        "        include_top=False,\n",
        "        weights=None,\n",
        "    )\n",
        "    self.base_model = tf.keras.Model(\n",
        "        base_model.inputs, outputs=[base_model.get_layer(\"conv2_block3_out\").output]\n",
        "    )\n",
        "    self.dropout = MonteCarloDropout(0.5)\n",
        "    self.dense1 = tf.keras.layers.Dense(10)\n",
        "\n",
        "  def call(self, inputs):\n",
        "    x = tf.keras.applications.resnet.preprocess_input(inputs)\n",
        "    x = self.base_model(x)\n",
        "    x = tf.keras.layers.GlobalAveragePooling2D()(x)\n",
        "    x = self.dropout(x)\n",
        "    x = self.dense1(x)\n",
        "    return x\n",
        "\n",
        "  def predict_step(self, data):\n",
        "      \"\"\"Predict Step\"\"\"\n",
        "      x, y = data\n",
        "\n",
        "      pred_class_logits = []\n",
        "\n",
        "      for _ in range(50):\n",
        "          y_pred = self(x)\n",
        "          pred_class_logits.append(y_pred)\n",
        "\n",
        "      class_raw_logits = tf.stack(pred_class_logits, axis=1)\n",
        "      pred_class_logits = tf.math.reduce_mean(tf.stack(pred_class_logits), axis=0)\n",
        "      return pred_class_logits, y, class_raw_logits\n",
        "\n",
        "\n"
      ],
      "metadata": {
        "id": "fnuRkrqaRdrq"
      },
      "execution_count": 14,
      "outputs": []
    },
    {
      "cell_type": "code",
      "source": [
        "model = MyModel()\n",
        "model.build((1, 32, 32, 3))\n",
        "model.compile(\n",
        "    optimizer=tf.keras.optimizers.Adam(lr=0.0001),\n",
        "    loss=tf.keras.losses.SparseCategoricalCrossentropy(from_logits=True),\n",
        "    metrics=[\"accuracy\"],\n",
        ")\n",
        "model.summary()"
      ],
      "metadata": {
        "colab": {
          "base_uri": "https://localhost:8080/"
        },
        "id": "pqCWUgdHqX8E",
        "outputId": "d29e0f06-0fd0-4f3e-fbce-3a609355ea4c"
      },
      "execution_count": 15,
      "outputs": [
        {
          "output_type": "stream",
          "name": "stdout",
          "text": [
            "Model: \"my_model\"\n",
            "_________________________________________________________________\n",
            " Layer (type)                Output Shape              Param #   \n",
            "=================================================================\n",
            " model (Functional)          (None, 8, 8, 256)         229760    \n",
            "                                                                 \n",
            " monte_carlo_dropout (MonteC  multiple                 0         \n",
            " arloDropout)                                                    \n",
            "                                                                 \n",
            " dense (Dense)               multiple                  2570      \n",
            "                                                                 \n",
            "=================================================================\n",
            "Total params: 232,330\n",
            "Trainable params: 229,386\n",
            "Non-trainable params: 2,944\n",
            "_________________________________________________________________\n"
          ]
        },
        {
          "output_type": "stream",
          "name": "stderr",
          "text": [
            "/usr/local/lib/python3.7/dist-packages/keras/optimizers/optimizer_v2/adam.py:110: UserWarning: The `lr` argument is deprecated, use `learning_rate` instead.\n",
            "  super(Adam, self).__init__(name, **kwargs)\n"
          ]
        }
      ]
    },
    {
      "cell_type": "code",
      "source": [
        "checkpoint = tf.keras.callbacks.ModelCheckpoint(\n",
        "    \"ckpt_part_4/best_model\",\n",
        "    monitor=\"val_accuracy\",\n",
        "    mode=\"max\",\n",
        "    save_best_only=True,\n",
        "    save_weights_only=True,\n",
        ")\n",
        "early_stopping = tf.keras.callbacks.EarlyStopping(monitor='val_accuracy', patience=10)\n",
        "\n",
        "history = model.fit(\n",
        "    train_ds,\n",
        "    validation_data=val_ds,\n",
        "    epochs=100,\n",
        "    callbacks=[checkpoint, early_stopping],\n",
        ")"
      ],
      "metadata": {
        "colab": {
          "base_uri": "https://localhost:8080/"
        },
        "id": "SxHvLE3usXMq",
        "outputId": "ecc3b0ea-7ca4-49b6-f7f1-17ed3996ddb1"
      },
      "execution_count": 16,
      "outputs": [
        {
          "output_type": "stream",
          "name": "stdout",
          "text": [
            "Epoch 1/100\n",
            "259/259 [==============================] - 14s 14ms/step - loss: 2.9212 - accuracy: 0.1374 - val_loss: 2.5908 - val_accuracy: 0.1538\n",
            "Epoch 2/100\n",
            "259/259 [==============================] - 2s 8ms/step - loss: 2.2900 - accuracy: 0.2651 - val_loss: 2.5449 - val_accuracy: 0.2374\n",
            "Epoch 3/100\n",
            "259/259 [==============================] - 2s 8ms/step - loss: 2.0317 - accuracy: 0.3372 - val_loss: 2.1913 - val_accuracy: 0.3124\n",
            "Epoch 4/100\n",
            "259/259 [==============================] - 2s 8ms/step - loss: 1.6820 - accuracy: 0.4286 - val_loss: 1.8745 - val_accuracy: 0.3998\n",
            "Epoch 5/100\n",
            "259/259 [==============================] - 2s 8ms/step - loss: 1.5361 - accuracy: 0.4717 - val_loss: 1.7924 - val_accuracy: 0.4391\n",
            "Epoch 6/100\n",
            "259/259 [==============================] - 2s 9ms/step - loss: 1.3639 - accuracy: 0.5360 - val_loss: 1.5631 - val_accuracy: 0.4674\n",
            "Epoch 7/100\n",
            "259/259 [==============================] - 2s 9ms/step - loss: 1.2481 - accuracy: 0.5747 - val_loss: 1.5520 - val_accuracy: 0.5154\n",
            "Epoch 8/100\n",
            "259/259 [==============================] - 2s 8ms/step - loss: 1.0942 - accuracy: 0.6231 - val_loss: 1.3839 - val_accuracy: 0.5215\n",
            "Epoch 9/100\n",
            "259/259 [==============================] - 2s 8ms/step - loss: 1.0163 - accuracy: 0.6580 - val_loss: 1.4361 - val_accuracy: 0.5338\n",
            "Epoch 10/100\n",
            "259/259 [==============================] - 2s 8ms/step - loss: 0.9223 - accuracy: 0.6880 - val_loss: 1.3023 - val_accuracy: 0.6015\n",
            "Epoch 11/100\n",
            "259/259 [==============================] - 2s 8ms/step - loss: 0.8433 - accuracy: 0.7175 - val_loss: 1.2802 - val_accuracy: 0.5658\n",
            "Epoch 12/100\n",
            "259/259 [==============================] - 2s 8ms/step - loss: 0.8159 - accuracy: 0.7204 - val_loss: 1.3352 - val_accuracy: 0.5904\n",
            "Epoch 13/100\n",
            "259/259 [==============================] - 2s 8ms/step - loss: 0.7172 - accuracy: 0.7533 - val_loss: 1.2737 - val_accuracy: 0.5929\n",
            "Epoch 14/100\n",
            "259/259 [==============================] - 3s 12ms/step - loss: 0.6647 - accuracy: 0.7736 - val_loss: 1.2428 - val_accuracy: 0.6298\n",
            "Epoch 15/100\n",
            "259/259 [==============================] - 2s 9ms/step - loss: 0.6166 - accuracy: 0.7886 - val_loss: 1.0196 - val_accuracy: 0.6617\n",
            "Epoch 16/100\n",
            "259/259 [==============================] - 2s 8ms/step - loss: 0.5638 - accuracy: 0.8021 - val_loss: 1.3124 - val_accuracy: 0.5929\n",
            "Epoch 17/100\n",
            "259/259 [==============================] - 2s 8ms/step - loss: 0.5447 - accuracy: 0.8244 - val_loss: 1.2031 - val_accuracy: 0.6421\n",
            "Epoch 18/100\n",
            "259/259 [==============================] - 2s 8ms/step - loss: 0.4927 - accuracy: 0.8428 - val_loss: 1.4115 - val_accuracy: 0.6199\n",
            "Epoch 19/100\n",
            "259/259 [==============================] - 2s 8ms/step - loss: 0.4504 - accuracy: 0.8481 - val_loss: 1.6513 - val_accuracy: 0.5695\n",
            "Epoch 20/100\n",
            "259/259 [==============================] - 2s 8ms/step - loss: 0.3892 - accuracy: 0.8703 - val_loss: 1.2118 - val_accuracy: 0.6605\n",
            "Epoch 21/100\n",
            "259/259 [==============================] - 2s 8ms/step - loss: 0.3901 - accuracy: 0.8689 - val_loss: 1.3427 - val_accuracy: 0.6531\n",
            "Epoch 22/100\n",
            "259/259 [==============================] - 2s 8ms/step - loss: 0.3169 - accuracy: 0.9013 - val_loss: 1.3638 - val_accuracy: 0.6224\n",
            "Epoch 23/100\n",
            "259/259 [==============================] - 2s 8ms/step - loss: 0.3233 - accuracy: 0.8984 - val_loss: 1.3761 - val_accuracy: 0.6273\n",
            "Epoch 24/100\n",
            "259/259 [==============================] - 2s 8ms/step - loss: 0.2808 - accuracy: 0.9115 - val_loss: 1.5916 - val_accuracy: 0.6273\n",
            "Epoch 25/100\n",
            "259/259 [==============================] - 2s 8ms/step - loss: 0.2690 - accuracy: 0.9144 - val_loss: 1.4309 - val_accuracy: 0.6187\n"
          ]
        }
      ]
    },
    {
      "cell_type": "code",
      "source": [
        "model.load_weights(\"ckpt_part_4/best_model\")"
      ],
      "metadata": {
        "colab": {
          "base_uri": "https://localhost:8080/"
        },
        "id": "ckeps0kw2GJI",
        "outputId": "8415dced-8bc0-4931-98f2-d390be987e28"
      },
      "execution_count": 17,
      "outputs": [
        {
          "output_type": "execute_result",
          "data": {
            "text/plain": [
              "<tensorflow.python.training.tracking.util.CheckpointLoadStatus at 0x7fd15050c810>"
            ]
          },
          "metadata": {},
          "execution_count": 17
        }
      ]
    },
    {
      "cell_type": "code",
      "source": [
        "import matplotlib.pyplot as plt\n",
        "import seaborn as sns\n",
        "from sklearn.metrics import accuracy_score, confusion_matrix\n",
        "\n",
        "def evaluate_model(model, dataset):\n",
        "    labels = np.concatenate([y.numpy() for x, y in dataset], axis=0).argmax(axis=1)\n",
        "    pred_labels = np.argmax(model.predict(dataset), axis=1)\n",
        "    cm = confusion_matrix(labels, pred_labels)\n",
        "    acc = accuracy_score(labels, pred_labels)\n",
        "    return acc, cm\n",
        "\n",
        "def show_confusion_matrix(cm, labels):\n",
        "    plt.figure(figsize=(10, 8))\n",
        "    sns.heatmap(cm, xticklabels=labels, yticklabels=labels, \n",
        "                annot=True, fmt='g')\n",
        "    plt.xlabel('Prediction')\n",
        "    plt.ylabel('Label')\n",
        "    plt.show()\n",
        "\n",
        "def evaluate_model2(model, ds, df):\n",
        "  model_prediction = model.predict(ds)\n",
        "  loss_fn = tf.keras.losses.SparseCategoricalCrossentropy(\n",
        "      from_logits=True, reduction=tf.keras.losses.Reduction.NONE\n",
        "  )\n",
        "  loss = loss_fn(\n",
        "      np.repeat(model_prediction[1][:, np.newaxis], axis=1, repeats=50),\n",
        "      model_prediction[2],\n",
        "  )\n",
        "  loss_variance = np.var(loss, axis=1)\n",
        "  predicted_labels = np.argmax(model_prediction[0], axis=1)\n",
        "  cm = confusion_matrix(model_prediction[1], predicted_labels)\n",
        "  acc = accuracy_score(model_prediction[1], predicted_labels)\n",
        "\n",
        "  df.loc[:, \"loss_variance\"] = loss_variance\n",
        "  df.loc[:, \"predicted_label\"] = predicted_labels\n",
        "  df.loc[:, \"label\"] = model_prediction[1]\n",
        "  return df, acc, cm"
      ],
      "metadata": {
        "id": "T_GUiXKW5GRI"
      },
      "execution_count": 18,
      "outputs": []
    },
    {
      "cell_type": "code",
      "source": [
        "train_ds = tf.data.Dataset.list_files(str(train_dir/'*/*.png'), shuffle=False)\n",
        "train_df = create_dataset_df(train_ds)\n",
        "train_ds = train_ds.map(process_path, num_parallel_calls=AUTOTUNE)\n",
        "train_ds = configure_for_performance(train_ds, shuffle=False)\n",
        "\n",
        "\n",
        "train_df, train_acc, train_cm = evaluate_model2(model, train_ds, train_df)\n",
        "print(f\"Train Accuracy: {train_acc}\")\n",
        "show_confusion_matrix(train_cm, labels)\n"
      ],
      "metadata": {
        "colab": {
          "base_uri": "https://localhost:8080/",
          "height": 533
        },
        "id": "9DJFT5cO7yeY",
        "outputId": "5f085da9-e261-4e42-93b5-31e5bc456655"
      },
      "execution_count": 19,
      "outputs": [
        {
          "output_type": "stream",
          "name": "stdout",
          "text": [
            "259/259 [==============================] - 22s 48ms/step\n",
            "Train Accuracy: 0.9632317368166424\n"
          ]
        },
        {
          "output_type": "display_data",
          "data": {
            "text/plain": [
              "<Figure size 720x576 with 2 Axes>"
            ],
            "image/png": "[encoded data removed]"
          },
          "metadata": {
            "needs_background": "light"
          }
        }
      ]
    },
    {
      "cell_type": "code",
      "source": [
        "val_df, val_acc, val_cm = evaluate_model2(model, val_ds, val_df)\n",
        "print(f\"Val Accuracy: {val_acc}\")\n",
        "show_confusion_matrix(val_cm, labels)\n"
      ],
      "metadata": {
        "colab": {
          "base_uri": "https://localhost:8080/",
          "height": 533
        },
        "id": "zMXADpBp73oX",
        "outputId": "08e9cb05-81fb-44d2-f164-128ede15386f"
      },
      "execution_count": 20,
      "outputs": [
        {
          "output_type": "stream",
          "name": "stdout",
          "text": [
            "102/102 [==============================] - 4s 38ms/step\n",
            "Val Accuracy: 0.7183271832718328\n"
          ]
        },
        {
          "output_type": "display_data",
          "data": {
            "text/plain": [
              "<Figure size 720x576 with 2 Axes>"
            ],
            "image/png": "[encoded data removed]"
          },
          "metadata": {
            "needs_background": "light"
          }
        }
      ]
    },
    {
      "cell_type": "code",
      "source": [
        "test_df, test_acc, test_cm = evaluate_model2(model, test_ds, test_df)\n",
        "print(f\"Test Accuracy: {test_acc}\")\n",
        "show_confusion_matrix(test_cm, labels)\n"
      ],
      "metadata": {
        "colab": {
          "base_uri": "https://localhost:8080/",
          "height": 537
        },
        "id": "vw31TVtx-yLm",
        "outputId": "deb42f3b-19a2-4018-edbc-3344b346e810"
      },
      "execution_count": 21,
      "outputs": [
        {
          "output_type": "stream",
          "name": "stdout",
          "text": [
            "7/7 [==============================] - 0s 48ms/step\n",
            "Test Accuracy: 0.5576923076923077\n"
          ]
        },
        {
          "output_type": "display_data",
          "data": {
            "text/plain": [
              "<Figure size 720x576 with 2 Axes>"
            ],
            "image/png": "[encoded data removed]"
          },
          "metadata": {
            "needs_background": "light"
          }
        }
      ]
    },
    {
      "cell_type": "code",
      "source": [
        "test_df[test_df['loss_variance'] > 1.0]"
      ],
      "metadata": {
        "colab": {
          "base_uri": "https://localhost:8080/",
          "height": 457
        },
        "id": "rrDTJI07Ok9O",
        "outputId": "cab530a3-4c37-4633-e9f8-e6b1f646bcad"
      },
      "execution_count": 22,
      "outputs": [
        {
          "output_type": "execute_result",
          "data": {
            "text/plain": [
              "                                            filenames  label  loss_variance  \\\n",
              "7   label_book/ii/a3b8f1fc-ce5d-11eb-b317-38f9d35e...      1       1.521194   \n",
              "18  label_book/iv/a6f8c07c-ce5d-11eb-b317-38f9d35e...      3       5.716460   \n",
              "21  label_book/ix/a7967416-ce5d-11eb-b317-38f9d35e...      4       1.792846   \n",
              "23  label_book/ix/a7ae10bc-ce5d-11eb-b317-38f9d35e...      4       3.027948   \n",
              "24  label_book/ix/a7dae376-ce5d-11eb-b317-38f9d35e...      4       1.007142   \n",
              "25  label_book/ix/a821f1a8-ce5d-11eb-b317-38f9d35e...      4       1.263406   \n",
              "26  label_book/v/a88a741c-ce5d-11eb-b317-38f9d35ea...      5       1.523610   \n",
              "28  label_book/v/a8d56ac6-ce5d-11eb-b317-38f9d35ea...      5       1.028805   \n",
              "32  label_book/vi/a2f7b186-ce5d-11eb-b317-38f9d35e...      6       1.498479   \n",
              "38  label_book/vii/a55094e8-ce5d-11eb-b317-38f9d35...      7       1.355349   \n",
              "41  label_book/vii/a5ade382-ce5d-11eb-b317-38f9d35...      7       1.314596   \n",
              "47  label_book/x/a97df060-ce5d-11eb-b317-38f9d35ea...      9       2.597375   \n",
              "49  label_book/x/a9b14348-ce5d-11eb-b317-38f9d35ea...      9       1.222234   \n",
              "\n",
              "    predicted_label  \n",
              "7                 8  \n",
              "18                2  \n",
              "21                3  \n",
              "23                3  \n",
              "24                3  \n",
              "25                4  \n",
              "26                1  \n",
              "28                0  \n",
              "32                0  \n",
              "38                2  \n",
              "41                2  \n",
              "47                5  \n",
              "49                4  "
            ],
            "text/html": [
              "\n",
              "  <div id=\"df-415eaa57-2acd-4960-8a7b-9fb13e52bdc2\">\n",
              "    <div class=\"colab-df-container\">\n",
              "      <div>\n",
              "<style scoped>\n",
              "    .dataframe tbody tr th:only-of-type {\n",
              "        vertical-align: middle;\n",
              "    }\n",
              "\n",
              "    .dataframe tbody tr th {\n",
              "        vertical-align: top;\n",
              "    }\n",
              "\n",
              "    .dataframe thead th {\n",
              "        text-align: right;\n",
              "    }\n",
              "</style>\n",
              "<table border=\"1\" class=\"dataframe\">\n",
              "  <thead>\n",
              "    <tr style=\"text-align: right;\">\n",
              "      <th></th>\n",
              "      <th>filenames</th>\n",
              "      <th>label</th>\n",
              "      <th>loss_variance</th>\n",
              "      <th>predicted_label</th>\n",
              "    </tr>\n",
              "  </thead>\n",
              "  <tbody>\n",
              "    <tr>\n",
              "      <th>7</th>\n",
              "      <td>label_book/ii/a3b8f1fc-ce5d-11eb-b317-38f9d35e...</td>\n",
              "      <td>1</td>\n",
              "      <td>1.521194</td>\n",
              "      <td>8</td>\n",
              "    </tr>\n",
              "    <tr>\n",
              "      <th>18</th>\n",
              "      <td>label_book/iv/a6f8c07c-ce5d-11eb-b317-38f9d35e...</td>\n",
              "      <td>3</td>\n",
              "      <td>5.716460</td>\n",
              "      <td>2</td>\n",
              "    </tr>\n",
              "    <tr>\n",
              "      <th>21</th>\n",
              "      <td>label_book/ix/a7967416-ce5d-11eb-b317-38f9d35e...</td>\n",
              "      <td>4</td>\n",
              "      <td>1.792846</td>\n",
              "      <td>3</td>\n",
              "    </tr>\n",
              "    <tr>\n",
              "      <th>23</th>\n",
              "      <td>label_book/ix/a7ae10bc-ce5d-11eb-b317-38f9d35e...</td>\n",
              "      <td>4</td>\n",
              "      <td>3.027948</td>\n",
              "      <td>3</td>\n",
              "    </tr>\n",
              "    <tr>\n",
              "      <th>24</th>\n",
              "      <td>label_book/ix/a7dae376-ce5d-11eb-b317-38f9d35e...</td>\n",
              "      <td>4</td>\n",
              "      <td>1.007142</td>\n",
              "      <td>3</td>\n",
              "    </tr>\n",
              "    <tr>\n",
              "      <th>25</th>\n",
              "      <td>label_book/ix/a821f1a8-ce5d-11eb-b317-38f9d35e...</td>\n",
              "      <td>4</td>\n",
              "      <td>1.263406</td>\n",
              "      <td>4</td>\n",
              "    </tr>\n",
              "    <tr>\n",
              "      <th>26</th>\n",
              "      <td>label_book/v/a88a741c-ce5d-11eb-b317-38f9d35ea...</td>\n",
              "      <td>5</td>\n",
              "      <td>1.523610</td>\n",
              "      <td>1</td>\n",
              "    </tr>\n",
              "    <tr>\n",
              "      <th>28</th>\n",
              "      <td>label_book/v/a8d56ac6-ce5d-11eb-b317-38f9d35ea...</td>\n",
              "      <td>5</td>\n",
              "      <td>1.028805</td>\n",
              "      <td>0</td>\n",
              "    </tr>\n",
              "    <tr>\n",
              "      <th>32</th>\n",
              "      <td>label_book/vi/a2f7b186-ce5d-11eb-b317-38f9d35e...</td>\n",
              "      <td>6</td>\n",
              "      <td>1.498479</td>\n",
              "      <td>0</td>\n",
              "    </tr>\n",
              "    <tr>\n",
              "      <th>38</th>\n",
              "      <td>label_book/vii/a55094e8-ce5d-11eb-b317-38f9d35...</td>\n",
              "      <td>7</td>\n",
              "      <td>1.355349</td>\n",
              "      <td>2</td>\n",
              "    </tr>\n",
              "    <tr>\n",
              "      <th>41</th>\n",
              "      <td>label_book/vii/a5ade382-ce5d-11eb-b317-38f9d35...</td>\n",
              "      <td>7</td>\n",
              "      <td>1.314596</td>\n",
              "      <td>2</td>\n",
              "    </tr>\n",
              "    <tr>\n",
              "      <th>47</th>\n",
              "      <td>label_book/x/a97df060-ce5d-11eb-b317-38f9d35ea...</td>\n",
              "      <td>9</td>\n",
              "      <td>2.597375</td>\n",
              "      <td>5</td>\n",
              "    </tr>\n",
              "    <tr>\n",
              "      <th>49</th>\n",
              "      <td>label_book/x/a9b14348-ce5d-11eb-b317-38f9d35ea...</td>\n",
              "      <td>9</td>\n",
              "      <td>1.222234</td>\n",
              "      <td>4</td>\n",
              "    </tr>\n",
              "  </tbody>\n",
              "</table>\n",
              "</div>\n",
              "      <button class=\"colab-df-convert\" onclick=\"convertToInteractive('df-415eaa57-2acd-4960-8a7b-9fb13e52bdc2')\"\n",
              "              title=\"Convert this dataframe to an interactive table.\"\n",
              "              style=\"display:none;\">\n",
              "        \n",
              "  <svg xmlns=\"http://www.w3.org/2000/svg\" height=\"24px\"viewBox=\"0 0 24 24\"\n",
              "       width=\"24px\">\n",
              "    <path d=\"M0 0h24v24H0V0z\" fill=\"none\"/>\n",
              "    <path d=\"M18.56 5.44l.94 2.06.94-2.06 2.06-.94-2.06-.94-.94-2.06-.94 2.06-2.06.94zm-11 1L8.5 8.5l.94-2.06 2.06-.94-2.06-.94L8.5 2.5l-.94 2.06-2.06.94zm10 10l.94 2.06.94-2.06 2.06-.94-2.06-.94-.94-2.06-.94 2.06-2.06.94z\"/><path d=\"M17.41 7.96l-1.37-1.37c-.4-.4-.92-.59-1.43-.59-.52 0-1.04.2-1.43.59L10.3 9.45l-7.72 7.72c-.78.78-.78 2.05 0 2.83L4 21.41c.39.39.9.59 1.41.59.51 0 1.02-.2 1.41-.59l7.78-7.78 2.81-2.81c.8-.78.8-2.07 0-2.86zM5.41 20L4 18.59l7.72-7.72 1.47 1.35L5.41 20z\"/>\n",
              "  </svg>\n",
              "      </button>\n",
              "      \n",
              "  <style>\n",
              "    .colab-df-container {\n",
              "      display:flex;\n",
              "      flex-wrap:wrap;\n",
              "      gap: 12px;\n",
              "    }\n",
              "\n",
              "    .colab-df-convert {\n",
              "      background-color: #E8F0FE;\n",
              "      border: none;\n",
              "      border-radius: 50%;\n",
              "      cursor: pointer;\n",
              "      display: none;\n",
              "      fill: #1967D2;\n",
              "      height: 32px;\n",
              "      padding: 0 0 0 0;\n",
              "      width: 32px;\n",
              "    }\n",
              "\n",
              "    .colab-df-convert:hover {\n",
              "      background-color: #E2EBFA;\n",
              "      box-shadow: 0px 1px 2px rgba(60, 64, 67, 0.3), 0px 1px 3px 1px rgba(60, 64, 67, 0.15);\n",
              "      fill: #174EA6;\n",
              "    }\n",
              "\n",
              "    [theme=dark] .colab-df-convert {\n",
              "      background-color: #3B4455;\n",
              "      fill: #D2E3FC;\n",
              "    }\n",
              "\n",
              "    [theme=dark] .colab-df-convert:hover {\n",
              "      background-color: #434B5C;\n",
              "      box-shadow: 0px 1px 3px 1px rgba(0, 0, 0, 0.15);\n",
              "      filter: drop-shadow(0px 1px 2px rgba(0, 0, 0, 0.3));\n",
              "      fill: #FFFFFF;\n",
              "    }\n",
              "  </style>\n",
              "\n",
              "      <script>\n",
              "        const buttonEl =\n",
              "          document.querySelector('#df-415eaa57-2acd-4960-8a7b-9fb13e52bdc2 button.colab-df-convert');\n",
              "        buttonEl.style.display =\n",
              "          google.colab.kernel.accessAllowed ? 'block' : 'none';\n",
              "\n",
              "        async function convertToInteractive(key) {\n",
              "          const element = document.querySelector('#df-415eaa57-2acd-4960-8a7b-9fb13e52bdc2');\n",
              "          const dataTable =\n",
              "            await google.colab.kernel.invokeFunction('convertToInteractive',\n",
              "                                                     [key], {});\n",
              "          if (!dataTable) return;\n",
              "\n",
              "          const docLinkHtml = 'Like what you see? Visit the ' +\n",
              "            '<a target=\"_blank\" href=https://colab.research.google.com/notebooks/data_table.ipynb>data table notebook</a>'\n",
              "            + ' to learn more about interactive tables.';\n",
              "          element.innerHTML = '';\n",
              "          dataTable['output_type'] = 'display_data';\n",
              "          await google.colab.output.renderOutput(dataTable, element);\n",
              "          const docLink = document.createElement('div');\n",
              "          docLink.innerHTML = docLinkHtml;\n",
              "          element.appendChild(docLink);\n",
              "        }\n",
              "      </script>\n",
              "    </div>\n",
              "  </div>\n",
              "  "
            ]
          },
          "metadata": {},
          "execution_count": 22
        }
      ]
    },
    {
      "cell_type": "code",
      "source": [
        "train_df[['loss_variance']].describe()"
      ],
      "metadata": {
        "colab": {
          "base_uri": "https://localhost:8080/",
          "height": 300
        },
        "id": "0i9of01oQjY0",
        "outputId": "22e1dc1d-dc07-4512-81e0-233ceb74e3b7"
      },
      "execution_count": 23,
      "outputs": [
        {
          "output_type": "execute_result",
          "data": {
            "text/plain": [
              "       loss_variance\n",
              "count   2.067000e+03\n",
              "mean    1.103253e-01\n",
              "std     2.075817e-01\n",
              "min     1.442954e-08\n",
              "25%     7.017246e-03\n",
              "50%     3.509161e-02\n",
              "75%     1.222691e-01\n",
              "max     2.117602e+00"
            ],
            "text/html": [
              "\n",
              "  <div id=\"df-0efab017-1b94-4bae-8ec7-906b07b2cf76\">\n",
              "    <div class=\"colab-df-container\">\n",
              "      <div>\n",
              "<style scoped>\n",
              "    .dataframe tbody tr th:only-of-type {\n",
              "        vertical-align: middle;\n",
              "    }\n",
              "\n",
              "    .dataframe tbody tr th {\n",
              "        vertical-align: top;\n",
              "    }\n",
              "\n",
              "    .dataframe thead th {\n",
              "        text-align: right;\n",
              "    }\n",
              "</style>\n",
              "<table border=\"1\" class=\"dataframe\">\n",
              "  <thead>\n",
              "    <tr style=\"text-align: right;\">\n",
              "      <th></th>\n",
              "      <th>loss_variance</th>\n",
              "    </tr>\n",
              "  </thead>\n",
              "  <tbody>\n",
              "    <tr>\n",
              "      <th>count</th>\n",
              "      <td>2.067000e+03</td>\n",
              "    </tr>\n",
              "    <tr>\n",
              "      <th>mean</th>\n",
              "      <td>1.103253e-01</td>\n",
              "    </tr>\n",
              "    <tr>\n",
              "      <th>std</th>\n",
              "      <td>2.075817e-01</td>\n",
              "    </tr>\n",
              "    <tr>\n",
              "      <th>min</th>\n",
              "      <td>1.442954e-08</td>\n",
              "    </tr>\n",
              "    <tr>\n",
              "      <th>25%</th>\n",
              "      <td>7.017246e-03</td>\n",
              "    </tr>\n",
              "    <tr>\n",
              "      <th>50%</th>\n",
              "      <td>3.509161e-02</td>\n",
              "    </tr>\n",
              "    <tr>\n",
              "      <th>75%</th>\n",
              "      <td>1.222691e-01</td>\n",
              "    </tr>\n",
              "    <tr>\n",
              "      <th>max</th>\n",
              "      <td>2.117602e+00</td>\n",
              "    </tr>\n",
              "  </tbody>\n",
              "</table>\n",
              "</div>\n",
              "      <button class=\"colab-df-convert\" onclick=\"convertToInteractive('df-0efab017-1b94-4bae-8ec7-906b07b2cf76')\"\n",
              "              title=\"Convert this dataframe to an interactive table.\"\n",
              "              style=\"display:none;\">\n",
              "        \n",
              "  <svg xmlns=\"http://www.w3.org/2000/svg\" height=\"24px\"viewBox=\"0 0 24 24\"\n",
              "       width=\"24px\">\n",
              "    <path d=\"M0 0h24v24H0V0z\" fill=\"none\"/>\n",
              "    <path d=\"M18.56 5.44l.94 2.06.94-2.06 2.06-.94-2.06-.94-.94-2.06-.94 2.06-2.06.94zm-11 1L8.5 8.5l.94-2.06 2.06-.94-2.06-.94L8.5 2.5l-.94 2.06-2.06.94zm10 10l.94 2.06.94-2.06 2.06-.94-2.06-.94-.94-2.06-.94 2.06-2.06.94z\"/><path d=\"M17.41 7.96l-1.37-1.37c-.4-.4-.92-.59-1.43-.59-.52 0-1.04.2-1.43.59L10.3 9.45l-7.72 7.72c-.78.78-.78 2.05 0 2.83L4 21.41c.39.39.9.59 1.41.59.51 0 1.02-.2 1.41-.59l7.78-7.78 2.81-2.81c.8-.78.8-2.07 0-2.86zM5.41 20L4 18.59l7.72-7.72 1.47 1.35L5.41 20z\"/>\n",
              "  </svg>\n",
              "      </button>\n",
              "      \n",
              "  <style>\n",
              "    .colab-df-container {\n",
              "      display:flex;\n",
              "      flex-wrap:wrap;\n",
              "      gap: 12px;\n",
              "    }\n",
              "\n",
              "    .colab-df-convert {\n",
              "      background-color: #E8F0FE;\n",
              "      border: none;\n",
              "      border-radius: 50%;\n",
              "      cursor: pointer;\n",
              "      display: none;\n",
              "      fill: #1967D2;\n",
              "      height: 32px;\n",
              "      padding: 0 0 0 0;\n",
              "      width: 32px;\n",
              "    }\n",
              "\n",
              "    .colab-df-convert:hover {\n",
              "      background-color: #E2EBFA;\n",
              "      box-shadow: 0px 1px 2px rgba(60, 64, 67, 0.3), 0px 1px 3px 1px rgba(60, 64, 67, 0.15);\n",
              "      fill: #174EA6;\n",
              "    }\n",
              "\n",
              "    [theme=dark] .colab-df-convert {\n",
              "      background-color: #3B4455;\n",
              "      fill: #D2E3FC;\n",
              "    }\n",
              "\n",
              "    [theme=dark] .colab-df-convert:hover {\n",
              "      background-color: #434B5C;\n",
              "      box-shadow: 0px 1px 3px 1px rgba(0, 0, 0, 0.15);\n",
              "      filter: drop-shadow(0px 1px 2px rgba(0, 0, 0, 0.3));\n",
              "      fill: #FFFFFF;\n",
              "    }\n",
              "  </style>\n",
              "\n",
              "      <script>\n",
              "        const buttonEl =\n",
              "          document.querySelector('#df-0efab017-1b94-4bae-8ec7-906b07b2cf76 button.colab-df-convert');\n",
              "        buttonEl.style.display =\n",
              "          google.colab.kernel.accessAllowed ? 'block' : 'none';\n",
              "\n",
              "        async function convertToInteractive(key) {\n",
              "          const element = document.querySelector('#df-0efab017-1b94-4bae-8ec7-906b07b2cf76');\n",
              "          const dataTable =\n",
              "            await google.colab.kernel.invokeFunction('convertToInteractive',\n",
              "                                                     [key], {});\n",
              "          if (!dataTable) return;\n",
              "\n",
              "          const docLinkHtml = 'Like what you see? Visit the ' +\n",
              "            '<a target=\"_blank\" href=https://colab.research.google.com/notebooks/data_table.ipynb>data table notebook</a>'\n",
              "            + ' to learn more about interactive tables.';\n",
              "          element.innerHTML = '';\n",
              "          dataTable['output_type'] = 'display_data';\n",
              "          await google.colab.output.renderOutput(dataTable, element);\n",
              "          const docLink = document.createElement('div');\n",
              "          docLink.innerHTML = docLinkHtml;\n",
              "          element.appendChild(docLink);\n",
              "        }\n",
              "      </script>\n",
              "    </div>\n",
              "  </div>\n",
              "  "
            ]
          },
          "metadata": {},
          "execution_count": 23
        }
      ]
    },
    {
      "cell_type": "markdown",
      "source": [
        "## Label Correction\n",
        "We perform label correction by inspecting a subset of each dataset with prediction uncertainty above a selected threshold."
      ],
      "metadata": {
        "id": "6aevpp2PNW-Q"
      }
    },
    {
      "cell_type": "code",
      "source": [
        "import os, glob, shutil\n",
        "from PIL import Image\n",
        "import matplotlib.pyplot as plt\n",
        "\n",
        "\n",
        "import ipywidgets as widgets\n",
        "from IPython.display import display\n",
        "from ipywidgets import IntProgress, HTML, VBox, HBox"
      ],
      "metadata": {
        "id": "CwuQ8GYLaq9Z"
      },
      "execution_count": 24,
      "outputs": []
    },
    {
      "cell_type": "code",
      "source": [
        "splits = {\n",
        "    \"train\": train_df,\n",
        "    \"val\": val_df,\n",
        "    \"test\": test_df\n",
        "}\n",
        "path = None\n",
        "\n",
        "def display_img(splits_dropdown, index, var_slider):\n",
        "    global label, path\n",
        "    df = splits[splits_dropdown]\n",
        "    row = df[(df['loss_variance']>= var_slider[0]) & (df['loss_variance']<= var_slider[1])].iloc[index]\n",
        "    path = row.filenames\n",
        "    label.value = str(labels[row.label]) + \"  \" + f\"loss_var: {row.loss_variance:.3f}\"\n",
        "    plt.figure(figsize=(8, 8), dpi=80)\n",
        "    plt.imshow(Image.open(path), cmap='gray', vmin=0, vmax=255)\n",
        "    plt.axis(\"off\")\n",
        "    plt.show()\n",
        "\n",
        "next_button = widgets.Button(\n",
        "    description='Next',\n",
        "    disabled=False,\n",
        "    button_style='success',\n",
        "    tooltip='Next Sample',\n",
        "    icon='arrow-right'\n",
        ")\n",
        "\n",
        "prev_button = widgets.Button(\n",
        "    description='Previous',\n",
        "    disabled=False,\n",
        "    button_style='success',\n",
        "    tooltip='Previous Sample',\n",
        "    icon='arrow-left'\n",
        ")\n",
        "change_label_btn = widgets.Button(\n",
        "    description='Change Label',\n",
        "    disabled=False,\n",
        "    button_style='success',\n",
        "    tooltip='Change Label',\n",
        "    icon='check'\n",
        ")\n",
        "delete_btn = widgets.Button(\n",
        "    description='Delete',\n",
        "    disabled=False,\n",
        "    button_style='danger',\n",
        "    tooltip='Delete',\n",
        "    icon='fa-trash'\n",
        ")\n",
        "splits_dropdown = widgets.Dropdown(\n",
        "    description='Splits',\n",
        "    options=['train', 'val', 'test'],\n",
        "    value='train',\n",
        "    disabled=False,\n",
        ")\n",
        "\n",
        "index = widgets.IntSlider(\n",
        "    value=0,\n",
        "    min=0,\n",
        "    max=len(splits[splits_dropdown.value])-1,\n",
        "    step=1,\n",
        "    description='Index:',\n",
        "    disabled=False,\n",
        "    continuous_update=False,\n",
        "    orientation='horizontal',\n",
        "    readout=True,\n",
        "    readout_format='d'\n",
        ")\n",
        "\n",
        "var_slider = widgets.FloatRangeSlider(\n",
        "    value=[0, 10],\n",
        "    min=0.0,\n",
        "    max=10.0,\n",
        "    description='Variance:',\n",
        "    disabled=False,\n",
        "    continuous_update=False,\n",
        "    orientation='horizontal',\n",
        "    readout=True,\n",
        ")\n",
        "  \n",
        "label = widgets.Text(\n",
        "    value='',\n",
        "    placeholder='Label',\n",
        "    description='Label:',\n",
        "    disabled=False\n",
        ")\n",
        "\n",
        "new_label = widgets.Dropdown(\n",
        "    description='New Label',\n",
        "    options=[\"i\", \"ii\", \"iii\", \"iv\", \"v\", \"vi\", \"vii\", \"viii\", \"ix\", \"x\"],\n",
        "    value='i',\n",
        "    disabled=False,\n",
        ")\n",
        "\n",
        "ui_1 = widgets.HBox([prev_button, index, next_button, splits_dropdown, var_slider])\n",
        "ui_2 = widgets.HBox([label, new_label, change_label_btn, delete_btn])\n",
        "ui = widgets.VBox([ui_1, ui_2])\n",
        "\n",
        "interactive_out = widgets.interactive_output(display_img, {\"splits_dropdown\":splits_dropdown, \"index\": index, \"var_slider\":var_slider})\n",
        "\n",
        "def increment(_):\n",
        "    with interactive_out:\n",
        "        index.value+=1\n",
        "\n",
        "def decrement(_):\n",
        "    with interactive_out:\n",
        "        index.value-=1\n",
        "\n",
        "def change_label(_):\n",
        "  new_path = path.split(\"/\")\n",
        "  new_path[-2] = new_label.value\n",
        "  new_path = \"/\".join(new_path)\n",
        "  shutil.move(path, new_path)\n",
        "\n",
        "def delete_action(_):\n",
        "    os.remove(path)\n",
        "\n",
        "def update_index(_):\n",
        "    df = splits[splits_dropdown.value]\n",
        "    df = df[(df['loss_variance'] >= var_slider.value[0]) & (df['loss_variance']<= var_slider.value[1])]\n",
        "    index.max = len(df)-1\n",
        "\n",
        "splits_dropdown.observe(update_index)\n",
        "var_slider.observe(update_index)\n",
        "\n",
        "prev_button.on_click(decrement)\n",
        "next_button.on_click(increment)\n",
        "change_label_btn.on_click(change_label)\n",
        "delete_btn.on_click(delete_action)\n",
        "\n",
        "display(ui, interactive_out)"
      ],
      "metadata": {
        "colab": {
          "base_uri": "https://localhost:8080/",
          "height": 580,
          "referenced_widgets": [
            "dba36ad9941a4cc08807d864ea9bf91c",
            "2ba1bee7aa7c4793984eb4d10c9bb4b8",
            "47139a2ea7b64f70ac9ae124e374dcd1",
            "ea7bcd7004014cdc9964f7174767aa5f",
            "97934d4a60bc4f299f911eb70487b7ad",
            "d0483184d2a84f849955d13bc0f1d443",
            "324c0186375e4dfca59441d7bfb8088a",
            "0ddc43a3bff34e4caf96b443f63e7b79",
            "58f0c8f0961246a3b3aa6cf20da9962b",
            "06d20ff9f8c9422ba196773e736f4211",
            "ef8ce8cd3cf64453b0aef6b85d1e1d85",
            "056df7638ff7403385a71ec06c246d51",
            "62045596757249fd8f03530be38d8d66",
            "5ec5041d0ac449328c084e5765c7ec90",
            "b681a41cd9c34b61af408fd43d1f9fdd",
            "8379776a7f264c46a9ca30f87f56da78",
            "ef6184ea9c314bdf9efbbca996975242",
            "f443b3ffb70f406591ae104878507d9d",
            "a90890f2fcd34446b35a6bfa4b92eb8e",
            "f0455993a14f4d5480feb1ae057f1808",
            "fb475b6f85de4ec387b81c7b05e911f1",
            "7756853a173940f4945f3598a949f002",
            "0f0a85067a86453a863a83df3c3dcd3a",
            "dbbea2a2a2ca4ba495bdefc7cb02ba54",
            "b58af30f04374a59bae31d7bad1f9f26",
            "04b11b9b1ba449dc9e60553a44526501",
            "17a2d77aeee34631b3eeb21824545b97",
            "eb3a3073f06d48819b93761ea992a152",
            "9cfaad5f37b94dabb3acca5f931df95d",
            "2416c47e33f54ca1a4be8ee5dd44fdbc",
            "3ec831b495424451a7d6ca9ad7cf1b2f",
            "d27c2e1bec4643188666102eefa79e51",
            "e151754afb014add97e64afa12c0ac84",
            "4721a7a1ced04363a0cac26a989cce95",
            "49baea02e4154d13a53dba70074d9086"
          ]
        },
        "id": "ubI9rFA-OuAL",
        "outputId": "34e72561-6a8d-4005-9fac-c5c77d21b2c7"
      },
      "execution_count": 28,
      "outputs": [
        {
          "output_type": "display_data",
          "data": {
            "text/plain": [
              "VBox(children=(HBox(children=(Button(button_style='success', description='Previous', icon='arrow-left', style=…"
            ],
            "application/vnd.jupyter.widget-view+json": {
              "version_major": 2,
              "version_minor": 0,
              "model_id": "dba36ad9941a4cc08807d864ea9bf91c"
            }
          },
          "metadata": {}
        },
        {
          "output_type": "display_data",
          "data": {
            "text/plain": [
              "Output()"
            ],
            "application/vnd.jupyter.widget-view+json": {
              "version_major": 2,
              "version_minor": 0,
              "model_id": "4721a7a1ced04363a0cac26a989cce95"
            }
          },
          "metadata": {}
        }
      ]
    },
    {
      "cell_type": "code",
      "source": [
        "index"
      ],
      "metadata": {
        "colab": {
          "base_uri": "https://localhost:8080/",
          "height": 49,
          "referenced_widgets": [
            "3c993203f8ea482281b5833ae02f0964",
            "7cd3c7dc9fb348ae85bcd2800bfeadcd",
            "4f8cf54f78b34adf95a4c87641dd42a8"
          ]
        },
        "id": "QPOKV3TUXnHa",
        "outputId": "6323f801-194c-4a85-95af-271ecec3f32a"
      },
      "execution_count": null,
      "outputs": [
        {
          "output_type": "display_data",
          "data": {
            "text/plain": [
              "IntSlider(value=782, continuous_update=False, description='Index:', max=933)"
            ],
            "application/vnd.jupyter.widget-view+json": {
              "version_major": 2,
              "version_minor": 0,
              "model_id": "3c993203f8ea482281b5833ae02f0964"
            }
          },
          "metadata": {}
        }
      ]
    },
    {
      "cell_type": "code",
      "source": [
        "var_slider.value[0]"
      ],
      "metadata": {
        "colab": {
          "base_uri": "https://localhost:8080/"
        },
        "id": "tNiiMmHuaWe2",
        "outputId": "791230f6-150a-43e6-bd75-04b67cc3c547"
      },
      "execution_count": null,
      "outputs": [
        {
          "output_type": "execute_result",
          "data": {
            "text/plain": [
              "2.5"
            ]
          },
          "metadata": {},
          "execution_count": 69
        }
      ]
    },
    {
      "cell_type": "code",
      "source": [],
      "metadata": {
        "id": "cGdzXp5kcN8J"
      },
      "execution_count": null,
      "outputs": []
    }
  ]
}