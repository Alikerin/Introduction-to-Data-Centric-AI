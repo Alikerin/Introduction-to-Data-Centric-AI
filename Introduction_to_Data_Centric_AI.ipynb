{
  "nbformat": 4,
  "nbformat_minor": 0,
  "metadata": {
    "colab": {
      "provenance": [],
      "collapsed_sections": [],
      "include_colab_link": true
    },
    "kernelspec": {
      "name": "python3",
      "display_name": "Python 3"
    },
    "language_info": {
      "name": "python"
    },
    "accelerator": "GPU",
    "gpuClass": "standard",
    "widgets": {
      "application/vnd.jupyter.widget-state+json": {
        "2a91ffe39f3d4555b8aea48907e4d0e9": {
          "model_module": "@jupyter-widgets/controls",
          "model_name": "VBoxModel",
          "model_module_version": "1.5.0",
          "state": {
            "_dom_classes": [],
            "_model_module": "@jupyter-widgets/controls",
            "_model_module_version": "1.5.0",
            "_model_name": "VBoxModel",
            "_view_count": null,
            "_view_module": "@jupyter-widgets/controls",
            "_view_module_version": "1.5.0",
            "_view_name": "VBoxView",
            "box_style": "",
            "children": [
              "IPY_MODEL_e25ecb63a35a44c0aeaffcb47d691603",
              "IPY_MODEL_864bc9f8148f4aa7b1b29946c952e19b"
            ],
            "layout": "IPY_MODEL_37d77ed1a6e343c0b0a0bbda894c9ab0"
          }
        },
        "e25ecb63a35a44c0aeaffcb47d691603": {
          "model_module": "@jupyter-widgets/controls",
          "model_name": "HBoxModel",
          "model_module_version": "1.5.0",
          "state": {
            "_dom_classes": [],
            "_model_module": "@jupyter-widgets/controls",
            "_model_module_version": "1.5.0",
            "_model_name": "HBoxModel",
            "_view_count": null,
            "_view_module": "@jupyter-widgets/controls",
            "_view_module_version": "1.5.0",
            "_view_name": "HBoxView",
            "box_style": "",
            "children": [
              "IPY_MODEL_494ceaa14429460db40d738324776368",
              "IPY_MODEL_8f30779db32d48f88d0b44ad4ff7d08b",
              "IPY_MODEL_b94f577092b14ec28b16980289057566",
              "IPY_MODEL_cdfaba18b0f84422a0b5a437e4857341"
            ],
            "layout": "IPY_MODEL_f7b6ba7dd8994b2fb7c4bbbf66ef8d2c"
          }
        },
        "864bc9f8148f4aa7b1b29946c952e19b": {
          "model_module": "@jupyter-widgets/controls",
          "model_name": "HBoxModel",
          "model_module_version": "1.5.0",
          "state": {
            "_dom_classes": [],
            "_model_module": "@jupyter-widgets/controls",
            "_model_module_version": "1.5.0",
            "_model_name": "HBoxModel",
            "_view_count": null,
            "_view_module": "@jupyter-widgets/controls",
            "_view_module_version": "1.5.0",
            "_view_name": "HBoxView",
            "box_style": "",
            "children": [
              "IPY_MODEL_d80c514cf46f4f4f9e7bc0891ebc3197",
              "IPY_MODEL_46dbcab04d0f4712b99a4dc29e9bea53",
              "IPY_MODEL_9add66375cd94ae9bfdc4e3004b1482f",
              "IPY_MODEL_3b7c5a81c69a4b77a42459eae0917f6e"
            ],
            "layout": "IPY_MODEL_95e479550d7248b0857165babfd4ab76"
          }
        },
        "37d77ed1a6e343c0b0a0bbda894c9ab0": {
          "model_module": "@jupyter-widgets/base",
          "model_name": "LayoutModel",
          "model_module_version": "1.2.0",
          "state": {
            "_model_module": "@jupyter-widgets/base",
            "_model_module_version": "1.2.0",
            "_model_name": "LayoutModel",
            "_view_count": null,
            "_view_module": "@jupyter-widgets/base",
            "_view_module_version": "1.2.0",
            "_view_name": "LayoutView",
            "align_content": null,
            "align_items": null,
            "align_self": null,
            "border": null,
            "bottom": null,
            "display": null,
            "flex": null,
            "flex_flow": null,
            "grid_area": null,
            "grid_auto_columns": null,
            "grid_auto_flow": null,
            "grid_auto_rows": null,
            "grid_column": null,
            "grid_gap": null,
            "grid_row": null,
            "grid_template_areas": null,
            "grid_template_columns": null,
            "grid_template_rows": null,
            "height": null,
            "justify_content": null,
            "justify_items": null,
            "left": null,
            "margin": null,
            "max_height": null,
            "max_width": null,
            "min_height": null,
            "min_width": null,
            "object_fit": null,
            "object_position": null,
            "order": null,
            "overflow": null,
            "overflow_x": null,
            "overflow_y": null,
            "padding": null,
            "right": null,
            "top": null,
            "visibility": null,
            "width": null
          }
        },
        "494ceaa14429460db40d738324776368": {
          "model_module": "@jupyter-widgets/controls",
          "model_name": "ButtonModel",
          "model_module_version": "1.5.0",
          "state": {
            "_dom_classes": [],
            "_model_module": "@jupyter-widgets/controls",
            "_model_module_version": "1.5.0",
            "_model_name": "ButtonModel",
            "_view_count": null,
            "_view_module": "@jupyter-widgets/controls",
            "_view_module_version": "1.5.0",
            "_view_name": "ButtonView",
            "button_style": "success",
            "description": "Previous",
            "disabled": false,
            "icon": "arrow-left",
            "layout": "IPY_MODEL_4f6d17e0396547e4952dfb29e787177c",
            "style": "IPY_MODEL_05ecc1055dd6401f983f82d34623d89f",
            "tooltip": "Previous Sample"
          }
        },
        "8f30779db32d48f88d0b44ad4ff7d08b": {
          "model_module": "@jupyter-widgets/controls",
          "model_name": "IntSliderModel",
          "model_module_version": "1.5.0",
          "state": {
            "_dom_classes": [],
            "_model_module": "@jupyter-widgets/controls",
            "_model_module_version": "1.5.0",
            "_model_name": "IntSliderModel",
            "_view_count": null,
            "_view_module": "@jupyter-widgets/controls",
            "_view_module_version": "1.5.0",
            "_view_name": "IntSliderView",
            "continuous_update": false,
            "description": "Index:",
            "description_tooltip": null,
            "disabled": false,
            "layout": "IPY_MODEL_847207df2e5440e3a9cf67a2d1bc9d92",
            "max": 2066,
            "min": 0,
            "orientation": "horizontal",
            "readout": true,
            "readout_format": "d",
            "step": 1,
            "style": "IPY_MODEL_9fa359797b8f4049bf9fad831cc41c62",
            "value": 4
          }
        },
        "b94f577092b14ec28b16980289057566": {
          "model_module": "@jupyter-widgets/controls",
          "model_name": "ButtonModel",
          "model_module_version": "1.5.0",
          "state": {
            "_dom_classes": [],
            "_model_module": "@jupyter-widgets/controls",
            "_model_module_version": "1.5.0",
            "_model_name": "ButtonModel",
            "_view_count": null,
            "_view_module": "@jupyter-widgets/controls",
            "_view_module_version": "1.5.0",
            "_view_name": "ButtonView",
            "button_style": "success",
            "description": "Next",
            "disabled": false,
            "icon": "arrow-right",
            "layout": "IPY_MODEL_edca92a34ea94589a6eae917dd1b0b62",
            "style": "IPY_MODEL_797762f553d24062ad03b2bc967da50a",
            "tooltip": "Next Sample"
          }
        },
        "cdfaba18b0f84422a0b5a437e4857341": {
          "model_module": "@jupyter-widgets/controls",
          "model_name": "DropdownModel",
          "model_module_version": "1.5.0",
          "state": {
            "_dom_classes": [],
            "_model_module": "@jupyter-widgets/controls",
            "_model_module_version": "1.5.0",
            "_model_name": "DropdownModel",
            "_options_labels": [
              "train",
              "val",
              "test"
            ],
            "_view_count": null,
            "_view_module": "@jupyter-widgets/controls",
            "_view_module_version": "1.5.0",
            "_view_name": "DropdownView",
            "description": "Splits",
            "description_tooltip": null,
            "disabled": false,
            "index": 0,
            "layout": "IPY_MODEL_e51de64bba3c496490f001e40bb01358",
            "style": "IPY_MODEL_07ddf0444e8049579b14d4acec76115c"
          }
        },
        "f7b6ba7dd8994b2fb7c4bbbf66ef8d2c": {
          "model_module": "@jupyter-widgets/base",
          "model_name": "LayoutModel",
          "model_module_version": "1.2.0",
          "state": {
            "_model_module": "@jupyter-widgets/base",
            "_model_module_version": "1.2.0",
            "_model_name": "LayoutModel",
            "_view_count": null,
            "_view_module": "@jupyter-widgets/base",
            "_view_module_version": "1.2.0",
            "_view_name": "LayoutView",
            "align_content": null,
            "align_items": null,
            "align_self": null,
            "border": null,
            "bottom": null,
            "display": null,
            "flex": null,
            "flex_flow": null,
            "grid_area": null,
            "grid_auto_columns": null,
            "grid_auto_flow": null,
            "grid_auto_rows": null,
            "grid_column": null,
            "grid_gap": null,
            "grid_row": null,
            "grid_template_areas": null,
            "grid_template_columns": null,
            "grid_template_rows": null,
            "height": null,
            "justify_content": null,
            "justify_items": null,
            "left": null,
            "margin": null,
            "max_height": null,
            "max_width": null,
            "min_height": null,
            "min_width": null,
            "object_fit": null,
            "object_position": null,
            "order": null,
            "overflow": null,
            "overflow_x": null,
            "overflow_y": null,
            "padding": null,
            "right": null,
            "top": null,
            "visibility": null,
            "width": null
          }
        },
        "d80c514cf46f4f4f9e7bc0891ebc3197": {
          "model_module": "@jupyter-widgets/controls",
          "model_name": "TextModel",
          "model_module_version": "1.5.0",
          "state": {
            "_dom_classes": [],
            "_model_module": "@jupyter-widgets/controls",
            "_model_module_version": "1.5.0",
            "_model_name": "TextModel",
            "_view_count": null,
            "_view_module": "@jupyter-widgets/controls",
            "_view_module_version": "1.5.0",
            "_view_name": "TextView",
            "continuous_update": true,
            "description": "Label:",
            "description_tooltip": null,
            "disabled": false,
            "layout": "IPY_MODEL_3d04c3637b2c4c88abd49d09a958f5a6",
            "placeholder": "Label",
            "style": "IPY_MODEL_147d8523e3ad45688b0b24bdb8173b36",
            "value": "vii"
          }
        },
        "46dbcab04d0f4712b99a4dc29e9bea53": {
          "model_module": "@jupyter-widgets/controls",
          "model_name": "DropdownModel",
          "model_module_version": "1.5.0",
          "state": {
            "_dom_classes": [],
            "_model_module": "@jupyter-widgets/controls",
            "_model_module_version": "1.5.0",
            "_model_name": "DropdownModel",
            "_options_labels": [
              "i",
              "ii",
              "iii",
              "iv",
              "v",
              "vi",
              "vii",
              "viii",
              "ix",
              "x"
            ],
            "_view_count": null,
            "_view_module": "@jupyter-widgets/controls",
            "_view_module_version": "1.5.0",
            "_view_name": "DropdownView",
            "description": "New Label",
            "description_tooltip": null,
            "disabled": false,
            "index": 0,
            "layout": "IPY_MODEL_765b6c5333064186880dbedb3f16f1cf",
            "style": "IPY_MODEL_dd9800b0870244e8bcef5ab41b243747"
          }
        },
        "9add66375cd94ae9bfdc4e3004b1482f": {
          "model_module": "@jupyter-widgets/controls",
          "model_name": "ButtonModel",
          "model_module_version": "1.5.0",
          "state": {
            "_dom_classes": [],
            "_model_module": "@jupyter-widgets/controls",
            "_model_module_version": "1.5.0",
            "_model_name": "ButtonModel",
            "_view_count": null,
            "_view_module": "@jupyter-widgets/controls",
            "_view_module_version": "1.5.0",
            "_view_name": "ButtonView",
            "button_style": "success",
            "description": "Change Label",
            "disabled": false,
            "icon": "check",
            "layout": "IPY_MODEL_36f77a1dd4a74cfcbbfb9881ac06d280",
            "style": "IPY_MODEL_c203110bbc634376b75611aaecdbb6dc",
            "tooltip": "Change Label"
          }
        },
        "3b7c5a81c69a4b77a42459eae0917f6e": {
          "model_module": "@jupyter-widgets/controls",
          "model_name": "ButtonModel",
          "model_module_version": "1.5.0",
          "state": {
            "_dom_classes": [],
            "_model_module": "@jupyter-widgets/controls",
            "_model_module_version": "1.5.0",
            "_model_name": "ButtonModel",
            "_view_count": null,
            "_view_module": "@jupyter-widgets/controls",
            "_view_module_version": "1.5.0",
            "_view_name": "ButtonView",
            "button_style": "danger",
            "description": "Delete",
            "disabled": false,
            "icon": "trash",
            "layout": "IPY_MODEL_a5eecf21e12b438181e118935f44adbb",
            "style": "IPY_MODEL_160cf4d8b273471e86d82abed0259de9",
            "tooltip": "Delete"
          }
        },
        "95e479550d7248b0857165babfd4ab76": {
          "model_module": "@jupyter-widgets/base",
          "model_name": "LayoutModel",
          "model_module_version": "1.2.0",
          "state": {
            "_model_module": "@jupyter-widgets/base",
            "_model_module_version": "1.2.0",
            "_model_name": "LayoutModel",
            "_view_count": null,
            "_view_module": "@jupyter-widgets/base",
            "_view_module_version": "1.2.0",
            "_view_name": "LayoutView",
            "align_content": null,
            "align_items": null,
            "align_self": null,
            "border": null,
            "bottom": null,
            "display": null,
            "flex": null,
            "flex_flow": null,
            "grid_area": null,
            "grid_auto_columns": null,
            "grid_auto_flow": null,
            "grid_auto_rows": null,
            "grid_column": null,
            "grid_gap": null,
            "grid_row": null,
            "grid_template_areas": null,
            "grid_template_columns": null,
            "grid_template_rows": null,
            "height": null,
            "justify_content": null,
            "justify_items": null,
            "left": null,
            "margin": null,
            "max_height": null,
            "max_width": null,
            "min_height": null,
            "min_width": null,
            "object_fit": null,
            "object_position": null,
            "order": null,
            "overflow": null,
            "overflow_x": null,
            "overflow_y": null,
            "padding": null,
            "right": null,
            "top": null,
            "visibility": null,
            "width": null
          }
        },
        "4f6d17e0396547e4952dfb29e787177c": {
          "model_module": "@jupyter-widgets/base",
          "model_name": "LayoutModel",
          "model_module_version": "1.2.0",
          "state": {
            "_model_module": "@jupyter-widgets/base",
            "_model_module_version": "1.2.0",
            "_model_name": "LayoutModel",
            "_view_count": null,
            "_view_module": "@jupyter-widgets/base",
            "_view_module_version": "1.2.0",
            "_view_name": "LayoutView",
            "align_content": null,
            "align_items": null,
            "align_self": null,
            "border": null,
            "bottom": null,
            "display": null,
            "flex": null,
            "flex_flow": null,
            "grid_area": null,
            "grid_auto_columns": null,
            "grid_auto_flow": null,
            "grid_auto_rows": null,
            "grid_column": null,
            "grid_gap": null,
            "grid_row": null,
            "grid_template_areas": null,
            "grid_template_columns": null,
            "grid_template_rows": null,
            "height": null,
            "justify_content": null,
            "justify_items": null,
            "left": null,
            "margin": null,
            "max_height": null,
            "max_width": null,
            "min_height": null,
            "min_width": null,
            "object_fit": null,
            "object_position": null,
            "order": null,
            "overflow": null,
            "overflow_x": null,
            "overflow_y": null,
            "padding": null,
            "right": null,
            "top": null,
            "visibility": null,
            "width": null
          }
        },
        "05ecc1055dd6401f983f82d34623d89f": {
          "model_module": "@jupyter-widgets/controls",
          "model_name": "ButtonStyleModel",
          "model_module_version": "1.5.0",
          "state": {
            "_model_module": "@jupyter-widgets/controls",
            "_model_module_version": "1.5.0",
            "_model_name": "ButtonStyleModel",
            "_view_count": null,
            "_view_module": "@jupyter-widgets/base",
            "_view_module_version": "1.2.0",
            "_view_name": "StyleView",
            "button_color": null,
            "font_weight": ""
          }
        },
        "847207df2e5440e3a9cf67a2d1bc9d92": {
          "model_module": "@jupyter-widgets/base",
          "model_name": "LayoutModel",
          "model_module_version": "1.2.0",
          "state": {
            "_model_module": "@jupyter-widgets/base",
            "_model_module_version": "1.2.0",
            "_model_name": "LayoutModel",
            "_view_count": null,
            "_view_module": "@jupyter-widgets/base",
            "_view_module_version": "1.2.0",
            "_view_name": "LayoutView",
            "align_content": null,
            "align_items": null,
            "align_self": null,
            "border": null,
            "bottom": null,
            "display": null,
            "flex": null,
            "flex_flow": null,
            "grid_area": null,
            "grid_auto_columns": null,
            "grid_auto_flow": null,
            "grid_auto_rows": null,
            "grid_column": null,
            "grid_gap": null,
            "grid_row": null,
            "grid_template_areas": null,
            "grid_template_columns": null,
            "grid_template_rows": null,
            "height": null,
            "justify_content": null,
            "justify_items": null,
            "left": null,
            "margin": null,
            "max_height": null,
            "max_width": null,
            "min_height": null,
            "min_width": null,
            "object_fit": null,
            "object_position": null,
            "order": null,
            "overflow": null,
            "overflow_x": null,
            "overflow_y": null,
            "padding": null,
            "right": null,
            "top": null,
            "visibility": null,
            "width": null
          }
        },
        "9fa359797b8f4049bf9fad831cc41c62": {
          "model_module": "@jupyter-widgets/controls",
          "model_name": "SliderStyleModel",
          "model_module_version": "1.5.0",
          "state": {
            "_model_module": "@jupyter-widgets/controls",
            "_model_module_version": "1.5.0",
            "_model_name": "SliderStyleModel",
            "_view_count": null,
            "_view_module": "@jupyter-widgets/base",
            "_view_module_version": "1.2.0",
            "_view_name": "StyleView",
            "description_width": "",
            "handle_color": null
          }
        },
        "edca92a34ea94589a6eae917dd1b0b62": {
          "model_module": "@jupyter-widgets/base",
          "model_name": "LayoutModel",
          "model_module_version": "1.2.0",
          "state": {
            "_model_module": "@jupyter-widgets/base",
            "_model_module_version": "1.2.0",
            "_model_name": "LayoutModel",
            "_view_count": null,
            "_view_module": "@jupyter-widgets/base",
            "_view_module_version": "1.2.0",
            "_view_name": "LayoutView",
            "align_content": null,
            "align_items": null,
            "align_self": null,
            "border": null,
            "bottom": null,
            "display": null,
            "flex": null,
            "flex_flow": null,
            "grid_area": null,
            "grid_auto_columns": null,
            "grid_auto_flow": null,
            "grid_auto_rows": null,
            "grid_column": null,
            "grid_gap": null,
            "grid_row": null,
            "grid_template_areas": null,
            "grid_template_columns": null,
            "grid_template_rows": null,
            "height": null,
            "justify_content": null,
            "justify_items": null,
            "left": null,
            "margin": null,
            "max_height": null,
            "max_width": null,
            "min_height": null,
            "min_width": null,
            "object_fit": null,
            "object_position": null,
            "order": null,
            "overflow": null,
            "overflow_x": null,
            "overflow_y": null,
            "padding": null,
            "right": null,
            "top": null,
            "visibility": null,
            "width": null
          }
        },
        "797762f553d24062ad03b2bc967da50a": {
          "model_module": "@jupyter-widgets/controls",
          "model_name": "ButtonStyleModel",
          "model_module_version": "1.5.0",
          "state": {
            "_model_module": "@jupyter-widgets/controls",
            "_model_module_version": "1.5.0",
            "_model_name": "ButtonStyleModel",
            "_view_count": null,
            "_view_module": "@jupyter-widgets/base",
            "_view_module_version": "1.2.0",
            "_view_name": "StyleView",
            "button_color": null,
            "font_weight": ""
          }
        },
        "e51de64bba3c496490f001e40bb01358": {
          "model_module": "@jupyter-widgets/base",
          "model_name": "LayoutModel",
          "model_module_version": "1.2.0",
          "state": {
            "_model_module": "@jupyter-widgets/base",
            "_model_module_version": "1.2.0",
            "_model_name": "LayoutModel",
            "_view_count": null,
            "_view_module": "@jupyter-widgets/base",
            "_view_module_version": "1.2.0",
            "_view_name": "LayoutView",
            "align_content": null,
            "align_items": null,
            "align_self": null,
            "border": null,
            "bottom": null,
            "display": null,
            "flex": null,
            "flex_flow": null,
            "grid_area": null,
            "grid_auto_columns": null,
            "grid_auto_flow": null,
            "grid_auto_rows": null,
            "grid_column": null,
            "grid_gap": null,
            "grid_row": null,
            "grid_template_areas": null,
            "grid_template_columns": null,
            "grid_template_rows": null,
            "height": null,
            "justify_content": null,
            "justify_items": null,
            "left": null,
            "margin": null,
            "max_height": null,
            "max_width": null,
            "min_height": null,
            "min_width": null,
            "object_fit": null,
            "object_position": null,
            "order": null,
            "overflow": null,
            "overflow_x": null,
            "overflow_y": null,
            "padding": null,
            "right": null,
            "top": null,
            "visibility": null,
            "width": null
          }
        },
        "07ddf0444e8049579b14d4acec76115c": {
          "model_module": "@jupyter-widgets/controls",
          "model_name": "DescriptionStyleModel",
          "model_module_version": "1.5.0",
          "state": {
            "_model_module": "@jupyter-widgets/controls",
            "_model_module_version": "1.5.0",
            "_model_name": "DescriptionStyleModel",
            "_view_count": null,
            "_view_module": "@jupyter-widgets/base",
            "_view_module_version": "1.2.0",
            "_view_name": "StyleView",
            "description_width": ""
          }
        },
        "3d04c3637b2c4c88abd49d09a958f5a6": {
          "model_module": "@jupyter-widgets/base",
          "model_name": "LayoutModel",
          "model_module_version": "1.2.0",
          "state": {
            "_model_module": "@jupyter-widgets/base",
            "_model_module_version": "1.2.0",
            "_model_name": "LayoutModel",
            "_view_count": null,
            "_view_module": "@jupyter-widgets/base",
            "_view_module_version": "1.2.0",
            "_view_name": "LayoutView",
            "align_content": null,
            "align_items": null,
            "align_self": null,
            "border": null,
            "bottom": null,
            "display": null,
            "flex": null,
            "flex_flow": null,
            "grid_area": null,
            "grid_auto_columns": null,
            "grid_auto_flow": null,
            "grid_auto_rows": null,
            "grid_column": null,
            "grid_gap": null,
            "grid_row": null,
            "grid_template_areas": null,
            "grid_template_columns": null,
            "grid_template_rows": null,
            "height": null,
            "justify_content": null,
            "justify_items": null,
            "left": null,
            "margin": null,
            "max_height": null,
            "max_width": null,
            "min_height": null,
            "min_width": null,
            "object_fit": null,
            "object_position": null,
            "order": null,
            "overflow": null,
            "overflow_x": null,
            "overflow_y": null,
            "padding": null,
            "right": null,
            "top": null,
            "visibility": null,
            "width": null
          }
        },
        "147d8523e3ad45688b0b24bdb8173b36": {
          "model_module": "@jupyter-widgets/controls",
          "model_name": "DescriptionStyleModel",
          "model_module_version": "1.5.0",
          "state": {
            "_model_module": "@jupyter-widgets/controls",
            "_model_module_version": "1.5.0",
            "_model_name": "DescriptionStyleModel",
            "_view_count": null,
            "_view_module": "@jupyter-widgets/base",
            "_view_module_version": "1.2.0",
            "_view_name": "StyleView",
            "description_width": ""
          }
        },
        "765b6c5333064186880dbedb3f16f1cf": {
          "model_module": "@jupyter-widgets/base",
          "model_name": "LayoutModel",
          "model_module_version": "1.2.0",
          "state": {
            "_model_module": "@jupyter-widgets/base",
            "_model_module_version": "1.2.0",
            "_model_name": "LayoutModel",
            "_view_count": null,
            "_view_module": "@jupyter-widgets/base",
            "_view_module_version": "1.2.0",
            "_view_name": "LayoutView",
            "align_content": null,
            "align_items": null,
            "align_self": null,
            "border": null,
            "bottom": null,
            "display": null,
            "flex": null,
            "flex_flow": null,
            "grid_area": null,
            "grid_auto_columns": null,
            "grid_auto_flow": null,
            "grid_auto_rows": null,
            "grid_column": null,
            "grid_gap": null,
            "grid_row": null,
            "grid_template_areas": null,
            "grid_template_columns": null,
            "grid_template_rows": null,
            "height": null,
            "justify_content": null,
            "justify_items": null,
            "left": null,
            "margin": null,
            "max_height": null,
            "max_width": null,
            "min_height": null,
            "min_width": null,
            "object_fit": null,
            "object_position": null,
            "order": null,
            "overflow": null,
            "overflow_x": null,
            "overflow_y": null,
            "padding": null,
            "right": null,
            "top": null,
            "visibility": null,
            "width": null
          }
        },
        "dd9800b0870244e8bcef5ab41b243747": {
          "model_module": "@jupyter-widgets/controls",
          "model_name": "DescriptionStyleModel",
          "model_module_version": "1.5.0",
          "state": {
            "_model_module": "@jupyter-widgets/controls",
            "_model_module_version": "1.5.0",
            "_model_name": "DescriptionStyleModel",
            "_view_count": null,
            "_view_module": "@jupyter-widgets/base",
            "_view_module_version": "1.2.0",
            "_view_name": "StyleView",
            "description_width": ""
          }
        },
        "36f77a1dd4a74cfcbbfb9881ac06d280": {
          "model_module": "@jupyter-widgets/base",
          "model_name": "LayoutModel",
          "model_module_version": "1.2.0",
          "state": {
            "_model_module": "@jupyter-widgets/base",
            "_model_module_version": "1.2.0",
            "_model_name": "LayoutModel",
            "_view_count": null,
            "_view_module": "@jupyter-widgets/base",
            "_view_module_version": "1.2.0",
            "_view_name": "LayoutView",
            "align_content": null,
            "align_items": null,
            "align_self": null,
            "border": null,
            "bottom": null,
            "display": null,
            "flex": null,
            "flex_flow": null,
            "grid_area": null,
            "grid_auto_columns": null,
            "grid_auto_flow": null,
            "grid_auto_rows": null,
            "grid_column": null,
            "grid_gap": null,
            "grid_row": null,
            "grid_template_areas": null,
            "grid_template_columns": null,
            "grid_template_rows": null,
            "height": null,
            "justify_content": null,
            "justify_items": null,
            "left": null,
            "margin": null,
            "max_height": null,
            "max_width": null,
            "min_height": null,
            "min_width": null,
            "object_fit": null,
            "object_position": null,
            "order": null,
            "overflow": null,
            "overflow_x": null,
            "overflow_y": null,
            "padding": null,
            "right": null,
            "top": null,
            "visibility": null,
            "width": null
          }
        },
        "c203110bbc634376b75611aaecdbb6dc": {
          "model_module": "@jupyter-widgets/controls",
          "model_name": "ButtonStyleModel",
          "model_module_version": "1.5.0",
          "state": {
            "_model_module": "@jupyter-widgets/controls",
            "_model_module_version": "1.5.0",
            "_model_name": "ButtonStyleModel",
            "_view_count": null,
            "_view_module": "@jupyter-widgets/base",
            "_view_module_version": "1.2.0",
            "_view_name": "StyleView",
            "button_color": null,
            "font_weight": ""
          }
        },
        "a5eecf21e12b438181e118935f44adbb": {
          "model_module": "@jupyter-widgets/base",
          "model_name": "LayoutModel",
          "model_module_version": "1.2.0",
          "state": {
            "_model_module": "@jupyter-widgets/base",
            "_model_module_version": "1.2.0",
            "_model_name": "LayoutModel",
            "_view_count": null,
            "_view_module": "@jupyter-widgets/base",
            "_view_module_version": "1.2.0",
            "_view_name": "LayoutView",
            "align_content": null,
            "align_items": null,
            "align_self": null,
            "border": null,
            "bottom": null,
            "display": null,
            "flex": null,
            "flex_flow": null,
            "grid_area": null,
            "grid_auto_columns": null,
            "grid_auto_flow": null,
            "grid_auto_rows": null,
            "grid_column": null,
            "grid_gap": null,
            "grid_row": null,
            "grid_template_areas": null,
            "grid_template_columns": null,
            "grid_template_rows": null,
            "height": null,
            "justify_content": null,
            "justify_items": null,
            "left": null,
            "margin": null,
            "max_height": null,
            "max_width": null,
            "min_height": null,
            "min_width": null,
            "object_fit": null,
            "object_position": null,
            "order": null,
            "overflow": null,
            "overflow_x": null,
            "overflow_y": null,
            "padding": null,
            "right": null,
            "top": null,
            "visibility": null,
            "width": null
          }
        },
        "160cf4d8b273471e86d82abed0259de9": {
          "model_module": "@jupyter-widgets/controls",
          "model_name": "ButtonStyleModel",
          "model_module_version": "1.5.0",
          "state": {
            "_model_module": "@jupyter-widgets/controls",
            "_model_module_version": "1.5.0",
            "_model_name": "ButtonStyleModel",
            "_view_count": null,
            "_view_module": "@jupyter-widgets/base",
            "_view_module_version": "1.2.0",
            "_view_name": "StyleView",
            "button_color": null,
            "font_weight": ""
          }
        },
        "8348e54217b341a4b25d38f73dce6191": {
          "model_module": "@jupyter-widgets/output",
          "model_name": "OutputModel",
          "model_module_version": "1.0.0",
          "state": {
            "_dom_classes": [],
            "_model_module": "@jupyter-widgets/output",
            "_model_module_version": "1.0.0",
            "_model_name": "OutputModel",
            "_view_count": null,
            "_view_module": "@jupyter-widgets/output",
            "_view_module_version": "1.0.0",
            "_view_name": "OutputView",
            "layout": "IPY_MODEL_95fa64e1e9724b8c930ac9108bca7220",
            "msg_id": "",
            "outputs": [
              {
                "output_type": "display_data",
                "data": {
                  "text/plain": "<Figure size 640x640 with 1 Axes>",
                  "image/png": "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\n"
                },
                "metadata": {
                  "needs_background": "light"
                }
              }
            ]
          }
        },
        "95fa64e1e9724b8c930ac9108bca7220": {
          "model_module": "@jupyter-widgets/base",
          "model_name": "LayoutModel",
          "model_module_version": "1.2.0",
          "state": {
            "_model_module": "@jupyter-widgets/base",
            "_model_module_version": "1.2.0",
            "_model_name": "LayoutModel",
            "_view_count": null,
            "_view_module": "@jupyter-widgets/base",
            "_view_module_version": "1.2.0",
            "_view_name": "LayoutView",
            "align_content": null,
            "align_items": null,
            "align_self": null,
            "border": null,
            "bottom": null,
            "display": null,
            "flex": null,
            "flex_flow": null,
            "grid_area": null,
            "grid_auto_columns": null,
            "grid_auto_flow": null,
            "grid_auto_rows": null,
            "grid_column": null,
            "grid_gap": null,
            "grid_row": null,
            "grid_template_areas": null,
            "grid_template_columns": null,
            "grid_template_rows": null,
            "height": null,
            "justify_content": null,
            "justify_items": null,
            "left": null,
            "margin": null,
            "max_height": null,
            "max_width": null,
            "min_height": null,
            "min_width": null,
            "object_fit": null,
            "object_position": null,
            "order": null,
            "overflow": null,
            "overflow_x": null,
            "overflow_y": null,
            "padding": null,
            "right": null,
            "top": null,
            "visibility": null,
            "width": null
          }
        },
        "3cabd462d5854e95b509be5eb8d1ba39": {
          "model_module": "@jupyter-widgets/controls",
          "model_name": "VBoxModel",
          "model_module_version": "1.5.0",
          "state": {
            "_dom_classes": [],
            "_model_module": "@jupyter-widgets/controls",
            "_model_module_version": "1.5.0",
            "_model_name": "VBoxModel",
            "_view_count": null,
            "_view_module": "@jupyter-widgets/controls",
            "_view_module_version": "1.5.0",
            "_view_name": "VBoxView",
            "box_style": "",
            "children": [
              "IPY_MODEL_fd88247a262444179e36f5d5562ebca9",
              "IPY_MODEL_83e29962df3a4f329761f906031fda0e"
            ],
            "layout": "IPY_MODEL_d27db1bce32049b29b732c7db8adcf2a"
          }
        },
        "fd88247a262444179e36f5d5562ebca9": {
          "model_module": "@jupyter-widgets/controls",
          "model_name": "HBoxModel",
          "model_module_version": "1.5.0",
          "state": {
            "_dom_classes": [],
            "_model_module": "@jupyter-widgets/controls",
            "_model_module_version": "1.5.0",
            "_model_name": "HBoxModel",
            "_view_count": null,
            "_view_module": "@jupyter-widgets/controls",
            "_view_module_version": "1.5.0",
            "_view_name": "HBoxView",
            "box_style": "",
            "children": [
              "IPY_MODEL_4b186e9858474e3e9a7b71c55412be5c",
              "IPY_MODEL_22086462eebb40f79aa5c7b7792d3091",
              "IPY_MODEL_91d4023b1c9e44c1bcd17173e215d2b3",
              "IPY_MODEL_eea293a52c8f4d4aa509a2327ba00808",
              "IPY_MODEL_ae640dbe0b0f4d2faa8d584db45abfdd"
            ],
            "layout": "IPY_MODEL_530f1f7e91e842c9a34eac884610cbad"
          }
        },
        "83e29962df3a4f329761f906031fda0e": {
          "model_module": "@jupyter-widgets/controls",
          "model_name": "HBoxModel",
          "model_module_version": "1.5.0",
          "state": {
            "_dom_classes": [],
            "_model_module": "@jupyter-widgets/controls",
            "_model_module_version": "1.5.0",
            "_model_name": "HBoxModel",
            "_view_count": null,
            "_view_module": "@jupyter-widgets/controls",
            "_view_module_version": "1.5.0",
            "_view_name": "HBoxView",
            "box_style": "",
            "children": [
              "IPY_MODEL_f2cbbfaba2a74b569d36ca173cd878d7",
              "IPY_MODEL_25ab62a1af5643ea8e2132bf0cdfbcda",
              "IPY_MODEL_70f1788dbcd14736ac5860366cdc98cc",
              "IPY_MODEL_a3e9fd3b7b594d87aea60ff876128db0"
            ],
            "layout": "IPY_MODEL_28874f579cbd4573a5d061a16835e547"
          }
        },
        "d27db1bce32049b29b732c7db8adcf2a": {
          "model_module": "@jupyter-widgets/base",
          "model_name": "LayoutModel",
          "model_module_version": "1.2.0",
          "state": {
            "_model_module": "@jupyter-widgets/base",
            "_model_module_version": "1.2.0",
            "_model_name": "LayoutModel",
            "_view_count": null,
            "_view_module": "@jupyter-widgets/base",
            "_view_module_version": "1.2.0",
            "_view_name": "LayoutView",
            "align_content": null,
            "align_items": null,
            "align_self": null,
            "border": null,
            "bottom": null,
            "display": null,
            "flex": null,
            "flex_flow": null,
            "grid_area": null,
            "grid_auto_columns": null,
            "grid_auto_flow": null,
            "grid_auto_rows": null,
            "grid_column": null,
            "grid_gap": null,
            "grid_row": null,
            "grid_template_areas": null,
            "grid_template_columns": null,
            "grid_template_rows": null,
            "height": null,
            "justify_content": null,
            "justify_items": null,
            "left": null,
            "margin": null,
            "max_height": null,
            "max_width": null,
            "min_height": null,
            "min_width": null,
            "object_fit": null,
            "object_position": null,
            "order": null,
            "overflow": null,
            "overflow_x": null,
            "overflow_y": null,
            "padding": null,
            "right": null,
            "top": null,
            "visibility": null,
            "width": null
          }
        },
        "4b186e9858474e3e9a7b71c55412be5c": {
          "model_module": "@jupyter-widgets/controls",
          "model_name": "ButtonModel",
          "model_module_version": "1.5.0",
          "state": {
            "_dom_classes": [],
            "_model_module": "@jupyter-widgets/controls",
            "_model_module_version": "1.5.0",
            "_model_name": "ButtonModel",
            "_view_count": null,
            "_view_module": "@jupyter-widgets/controls",
            "_view_module_version": "1.5.0",
            "_view_name": "ButtonView",
            "button_style": "success",
            "description": "Previous",
            "disabled": false,
            "icon": "arrow-left",
            "layout": "IPY_MODEL_87f9f90ea33d405cab9a3474185a1074",
            "style": "IPY_MODEL_07e0b178f8be4e02a761a7f7e049d316",
            "tooltip": "Previous Sample"
          }
        },
        "22086462eebb40f79aa5c7b7792d3091": {
          "model_module": "@jupyter-widgets/controls",
          "model_name": "IntSliderModel",
          "model_module_version": "1.5.0",
          "state": {
            "_dom_classes": [],
            "_model_module": "@jupyter-widgets/controls",
            "_model_module_version": "1.5.0",
            "_model_name": "IntSliderModel",
            "_view_count": null,
            "_view_module": "@jupyter-widgets/controls",
            "_view_module_version": "1.5.0",
            "_view_name": "IntSliderView",
            "continuous_update": false,
            "description": "Index:",
            "description_tooltip": null,
            "disabled": false,
            "layout": "IPY_MODEL_2a94658a4d014f24aab3485b229daa96",
            "max": 933,
            "min": 0,
            "orientation": "horizontal",
            "readout": true,
            "readout_format": "d",
            "step": 1,
            "style": "IPY_MODEL_a9cd7c02f36d4a3b93f7c3d242f2fc33",
            "value": 834
          }
        },
        "91d4023b1c9e44c1bcd17173e215d2b3": {
          "model_module": "@jupyter-widgets/controls",
          "model_name": "ButtonModel",
          "model_module_version": "1.5.0",
          "state": {
            "_dom_classes": [],
            "_model_module": "@jupyter-widgets/controls",
            "_model_module_version": "1.5.0",
            "_model_name": "ButtonModel",
            "_view_count": null,
            "_view_module": "@jupyter-widgets/controls",
            "_view_module_version": "1.5.0",
            "_view_name": "ButtonView",
            "button_style": "success",
            "description": "Next",
            "disabled": false,
            "icon": "arrow-right",
            "layout": "IPY_MODEL_bbff5943a8544f18b0373b56e5821455",
            "style": "IPY_MODEL_d3ddee9931da4a75a0df8dcb6929a252",
            "tooltip": "Next Sample"
          }
        },
        "eea293a52c8f4d4aa509a2327ba00808": {
          "model_module": "@jupyter-widgets/controls",
          "model_name": "DropdownModel",
          "model_module_version": "1.5.0",
          "state": {
            "_dom_classes": [],
            "_model_module": "@jupyter-widgets/controls",
            "_model_module_version": "1.5.0",
            "_model_name": "DropdownModel",
            "_options_labels": [
              "train",
              "val",
              "test"
            ],
            "_view_count": null,
            "_view_module": "@jupyter-widgets/controls",
            "_view_module_version": "1.5.0",
            "_view_name": "DropdownView",
            "description": "Splits",
            "description_tooltip": null,
            "disabled": false,
            "index": 0,
            "layout": "IPY_MODEL_c4149ae5e7d6489683b9ededb0042a6b",
            "style": "IPY_MODEL_4a0e7b0b250946a29e5f8f64bba6e8c7"
          }
        },
        "ae640dbe0b0f4d2faa8d584db45abfdd": {
          "model_module": "@jupyter-widgets/controls",
          "model_name": "FloatRangeSliderModel",
          "model_module_version": "1.5.0",
          "state": {
            "_dom_classes": [],
            "_model_module": "@jupyter-widgets/controls",
            "_model_module_version": "1.5.0",
            "_model_name": "FloatRangeSliderModel",
            "_view_count": null,
            "_view_module": "@jupyter-widgets/controls",
            "_view_module_version": "1.5.0",
            "_view_name": "FloatRangeSliderView",
            "continuous_update": false,
            "description": "Variance:",
            "description_tooltip": null,
            "disabled": false,
            "layout": "IPY_MODEL_baf28dcda257434196d09d8603d6979b",
            "max": 10,
            "min": 0,
            "orientation": "horizontal",
            "readout": true,
            "readout_format": ".2f",
            "step": 0.1,
            "style": "IPY_MODEL_c62748e15d784841bcb14115cf17dd53",
            "value": [
              0.01,
              10
            ]
          }
        },
        "530f1f7e91e842c9a34eac884610cbad": {
          "model_module": "@jupyter-widgets/base",
          "model_name": "LayoutModel",
          "model_module_version": "1.2.0",
          "state": {
            "_model_module": "@jupyter-widgets/base",
            "_model_module_version": "1.2.0",
            "_model_name": "LayoutModel",
            "_view_count": null,
            "_view_module": "@jupyter-widgets/base",
            "_view_module_version": "1.2.0",
            "_view_name": "LayoutView",
            "align_content": null,
            "align_items": null,
            "align_self": null,
            "border": null,
            "bottom": null,
            "display": null,
            "flex": null,
            "flex_flow": null,
            "grid_area": null,
            "grid_auto_columns": null,
            "grid_auto_flow": null,
            "grid_auto_rows": null,
            "grid_column": null,
            "grid_gap": null,
            "grid_row": null,
            "grid_template_areas": null,
            "grid_template_columns": null,
            "grid_template_rows": null,
            "height": null,
            "justify_content": null,
            "justify_items": null,
            "left": null,
            "margin": null,
            "max_height": null,
            "max_width": null,
            "min_height": null,
            "min_width": null,
            "object_fit": null,
            "object_position": null,
            "order": null,
            "overflow": null,
            "overflow_x": null,
            "overflow_y": null,
            "padding": null,
            "right": null,
            "top": null,
            "visibility": null,
            "width": null
          }
        },
        "f2cbbfaba2a74b569d36ca173cd878d7": {
          "model_module": "@jupyter-widgets/controls",
          "model_name": "TextModel",
          "model_module_version": "1.5.0",
          "state": {
            "_dom_classes": [],
            "_model_module": "@jupyter-widgets/controls",
            "_model_module_version": "1.5.0",
            "_model_name": "TextModel",
            "_view_count": null,
            "_view_module": "@jupyter-widgets/controls",
            "_view_module_version": "1.5.0",
            "_view_name": "TextView",
            "continuous_update": true,
            "description": "Label:",
            "description_tooltip": null,
            "disabled": false,
            "layout": "IPY_MODEL_27d54b3af5534819825c3a4be905d201",
            "placeholder": "Label",
            "style": "IPY_MODEL_667ea5c2681249bfbed4e0dd277a943d",
            "value": "viii"
          }
        },
        "25ab62a1af5643ea8e2132bf0cdfbcda": {
          "model_module": "@jupyter-widgets/controls",
          "model_name": "DropdownModel",
          "model_module_version": "1.5.0",
          "state": {
            "_dom_classes": [],
            "_model_module": "@jupyter-widgets/controls",
            "_model_module_version": "1.5.0",
            "_model_name": "DropdownModel",
            "_options_labels": [
              "i",
              "ii",
              "iii",
              "iv",
              "v",
              "vi",
              "vii",
              "viii",
              "ix",
              "x"
            ],
            "_view_count": null,
            "_view_module": "@jupyter-widgets/controls",
            "_view_module_version": "1.5.0",
            "_view_name": "DropdownView",
            "description": "New Label",
            "description_tooltip": null,
            "disabled": false,
            "index": 3,
            "layout": "IPY_MODEL_c6418d2644f34f7e9b0995d6adda3bfb",
            "style": "IPY_MODEL_1e9160a7b2324f5aab94fe2791fc1aa0"
          }
        },
        "70f1788dbcd14736ac5860366cdc98cc": {
          "model_module": "@jupyter-widgets/controls",
          "model_name": "ButtonModel",
          "model_module_version": "1.5.0",
          "state": {
            "_dom_classes": [],
            "_model_module": "@jupyter-widgets/controls",
            "_model_module_version": "1.5.0",
            "_model_name": "ButtonModel",
            "_view_count": null,
            "_view_module": "@jupyter-widgets/controls",
            "_view_module_version": "1.5.0",
            "_view_name": "ButtonView",
            "button_style": "success",
            "description": "Change Label",
            "disabled": false,
            "icon": "check",
            "layout": "IPY_MODEL_b65736d146f34b34a3beb4288e020a0c",
            "style": "IPY_MODEL_47f133b95ac74cbea6a60eb6f56d6ddc",
            "tooltip": "Change Label"
          }
        },
        "a3e9fd3b7b594d87aea60ff876128db0": {
          "model_module": "@jupyter-widgets/controls",
          "model_name": "ButtonModel",
          "model_module_version": "1.5.0",
          "state": {
            "_dom_classes": [],
            "_model_module": "@jupyter-widgets/controls",
            "_model_module_version": "1.5.0",
            "_model_name": "ButtonModel",
            "_view_count": null,
            "_view_module": "@jupyter-widgets/controls",
            "_view_module_version": "1.5.0",
            "_view_name": "ButtonView",
            "button_style": "danger",
            "description": "Delete",
            "disabled": false,
            "icon": "trash",
            "layout": "IPY_MODEL_b37be95111fc417c8623d0fbd862c4a5",
            "style": "IPY_MODEL_6dac9e78a4bb402cb21141c63c7f89fd",
            "tooltip": "Delete"
          }
        },
        "28874f579cbd4573a5d061a16835e547": {
          "model_module": "@jupyter-widgets/base",
          "model_name": "LayoutModel",
          "model_module_version": "1.2.0",
          "state": {
            "_model_module": "@jupyter-widgets/base",
            "_model_module_version": "1.2.0",
            "_model_name": "LayoutModel",
            "_view_count": null,
            "_view_module": "@jupyter-widgets/base",
            "_view_module_version": "1.2.0",
            "_view_name": "LayoutView",
            "align_content": null,
            "align_items": null,
            "align_self": null,
            "border": null,
            "bottom": null,
            "display": null,
            "flex": null,
            "flex_flow": null,
            "grid_area": null,
            "grid_auto_columns": null,
            "grid_auto_flow": null,
            "grid_auto_rows": null,
            "grid_column": null,
            "grid_gap": null,
            "grid_row": null,
            "grid_template_areas": null,
            "grid_template_columns": null,
            "grid_template_rows": null,
            "height": null,
            "justify_content": null,
            "justify_items": null,
            "left": null,
            "margin": null,
            "max_height": null,
            "max_width": null,
            "min_height": null,
            "min_width": null,
            "object_fit": null,
            "object_position": null,
            "order": null,
            "overflow": null,
            "overflow_x": null,
            "overflow_y": null,
            "padding": null,
            "right": null,
            "top": null,
            "visibility": null,
            "width": null
          }
        },
        "87f9f90ea33d405cab9a3474185a1074": {
          "model_module": "@jupyter-widgets/base",
          "model_name": "LayoutModel",
          "model_module_version": "1.2.0",
          "state": {
            "_model_module": "@jupyter-widgets/base",
            "_model_module_version": "1.2.0",
            "_model_name": "LayoutModel",
            "_view_count": null,
            "_view_module": "@jupyter-widgets/base",
            "_view_module_version": "1.2.0",
            "_view_name": "LayoutView",
            "align_content": null,
            "align_items": null,
            "align_self": null,
            "border": null,
            "bottom": null,
            "display": null,
            "flex": null,
            "flex_flow": null,
            "grid_area": null,
            "grid_auto_columns": null,
            "grid_auto_flow": null,
            "grid_auto_rows": null,
            "grid_column": null,
            "grid_gap": null,
            "grid_row": null,
            "grid_template_areas": null,
            "grid_template_columns": null,
            "grid_template_rows": null,
            "height": null,
            "justify_content": null,
            "justify_items": null,
            "left": null,
            "margin": null,
            "max_height": null,
            "max_width": null,
            "min_height": null,
            "min_width": null,
            "object_fit": null,
            "object_position": null,
            "order": null,
            "overflow": null,
            "overflow_x": null,
            "overflow_y": null,
            "padding": null,
            "right": null,
            "top": null,
            "visibility": null,
            "width": null
          }
        },
        "07e0b178f8be4e02a761a7f7e049d316": {
          "model_module": "@jupyter-widgets/controls",
          "model_name": "ButtonStyleModel",
          "model_module_version": "1.5.0",
          "state": {
            "_model_module": "@jupyter-widgets/controls",
            "_model_module_version": "1.5.0",
            "_model_name": "ButtonStyleModel",
            "_view_count": null,
            "_view_module": "@jupyter-widgets/base",
            "_view_module_version": "1.2.0",
            "_view_name": "StyleView",
            "button_color": null,
            "font_weight": ""
          }
        },
        "2a94658a4d014f24aab3485b229daa96": {
          "model_module": "@jupyter-widgets/base",
          "model_name": "LayoutModel",
          "model_module_version": "1.2.0",
          "state": {
            "_model_module": "@jupyter-widgets/base",
            "_model_module_version": "1.2.0",
            "_model_name": "LayoutModel",
            "_view_count": null,
            "_view_module": "@jupyter-widgets/base",
            "_view_module_version": "1.2.0",
            "_view_name": "LayoutView",
            "align_content": null,
            "align_items": null,
            "align_self": null,
            "border": null,
            "bottom": null,
            "display": null,
            "flex": null,
            "flex_flow": null,
            "grid_area": null,
            "grid_auto_columns": null,
            "grid_auto_flow": null,
            "grid_auto_rows": null,
            "grid_column": null,
            "grid_gap": null,
            "grid_row": null,
            "grid_template_areas": null,
            "grid_template_columns": null,
            "grid_template_rows": null,
            "height": null,
            "justify_content": null,
            "justify_items": null,
            "left": null,
            "margin": null,
            "max_height": null,
            "max_width": null,
            "min_height": null,
            "min_width": null,
            "object_fit": null,
            "object_position": null,
            "order": null,
            "overflow": null,
            "overflow_x": null,
            "overflow_y": null,
            "padding": null,
            "right": null,
            "top": null,
            "visibility": null,
            "width": null
          }
        },
        "a9cd7c02f36d4a3b93f7c3d242f2fc33": {
          "model_module": "@jupyter-widgets/controls",
          "model_name": "SliderStyleModel",
          "model_module_version": "1.5.0",
          "state": {
            "_model_module": "@jupyter-widgets/controls",
            "_model_module_version": "1.5.0",
            "_model_name": "SliderStyleModel",
            "_view_count": null,
            "_view_module": "@jupyter-widgets/base",
            "_view_module_version": "1.2.0",
            "_view_name": "StyleView",
            "description_width": "",
            "handle_color": null
          }
        },
        "bbff5943a8544f18b0373b56e5821455": {
          "model_module": "@jupyter-widgets/base",
          "model_name": "LayoutModel",
          "model_module_version": "1.2.0",
          "state": {
            "_model_module": "@jupyter-widgets/base",
            "_model_module_version": "1.2.0",
            "_model_name": "LayoutModel",
            "_view_count": null,
            "_view_module": "@jupyter-widgets/base",
            "_view_module_version": "1.2.0",
            "_view_name": "LayoutView",
            "align_content": null,
            "align_items": null,
            "align_self": null,
            "border": null,
            "bottom": null,
            "display": null,
            "flex": null,
            "flex_flow": null,
            "grid_area": null,
            "grid_auto_columns": null,
            "grid_auto_flow": null,
            "grid_auto_rows": null,
            "grid_column": null,
            "grid_gap": null,
            "grid_row": null,
            "grid_template_areas": null,
            "grid_template_columns": null,
            "grid_template_rows": null,
            "height": null,
            "justify_content": null,
            "justify_items": null,
            "left": null,
            "margin": null,
            "max_height": null,
            "max_width": null,
            "min_height": null,
            "min_width": null,
            "object_fit": null,
            "object_position": null,
            "order": null,
            "overflow": null,
            "overflow_x": null,
            "overflow_y": null,
            "padding": null,
            "right": null,
            "top": null,
            "visibility": null,
            "width": null
          }
        },
        "d3ddee9931da4a75a0df8dcb6929a252": {
          "model_module": "@jupyter-widgets/controls",
          "model_name": "ButtonStyleModel",
          "model_module_version": "1.5.0",
          "state": {
            "_model_module": "@jupyter-widgets/controls",
            "_model_module_version": "1.5.0",
            "_model_name": "ButtonStyleModel",
            "_view_count": null,
            "_view_module": "@jupyter-widgets/base",
            "_view_module_version": "1.2.0",
            "_view_name": "StyleView",
            "button_color": null,
            "font_weight": ""
          }
        },
        "c4149ae5e7d6489683b9ededb0042a6b": {
          "model_module": "@jupyter-widgets/base",
          "model_name": "LayoutModel",
          "model_module_version": "1.2.0",
          "state": {
            "_model_module": "@jupyter-widgets/base",
            "_model_module_version": "1.2.0",
            "_model_name": "LayoutModel",
            "_view_count": null,
            "_view_module": "@jupyter-widgets/base",
            "_view_module_version": "1.2.0",
            "_view_name": "LayoutView",
            "align_content": null,
            "align_items": null,
            "align_self": null,
            "border": null,
            "bottom": null,
            "display": null,
            "flex": null,
            "flex_flow": null,
            "grid_area": null,
            "grid_auto_columns": null,
            "grid_auto_flow": null,
            "grid_auto_rows": null,
            "grid_column": null,
            "grid_gap": null,
            "grid_row": null,
            "grid_template_areas": null,
            "grid_template_columns": null,
            "grid_template_rows": null,
            "height": null,
            "justify_content": null,
            "justify_items": null,
            "left": null,
            "margin": null,
            "max_height": null,
            "max_width": null,
            "min_height": null,
            "min_width": null,
            "object_fit": null,
            "object_position": null,
            "order": null,
            "overflow": null,
            "overflow_x": null,
            "overflow_y": null,
            "padding": null,
            "right": null,
            "top": null,
            "visibility": null,
            "width": null
          }
        },
        "4a0e7b0b250946a29e5f8f64bba6e8c7": {
          "model_module": "@jupyter-widgets/controls",
          "model_name": "DescriptionStyleModel",
          "model_module_version": "1.5.0",
          "state": {
            "_model_module": "@jupyter-widgets/controls",
            "_model_module_version": "1.5.0",
            "_model_name": "DescriptionStyleModel",
            "_view_count": null,
            "_view_module": "@jupyter-widgets/base",
            "_view_module_version": "1.2.0",
            "_view_name": "StyleView",
            "description_width": ""
          }
        },
        "baf28dcda257434196d09d8603d6979b": {
          "model_module": "@jupyter-widgets/base",
          "model_name": "LayoutModel",
          "model_module_version": "1.2.0",
          "state": {
            "_model_module": "@jupyter-widgets/base",
            "_model_module_version": "1.2.0",
            "_model_name": "LayoutModel",
            "_view_count": null,
            "_view_module": "@jupyter-widgets/base",
            "_view_module_version": "1.2.0",
            "_view_name": "LayoutView",
            "align_content": null,
            "align_items": null,
            "align_self": null,
            "border": null,
            "bottom": null,
            "display": null,
            "flex": null,
            "flex_flow": null,
            "grid_area": null,
            "grid_auto_columns": null,
            "grid_auto_flow": null,
            "grid_auto_rows": null,
            "grid_column": null,
            "grid_gap": null,
            "grid_row": null,
            "grid_template_areas": null,
            "grid_template_columns": null,
            "grid_template_rows": null,
            "height": null,
            "justify_content": null,
            "justify_items": null,
            "left": null,
            "margin": null,
            "max_height": null,
            "max_width": null,
            "min_height": null,
            "min_width": null,
            "object_fit": null,
            "object_position": null,
            "order": null,
            "overflow": null,
            "overflow_x": null,
            "overflow_y": null,
            "padding": null,
            "right": null,
            "top": null,
            "visibility": null,
            "width": null
          }
        },
        "c62748e15d784841bcb14115cf17dd53": {
          "model_module": "@jupyter-widgets/controls",
          "model_name": "SliderStyleModel",
          "model_module_version": "1.5.0",
          "state": {
            "_model_module": "@jupyter-widgets/controls",
            "_model_module_version": "1.5.0",
            "_model_name": "SliderStyleModel",
            "_view_count": null,
            "_view_module": "@jupyter-widgets/base",
            "_view_module_version": "1.2.0",
            "_view_name": "StyleView",
            "description_width": "",
            "handle_color": null
          }
        },
        "27d54b3af5534819825c3a4be905d201": {
          "model_module": "@jupyter-widgets/base",
          "model_name": "LayoutModel",
          "model_module_version": "1.2.0",
          "state": {
            "_model_module": "@jupyter-widgets/base",
            "_model_module_version": "1.2.0",
            "_model_name": "LayoutModel",
            "_view_count": null,
            "_view_module": "@jupyter-widgets/base",
            "_view_module_version": "1.2.0",
            "_view_name": "LayoutView",
            "align_content": null,
            "align_items": null,
            "align_self": null,
            "border": null,
            "bottom": null,
            "display": null,
            "flex": null,
            "flex_flow": null,
            "grid_area": null,
            "grid_auto_columns": null,
            "grid_auto_flow": null,
            "grid_auto_rows": null,
            "grid_column": null,
            "grid_gap": null,
            "grid_row": null,
            "grid_template_areas": null,
            "grid_template_columns": null,
            "grid_template_rows": null,
            "height": null,
            "justify_content": null,
            "justify_items": null,
            "left": null,
            "margin": null,
            "max_height": null,
            "max_width": null,
            "min_height": null,
            "min_width": null,
            "object_fit": null,
            "object_position": null,
            "order": null,
            "overflow": null,
            "overflow_x": null,
            "overflow_y": null,
            "padding": null,
            "right": null,
            "top": null,
            "visibility": null,
            "width": null
          }
        },
        "667ea5c2681249bfbed4e0dd277a943d": {
          "model_module": "@jupyter-widgets/controls",
          "model_name": "DescriptionStyleModel",
          "model_module_version": "1.5.0",
          "state": {
            "_model_module": "@jupyter-widgets/controls",
            "_model_module_version": "1.5.0",
            "_model_name": "DescriptionStyleModel",
            "_view_count": null,
            "_view_module": "@jupyter-widgets/base",
            "_view_module_version": "1.2.0",
            "_view_name": "StyleView",
            "description_width": ""
          }
        },
        "c6418d2644f34f7e9b0995d6adda3bfb": {
          "model_module": "@jupyter-widgets/base",
          "model_name": "LayoutModel",
          "model_module_version": "1.2.0",
          "state": {
            "_model_module": "@jupyter-widgets/base",
            "_model_module_version": "1.2.0",
            "_model_name": "LayoutModel",
            "_view_count": null,
            "_view_module": "@jupyter-widgets/base",
            "_view_module_version": "1.2.0",
            "_view_name": "LayoutView",
            "align_content": null,
            "align_items": null,
            "align_self": null,
            "border": null,
            "bottom": null,
            "display": null,
            "flex": null,
            "flex_flow": null,
            "grid_area": null,
            "grid_auto_columns": null,
            "grid_auto_flow": null,
            "grid_auto_rows": null,
            "grid_column": null,
            "grid_gap": null,
            "grid_row": null,
            "grid_template_areas": null,
            "grid_template_columns": null,
            "grid_template_rows": null,
            "height": null,
            "justify_content": null,
            "justify_items": null,
            "left": null,
            "margin": null,
            "max_height": null,
            "max_width": null,
            "min_height": null,
            "min_width": null,
            "object_fit": null,
            "object_position": null,
            "order": null,
            "overflow": null,
            "overflow_x": null,
            "overflow_y": null,
            "padding": null,
            "right": null,
            "top": null,
            "visibility": null,
            "width": null
          }
        },
        "1e9160a7b2324f5aab94fe2791fc1aa0": {
          "model_module": "@jupyter-widgets/controls",
          "model_name": "DescriptionStyleModel",
          "model_module_version": "1.5.0",
          "state": {
            "_model_module": "@jupyter-widgets/controls",
            "_model_module_version": "1.5.0",
            "_model_name": "DescriptionStyleModel",
            "_view_count": null,
            "_view_module": "@jupyter-widgets/base",
            "_view_module_version": "1.2.0",
            "_view_name": "StyleView",
            "description_width": ""
          }
        },
        "b65736d146f34b34a3beb4288e020a0c": {
          "model_module": "@jupyter-widgets/base",
          "model_name": "LayoutModel",
          "model_module_version": "1.2.0",
          "state": {
            "_model_module": "@jupyter-widgets/base",
            "_model_module_version": "1.2.0",
            "_model_name": "LayoutModel",
            "_view_count": null,
            "_view_module": "@jupyter-widgets/base",
            "_view_module_version": "1.2.0",
            "_view_name": "LayoutView",
            "align_content": null,
            "align_items": null,
            "align_self": null,
            "border": null,
            "bottom": null,
            "display": null,
            "flex": null,
            "flex_flow": null,
            "grid_area": null,
            "grid_auto_columns": null,
            "grid_auto_flow": null,
            "grid_auto_rows": null,
            "grid_column": null,
            "grid_gap": null,
            "grid_row": null,
            "grid_template_areas": null,
            "grid_template_columns": null,
            "grid_template_rows": null,
            "height": null,
            "justify_content": null,
            "justify_items": null,
            "left": null,
            "margin": null,
            "max_height": null,
            "max_width": null,
            "min_height": null,
            "min_width": null,
            "object_fit": null,
            "object_position": null,
            "order": null,
            "overflow": null,
            "overflow_x": null,
            "overflow_y": null,
            "padding": null,
            "right": null,
            "top": null,
            "visibility": null,
            "width": null
          }
        },
        "47f133b95ac74cbea6a60eb6f56d6ddc": {
          "model_module": "@jupyter-widgets/controls",
          "model_name": "ButtonStyleModel",
          "model_module_version": "1.5.0",
          "state": {
            "_model_module": "@jupyter-widgets/controls",
            "_model_module_version": "1.5.0",
            "_model_name": "ButtonStyleModel",
            "_view_count": null,
            "_view_module": "@jupyter-widgets/base",
            "_view_module_version": "1.2.0",
            "_view_name": "StyleView",
            "button_color": null,
            "font_weight": ""
          }
        },
        "b37be95111fc417c8623d0fbd862c4a5": {
          "model_module": "@jupyter-widgets/base",
          "model_name": "LayoutModel",
          "model_module_version": "1.2.0",
          "state": {
            "_model_module": "@jupyter-widgets/base",
            "_model_module_version": "1.2.0",
            "_model_name": "LayoutModel",
            "_view_count": null,
            "_view_module": "@jupyter-widgets/base",
            "_view_module_version": "1.2.0",
            "_view_name": "LayoutView",
            "align_content": null,
            "align_items": null,
            "align_self": null,
            "border": null,
            "bottom": null,
            "display": null,
            "flex": null,
            "flex_flow": null,
            "grid_area": null,
            "grid_auto_columns": null,
            "grid_auto_flow": null,
            "grid_auto_rows": null,
            "grid_column": null,
            "grid_gap": null,
            "grid_row": null,
            "grid_template_areas": null,
            "grid_template_columns": null,
            "grid_template_rows": null,
            "height": null,
            "justify_content": null,
            "justify_items": null,
            "left": null,
            "margin": null,
            "max_height": null,
            "max_width": null,
            "min_height": null,
            "min_width": null,
            "object_fit": null,
            "object_position": null,
            "order": null,
            "overflow": null,
            "overflow_x": null,
            "overflow_y": null,
            "padding": null,
            "right": null,
            "top": null,
            "visibility": null,
            "width": null
          }
        },
        "6dac9e78a4bb402cb21141c63c7f89fd": {
          "model_module": "@jupyter-widgets/controls",
          "model_name": "ButtonStyleModel",
          "model_module_version": "1.5.0",
          "state": {
            "_model_module": "@jupyter-widgets/controls",
            "_model_module_version": "1.5.0",
            "_model_name": "ButtonStyleModel",
            "_view_count": null,
            "_view_module": "@jupyter-widgets/base",
            "_view_module_version": "1.2.0",
            "_view_name": "StyleView",
            "button_color": null,
            "font_weight": ""
          }
        },
        "a503262523464cf091a7cb2dc2db6b9f": {
          "model_module": "@jupyter-widgets/output",
          "model_name": "OutputModel",
          "model_module_version": "1.0.0",
          "state": {
            "_dom_classes": [],
            "_model_module": "@jupyter-widgets/output",
            "_model_module_version": "1.0.0",
            "_model_name": "OutputModel",
            "_view_count": null,
            "_view_module": "@jupyter-widgets/output",
            "_view_module_version": "1.0.0",
            "_view_name": "OutputView",
            "layout": "IPY_MODEL_8c3d6b7776554ac6af8a401bc86da32d",
            "msg_id": "",
            "outputs": [
              {
                "output_type": "display_data",
                "data": {
                  "text/plain": "<Figure size 640x640 with 1 Axes>",
                  "image/png": "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\n"
                },
                "metadata": {
                  "needs_background": "light"
                }
              }
            ]
          }
        },
        "8c3d6b7776554ac6af8a401bc86da32d": {
          "model_module": "@jupyter-widgets/base",
          "model_name": "LayoutModel",
          "model_module_version": "1.2.0",
          "state": {
            "_model_module": "@jupyter-widgets/base",
            "_model_module_version": "1.2.0",
            "_model_name": "LayoutModel",
            "_view_count": null,
            "_view_module": "@jupyter-widgets/base",
            "_view_module_version": "1.2.0",
            "_view_name": "LayoutView",
            "align_content": null,
            "align_items": null,
            "align_self": null,
            "border": null,
            "bottom": null,
            "display": null,
            "flex": null,
            "flex_flow": null,
            "grid_area": null,
            "grid_auto_columns": null,
            "grid_auto_flow": null,
            "grid_auto_rows": null,
            "grid_column": null,
            "grid_gap": null,
            "grid_row": null,
            "grid_template_areas": null,
            "grid_template_columns": null,
            "grid_template_rows": null,
            "height": null,
            "justify_content": null,
            "justify_items": null,
            "left": null,
            "margin": null,
            "max_height": null,
            "max_width": null,
            "min_height": null,
            "min_width": null,
            "object_fit": null,
            "object_position": null,
            "order": null,
            "overflow": null,
            "overflow_x": null,
            "overflow_y": null,
            "padding": null,
            "right": null,
            "top": null,
            "visibility": null,
            "width": null
          }
        },
        "3c993203f8ea482281b5833ae02f0964": {
          "model_module": "@jupyter-widgets/controls",
          "model_name": "IntSliderModel",
          "model_module_version": "1.5.0",
          "state": {
            "_dom_classes": [],
            "_model_module": "@jupyter-widgets/controls",
            "_model_module_version": "1.5.0",
            "_model_name": "IntSliderModel",
            "_view_count": null,
            "_view_module": "@jupyter-widgets/controls",
            "_view_module_version": "1.5.0",
            "_view_name": "IntSliderView",
            "continuous_update": false,
            "description": "Index:",
            "description_tooltip": null,
            "disabled": false,
            "layout": "IPY_MODEL_7cd3c7dc9fb348ae85bcd2800bfeadcd",
            "max": 933,
            "min": 0,
            "orientation": "horizontal",
            "readout": true,
            "readout_format": "d",
            "step": 1,
            "style": "IPY_MODEL_4f8cf54f78b34adf95a4c87641dd42a8",
            "value": 782
          }
        },
        "7cd3c7dc9fb348ae85bcd2800bfeadcd": {
          "model_module": "@jupyter-widgets/base",
          "model_name": "LayoutModel",
          "model_module_version": "1.2.0",
          "state": {
            "_model_module": "@jupyter-widgets/base",
            "_model_module_version": "1.2.0",
            "_model_name": "LayoutModel",
            "_view_count": null,
            "_view_module": "@jupyter-widgets/base",
            "_view_module_version": "1.2.0",
            "_view_name": "LayoutView",
            "align_content": null,
            "align_items": null,
            "align_self": null,
            "border": null,
            "bottom": null,
            "display": null,
            "flex": null,
            "flex_flow": null,
            "grid_area": null,
            "grid_auto_columns": null,
            "grid_auto_flow": null,
            "grid_auto_rows": null,
            "grid_column": null,
            "grid_gap": null,
            "grid_row": null,
            "grid_template_areas": null,
            "grid_template_columns": null,
            "grid_template_rows": null,
            "height": null,
            "justify_content": null,
            "justify_items": null,
            "left": null,
            "margin": null,
            "max_height": null,
            "max_width": null,
            "min_height": null,
            "min_width": null,
            "object_fit": null,
            "object_position": null,
            "order": null,
            "overflow": null,
            "overflow_x": null,
            "overflow_y": null,
            "padding": null,
            "right": null,
            "top": null,
            "visibility": null,
            "width": null
          }
        },
        "4f8cf54f78b34adf95a4c87641dd42a8": {
          "model_module": "@jupyter-widgets/controls",
          "model_name": "SliderStyleModel",
          "model_module_version": "1.5.0",
          "state": {
            "_model_module": "@jupyter-widgets/controls",
            "_model_module_version": "1.5.0",
            "_model_name": "SliderStyleModel",
            "_view_count": null,
            "_view_module": "@jupyter-widgets/base",
            "_view_module_version": "1.2.0",
            "_view_name": "StyleView",
            "description_width": "",
            "handle_color": null
          }
        }
      }
    }
  },
  "cells": [
    {
      "cell_type": "markdown",
      "metadata": {
        "id": "view-in-github",
        "colab_type": "text"
      },
      "source": [
        "<a href=\"https://colab.research.google.com/github/Alikerin/Introduction-to-Data-Centric-AI/blob/main/Introduction_to_Data_Centric_AI.ipynb\" target=\"_parent\"><img src=\"https://colab.research.google.com/assets/colab-badge.svg\" alt=\"Open In Colab\"/></a>"
      ]
    },
    {
      "cell_type": "markdown",
      "source": [
        "# Introduction"
      ],
      "metadata": {
        "id": "25hW1IlSz7Lg"
      }
    },
    {
      "cell_type": "code",
      "source": [
        "#@title Download Data\n",
        "import gdown\n",
        "\n",
        "!rm -rf data_label_corrected\n",
        "!rm -rf data\n",
        "!rm -rf label_book\n",
        "\n",
        "gdown.download(id=\"1hfkG1MR0sHqERFTWY986IA8ASgioT111\", output='data_label_corrected.tar.gz', quiet=True)\n",
        "gdown.download(id=\"102nKEEf8rfdaz9H4rGC7oNWTOOevZnCQ\", output='data.tar.gz', quiet=True)\n",
        "gdown.download(id=\"1HnVydTwTUv-ZkFX-6NGXvxR_6rWRxHBI\", output='label_book.tar.gz', quiet=True)\n",
        "\n",
        "!tar -xzf data_label_corrected.tar.gz\n",
        "!tar -xzf data.tar.gz\n",
        "!tar -xzf label_book.tar.gz\n",
        "\n",
        "!rm data_label_corrected.tar.gz\n",
        "!rm data.tar.gz\n",
        "!rm label_book.tar.gz"
      ],
      "metadata": {
        "cellView": "form",
        "id": "v6FOH54u0KOI"
      },
      "execution_count": null,
      "outputs": []
    },
    {
      "cell_type": "code",
      "source": [
        "#@title Install Packages\n",
        "!pip -q install dvc[gdrive]\n"
      ],
      "metadata": {
        "colab": {
          "base_uri": "https://localhost:8080/"
        },
        "cellView": "form",
        "id": "hGWcx6df9YQD",
        "outputId": "2dbea10f-1bf9-438c-8117-b8b21ef6c91a"
      },
      "execution_count": null,
      "outputs": [
        {
          "output_type": "stream",
          "name": "stdout",
          "text": [
            "\u001b[K     |████████████████████████████████| 401 kB 5.0 MB/s \n",
            "\u001b[K     |████████████████████████████████| 44 kB 3.5 MB/s \n",
            "\u001b[K     |████████████████████████████████| 44 kB 2.8 MB/s \n",
            "\u001b[K     |████████████████████████████████| 237 kB 59.5 MB/s \n",
            "\u001b[K     |████████████████████████████████| 291 kB 58.1 MB/s \n",
            "\u001b[K     |████████████████████████████████| 40 kB 6.4 MB/s \n",
            "\u001b[K     |████████████████████████████████| 109 kB 63.7 MB/s \n",
            "\u001b[K     |████████████████████████████████| 42 kB 1.4 MB/s \n",
            "\u001b[K     |████████████████████████████████| 498 kB 56.7 MB/s \n",
            "\u001b[K     |████████████████████████████████| 346 kB 61.9 MB/s \n",
            "\u001b[K     |████████████████████████████████| 4.5 MB 52.3 MB/s \n",
            "\u001b[K     |████████████████████████████████| 182 kB 62.7 MB/s \n",
            "\u001b[K     |████████████████████████████████| 4.0 MB 44.2 MB/s \n",
            "\u001b[K     |████████████████████████████████| 140 kB 61.9 MB/s \n",
            "\u001b[K     |████████████████████████████████| 63 kB 1.8 MB/s \n",
            "\u001b[K     |████████████████████████████████| 57 kB 5.3 MB/s \n",
            "\u001b[K     |████████████████████████████████| 2.6 MB 48.6 MB/s \n",
            "\u001b[K     |████████████████████████████████| 321 kB 62.9 MB/s \n",
            "\u001b[K     |████████████████████████████████| 96 kB 6.2 MB/s \n",
            "\u001b[K     |████████████████████████████████| 132 kB 64.3 MB/s \n",
            "\u001b[K     |████████████████████████████████| 53 kB 1.9 MB/s \n",
            "\u001b[K     |████████████████████████████████| 62 kB 1.6 MB/s \n",
            "\u001b[K     |████████████████████████████████| 9.3 MB 40.8 MB/s \n",
            "\u001b[K     |████████████████████████████████| 79 kB 9.1 MB/s \n",
            "\u001b[K     |████████████████████████████████| 51 kB 7.3 MB/s \n",
            "\u001b[K     |████████████████████████████████| 500 kB 61.8 MB/s \n",
            "\u001b[?25h  Building wheel for configobj (setup.py) ... \u001b[?25l\u001b[?25hdone\n",
            "  Building wheel for nanotime (setup.py) ... \u001b[?25l\u001b[?25hdone\n",
            "  Building wheel for mailchecker (setup.py) ... \u001b[?25l\u001b[?25hdone\n"
          ]
        }
      ]
    },
    {
      "cell_type": "markdown",
      "source": [
        "# Part 1 - Establish a Baseline"
      ],
      "metadata": {
        "id": "4T9RRnwY0CYn"
      }
    },
    {
      "cell_type": "code",
      "execution_count": null,
      "metadata": {
        "id": "mXnCSGD8wvns"
      },
      "outputs": [],
      "source": [
        "import tensorflow as tf\n",
        "from tensorflow import keras\n",
        "import numpy as np\n",
        "import json\n",
        "import sys\n"
      ]
    },
    {
      "cell_type": "code",
      "source": [
        "train_val_directory = \"data\"\n",
        "test_directory = \"label_book\"\n",
        "\n",
        "batch_size = 8\n",
        "tf.random.set_seed(123)\n",
        "\n",
        "labels = [\"i\", \"ii\", \"iii\", \"iv\", \"v\", \"vi\", \"vii\", \"viii\", \"ix\", \"x\"]\n"
      ],
      "metadata": {
        "id": "zVAmodLPxvJc"
      },
      "execution_count": null,
      "outputs": []
    },
    {
      "cell_type": "code",
      "source": [
        "train = tf.keras.preprocessing.image_dataset_from_directory(\n",
        "    train_val_directory + '/train',\n",
        "    labels=\"inferred\",\n",
        "    label_mode=\"categorical\",\n",
        "    class_names=labels,\n",
        "    shuffle=True,\n",
        "    seed=123,\n",
        "    batch_size=batch_size,\n",
        "    image_size=(32, 32),\n",
        ")\n",
        "\n",
        "valid = tf.keras.preprocessing.image_dataset_from_directory(\n",
        "    train_val_directory + '/val',\n",
        "    labels=\"inferred\",\n",
        "    label_mode=\"categorical\",\n",
        "    class_names=labels,\n",
        "    shuffle=False,\n",
        "    seed=123,\n",
        "    batch_size=batch_size,\n",
        "    image_size=(32, 32),\n",
        ")\n",
        "\n",
        "total_length = ((train.cardinality() + valid.cardinality()) * batch_size).numpy()\n",
        "if total_length > 10_000:\n",
        "    print(f\"Dataset size larger than 10,000. Got {total_length} examples\")\n",
        "    sys.exit()\n",
        "\n",
        "test = tf.keras.preprocessing.image_dataset_from_directory(\n",
        "    test_directory,\n",
        "    labels=\"inferred\",\n",
        "    label_mode=\"categorical\",\n",
        "    class_names=labels,\n",
        "    shuffle=False,\n",
        "    seed=123,\n",
        "    batch_size=batch_size,\n",
        "    image_size=(32, 32),\n",
        ")"
      ],
      "metadata": {
        "colab": {
          "base_uri": "https://localhost:8080/"
        },
        "id": "CqjbZ_-BxxsF",
        "outputId": "9df2e652-61c9-4806-d194-7c206fa881c8"
      },
      "execution_count": null,
      "outputs": [
        {
          "output_type": "stream",
          "name": "stdout",
          "text": [
            "Found 2067 files belonging to 10 classes.\n",
            "Found 813 files belonging to 10 classes.\n",
            "Found 52 files belonging to 10 classes.\n"
          ]
        }
      ]
    },
    {
      "cell_type": "code",
      "source": [
        "base_model = tf.keras.applications.ResNet50(\n",
        "    input_shape=(32, 32, 3),\n",
        "    include_top=False,\n",
        "    weights=None,\n",
        ")\n",
        "base_model = tf.keras.Model(\n",
        "    base_model.inputs, outputs=[base_model.get_layer(\"conv2_block3_out\").output]\n",
        ")\n",
        "\n",
        "inputs = tf.keras.Input(shape=(32, 32, 3))\n",
        "x = tf.keras.applications.resnet.preprocess_input(inputs)\n",
        "x = base_model(x)\n",
        "x = tf.keras.layers.GlobalAveragePooling2D()(x)\n",
        "x = tf.keras.layers.Dense(10)(x)\n",
        "model = tf.keras.Model(inputs, x)\n",
        "\n",
        "model.compile(\n",
        "    optimizer=tf.keras.optimizers.Adam(lr=0.0001),\n",
        "    loss=tf.keras.losses.CategoricalCrossentropy(from_logits=True),\n",
        "    metrics=[\"accuracy\"],\n",
        ")\n",
        "model.summary()"
      ],
      "metadata": {
        "colab": {
          "base_uri": "https://localhost:8080/"
        },
        "id": "TU3TsMo2yPa3",
        "outputId": "986623cd-0e7f-48fb-85b1-77d455e5f61d"
      },
      "execution_count": null,
      "outputs": [
        {
          "output_type": "stream",
          "name": "stdout",
          "text": [
            "Model: \"model_1\"\n",
            "_________________________________________________________________\n",
            " Layer (type)                Output Shape              Param #   \n",
            "=================================================================\n",
            " input_2 (InputLayer)        [(None, 32, 32, 3)]       0         \n",
            "                                                                 \n",
            " tf.__operators__.getitem (S  (None, 32, 32, 3)        0         \n",
            " licingOpLambda)                                                 \n",
            "                                                                 \n",
            " tf.nn.bias_add (TFOpLambda)  (None, 32, 32, 3)        0         \n",
            "                                                                 \n",
            " model (Functional)          (None, 8, 8, 256)         229760    \n",
            "                                                                 \n",
            " global_average_pooling2d (G  (None, 256)              0         \n",
            " lobalAveragePooling2D)                                          \n",
            "                                                                 \n",
            " dense (Dense)               (None, 10)                2570      \n",
            "                                                                 \n",
            "=================================================================\n",
            "Total params: 232,330\n",
            "Trainable params: 229,386\n",
            "Non-trainable params: 2,944\n",
            "_________________________________________________________________\n"
          ]
        },
        {
          "output_type": "stream",
          "name": "stderr",
          "text": [
            "/usr/local/lib/python3.7/dist-packages/keras/optimizers/optimizer_v2/adam.py:110: UserWarning: The `lr` argument is deprecated, use `learning_rate` instead.\n",
            "  super(Adam, self).__init__(name, **kwargs)\n"
          ]
        }
      ]
    },
    {
      "cell_type": "code",
      "source": [
        "checkpoint = tf.keras.callbacks.ModelCheckpoint(\n",
        "    \"ckpt_part_1/best_model\",\n",
        "    monitor=\"val_accuracy\",\n",
        "    mode=\"max\",\n",
        "    save_best_only=True,\n",
        "    save_weights_only=True,\n",
        ")\n",
        "early_stopping = tf.keras.callbacks.EarlyStopping(monitor='val_accuracy', patience=10)\n",
        "\n",
        "history = model.fit(\n",
        "    train,\n",
        "    validation_data=valid,\n",
        "    epochs=100,\n",
        "    callbacks=[checkpoint, early_stopping],\n",
        ")"
      ],
      "metadata": {
        "colab": {
          "base_uri": "https://localhost:8080/"
        },
        "id": "VfOHC1gZySBa",
        "outputId": "85446403-83be-429f-d115-b6707eb12663"
      },
      "execution_count": null,
      "outputs": [
        {
          "output_type": "stream",
          "name": "stdout",
          "text": [
            "Epoch 1/100\n",
            "259/259 [==============================] - 18s 16ms/step - loss: 2.0193 - accuracy: 0.2941 - val_loss: 1.9539 - val_accuracy: 0.2362\n",
            "Epoch 2/100\n",
            "259/259 [==============================] - 4s 14ms/step - loss: 1.4691 - accuracy: 0.5259 - val_loss: 1.5672 - val_accuracy: 0.4256\n",
            "Epoch 3/100\n",
            "259/259 [==============================] - 4s 14ms/step - loss: 1.2227 - accuracy: 0.6067 - val_loss: 1.2651 - val_accuracy: 0.5572\n",
            "Epoch 4/100\n",
            "259/259 [==============================] - 4s 14ms/step - loss: 1.0207 - accuracy: 0.6783 - val_loss: 1.2230 - val_accuracy: 0.5584\n",
            "Epoch 5/100\n",
            "259/259 [==============================] - 4s 14ms/step - loss: 0.8845 - accuracy: 0.7209 - val_loss: 1.0808 - val_accuracy: 0.6421\n",
            "Epoch 6/100\n",
            "259/259 [==============================] - 5s 18ms/step - loss: 0.7898 - accuracy: 0.7547 - val_loss: 1.1367 - val_accuracy: 0.5929\n",
            "Epoch 7/100\n",
            "259/259 [==============================] - 4s 14ms/step - loss: 0.7105 - accuracy: 0.7837 - val_loss: 1.1249 - val_accuracy: 0.6076\n",
            "Epoch 8/100\n",
            "259/259 [==============================] - 3s 13ms/step - loss: 0.5813 - accuracy: 0.8307 - val_loss: 1.3063 - val_accuracy: 0.5326\n",
            "Epoch 9/100\n",
            "259/259 [==============================] - 4s 13ms/step - loss: 0.5198 - accuracy: 0.8515 - val_loss: 1.1036 - val_accuracy: 0.6310\n",
            "Epoch 10/100\n",
            "259/259 [==============================] - 3s 13ms/step - loss: 0.4581 - accuracy: 0.8728 - val_loss: 1.3213 - val_accuracy: 0.5560\n",
            "Epoch 11/100\n",
            "259/259 [==============================] - 4s 13ms/step - loss: 0.3879 - accuracy: 0.8979 - val_loss: 1.2123 - val_accuracy: 0.5830\n",
            "Epoch 12/100\n",
            "259/259 [==============================] - 3s 13ms/step - loss: 0.3494 - accuracy: 0.9071 - val_loss: 1.1394 - val_accuracy: 0.6335\n",
            "Epoch 13/100\n",
            "259/259 [==============================] - 4s 14ms/step - loss: 0.2793 - accuracy: 0.9357 - val_loss: 1.0612 - val_accuracy: 0.6568\n",
            "Epoch 14/100\n",
            "259/259 [==============================] - 3s 13ms/step - loss: 0.2666 - accuracy: 0.9318 - val_loss: 1.2071 - val_accuracy: 0.6285\n",
            "Epoch 15/100\n",
            "259/259 [==============================] - 4s 14ms/step - loss: 0.2025 - accuracy: 0.9652 - val_loss: 1.0316 - val_accuracy: 0.6605\n",
            "Epoch 16/100\n",
            "259/259 [==============================] - 3s 13ms/step - loss: 0.2109 - accuracy: 0.9497 - val_loss: 1.3788 - val_accuracy: 0.5806\n",
            "Epoch 17/100\n",
            "259/259 [==============================] - 3s 13ms/step - loss: 0.1642 - accuracy: 0.9666 - val_loss: 1.5762 - val_accuracy: 0.5523\n",
            "Epoch 18/100\n",
            "259/259 [==============================] - 4s 15ms/step - loss: 0.1613 - accuracy: 0.9661 - val_loss: 1.8973 - val_accuracy: 0.5043\n",
            "Epoch 19/100\n",
            "259/259 [==============================] - 5s 17ms/step - loss: 0.1494 - accuracy: 0.9724 - val_loss: 1.4285 - val_accuracy: 0.5781\n",
            "Epoch 20/100\n",
            "259/259 [==============================] - 4s 14ms/step - loss: 0.1478 - accuracy: 0.9632 - val_loss: 1.4543 - val_accuracy: 0.5769\n",
            "Epoch 21/100\n",
            "259/259 [==============================] - 3s 13ms/step - loss: 0.1315 - accuracy: 0.9729 - val_loss: 1.2520 - val_accuracy: 0.6335\n",
            "Epoch 22/100\n",
            "259/259 [==============================] - 4s 14ms/step - loss: 0.0998 - accuracy: 0.9758 - val_loss: 1.3170 - val_accuracy: 0.6187\n",
            "Epoch 23/100\n",
            "259/259 [==============================] - 3s 13ms/step - loss: 0.1005 - accuracy: 0.9831 - val_loss: 1.3564 - val_accuracy: 0.6150\n",
            "Epoch 24/100\n",
            "259/259 [==============================] - 3s 13ms/step - loss: 0.0925 - accuracy: 0.9811 - val_loss: 1.3535 - val_accuracy: 0.6335\n",
            "Epoch 25/100\n",
            "259/259 [==============================] - 4s 14ms/step - loss: 0.0870 - accuracy: 0.9831 - val_loss: 1.2818 - val_accuracy: 0.6199\n"
          ]
        }
      ]
    },
    {
      "cell_type": "code",
      "source": [
        "import matplotlib.pyplot as plt\n",
        "import seaborn as sns\n",
        "from sklearn.metrics import accuracy_score, confusion_matrix\n",
        "\n",
        "def evaluate_model(model, dataset):\n",
        "    labels = np.concatenate([y.numpy() for x, y in dataset], axis=0).argmax(axis=1)\n",
        "    pred_labels = np.argmax(model.predict(dataset), axis=1)\n",
        "    cm = confusion_matrix(labels, pred_labels)\n",
        "    acc = accuracy_score(labels, pred_labels)\n",
        "    return acc, cm\n",
        "\n",
        "def show_confusion_matrix(cm, labels):\n",
        "    plt.figure(figsize=(10, 8))\n",
        "    sns.heatmap(cm, xticklabels=labels, yticklabels=labels, \n",
        "                annot=True, fmt='g')\n",
        "    plt.xlabel('Prediction')\n",
        "    plt.ylabel('Label')\n",
        "    plt.show()"
      ],
      "metadata": {
        "id": "hJOaPjakyXlB"
      },
      "execution_count": null,
      "outputs": []
    },
    {
      "cell_type": "code",
      "source": [
        "model.load_weights(\"ckpt_part_1/best_model\")"
      ],
      "metadata": {
        "colab": {
          "base_uri": "https://localhost:8080/"
        },
        "id": "75XszJ1xybZv",
        "outputId": "d96f91b8-86d2-411c-e51c-9041e7342cb4"
      },
      "execution_count": null,
      "outputs": [
        {
          "output_type": "execute_result",
          "data": {
            "text/plain": [
              "<tensorflow.python.training.tracking.util.CheckpointLoadStatus at 0x7fcc32295850>"
            ]
          },
          "metadata": {},
          "execution_count": 9
        }
      ]
    },
    {
      "cell_type": "code",
      "source": [
        "val_acc, val_cm = evaluate_model(model, valid)\n",
        "print(f\"Validation Accuracy: {val_acc}\")\n",
        "show_confusion_matrix(val_cm, labels)\n"
      ],
      "metadata": {
        "colab": {
          "base_uri": "https://localhost:8080/",
          "height": 533
        },
        "id": "G8EADjcSycaD",
        "outputId": "fd193a61-cfa7-430a-9b39-ae58b522d468"
      },
      "execution_count": null,
      "outputs": [
        {
          "output_type": "stream",
          "name": "stdout",
          "text": [
            "102/102 [==============================] - 1s 7ms/step\n",
            "Validation Accuracy: 0.6605166051660517\n"
          ]
        },
        {
          "output_type": "display_data",
          "data": {
            "text/plain": [
              "<Figure size 720x576 with 2 Axes>"
            ],
            "image/png": "[encoded data removed]"
          },
          "metadata": {
            "needs_background": "light"
          }
        }
      ]
    },
    {
      "cell_type": "code",
      "source": [
        "test_acc, test_cm = evaluate_model(model, test)\n",
        "print(f\"Test Accuracy: {test_acc}\")\n",
        "show_confusion_matrix(test_cm, labels)\n"
      ],
      "metadata": {
        "colab": {
          "base_uri": "https://localhost:8080/",
          "height": 537
        },
        "id": "lDzifxYSygnn",
        "outputId": "0e24f1a6-8e24-46ff-80ec-db7f1a51afe0"
      },
      "execution_count": null,
      "outputs": [
        {
          "output_type": "stream",
          "name": "stdout",
          "text": [
            "7/7 [==============================] - 0s 18ms/step\n",
            "Test Accuracy: 0.5384615384615384\n"
          ]
        },
        {
          "output_type": "display_data",
          "data": {
            "text/plain": [
              "<Figure size 720x576 with 2 Axes>"
            ],
            "image/png": "[encoded data removed]"
          },
          "metadata": {
            "needs_background": "light"
          }
        }
      ]
    },
    {
      "cell_type": "markdown",
      "source": [
        "## Track Data with DVC"
      ],
      "metadata": {
        "id": "KXQFWOd6GGcl"
      }
    },
    {
      "cell_type": "code",
      "source": [
        "!git init\n",
        "!git config --global user.email \"i.yusuf@instadeep.com\"\n",
        "!git config --global user.name \"Ibrahim Salihu Yusuf\""
      ],
      "metadata": {
        "id": "tcPnkKuOCSMf"
      },
      "execution_count": null,
      "outputs": []
    },
    {
      "cell_type": "code",
      "source": [
        "!dvc init"
      ],
      "metadata": {
        "colab": {
          "base_uri": "https://localhost:8080/"
        },
        "id": "AEvKIbyfCWAD",
        "outputId": "9c1dafcf-f399-4149-908f-8c74d1fef9bc"
      },
      "execution_count": null,
      "outputs": [
        {
          "output_type": "stream",
          "name": "stdout",
          "text": [
            "Initialized DVC repository.\n",
            "\n",
            "You can now commit the changes to git.\n",
            "\n",
            "\u001b[31m+---------------------------------------------------------------------+\n",
            "\u001b[0m\u001b[31m|\u001b[0m                                                                     \u001b[31m|\u001b[0m\n",
            "\u001b[31m|\u001b[0m        DVC has enabled anonymous aggregate usage analytics.         \u001b[31m|\u001b[0m\n",
            "\u001b[31m|\u001b[0m     Read the analytics documentation (and how to opt-out) here:     \u001b[31m|\u001b[0m\n",
            "\u001b[31m|\u001b[0m             <\u001b[36mhttps://dvc.org/doc/user-guide/analytics\u001b[39m>              \u001b[31m|\u001b[0m\n",
            "\u001b[31m|\u001b[0m                                                                     \u001b[31m|\u001b[0m\n",
            "\u001b[31m+---------------------------------------------------------------------+\n",
            "\u001b[0m\n",
            "\u001b[33mWhat's next?\u001b[39m\n",
            "\u001b[33m------------\u001b[39m\n",
            "- Check out the documentation: <\u001b[36mhttps://dvc.org/doc\u001b[39m>\n",
            "- Get help and share ideas: <\u001b[36mhttps://dvc.org/chat\u001b[39m>\n",
            "- Star us on GitHub: <\u001b[36mhttps://github.com/iterative/dvc\u001b[39m>\n",
            "\u001b[0m"
          ]
        }
      ]
    },
    {
      "cell_type": "code",
      "source": [
        "# Track data directory\n",
        "!dvc add data # Create data.dvc"
      ],
      "metadata": {
        "id": "Yv88JKnwCfEj"
      },
      "execution_count": null,
      "outputs": []
    },
    {
      "cell_type": "code",
      "source": [
        "!ls"
      ],
      "metadata": {
        "colab": {
          "base_uri": "https://localhost:8080/"
        },
        "id": "9gruBXgVCuVl",
        "outputId": "99e25ad8-8c8c-4782-a768-7511a1f5e3ae"
      },
      "execution_count": null,
      "outputs": [
        {
          "output_type": "stream",
          "name": "stdout",
          "text": [
            "ckpt_part_1  data  data.dvc  data_label_corrected  label_book  sample_data\n"
          ]
        }
      ]
    },
    {
      "cell_type": "code",
      "source": [
        "!cat data.dvc"
      ],
      "metadata": {
        "colab": {
          "base_uri": "https://localhost:8080/"
        },
        "id": "Gt_Gv25_CxDz",
        "outputId": "11e58080-e46c-41a9-b510-ce7c1a267ba4"
      },
      "execution_count": null,
      "outputs": [
        {
          "output_type": "stream",
          "name": "stdout",
          "text": [
            "outs:\n",
            "- md5: fe024fe75f5f74a6a1669c08a3e2d2de.dir\n",
            "  size: 5960945\n",
            "  nfiles: 2884\n",
            "  path: data\n"
          ]
        }
      ]
    },
    {
      "cell_type": "code",
      "source": [
        "!git add data.dvc\n",
        "!git commit -m \"add version_1 data\""
      ],
      "metadata": {
        "colab": {
          "base_uri": "https://localhost:8080/"
        },
        "id": "8mnOaf-1Crov",
        "outputId": "f17cc6b3-5d77-4fdf-b86e-7292115da042"
      },
      "execution_count": null,
      "outputs": [
        {
          "output_type": "stream",
          "name": "stdout",
          "text": [
            "[master (root-commit) fccb847] add version_1 data\n",
            " 4 files changed, 11 insertions(+)\n",
            " create mode 100644 .dvc/.gitignore\n",
            " create mode 100644 .dvc/config\n",
            " create mode 100644 .dvcignore\n",
            " create mode 100644 data.dvc\n"
          ]
        }
      ]
    },
    {
      "cell_type": "code",
      "source": [
        "# Store the data remotely\n",
        "# !dvc remote add -d remote gdrive://1a4AbZ8izazFzPdPD471HqIBMxO2ut6gc #\n",
        "!dvc remote add -d local_remote /tmp/dvcstore"
      ],
      "metadata": {
        "colab": {
          "base_uri": "https://localhost:8080/"
        },
        "id": "B7KOEqDODIxZ",
        "outputId": "c96986ed-9173-446d-cec8-2ecf2c6588c4"
      },
      "execution_count": null,
      "outputs": [
        {
          "output_type": "stream",
          "name": "stdout",
          "text": [
            "Setting 'local_remote' as a default remote.\n",
            "\u001b[0m"
          ]
        }
      ]
    },
    {
      "cell_type": "code",
      "source": [
        "!cat .dvc/config"
      ],
      "metadata": {
        "colab": {
          "base_uri": "https://localhost:8080/"
        },
        "id": "oipfAf1iF1cm",
        "outputId": "b6cc7881-5d81-42fb-e31c-b5fd557f2273"
      },
      "execution_count": null,
      "outputs": [
        {
          "output_type": "stream",
          "name": "stdout",
          "text": [
            "[core]\n",
            "    remote = local_remote\n",
            "['remote \"remote\"']\n",
            "    url = gdrive://1a4AbZ8izazFzPdPD471HqIBMxO2ut6gc\n",
            "['remote \"local_remote\"']\n",
            "    url = /tmp/dvcstore\n"
          ]
        }
      ]
    },
    {
      "cell_type": "code",
      "source": [
        "!dvc push"
      ],
      "metadata": {
        "id": "q4wpime_DZSf"
      },
      "execution_count": null,
      "outputs": []
    },
    {
      "cell_type": "markdown",
      "source": [
        "# Part 2 - Apply Data Augmentation"
      ],
      "metadata": {
        "id": "K3olVGkc431m"
      }
    },
    {
      "cell_type": "code",
      "source": [
        "import tensorflow as tf\n",
        "from tensorflow import keras\n",
        "import numpy as np\n",
        "import json\n",
        "import sys\n",
        "import os"
      ],
      "metadata": {
        "id": "2Ody49T3428Y"
      },
      "execution_count": null,
      "outputs": []
    },
    {
      "cell_type": "code",
      "source": [
        "train_val_directory = \"data\"\n",
        "test_directory = \"label_book\"\n",
        "\n",
        "batch_size = 8\n",
        "tf.random.set_seed(123)\n",
        "\n",
        "labels = [\"i\", \"ii\", \"iii\", \"iv\", \"v\", \"vi\", \"vii\", \"viii\", \"ix\", \"x\"]"
      ],
      "metadata": {
        "id": "QJxD049z4-AX"
      },
      "execution_count": null,
      "outputs": []
    },
    {
      "cell_type": "markdown",
      "source": [
        "## Data Augmentation"
      ],
      "metadata": {
        "id": "mPwLmXAQ5GLh"
      }
    },
    {
      "cell_type": "code",
      "source": [
        "from keras.preprocessing.image import ImageDataGenerator\n",
        "from PIL import Image\n",
        "import glob\n",
        "\n",
        "datagen = ImageDataGenerator(\n",
        "    rotation_range=30,          # randomly rotate image by upto 90 deg\n",
        "    width_shift_range=0.2,      # randomly shift along x \n",
        "    height_shift_range=0.2,     # randomly shift along y\n",
        "    zoom_range=0.2,             # zooming\n",
        "    fill_mode='nearest')\n",
        "\n",
        "for label in labels:\n",
        "    i = 0\n",
        "    input_dir = f'data/train/{label}'\n",
        "    image_list = glob.glob(f\"{input_dir}/*.png\")\n",
        "    image_array = np.array([np.array(Image.open(image_name).resize((32, 32)))[:, :, np.newaxis] for image_name in image_list])\n",
        "    out_dir = f'data/train/{label}'\n",
        "    os.makedirs(out_dir, exist_ok=True)\n",
        "    max_images = len(image_array)*3\n",
        "    for batch in datagen.flow(image_array, batch_size=batch_size,\n",
        "                            save_to_dir= out_dir,\n",
        "                            save_prefix='aug',\n",
        "                            save_format='png'):    \n",
        "        i+=len(batch)\n",
        "        if i > max_images:\n",
        "            break"
      ],
      "metadata": {
        "id": "Ohy6xFqE5AQW"
      },
      "execution_count": null,
      "outputs": []
    },
    {
      "cell_type": "code",
      "source": [
        "train = tf.keras.preprocessing.image_dataset_from_directory(\n",
        "    train_val_directory + '/train',\n",
        "    labels=\"inferred\",\n",
        "    label_mode=\"categorical\",\n",
        "    class_names=labels,\n",
        "    shuffle=True,\n",
        "    seed=123,\n",
        "    batch_size=batch_size,\n",
        "    image_size=(32, 32),\n",
        ")\n",
        "\n",
        "valid = tf.keras.preprocessing.image_dataset_from_directory(\n",
        "    train_val_directory + '/val',\n",
        "    labels=\"inferred\",\n",
        "    label_mode=\"categorical\",\n",
        "    class_names=labels,\n",
        "    shuffle=False,\n",
        "    seed=123,\n",
        "    batch_size=batch_size,\n",
        "    image_size=(32, 32),\n",
        ")\n",
        "\n",
        "total_length = ((train.cardinality() + valid.cardinality()) * batch_size).numpy()\n",
        "if total_length > 10_000:\n",
        "    print(f\"Dataset size larger than 10,000. Got {total_length} examples\")\n",
        "    sys.exit()\n",
        "\n",
        "test = tf.keras.preprocessing.image_dataset_from_directory(\n",
        "    test_directory,\n",
        "    labels=\"inferred\",\n",
        "    label_mode=\"categorical\",\n",
        "    class_names=labels,\n",
        "    shuffle=False,\n",
        "    seed=123,\n",
        "    batch_size=batch_size,\n",
        "    image_size=(32, 32),\n",
        ")"
      ],
      "metadata": {
        "colab": {
          "base_uri": "https://localhost:8080/"
        },
        "id": "fI3V9hoz5Omq",
        "outputId": "91057aae-7924-473d-c7c9-03eea634730c"
      },
      "execution_count": null,
      "outputs": [
        {
          "output_type": "stream",
          "name": "stdout",
          "text": [
            "Found 8348 files belonging to 10 classes.\n",
            "Found 813 files belonging to 10 classes.\n",
            "Found 52 files belonging to 10 classes.\n"
          ]
        }
      ]
    },
    {
      "cell_type": "code",
      "source": [
        "base_model = tf.keras.applications.ResNet50(\n",
        "    input_shape=(32, 32, 3),\n",
        "    include_top=False,\n",
        "    weights=None,\n",
        ")\n",
        "base_model = tf.keras.Model(\n",
        "    base_model.inputs, outputs=[base_model.get_layer(\"conv2_block3_out\").output]\n",
        ")\n",
        "\n",
        "inputs = tf.keras.Input(shape=(32, 32, 3))\n",
        "x = tf.keras.applications.resnet.preprocess_input(inputs)\n",
        "x = base_model(x)\n",
        "x = tf.keras.layers.GlobalAveragePooling2D()(x)\n",
        "x = tf.keras.layers.Dense(10)(x)\n",
        "model = tf.keras.Model(inputs, x)\n",
        "\n",
        "model.compile(\n",
        "    optimizer=tf.keras.optimizers.Adam(lr=0.0001),\n",
        "    loss=tf.keras.losses.CategoricalCrossentropy(from_logits=True),\n",
        "    metrics=[\"accuracy\"],\n",
        ")\n",
        "model.summary()"
      ],
      "metadata": {
        "colab": {
          "base_uri": "https://localhost:8080/"
        },
        "id": "-fMC37_d5PjA",
        "outputId": "77032e04-422a-4beb-eead-86f4a2589337"
      },
      "execution_count": null,
      "outputs": [
        {
          "output_type": "stream",
          "name": "stdout",
          "text": [
            "Model: \"model_5\"\n",
            "_________________________________________________________________\n",
            " Layer (type)                Output Shape              Param #   \n",
            "=================================================================\n",
            " input_6 (InputLayer)        [(None, 32, 32, 3)]       0         \n",
            "                                                                 \n",
            " tf.__operators__.getitem_2   (None, 32, 32, 3)        0         \n",
            " (SlicingOpLambda)                                               \n",
            "                                                                 \n",
            " tf.nn.bias_add_2 (TFOpLambd  (None, 32, 32, 3)        0         \n",
            " a)                                                              \n",
            "                                                                 \n",
            " model_4 (Functional)        (None, 8, 8, 256)         229760    \n",
            "                                                                 \n",
            " global_average_pooling2d_2   (None, 256)              0         \n",
            " (GlobalAveragePooling2D)                                        \n",
            "                                                                 \n",
            " dense_2 (Dense)             (None, 10)                2570      \n",
            "                                                                 \n",
            "=================================================================\n",
            "Total params: 232,330\n",
            "Trainable params: 229,386\n",
            "Non-trainable params: 2,944\n",
            "_________________________________________________________________\n"
          ]
        },
        {
          "output_type": "stream",
          "name": "stderr",
          "text": [
            "/usr/local/lib/python3.7/dist-packages/keras/optimizers/optimizer_v2/adam.py:110: UserWarning: The `lr` argument is deprecated, use `learning_rate` instead.\n",
            "  super(Adam, self).__init__(name, **kwargs)\n"
          ]
        }
      ]
    },
    {
      "cell_type": "code",
      "source": [
        "checkpoint = tf.keras.callbacks.ModelCheckpoint(\n",
        "    \"ckpt_part_2/best_model\",\n",
        "    monitor=\"val_accuracy\",\n",
        "    mode=\"max\",\n",
        "    save_best_only=True,\n",
        "    save_weights_only=True,\n",
        ")\n",
        "\n",
        "early_stopping = tf.keras.callbacks.EarlyStopping(monitor='val_accuracy', patience=10)\n",
        "\n",
        "history = model.fit(\n",
        "    train,\n",
        "    validation_data=valid,\n",
        "    epochs=100,\n",
        "    callbacks=[checkpoint, early_stopping],\n",
        ")"
      ],
      "metadata": {
        "colab": {
          "base_uri": "https://localhost:8080/"
        },
        "id": "4d7MLo0S5Wzo",
        "outputId": "0cdbb662-cd77-453a-dd13-f6b8ced7f40e"
      },
      "execution_count": null,
      "outputs": [
        {
          "output_type": "stream",
          "name": "stdout",
          "text": [
            "Epoch 1/100\n",
            "1044/1044 [==============================] - 14s 12ms/step - loss: 1.7933 - accuracy: 0.3789 - val_loss: 1.4681 - val_accuracy: 0.4822\n",
            "Epoch 2/100\n",
            "1044/1044 [==============================] - 11s 10ms/step - loss: 1.2990 - accuracy: 0.5696 - val_loss: 1.4929 - val_accuracy: 0.5141\n",
            "Epoch 3/100\n",
            "1044/1044 [==============================] - 11s 11ms/step - loss: 1.0652 - accuracy: 0.6499 - val_loss: 1.0289 - val_accuracy: 0.6236\n",
            "Epoch 4/100\n",
            "1044/1044 [==============================] - 11s 11ms/step - loss: 0.9212 - accuracy: 0.7046 - val_loss: 0.8969 - val_accuracy: 0.6581\n",
            "Epoch 5/100\n",
            "1044/1044 [==============================] - 12s 11ms/step - loss: 0.8179 - accuracy: 0.7351 - val_loss: 0.7913 - val_accuracy: 0.7331\n",
            "Epoch 6/100\n",
            "1044/1044 [==============================] - 12s 11ms/step - loss: 0.7238 - accuracy: 0.7705 - val_loss: 1.1250 - val_accuracy: 0.6335\n",
            "Epoch 7/100\n",
            "1044/1044 [==============================] - 12s 11ms/step - loss: 0.6604 - accuracy: 0.7881 - val_loss: 0.9381 - val_accuracy: 0.6617\n",
            "Epoch 8/100\n",
            "1044/1044 [==============================] - 12s 11ms/step - loss: 0.5890 - accuracy: 0.8110 - val_loss: 0.7963 - val_accuracy: 0.7208\n",
            "Epoch 9/100\n",
            "1044/1044 [==============================] - 11s 10ms/step - loss: 0.5318 - accuracy: 0.8323 - val_loss: 0.9023 - val_accuracy: 0.7159\n",
            "Epoch 10/100\n",
            "1044/1044 [==============================] - 11s 10ms/step - loss: 0.4752 - accuracy: 0.8561 - val_loss: 0.8863 - val_accuracy: 0.6925\n",
            "Epoch 11/100\n",
            "1044/1044 [==============================] - 11s 11ms/step - loss: 0.4299 - accuracy: 0.8625 - val_loss: 0.7517 - val_accuracy: 0.7343\n",
            "Epoch 12/100\n",
            "1044/1044 [==============================] - 12s 11ms/step - loss: 0.3816 - accuracy: 0.8803 - val_loss: 1.0311 - val_accuracy: 0.6790\n",
            "Epoch 13/100\n",
            "1044/1044 [==============================] - 11s 10ms/step - loss: 0.3419 - accuracy: 0.8941 - val_loss: 1.0924 - val_accuracy: 0.6704\n",
            "Epoch 14/100\n",
            "1044/1044 [==============================] - 11s 11ms/step - loss: 0.3066 - accuracy: 0.9072 - val_loss: 1.0210 - val_accuracy: 0.6827\n",
            "Epoch 15/100\n",
            "1044/1044 [==============================] - 11s 10ms/step - loss: 0.2798 - accuracy: 0.9158 - val_loss: 1.0989 - val_accuracy: 0.6740\n",
            "Epoch 16/100\n",
            "1044/1044 [==============================] - 11s 10ms/step - loss: 0.2487 - accuracy: 0.9245 - val_loss: 1.2553 - val_accuracy: 0.6458\n",
            "Epoch 17/100\n",
            "1044/1044 [==============================] - 11s 10ms/step - loss: 0.2206 - accuracy: 0.9335 - val_loss: 0.9267 - val_accuracy: 0.7319\n",
            "Epoch 18/100\n",
            "1044/1044 [==============================] - 11s 10ms/step - loss: 0.2000 - accuracy: 0.9393 - val_loss: 1.0560 - val_accuracy: 0.7122\n",
            "Epoch 19/100\n",
            "1044/1044 [==============================] - 11s 10ms/step - loss: 0.2003 - accuracy: 0.9407 - val_loss: 0.9972 - val_accuracy: 0.7085\n",
            "Epoch 20/100\n",
            "1044/1044 [==============================] - 11s 10ms/step - loss: 0.1651 - accuracy: 0.9544 - val_loss: 0.9222 - val_accuracy: 0.7380\n",
            "Epoch 21/100\n",
            "1044/1044 [==============================] - 12s 11ms/step - loss: 0.1569 - accuracy: 0.9553 - val_loss: 0.9169 - val_accuracy: 0.7331\n",
            "Epoch 22/100\n",
            "1044/1044 [==============================] - 12s 11ms/step - loss: 0.1500 - accuracy: 0.9563 - val_loss: 0.8890 - val_accuracy: 0.7589\n",
            "Epoch 23/100\n",
            "1044/1044 [==============================] - 12s 11ms/step - loss: 0.1396 - accuracy: 0.9584 - val_loss: 1.0837 - val_accuracy: 0.6950\n",
            "Epoch 24/100\n",
            "1044/1044 [==============================] - 12s 11ms/step - loss: 0.1266 - accuracy: 0.9639 - val_loss: 1.1650 - val_accuracy: 0.7109\n",
            "Epoch 25/100\n",
            "1044/1044 [==============================] - 12s 11ms/step - loss: 0.1276 - accuracy: 0.9620 - val_loss: 1.0996 - val_accuracy: 0.7122\n",
            "Epoch 26/100\n",
            "1044/1044 [==============================] - 12s 11ms/step - loss: 0.1045 - accuracy: 0.9736 - val_loss: 1.0634 - val_accuracy: 0.7405\n",
            "Epoch 27/100\n",
            "1044/1044 [==============================] - 12s 11ms/step - loss: 0.1144 - accuracy: 0.9680 - val_loss: 0.8549 - val_accuracy: 0.7811\n",
            "Epoch 28/100\n",
            "1044/1044 [==============================] - 12s 11ms/step - loss: 0.0903 - accuracy: 0.9736 - val_loss: 1.1186 - val_accuracy: 0.7282\n",
            "Epoch 29/100\n",
            "1044/1044 [==============================] - 12s 11ms/step - loss: 0.0992 - accuracy: 0.9696 - val_loss: 1.4532 - val_accuracy: 0.6839\n",
            "Epoch 30/100\n",
            "1044/1044 [==============================] - 12s 11ms/step - loss: 0.0811 - accuracy: 0.9788 - val_loss: 1.9566 - val_accuracy: 0.6396\n",
            "Epoch 31/100\n",
            "1044/1044 [==============================] - 12s 11ms/step - loss: 0.1032 - accuracy: 0.9723 - val_loss: 1.3825 - val_accuracy: 0.6863\n",
            "Epoch 32/100\n",
            "1044/1044 [==============================] - 11s 10ms/step - loss: 0.0813 - accuracy: 0.9765 - val_loss: 1.0466 - val_accuracy: 0.7503\n",
            "Epoch 33/100\n",
            "1044/1044 [==============================] - 11s 11ms/step - loss: 0.0854 - accuracy: 0.9736 - val_loss: 0.9415 - val_accuracy: 0.7847\n",
            "Epoch 34/100\n",
            "1044/1044 [==============================] - 12s 11ms/step - loss: 0.0760 - accuracy: 0.9790 - val_loss: 1.5913 - val_accuracy: 0.6937\n",
            "Epoch 35/100\n",
            "1044/1044 [==============================] - 11s 11ms/step - loss: 0.0733 - accuracy: 0.9786 - val_loss: 1.7046 - val_accuracy: 0.6654\n",
            "Epoch 36/100\n",
            "1044/1044 [==============================] - 12s 11ms/step - loss: 0.0739 - accuracy: 0.9771 - val_loss: 1.1103 - val_accuracy: 0.7306\n",
            "Epoch 37/100\n",
            "1044/1044 [==============================] - 12s 11ms/step - loss: 0.0692 - accuracy: 0.9776 - val_loss: 1.3414 - val_accuracy: 0.7011\n",
            "Epoch 38/100\n",
            "1044/1044 [==============================] - 11s 11ms/step - loss: 0.0790 - accuracy: 0.9759 - val_loss: 1.4466 - val_accuracy: 0.6999\n",
            "Epoch 39/100\n",
            "1044/1044 [==============================] - 12s 11ms/step - loss: 0.0661 - accuracy: 0.9810 - val_loss: 1.4432 - val_accuracy: 0.6999\n",
            "Epoch 40/100\n",
            "1044/1044 [==============================] - 12s 12ms/step - loss: 0.0678 - accuracy: 0.9788 - val_loss: 1.5024 - val_accuracy: 0.7097\n",
            "Epoch 41/100\n",
            "1044/1044 [==============================] - 12s 11ms/step - loss: 0.0689 - accuracy: 0.9775 - val_loss: 1.2970 - val_accuracy: 0.7294\n",
            "Epoch 42/100\n",
            "1044/1044 [==============================] - 11s 10ms/step - loss: 0.0561 - accuracy: 0.9835 - val_loss: 1.0040 - val_accuracy: 0.7614\n",
            "Epoch 43/100\n",
            "1044/1044 [==============================] - 11s 10ms/step - loss: 0.0603 - accuracy: 0.9816 - val_loss: 1.0478 - val_accuracy: 0.7626\n"
          ]
        }
      ]
    },
    {
      "cell_type": "code",
      "source": [
        "import matplotlib.pyplot as plt\n",
        "import seaborn as sns\n",
        "from sklearn.metrics import accuracy_score, confusion_matrix\n",
        "\n",
        "def evaluate_model(model, dataset):\n",
        "    labels = np.concatenate([y.numpy() for x, y in dataset], axis=0).argmax(axis=1)\n",
        "    pred_labels = np.argmax(model.predict(dataset), axis=1)\n",
        "    cm = confusion_matrix(labels, pred_labels)\n",
        "    acc = accuracy_score(labels, pred_labels)\n",
        "    return acc, cm\n",
        "\n",
        "def show_confusion_matrix(cm, labels):\n",
        "    plt.figure(figsize=(10, 8))\n",
        "    sns.heatmap(cm, xticklabels=labels, yticklabels=labels, \n",
        "                annot=True, fmt='g')\n",
        "    plt.xlabel('Prediction')\n",
        "    plt.ylabel('Label')\n",
        "    plt.show()"
      ],
      "metadata": {
        "id": "aRpgX1Xa5bqz"
      },
      "execution_count": null,
      "outputs": []
    },
    {
      "cell_type": "code",
      "source": [
        "model.load_weights(\"ckpt_part_2/best_model\")"
      ],
      "metadata": {
        "colab": {
          "base_uri": "https://localhost:8080/"
        },
        "id": "YCjkqkXd5c3U",
        "outputId": "c3803b7c-4a28-4056-dd1d-50724a84d319"
      },
      "execution_count": null,
      "outputs": [
        {
          "output_type": "execute_result",
          "data": {
            "text/plain": [
              "<tensorflow.python.training.tracking.util.CheckpointLoadStatus at 0x7fcc1b12ec10>"
            ]
          },
          "metadata": {},
          "execution_count": 61
        }
      ]
    },
    {
      "cell_type": "code",
      "source": [
        "val_acc, val_cm = evaluate_model(model, valid)\n",
        "print(f\"Validation Accuracy: {val_acc}\")\n",
        "show_confusion_matrix(val_cm, labels)\n"
      ],
      "metadata": {
        "colab": {
          "base_uri": "https://localhost:8080/",
          "height": 533
        },
        "id": "A7GL4fIa5gyX",
        "outputId": "cdaf2aed-4777-4747-8e92-8f8aabd4b67b"
      },
      "execution_count": null,
      "outputs": [
        {
          "output_type": "stream",
          "name": "stdout",
          "text": [
            "102/102 [==============================] - 1s 7ms/step\n",
            "Validation Accuracy: 0.7847478474784748\n"
          ]
        },
        {
          "output_type": "display_data",
          "data": {
            "text/plain": [
              "<Figure size 720x576 with 2 Axes>"
            ],
            "image/png": "[encoded data removed]"
          },
          "metadata": {
            "needs_background": "light"
          }
        }
      ]
    },
    {
      "cell_type": "code",
      "source": [
        "test_acc, test_cm = evaluate_model(model, test)\n",
        "print(f\"Test Accuracy: {test_acc}\")\n",
        "show_confusion_matrix(test_cm, labels)\n"
      ],
      "metadata": {
        "colab": {
          "base_uri": "https://localhost:8080/",
          "height": 537
        },
        "id": "3cIJdC8y5lxo",
        "outputId": "4ab0bf7e-b89e-4ae3-fe53-fdea9d3e77f2"
      },
      "execution_count": null,
      "outputs": [
        {
          "output_type": "stream",
          "name": "stdout",
          "text": [
            "7/7 [==============================] - 0s 7ms/step\n",
            "Test Accuracy: 0.6923076923076923\n"
          ]
        },
        {
          "output_type": "display_data",
          "data": {
            "text/plain": [
              "<Figure size 720x576 with 2 Axes>"
            ],
            "image/png": "[encoded data removed]"
          },
          "metadata": {
            "needs_background": "light"
          }
        }
      ]
    },
    {
      "cell_type": "code",
      "source": [],
      "metadata": {
        "id": "KFeQYes8aYgO"
      },
      "execution_count": null,
      "outputs": []
    },
    {
      "cell_type": "markdown",
      "source": [
        "## Track Data with DVC"
      ],
      "metadata": {
        "id": "UO4XEJS6aa3h"
      }
    },
    {
      "cell_type": "code",
      "source": [
        "!dvc add data "
      ],
      "metadata": {
        "id": "v3wrJNvOaDc7"
      },
      "execution_count": null,
      "outputs": []
    },
    {
      "cell_type": "code",
      "source": [
        "!cat data.dvc"
      ],
      "metadata": {
        "id": "ndecDrnuaGvf"
      },
      "execution_count": null,
      "outputs": []
    },
    {
      "cell_type": "code",
      "source": [
        "!git add data.dvc\n",
        "!git commit -m \"add version_2 data\""
      ],
      "metadata": {
        "id": "jlDmiF6VaIpu"
      },
      "execution_count": null,
      "outputs": []
    },
    {
      "cell_type": "code",
      "source": [
        "!dvc push"
      ],
      "metadata": {
        "id": "ppD3vrDsaMvl"
      },
      "execution_count": null,
      "outputs": []
    },
    {
      "cell_type": "markdown",
      "source": [
        "# Part 3 - Naïve Label Correction "
      ],
      "metadata": {
        "id": "SGR2bJXL53lt"
      }
    },
    {
      "cell_type": "markdown",
      "source": [
        "## Label Correction"
      ],
      "metadata": {
        "id": "ao9c7K-C67Kz"
      }
    },
    {
      "cell_type": "code",
      "source": [
        "import os, glob, shutil\n",
        "from PIL import Image\n",
        "import matplotlib.pyplot as plt\n",
        "\n",
        "\n",
        "import ipywidgets as widgets\n",
        "from IPython.display import display\n",
        "from ipywidgets import IntProgress, HTML, VBox, HBox"
      ],
      "metadata": {
        "id": "tYh0uXY556Kv"
      },
      "execution_count": null,
      "outputs": []
    },
    {
      "cell_type": "code",
      "source": [
        "splits = {\n",
        "    \"train\": glob.glob(f\"data/train/*/*.png\"),\n",
        "    \"val\": glob.glob(f\"data/val/*/*.png\"),\n",
        "    \"test\": glob.glob(\"label_book/*/*.png\")\n",
        "}\n",
        "path = None\n",
        "\n",
        "def display_img(splits_dropdown, index):\n",
        "    global label, path\n",
        "    path = splits[splits_dropdown][index]\n",
        "    label.value = path.split(\"/\")[-2]\n",
        "    plt.figure(figsize=(8, 8), dpi=80)\n",
        "    plt.imshow(Image.open(splits[splits_dropdown][index]), cmap='gray', vmin=0, vmax=255)\n",
        "    plt.axis(\"off\")\n",
        "    plt.show()\n",
        "\n",
        "next_button = widgets.Button(\n",
        "    description='Next',\n",
        "    disabled=False,\n",
        "    button_style='success',\n",
        "    tooltip='Next Sample',\n",
        "    icon='arrow-right'\n",
        ")\n",
        "\n",
        "prev_button = widgets.Button(\n",
        "    description='Previous',\n",
        "    disabled=False,\n",
        "    button_style='success',\n",
        "    tooltip='Previous Sample',\n",
        "    icon='arrow-left'\n",
        ")\n",
        "change_label_btn = widgets.Button(\n",
        "    description='Change Label',\n",
        "    disabled=False,\n",
        "    button_style='success',\n",
        "    tooltip='Change Label',\n",
        "    icon='check'\n",
        ")\n",
        "delete_btn = widgets.Button(\n",
        "    description='Delete',\n",
        "    disabled=False,\n",
        "    button_style='danger',\n",
        "    tooltip='Delete',\n",
        "    icon='fa-trash'\n",
        ")\n",
        "splits_dropdown = widgets.Dropdown(\n",
        "    description='Splits',\n",
        "    options=['train', 'val', 'test'],\n",
        "    value='train',\n",
        "    disabled=False,\n",
        ")\n",
        "\n",
        "index = widgets.IntSlider(\n",
        "    value=0,\n",
        "    min=0,\n",
        "    max=len(splits[splits_dropdown.value])-1,\n",
        "    step=1,\n",
        "    description='Index:',\n",
        "    disabled=False,\n",
        "    continuous_update=False,\n",
        "    orientation='horizontal',\n",
        "    readout=True,\n",
        "    readout_format='d'\n",
        ")\n",
        "  \n",
        "label = widgets.Text(\n",
        "    value='',\n",
        "    placeholder='Label',\n",
        "    description='Label:',\n",
        "    disabled=False\n",
        ")\n",
        "\n",
        "new_label = widgets.Dropdown(\n",
        "    description='New Label',\n",
        "    options=[\"i\", \"ii\", \"iii\", \"iv\", \"v\", \"vi\", \"vii\", \"viii\", \"ix\", \"x\"],\n",
        "    value='i',\n",
        "    disabled=False,\n",
        ")\n",
        "\n",
        "ui_1 = widgets.HBox([prev_button, index, next_button, splits_dropdown])\n",
        "ui_2 = widgets.HBox([label, new_label, change_label_btn, delete_btn])\n",
        "ui = widgets.VBox([ui_1, ui_2])\n",
        "\n",
        "interactive_out = widgets.interactive_output(display_img, {\"splits_dropdown\":splits_dropdown, \"index\": index})\n",
        "\n",
        "def increment(_):\n",
        "    with interactive_out:\n",
        "        index.value+=1\n",
        "\n",
        "def decrement(_):\n",
        "    with interactive_out:\n",
        "        index.value-=1\n",
        "\n",
        "def change_label(_):\n",
        "  new_path = path.split(\"/\")\n",
        "  new_path[-2] = new_label.value\n",
        "  new_path = \"/\".join(new_path)\n",
        "  shutil.move(path, new_path)\n",
        "\n",
        "def delete_action(_):\n",
        "    os.remove(path)\n",
        "\n",
        "def update_index(_):\n",
        "    index.max = len(splits[splits_dropdown.value])-1\n",
        "\n",
        "splits_dropdown.observe(update_index)\n",
        "\n",
        "prev_button.on_click(decrement)\n",
        "next_button.on_click(increment)\n",
        "change_label_btn.on_click(change_label)\n",
        "delete_btn.on_click(delete_action)\n",
        "\n",
        "display(ui, interactive_out)"
      ],
      "metadata": {
        "colab": {
          "base_uri": "https://localhost:8080/",
          "height": 576,
          "referenced_widgets": [
            "2a91ffe39f3d4555b8aea48907e4d0e9",
            "e25ecb63a35a44c0aeaffcb47d691603",
            "864bc9f8148f4aa7b1b29946c952e19b",
            "37d77ed1a6e343c0b0a0bbda894c9ab0",
            "494ceaa14429460db40d738324776368",
            "8f30779db32d48f88d0b44ad4ff7d08b",
            "b94f577092b14ec28b16980289057566",
            "cdfaba18b0f84422a0b5a437e4857341",
            "f7b6ba7dd8994b2fb7c4bbbf66ef8d2c",
            "d80c514cf46f4f4f9e7bc0891ebc3197",
            "46dbcab04d0f4712b99a4dc29e9bea53",
            "9add66375cd94ae9bfdc4e3004b1482f",
            "3b7c5a81c69a4b77a42459eae0917f6e",
            "95e479550d7248b0857165babfd4ab76",
            "4f6d17e0396547e4952dfb29e787177c",
            "05ecc1055dd6401f983f82d34623d89f",
            "847207df2e5440e3a9cf67a2d1bc9d92",
            "9fa359797b8f4049bf9fad831cc41c62",
            "edca92a34ea94589a6eae917dd1b0b62",
            "797762f553d24062ad03b2bc967da50a",
            "e51de64bba3c496490f001e40bb01358",
            "07ddf0444e8049579b14d4acec76115c",
            "3d04c3637b2c4c88abd49d09a958f5a6",
            "147d8523e3ad45688b0b24bdb8173b36",
            "765b6c5333064186880dbedb3f16f1cf",
            "dd9800b0870244e8bcef5ab41b243747",
            "36f77a1dd4a74cfcbbfb9881ac06d280",
            "c203110bbc634376b75611aaecdbb6dc",
            "a5eecf21e12b438181e118935f44adbb",
            "160cf4d8b273471e86d82abed0259de9",
            "8348e54217b341a4b25d38f73dce6191",
            "95fa64e1e9724b8c930ac9108bca7220"
          ]
        },
        "id": "-0BaSMXm5_K6",
        "outputId": "91cd769f-0ecf-4994-b6b8-aa110db998e7"
      },
      "execution_count": null,
      "outputs": [
        {
          "output_type": "display_data",
          "data": {
            "text/plain": [
              "VBox(children=(HBox(children=(Button(button_style='success', description='Previous', icon='arrow-left', style=…"
            ],
            "application/vnd.jupyter.widget-view+json": {
              "version_major": 2,
              "version_minor": 0,
              "model_id": "2a91ffe39f3d4555b8aea48907e4d0e9"
            }
          },
          "metadata": {}
        },
        {
          "output_type": "display_data",
          "data": {
            "text/plain": [
              "Output()"
            ],
            "application/vnd.jupyter.widget-view+json": {
              "version_major": 2,
              "version_minor": 0,
              "model_id": "8348e54217b341a4b25d38f73dce6191"
            }
          },
          "metadata": {}
        }
      ]
    },
    {
      "cell_type": "code",
      "source": [
        "!rm -rf data\n",
        "!mv data_label_corrected data"
      ],
      "metadata": {
        "id": "iut3Ugcq6IuG"
      },
      "execution_count": null,
      "outputs": []
    },
    {
      "cell_type": "code",
      "source": [
        "import tensorflow as tf\n",
        "from tensorflow import keras\n",
        "import numpy as np\n",
        "import json\n",
        "import sys"
      ],
      "metadata": {
        "id": "7CtEAOEA6tXm"
      },
      "execution_count": null,
      "outputs": []
    },
    {
      "cell_type": "code",
      "source": [
        "train_val_directory = \"data\"\n",
        "test_directory = \"label_book\"\n",
        "\n",
        "batch_size = 8\n",
        "tf.random.set_seed(123)\n",
        "\n",
        "labels = [\"i\", \"ii\", \"iii\", \"iv\", \"v\", \"vi\", \"vii\", \"viii\", \"ix\", \"x\"]"
      ],
      "metadata": {
        "id": "rzhkq8c26tXm"
      },
      "execution_count": null,
      "outputs": []
    },
    {
      "cell_type": "markdown",
      "source": [
        "## Data Augmentation"
      ],
      "metadata": {
        "id": "3b_jA2ml6tXm"
      }
    },
    {
      "cell_type": "code",
      "source": [
        "from keras.preprocessing.image import ImageDataGenerator\n",
        "from PIL import Image\n",
        "import glob\n",
        "\n",
        "datagen = ImageDataGenerator(\n",
        "    rotation_range=30,          # randomly rotate image by upto 90 deg\n",
        "    width_shift_range=0.2,      # randomly shift along x \n",
        "    height_shift_range=0.2,     # randomly shift along y\n",
        "    zoom_range=0.2,             # zooming\n",
        "    fill_mode='nearest')\n",
        "\n",
        "for label in labels:\n",
        "    i = 0\n",
        "    input_dir = f'data/train/{label}'\n",
        "    image_list = glob.glob(f\"{input_dir}/*.png\")\n",
        "    image_array = np.array([np.array(Image.open(image_name).resize((32, 32)))[:, :, np.newaxis] for image_name in image_list])\n",
        "    out_dir = f'data/train/{label}'\n",
        "    os.makedirs(out_dir, exist_ok=True)\n",
        "    max_images = len(image_array)*3\n",
        "    for batch in datagen.flow(image_array, batch_size=batch_size,\n",
        "                            save_to_dir= out_dir,\n",
        "                            save_prefix='aug',\n",
        "                            save_format='png'):    \n",
        "        i+=len(batch)\n",
        "        if i > max_images:\n",
        "            break"
      ],
      "metadata": {
        "id": "hjIqfmoj6tXn"
      },
      "execution_count": null,
      "outputs": []
    },
    {
      "cell_type": "code",
      "source": [
        "train = tf.keras.preprocessing.image_dataset_from_directory(\n",
        "    train_val_directory + '/train',\n",
        "    labels=\"inferred\",\n",
        "    label_mode=\"categorical\",\n",
        "    class_names=labels,\n",
        "    shuffle=True,\n",
        "    seed=123,\n",
        "    batch_size=batch_size,\n",
        "    image_size=(32, 32),\n",
        ")\n",
        "\n",
        "valid = tf.keras.preprocessing.image_dataset_from_directory(\n",
        "    train_val_directory + '/val',\n",
        "    labels=\"inferred\",\n",
        "    label_mode=\"categorical\",\n",
        "    class_names=labels,\n",
        "    shuffle=False,\n",
        "    seed=123,\n",
        "    batch_size=batch_size,\n",
        "    image_size=(32, 32),\n",
        ")\n",
        "\n",
        "total_length = ((train.cardinality() + valid.cardinality()) * batch_size).numpy()\n",
        "if total_length > 10_000:\n",
        "    print(f\"Dataset size larger than 10,000. Got {total_length} examples\")\n",
        "    sys.exit()\n",
        "\n",
        "test = tf.keras.preprocessing.image_dataset_from_directory(\n",
        "    test_directory,\n",
        "    labels=\"inferred\",\n",
        "    label_mode=\"categorical\",\n",
        "    class_names=labels,\n",
        "    shuffle=False,\n",
        "    seed=123,\n",
        "    batch_size=batch_size,\n",
        "    image_size=(32, 32),\n",
        ")"
      ],
      "metadata": {
        "colab": {
          "base_uri": "https://localhost:8080/"
        },
        "id": "LHJ8L2oh6tXn",
        "outputId": "73cfc893-cb1f-463f-8c16-9f76aeae8009"
      },
      "execution_count": null,
      "outputs": [
        {
          "output_type": "stream",
          "name": "stdout",
          "text": [
            "Found 7671 files belonging to 10 classes.\n",
            "Found 809 files belonging to 10 classes.\n",
            "Found 52 files belonging to 10 classes.\n"
          ]
        }
      ]
    },
    {
      "cell_type": "code",
      "source": [
        "base_model = tf.keras.applications.ResNet50(\n",
        "    input_shape=(32, 32, 3),\n",
        "    include_top=False,\n",
        "    weights=None,\n",
        ")\n",
        "base_model = tf.keras.Model(\n",
        "    base_model.inputs, outputs=[base_model.get_layer(\"conv2_block3_out\").output]\n",
        ")\n",
        "\n",
        "inputs = tf.keras.Input(shape=(32, 32, 3))\n",
        "x = tf.keras.applications.resnet.preprocess_input(inputs)\n",
        "x = base_model(x)\n",
        "x = tf.keras.layers.GlobalAveragePooling2D()(x)\n",
        "x = tf.keras.layers.Dense(10)(x)\n",
        "model = tf.keras.Model(inputs, x)\n",
        "\n",
        "model.compile(\n",
        "    optimizer=tf.keras.optimizers.Adam(lr=0.0001),\n",
        "    loss=tf.keras.losses.CategoricalCrossentropy(from_logits=True),\n",
        "    metrics=[\"accuracy\"],\n",
        ")\n",
        "model.summary()"
      ],
      "metadata": {
        "colab": {
          "base_uri": "https://localhost:8080/"
        },
        "id": "KAkJU-416tXn",
        "outputId": "72e93880-c195-4530-f18b-7b2d939d7bd2"
      },
      "execution_count": null,
      "outputs": [
        {
          "output_type": "stream",
          "name": "stdout",
          "text": [
            "Model: \"model_7\"\n",
            "_________________________________________________________________\n",
            " Layer (type)                Output Shape              Param #   \n",
            "=================================================================\n",
            " input_8 (InputLayer)        [(None, 32, 32, 3)]       0         \n",
            "                                                                 \n",
            " tf.__operators__.getitem_3   (None, 32, 32, 3)        0         \n",
            " (SlicingOpLambda)                                               \n",
            "                                                                 \n",
            " tf.nn.bias_add_3 (TFOpLambd  (None, 32, 32, 3)        0         \n",
            " a)                                                              \n",
            "                                                                 \n",
            " model_6 (Functional)        (None, 8, 8, 256)         229760    \n",
            "                                                                 \n",
            " global_average_pooling2d_3   (None, 256)              0         \n",
            " (GlobalAveragePooling2D)                                        \n",
            "                                                                 \n",
            " dense_3 (Dense)             (None, 10)                2570      \n",
            "                                                                 \n",
            "=================================================================\n",
            "Total params: 232,330\n",
            "Trainable params: 229,386\n",
            "Non-trainable params: 2,944\n",
            "_________________________________________________________________\n"
          ]
        },
        {
          "output_type": "stream",
          "name": "stderr",
          "text": [
            "/usr/local/lib/python3.7/dist-packages/keras/optimizers/optimizer_v2/adam.py:110: UserWarning: The `lr` argument is deprecated, use `learning_rate` instead.\n",
            "  super(Adam, self).__init__(name, **kwargs)\n"
          ]
        }
      ]
    },
    {
      "cell_type": "code",
      "source": [
        "checkpoint = tf.keras.callbacks.ModelCheckpoint(\n",
        "    \"ckpt_part_3/best_model\",\n",
        "    monitor=\"val_accuracy\",\n",
        "    mode=\"max\",\n",
        "    save_best_only=True,\n",
        "    save_weights_only=True,\n",
        ")\n",
        "early_stopping = tf.keras.callbacks.EarlyStopping(monitor='val_accuracy', patience=10)\n",
        "\n",
        "history = model.fit(\n",
        "    train,\n",
        "    validation_data=valid,\n",
        "    epochs=100,\n",
        "    callbacks=[checkpoint, early_stopping],\n",
        ")"
      ],
      "metadata": {
        "colab": {
          "base_uri": "https://localhost:8080/"
        },
        "id": "FyKEub856tXn",
        "outputId": "42f541d1-7c43-46ce-db38-8a19a91dd4f0"
      },
      "execution_count": null,
      "outputs": [
        {
          "output_type": "stream",
          "name": "stdout",
          "text": [
            "Epoch 1/100\n",
            "959/959 [==============================] - 15s 15ms/step - loss: 1.7510 - accuracy: 0.3804 - val_loss: 1.4197 - val_accuracy: 0.5340\n",
            "Epoch 2/100\n",
            "959/959 [==============================] - 10s 11ms/step - loss: 1.1851 - accuracy: 0.5946 - val_loss: 1.0499 - val_accuracy: 0.6848\n",
            "Epoch 3/100\n",
            "959/959 [==============================] - 10s 11ms/step - loss: 0.9161 - accuracy: 0.6983 - val_loss: 0.8632 - val_accuracy: 0.7095\n",
            "Epoch 4/100\n",
            "959/959 [==============================] - 10s 11ms/step - loss: 0.7539 - accuracy: 0.7565 - val_loss: 0.6740 - val_accuracy: 0.7800\n",
            "Epoch 5/100\n",
            "959/959 [==============================] - 10s 11ms/step - loss: 0.6574 - accuracy: 0.7883 - val_loss: 0.6056 - val_accuracy: 0.7886\n",
            "Epoch 6/100\n",
            "959/959 [==============================] - 10s 11ms/step - loss: 0.5589 - accuracy: 0.8210 - val_loss: 0.6398 - val_accuracy: 0.7911\n",
            "Epoch 7/100\n",
            "959/959 [==============================] - 10s 10ms/step - loss: 0.4785 - accuracy: 0.8464 - val_loss: 0.6912 - val_accuracy: 0.7392\n",
            "Epoch 8/100\n",
            "959/959 [==============================] - 10s 10ms/step - loss: 0.4186 - accuracy: 0.8660 - val_loss: 0.7190 - val_accuracy: 0.7503\n",
            "Epoch 9/100\n",
            "959/959 [==============================] - 10s 10ms/step - loss: 0.3729 - accuracy: 0.8828 - val_loss: 0.6300 - val_accuracy: 0.7911\n",
            "Epoch 10/100\n",
            "959/959 [==============================] - 10s 10ms/step - loss: 0.3244 - accuracy: 0.8984 - val_loss: 0.5234 - val_accuracy: 0.8269\n",
            "Epoch 11/100\n",
            "959/959 [==============================] - 10s 10ms/step - loss: 0.2809 - accuracy: 0.9147 - val_loss: 0.6779 - val_accuracy: 0.7738\n",
            "Epoch 12/100\n",
            "959/959 [==============================] - 10s 10ms/step - loss: 0.2546 - accuracy: 0.9217 - val_loss: 0.5776 - val_accuracy: 0.8096\n",
            "Epoch 13/100\n",
            "959/959 [==============================] - 10s 10ms/step - loss: 0.2222 - accuracy: 0.9346 - val_loss: 0.8723 - val_accuracy: 0.7293\n",
            "Epoch 14/100\n",
            "959/959 [==============================] - 10s 10ms/step - loss: 0.2036 - accuracy: 0.9373 - val_loss: 0.5816 - val_accuracy: 0.8232\n",
            "Epoch 15/100\n",
            "959/959 [==============================] - 10s 11ms/step - loss: 0.1843 - accuracy: 0.9434 - val_loss: 0.4944 - val_accuracy: 0.8430\n",
            "Epoch 16/100\n",
            "959/959 [==============================] - 10s 10ms/step - loss: 0.1640 - accuracy: 0.9509 - val_loss: 1.0558 - val_accuracy: 0.7033\n",
            "Epoch 17/100\n",
            "959/959 [==============================] - 10s 10ms/step - loss: 0.1542 - accuracy: 0.9548 - val_loss: 0.4756 - val_accuracy: 0.8591\n",
            "Epoch 18/100\n",
            "959/959 [==============================] - 10s 10ms/step - loss: 0.1313 - accuracy: 0.9626 - val_loss: 0.6262 - val_accuracy: 0.8245\n",
            "Epoch 19/100\n",
            "959/959 [==============================] - 11s 12ms/step - loss: 0.1274 - accuracy: 0.9626 - val_loss: 0.6355 - val_accuracy: 0.8146\n",
            "Epoch 20/100\n",
            "959/959 [==============================] - 10s 10ms/step - loss: 0.1065 - accuracy: 0.9713 - val_loss: 0.8146 - val_accuracy: 0.7701\n",
            "Epoch 21/100\n",
            "959/959 [==============================] - 10s 10ms/step - loss: 0.1024 - accuracy: 0.9698 - val_loss: 0.6149 - val_accuracy: 0.8356\n",
            "Epoch 22/100\n",
            "959/959 [==============================] - 10s 10ms/step - loss: 0.0916 - accuracy: 0.9763 - val_loss: 0.5645 - val_accuracy: 0.8443\n",
            "Epoch 23/100\n",
            "959/959 [==============================] - 10s 10ms/step - loss: 0.0827 - accuracy: 0.9785 - val_loss: 1.1530 - val_accuracy: 0.6959\n",
            "Epoch 24/100\n",
            "959/959 [==============================] - 10s 10ms/step - loss: 0.0887 - accuracy: 0.9730 - val_loss: 0.9427 - val_accuracy: 0.7664\n",
            "Epoch 25/100\n",
            "959/959 [==============================] - 10s 11ms/step - loss: 0.0860 - accuracy: 0.9752 - val_loss: 0.9449 - val_accuracy: 0.7689\n",
            "Epoch 26/100\n",
            "959/959 [==============================] - 10s 10ms/step - loss: 0.0721 - accuracy: 0.9788 - val_loss: 0.6913 - val_accuracy: 0.8096\n",
            "Epoch 27/100\n",
            "959/959 [==============================] - 10s 10ms/step - loss: 0.0668 - accuracy: 0.9807 - val_loss: 0.5478 - val_accuracy: 0.8541\n"
          ]
        }
      ]
    },
    {
      "cell_type": "code",
      "source": [
        "import matplotlib.pyplot as plt\n",
        "import seaborn as sns\n",
        "from sklearn.metrics import accuracy_score, confusion_matrix\n",
        "\n",
        "def evaluate_model(model, dataset):\n",
        "    labels = np.concatenate([y.numpy() for x, y in dataset], axis=0).argmax(axis=1)\n",
        "    pred_labels = np.argmax(model.predict(dataset), axis=1)\n",
        "    cm = confusion_matrix(labels, pred_labels)\n",
        "    acc = accuracy_score(labels, pred_labels)\n",
        "    return acc, cm\n",
        "\n",
        "def show_confusion_matrix(cm, labels):\n",
        "    plt.figure(figsize=(10, 8))\n",
        "    sns.heatmap(cm, xticklabels=labels, yticklabels=labels, \n",
        "                annot=True, fmt='g')\n",
        "    plt.xlabel('Prediction')\n",
        "    plt.ylabel('Label')\n",
        "    plt.show()"
      ],
      "metadata": {
        "id": "7pHKpRHB6tXo"
      },
      "execution_count": null,
      "outputs": []
    },
    {
      "cell_type": "code",
      "source": [
        "model.load_weights(\"ckpt_part_3/best_model\")"
      ],
      "metadata": {
        "colab": {
          "base_uri": "https://localhost:8080/"
        },
        "id": "8MM-rGp76tXo",
        "outputId": "28db1952-1425-4152-fb08-5359298a9ddb"
      },
      "execution_count": null,
      "outputs": [
        {
          "output_type": "execute_result",
          "data": {
            "text/plain": [
              "<tensorflow.python.training.tracking.util.CheckpointLoadStatus at 0x7fcc1a7c2f50>"
            ]
          },
          "metadata": {},
          "execution_count": 72
        }
      ]
    },
    {
      "cell_type": "code",
      "source": [
        "val_acc, val_cm = evaluate_model(model, valid)\n",
        "print(f\"Validation Accuracy: {val_acc}\")\n",
        "show_confusion_matrix(val_cm, labels)\n"
      ],
      "metadata": {
        "colab": {
          "base_uri": "https://localhost:8080/",
          "height": 533
        },
        "id": "TP9mHnFm6tXo",
        "outputId": "c43e64ff-3483-4e8f-f632-d3d0b1999106"
      },
      "execution_count": null,
      "outputs": [
        {
          "output_type": "stream",
          "name": "stdout",
          "text": [
            "102/102 [==============================] - 1s 7ms/step\n",
            "Validation Accuracy: 0.8590852904820766\n"
          ]
        },
        {
          "output_type": "display_data",
          "data": {
            "text/plain": [
              "<Figure size 720x576 with 2 Axes>"
            ],
            "image/png": "[encoded data removed]"
          },
          "metadata": {
            "needs_background": "light"
          }
        }
      ]
    },
    {
      "cell_type": "code",
      "source": [
        "test_acc, test_cm = evaluate_model(model, test)\n",
        "print(f\"Test Accuracy: {test_acc}\")\n",
        "show_confusion_matrix(test_cm, labels)\n"
      ],
      "metadata": {
        "colab": {
          "base_uri": "https://localhost:8080/",
          "height": 537
        },
        "id": "HIvPPdLs6tXo",
        "outputId": "cea1ece1-4068-4358-adae-ef4a5874ea1a"
      },
      "execution_count": null,
      "outputs": [
        {
          "output_type": "stream",
          "name": "stdout",
          "text": [
            "7/7 [==============================] - 0s 6ms/step\n",
            "Test Accuracy: 0.7692307692307693\n"
          ]
        },
        {
          "output_type": "display_data",
          "data": {
            "text/plain": [
              "<Figure size 720x576 with 2 Axes>"
            ],
            "image/png": "[encoded data removed]"
          },
          "metadata": {
            "needs_background": "light"
          }
        }
      ]
    },
    {
      "cell_type": "markdown",
      "source": [
        "## Track Data with DVC"
      ],
      "metadata": {
        "id": "FYQ-8GteajM1"
      }
    },
    {
      "cell_type": "code",
      "source": [
        "!dvc add data # Create data.dvc"
      ],
      "metadata": {
        "id": "mvpiO8NBahKJ"
      },
      "execution_count": null,
      "outputs": []
    },
    {
      "cell_type": "code",
      "source": [
        "!cat data.dvc"
      ],
      "metadata": {
        "id": "AgOaRR21ahKK"
      },
      "execution_count": null,
      "outputs": []
    },
    {
      "cell_type": "code",
      "source": [
        "!git add data.dvc\n",
        "!git commit -m \"add version_3 data\""
      ],
      "metadata": {
        "id": "0Nn3Fw5kahKK"
      },
      "execution_count": null,
      "outputs": []
    },
    {
      "cell_type": "code",
      "source": [
        "!dvc push"
      ],
      "metadata": {
        "id": "iSpHUwtkahKK"
      },
      "execution_count": null,
      "outputs": []
    },
    {
      "cell_type": "markdown",
      "source": [
        "#Part 4 - Label Correction with Monte Carlo Dropout"
      ],
      "metadata": {
        "id": "biO7HIXRvtWJ"
      }
    },
    {
      "cell_type": "markdown",
      "source": [
        "## Data Augmentation"
      ],
      "metadata": {
        "id": "ziE8MBZGv4Sl"
      }
    },
    {
      "cell_type": "code",
      "source": [
        "import tensorflow as tf\n",
        "from tensorflow import keras\n",
        "import numpy as np\n",
        "import json\n",
        "import sys\n",
        "import pathlib\n",
        "import os\n",
        "import pandas as pd\n",
        "\n",
        "\n",
        "batch_size = 8\n",
        "tf.random.set_seed(123)\n",
        "\n",
        "labels = ['i', 'ii', 'iii', 'iv', 'ix', 'v', 'vi', 'vii', 'viii', 'x']\n",
        " #[\"i\", \"ii\", \"iii\", \"iv\", \"v\", \"vi\", \"vii\", \"viii\", \"ix\", \"x\"]\n"
      ],
      "metadata": {
        "id": "UYzIg0sAHw2O"
      },
      "execution_count": null,
      "outputs": []
    },
    {
      "cell_type": "code",
      "source": [
        "train_dir = pathlib.Path('data/train')\n",
        "val_dir = pathlib.Path('data/val')\n",
        "test_dir = pathlib.Path('label_book')"
      ],
      "metadata": {
        "id": "5gRs2mEwMMd0"
      },
      "execution_count": null,
      "outputs": []
    },
    {
      "cell_type": "code",
      "source": [
        "AUTOTUNE = tf.data.AUTOTUNE"
      ],
      "metadata": {
        "id": "TjtFknLLJgXe"
      },
      "execution_count": null,
      "outputs": []
    },
    {
      "cell_type": "code",
      "source": [
        "def create_dataset_df(ds):\n",
        "  df = pd.DataFrame({\"filenames\": [filename.numpy().decode() for filename in ds]})\n",
        "  df['label'] = df['filenames'].apply(lambda x: get_label(x).numpy())\n",
        "  return df"
      ],
      "metadata": {
        "id": "zrtE5gwHLy3G"
      },
      "execution_count": null,
      "outputs": []
    },
    {
      "cell_type": "code",
      "source": [
        "class_names = np.array(sorted([item.name for item in train_dir.glob('*') if not item.name.startswith(\".\")])) #!= '.DS_Store'\n",
        "print(class_names)"
      ],
      "metadata": {
        "colab": {
          "base_uri": "https://localhost:8080/"
        },
        "id": "-KvsmL5mGMHj",
        "outputId": "a4cde3bf-04d9-4289-9bae-bc5d32aa04bf"
      },
      "execution_count": null,
      "outputs": [
        {
          "output_type": "stream",
          "name": "stdout",
          "text": [
            "['i' 'ii' 'iii' 'iv' 'ix' 'v' 'vi' 'vii' 'viii' 'x']\n"
          ]
        }
      ]
    },
    {
      "cell_type": "code",
      "source": [
        "def get_label(file_path):\n",
        "  # Convert the path to a list of path components\n",
        "  parts = tf.strings.split(file_path, os.path.sep)\n",
        "  # The second to last is the class-directory\n",
        "  one_hot = parts[-2] == class_names\n",
        "  # Integer encode the label\n",
        "  return tf.argmax(one_hot)"
      ],
      "metadata": {
        "id": "as5wGZ0GGMnM"
      },
      "execution_count": null,
      "outputs": []
    },
    {
      "cell_type": "code",
      "source": [
        "def decode_img(img):\n",
        "  # Convert the compressed string to a 3D uint8 tensor\n",
        "  img = tf.io.decode_jpeg(img, channels=3)\n",
        "  # Resize the image to the desired size\n",
        "  return tf.image.resize(img, [32, 32])"
      ],
      "metadata": {
        "id": "4lTLsXm2GRXb"
      },
      "execution_count": null,
      "outputs": []
    },
    {
      "cell_type": "code",
      "source": [
        "def process_path(file_path):\n",
        "  label = get_label(file_path)\n",
        "  # Load the raw data from the file as a string\n",
        "  img = tf.io.read_file(file_path)\n",
        "  img = decode_img(img)\n",
        "  return img, label"
      ],
      "metadata": {
        "id": "SaK_tRGPGT7a"
      },
      "execution_count": null,
      "outputs": []
    },
    {
      "cell_type": "code",
      "source": [
        "image_count = len(list(train_dir.glob('*/*.png')))\n",
        "\n",
        "train_ds = tf.data.Dataset.list_files(str(train_dir/'*/*.png'), shuffle=False)\n",
        "train_ds = train_ds.shuffle(image_count, reshuffle_each_iteration=False)\n",
        "val_ds = tf.data.Dataset.list_files(str(val_dir/'*/*.png'), shuffle=False)\n",
        "test_ds = tf.data.Dataset.list_files(str(test_dir/'*/*.png'), shuffle=False)\n",
        "\n",
        "\n",
        "train_df = create_dataset_df(train_ds)\n",
        "val_df = create_dataset_df(val_ds)\n",
        "test_df = create_dataset_df(test_ds)"
      ],
      "metadata": {
        "id": "qaqDWxVDZmOL"
      },
      "execution_count": null,
      "outputs": []
    },
    {
      "cell_type": "code",
      "source": [
        "# Set `num_parallel_calls` so multiple images are loaded/processed in parallel.\n",
        "train_ds = train_ds.map(process_path, num_parallel_calls=AUTOTUNE)\n",
        "val_ds = val_ds.map(process_path, num_parallel_calls=AUTOTUNE)\n",
        "test_ds = test_ds.map(process_path, num_parallel_calls=AUTOTUNE)"
      ],
      "metadata": {
        "id": "uT5dexdsGcGv"
      },
      "execution_count": null,
      "outputs": []
    },
    {
      "cell_type": "code",
      "source": [],
      "metadata": {
        "id": "Hm20jN6VPqAt"
      },
      "execution_count": null,
      "outputs": []
    },
    {
      "cell_type": "code",
      "source": [
        "def configure_for_performance(ds, shuffle=False):\n",
        "  ds = ds.cache()\n",
        "  if shuffle:\n",
        "    ds = ds.shuffle(buffer_size=1000)\n",
        "  ds = ds.batch(8)\n",
        "  ds = ds.prefetch(buffer_size=AUTOTUNE)\n",
        "  return ds\n",
        "\n",
        "train_ds = configure_for_performance(train_ds, shuffle=True)\n",
        "val_ds = configure_for_performance(val_ds)\n",
        "test_ds = configure_for_performance(test_ds)"
      ],
      "metadata": {
        "id": "uJc0Ok-OJsut"
      },
      "execution_count": null,
      "outputs": []
    },
    {
      "cell_type": "code",
      "source": [
        "class MonteCarloDropout(tf.keras.layers.Dropout):\n",
        "    \"\"\"Implementation of MonteCarlo Dropout\"\"\"\n",
        "\n",
        "    def call(self, inputs):\n",
        "        \"\"\"Change training argument to default True\"\"\"\n",
        "        return super().call(inputs, training=True)"
      ],
      "metadata": {
        "id": "bsiQOQTIKKj1"
      },
      "execution_count": null,
      "outputs": []
    },
    {
      "cell_type": "code",
      "source": [
        "class MyModel(tf.keras.Model):\n",
        "\n",
        "  def __init__(self):\n",
        "    super().__init__()\n",
        "    base_model = tf.keras.applications.ResNet50(\n",
        "    input_shape=(32, 32, 3),\n",
        "    include_top=False,\n",
        "    weights=None,\n",
        ")\n",
        "    base_model = tf.keras.applications.ResNet50(\n",
        "        input_shape=(32, 32, 3),\n",
        "        include_top=False,\n",
        "        weights=None,\n",
        "    )\n",
        "    self.base_model = tf.keras.Model(\n",
        "        base_model.inputs, outputs=[base_model.get_layer(\"conv2_block3_out\").output]\n",
        "    )\n",
        "    self.dropout = MonteCarloDropout(0.5)\n",
        "    self.dense1 = tf.keras.layers.Dense(10)\n",
        "\n",
        "  def call(self, inputs):\n",
        "    x = tf.keras.applications.resnet.preprocess_input(inputs)\n",
        "    x = self.base_model(x)\n",
        "    x = tf.keras.layers.GlobalAveragePooling2D()(x)\n",
        "    x = self.dropout(x)\n",
        "    x = self.dense1(x)\n",
        "    return x\n",
        "\n",
        "  def predict_step(self, data):\n",
        "      \"\"\"Predict Step\"\"\"\n",
        "      x, y = data\n",
        "\n",
        "      pred_class_logits = []\n",
        "\n",
        "      for _ in range(50):\n",
        "          y_pred = self(x)\n",
        "          pred_class_logits.append(y_pred)\n",
        "\n",
        "      class_raw_logits = tf.stack(pred_class_logits, axis=1)\n",
        "      pred_class_logits = tf.math.reduce_mean(tf.stack(pred_class_logits), axis=0)\n",
        "      return pred_class_logits, y, class_raw_logits\n",
        "\n",
        "\n"
      ],
      "metadata": {
        "id": "fnuRkrqaRdrq"
      },
      "execution_count": null,
      "outputs": []
    },
    {
      "cell_type": "code",
      "source": [
        "model = MyModel()\n",
        "model.build((1, 32, 32, 3))\n",
        "model.compile(\n",
        "    optimizer=tf.keras.optimizers.Adam(lr=0.0001),\n",
        "    loss=tf.keras.losses.SparseCategoricalCrossentropy(from_logits=True),\n",
        "    metrics=[\"accuracy\"],\n",
        ")\n",
        "model.summary()"
      ],
      "metadata": {
        "colab": {
          "base_uri": "https://localhost:8080/"
        },
        "id": "pqCWUgdHqX8E",
        "outputId": "ad28c33e-0b0f-427a-db03-24a47a4d6208"
      },
      "execution_count": null,
      "outputs": [
        {
          "output_type": "stream",
          "name": "stdout",
          "text": [
            "Model: \"my_model\"\n",
            "_________________________________________________________________\n",
            " Layer (type)                Output Shape              Param #   \n",
            "=================================================================\n",
            " model (Functional)          (None, 8, 8, 256)         229760    \n",
            "                                                                 \n",
            " monte_carlo_dropout (MonteC  multiple                 0         \n",
            " arloDropout)                                                    \n",
            "                                                                 \n",
            " dense (Dense)               multiple                  2570      \n",
            "                                                                 \n",
            "=================================================================\n",
            "Total params: 232,330\n",
            "Trainable params: 229,386\n",
            "Non-trainable params: 2,944\n",
            "_________________________________________________________________\n"
          ]
        },
        {
          "output_type": "stream",
          "name": "stderr",
          "text": [
            "/usr/local/lib/python3.7/dist-packages/keras/optimizers/optimizer_v2/adam.py:110: UserWarning: The `lr` argument is deprecated, use `learning_rate` instead.\n",
            "  super(Adam, self).__init__(name, **kwargs)\n"
          ]
        }
      ]
    },
    {
      "cell_type": "code",
      "source": [
        "checkpoint = tf.keras.callbacks.ModelCheckpoint(\n",
        "    \"ckpt_part_4/best_model\",\n",
        "    monitor=\"val_accuracy\",\n",
        "    mode=\"max\",\n",
        "    save_best_only=True,\n",
        "    save_weights_only=True,\n",
        ")\n",
        "early_stopping = tf.keras.callbacks.EarlyStopping(monitor='val_accuracy', patience=10)\n",
        "\n",
        "history = model.fit(\n",
        "    train_ds,\n",
        "    validation_data=val_ds,\n",
        "    epochs=100,\n",
        "    callbacks=[checkpoint, early_stopping],\n",
        ")"
      ],
      "metadata": {
        "colab": {
          "base_uri": "https://localhost:8080/"
        },
        "id": "SxHvLE3usXMq",
        "outputId": "41a192de-a544-488a-b6c9-9e2679557af9"
      },
      "execution_count": null,
      "outputs": [
        {
          "output_type": "stream",
          "name": "stdout",
          "text": [
            "Epoch 1/100\n",
            "259/259 [==============================] - 15s 16ms/step - loss: 2.9186 - accuracy: 0.1379 - val_loss: 2.5703 - val_accuracy: 0.1550\n",
            "Epoch 2/100\n",
            "259/259 [==============================] - 3s 10ms/step - loss: 2.2790 - accuracy: 0.2680 - val_loss: 2.4897 - val_accuracy: 0.2276\n",
            "Epoch 3/100\n",
            "259/259 [==============================] - 3s 11ms/step - loss: 2.0241 - accuracy: 0.3353 - val_loss: 2.1506 - val_accuracy: 0.3087\n",
            "Epoch 4/100\n",
            "259/259 [==============================] - 3s 10ms/step - loss: 1.6779 - accuracy: 0.4286 - val_loss: 1.8458 - val_accuracy: 0.3899\n",
            "Epoch 5/100\n",
            "259/259 [==============================] - 3s 11ms/step - loss: 1.5481 - accuracy: 0.4698 - val_loss: 1.7588 - val_accuracy: 0.4428\n",
            "Epoch 6/100\n",
            "259/259 [==============================] - 3s 10ms/step - loss: 1.3659 - accuracy: 0.5481 - val_loss: 1.6048 - val_accuracy: 0.4613\n",
            "Epoch 7/100\n",
            "259/259 [==============================] - 3s 11ms/step - loss: 1.2566 - accuracy: 0.5704 - val_loss: 1.6305 - val_accuracy: 0.4637\n",
            "Epoch 8/100\n",
            "259/259 [==============================] - 3s 12ms/step - loss: 1.0976 - accuracy: 0.6197 - val_loss: 1.4050 - val_accuracy: 0.5203\n",
            "Epoch 9/100\n",
            "259/259 [==============================] - 3s 11ms/step - loss: 1.0100 - accuracy: 0.6565 - val_loss: 1.5513 - val_accuracy: 0.5055\n",
            "Epoch 10/100\n",
            "259/259 [==============================] - 3s 12ms/step - loss: 0.9356 - accuracy: 0.6788 - val_loss: 1.3629 - val_accuracy: 0.5597\n",
            "Epoch 11/100\n",
            "259/259 [==============================] - 3s 12ms/step - loss: 0.8459 - accuracy: 0.7155 - val_loss: 1.3437 - val_accuracy: 0.5756\n",
            "Epoch 12/100\n",
            "259/259 [==============================] - 3s 12ms/step - loss: 0.8114 - accuracy: 0.7281 - val_loss: 1.4795 - val_accuracy: 0.5707\n",
            "Epoch 13/100\n",
            "259/259 [==============================] - 3s 12ms/step - loss: 0.7158 - accuracy: 0.7615 - val_loss: 1.2180 - val_accuracy: 0.6125\n",
            "Epoch 14/100\n",
            "259/259 [==============================] - 3s 11ms/step - loss: 0.6558 - accuracy: 0.7775 - val_loss: 1.3453 - val_accuracy: 0.5867\n",
            "Epoch 15/100\n",
            "259/259 [==============================] - 3s 11ms/step - loss: 0.6075 - accuracy: 0.7925 - val_loss: 1.1672 - val_accuracy: 0.6101\n",
            "Epoch 16/100\n",
            "259/259 [==============================] - 3s 11ms/step - loss: 0.5628 - accuracy: 0.8089 - val_loss: 1.3160 - val_accuracy: 0.5879\n",
            "Epoch 17/100\n",
            "259/259 [==============================] - 3s 11ms/step - loss: 0.5563 - accuracy: 0.8142 - val_loss: 1.4977 - val_accuracy: 0.5646\n",
            "Epoch 18/100\n",
            "259/259 [==============================] - 3s 11ms/step - loss: 0.4687 - accuracy: 0.8384 - val_loss: 1.4505 - val_accuracy: 0.6236\n",
            "Epoch 19/100\n",
            "259/259 [==============================] - 3s 10ms/step - loss: 0.4461 - accuracy: 0.8500 - val_loss: 1.3814 - val_accuracy: 0.6052\n",
            "Epoch 20/100\n",
            "259/259 [==============================] - 3s 10ms/step - loss: 0.3850 - accuracy: 0.8761 - val_loss: 1.2983 - val_accuracy: 0.6458\n",
            "Epoch 21/100\n",
            "259/259 [==============================] - 3s 11ms/step - loss: 0.3714 - accuracy: 0.8810 - val_loss: 1.6510 - val_accuracy: 0.5929\n",
            "Epoch 22/100\n",
            "259/259 [==============================] - 3s 10ms/step - loss: 0.3094 - accuracy: 0.8994 - val_loss: 1.4886 - val_accuracy: 0.5646\n",
            "Epoch 23/100\n",
            "259/259 [==============================] - 3s 10ms/step - loss: 0.3295 - accuracy: 0.8936 - val_loss: 1.8598 - val_accuracy: 0.5166\n",
            "Epoch 24/100\n",
            "259/259 [==============================] - 3s 11ms/step - loss: 0.2786 - accuracy: 0.9047 - val_loss: 1.3992 - val_accuracy: 0.6445\n",
            "Epoch 25/100\n",
            "259/259 [==============================] - 3s 11ms/step - loss: 0.2626 - accuracy: 0.9168 - val_loss: 1.2175 - val_accuracy: 0.6408\n",
            "Epoch 26/100\n",
            "259/259 [==============================] - 3s 11ms/step - loss: 0.2683 - accuracy: 0.9139 - val_loss: 1.5091 - val_accuracy: 0.6285\n",
            "Epoch 27/100\n",
            "259/259 [==============================] - 3s 11ms/step - loss: 0.2546 - accuracy: 0.9216 - val_loss: 1.9524 - val_accuracy: 0.5732\n",
            "Epoch 28/100\n",
            "259/259 [==============================] - 3s 11ms/step - loss: 0.2442 - accuracy: 0.9202 - val_loss: 1.5878 - val_accuracy: 0.5732\n",
            "Epoch 29/100\n",
            "259/259 [==============================] - 3s 11ms/step - loss: 0.2126 - accuracy: 0.9328 - val_loss: 2.0708 - val_accuracy: 0.5264\n",
            "Epoch 30/100\n",
            "259/259 [==============================] - 3s 12ms/step - loss: 0.2240 - accuracy: 0.9376 - val_loss: 1.4641 - val_accuracy: 0.6224\n"
          ]
        }
      ]
    },
    {
      "cell_type": "code",
      "source": [
        "model.load_weights(\"ckpt_part_4/best_model\")"
      ],
      "metadata": {
        "colab": {
          "base_uri": "https://localhost:8080/"
        },
        "id": "ckeps0kw2GJI",
        "outputId": "121c307c-9d9b-42c7-f2e8-9feb5fa4e164"
      },
      "execution_count": null,
      "outputs": [
        {
          "output_type": "execute_result",
          "data": {
            "text/plain": [
              "<tensorflow.python.training.tracking.util.CheckpointLoadStatus at 0x7fb732065790>"
            ]
          },
          "metadata": {},
          "execution_count": 18
        }
      ]
    },
    {
      "cell_type": "code",
      "source": [
        "import matplotlib.pyplot as plt\n",
        "import seaborn as sns\n",
        "from sklearn.metrics import accuracy_score, confusion_matrix\n",
        "\n",
        "def evaluate_model(model, dataset):\n",
        "    labels = np.concatenate([y.numpy() for x, y in dataset], axis=0).argmax(axis=1)\n",
        "    pred_labels = np.argmax(model.predict(dataset), axis=1)\n",
        "    cm = confusion_matrix(labels, pred_labels)\n",
        "    acc = accuracy_score(labels, pred_labels)\n",
        "    return acc, cm\n",
        "\n",
        "def show_confusion_matrix(cm, labels):\n",
        "    plt.figure(figsize=(10, 8))\n",
        "    sns.heatmap(cm, xticklabels=labels, yticklabels=labels, \n",
        "                annot=True, fmt='g')\n",
        "    plt.xlabel('Prediction')\n",
        "    plt.ylabel('Label')\n",
        "    plt.show()\n",
        "\n",
        "def evaluate_model2(model, ds, df):\n",
        "  model_prediction = model.predict(ds)\n",
        "  loss_fn = tf.keras.losses.SparseCategoricalCrossentropy(\n",
        "      from_logits=True, reduction=tf.keras.losses.Reduction.NONE\n",
        "  )\n",
        "  loss = loss_fn(\n",
        "      np.repeat(model_prediction[1][:, np.newaxis], axis=1, repeats=50),\n",
        "      model_prediction[2],\n",
        "  )\n",
        "  loss_variance = np.var(loss, axis=1)\n",
        "  predicted_labels = np.argmax(model_prediction[0], axis=1)\n",
        "  cm = confusion_matrix(model_prediction[1], predicted_labels)\n",
        "  acc = accuracy_score(model_prediction[1], predicted_labels)\n",
        "\n",
        "  df.loc[:, \"loss_variance\"] = loss_variance\n",
        "  df.loc[:, \"predicted_label\"] = predicted_labels\n",
        "  df.loc[:, \"label\"] = model_prediction[1]\n",
        "  return df, acc, cm"
      ],
      "metadata": {
        "id": "T_GUiXKW5GRI"
      },
      "execution_count": null,
      "outputs": []
    },
    {
      "cell_type": "code",
      "source": [
        "train_ds = tf.data.Dataset.list_files(str(train_dir/'*/*.png'), shuffle=False)\n",
        "train_df = create_dataset_df(train_ds)\n",
        "train_ds = train_ds.map(process_path, num_parallel_calls=AUTOTUNE)\n",
        "train_ds = configure_for_performance(train_ds, shuffle=False)\n",
        "\n",
        "\n",
        "train_df, train_acc, train_cm = evaluate_model2(model, train_ds, train_df)\n",
        "print(f\"Train Accuracy: {train_acc}\")\n",
        "show_confusion_matrix(train_cm, labels)\n"
      ],
      "metadata": {
        "colab": {
          "base_uri": "https://localhost:8080/",
          "height": 533
        },
        "id": "9DJFT5cO7yeY",
        "outputId": "5b5c053a-a19c-46f3-cd16-b86d2d39b839"
      },
      "execution_count": null,
      "outputs": [
        {
          "output_type": "stream",
          "name": "stdout",
          "text": [
            "259/259 [==============================] - 24s 54ms/step\n",
            "Train Accuracy: 0.9748427672955975\n"
          ]
        },
        {
          "output_type": "display_data",
          "data": {
            "text/plain": [
              "<Figure size 720x576 with 2 Axes>"
            ],
            "image/png": "[encoded data removed]"
          },
          "metadata": {
            "needs_background": "light"
          }
        }
      ]
    },
    {
      "cell_type": "code",
      "source": [
        "val_df, val_acc, val_cm = evaluate_model2(model, val_ds, val_df)\n",
        "print(f\"Val Accuracy: {val_acc}\")\n",
        "show_confusion_matrix(val_cm, labels)\n"
      ],
      "metadata": {
        "colab": {
          "base_uri": "https://localhost:8080/",
          "height": 533
        },
        "id": "zMXADpBp73oX",
        "outputId": "a550c7d3-51eb-4214-cecb-481589f0e112"
      },
      "execution_count": null,
      "outputs": [
        {
          "output_type": "stream",
          "name": "stdout",
          "text": [
            "102/102 [==============================] - 7s 72ms/step\n",
            "Val Accuracy: 0.6555965559655597\n"
          ]
        },
        {
          "output_type": "display_data",
          "data": {
            "text/plain": [
              "<Figure size 720x576 with 2 Axes>"
            ],
            "image/png": "[encoded data removed]"
          },
          "metadata": {
            "needs_background": "light"
          }
        }
      ]
    },
    {
      "cell_type": "code",
      "source": [
        "test_df, test_acc, test_cm = evaluate_model2(model, test_ds, test_df)\n",
        "print(f\"Test Accuracy: {test_acc}\")\n",
        "show_confusion_matrix(test_cm, labels)\n"
      ],
      "metadata": {
        "colab": {
          "base_uri": "https://localhost:8080/",
          "height": 537
        },
        "id": "vw31TVtx-yLm",
        "outputId": "8d3d79ed-23c1-4ec5-9ca2-800afb9ffdeb"
      },
      "execution_count": null,
      "outputs": [
        {
          "output_type": "stream",
          "name": "stdout",
          "text": [
            "7/7 [==============================] - 0s 62ms/step\n",
            "Test Accuracy: 0.5192307692307693\n"
          ]
        },
        {
          "output_type": "display_data",
          "data": {
            "text/plain": [
              "<Figure size 720x576 with 2 Axes>"
            ],
            "image/png": "[encoded data removed]"
          },
          "metadata": {
            "needs_background": "light"
          }
        }
      ]
    },
    {
      "cell_type": "code",
      "source": [
        "test_df[test_df['loss_variance'] > 1.0]"
      ],
      "metadata": {
        "colab": {
          "base_uri": "https://localhost:8080/",
          "height": 394
        },
        "id": "rrDTJI07Ok9O",
        "outputId": "f5892f67-2694-48fe-937d-1d2349899e9d"
      },
      "execution_count": null,
      "outputs": [
        {
          "output_type": "execute_result",
          "data": {
            "text/plain": [
              "                                            filenames  label  loss_variance  \\\n",
              "5   label_book/ii/a37502ee-ce5d-11eb-b317-38f9d35e...      1       1.065734   \n",
              "7   label_book/ii/a3b8f1fc-ce5d-11eb-b317-38f9d35e...      1       1.897817   \n",
              "18  label_book/iv/a6f8c07c-ce5d-11eb-b317-38f9d35e...      3       1.522554   \n",
              "21  label_book/ix/a7967416-ce5d-11eb-b317-38f9d35e...      4       1.406297   \n",
              "23  label_book/ix/a7ae10bc-ce5d-11eb-b317-38f9d35e...      4       1.681686   \n",
              "32  label_book/vi/a2f7b186-ce5d-11eb-b317-38f9d35e...      6       2.085974   \n",
              "34  label_book/vi/a3095b98-ce5d-11eb-b317-38f9d35e...      6       1.130166   \n",
              "38  label_book/vii/a55094e8-ce5d-11eb-b317-38f9d35...      7       3.384049   \n",
              "41  label_book/vii/a5ade382-ce5d-11eb-b317-38f9d35...      7       4.541540   \n",
              "45  label_book/viii/a64e3d3c-ce5d-11eb-b317-38f9d3...      8       2.963475   \n",
              "51  label_book/x/a9e4f63e-ce5d-11eb-b317-38f9d35ea...      9       1.919005   \n",
              "\n",
              "    predicted_label  \n",
              "5                 5  \n",
              "7                 2  \n",
              "18                2  \n",
              "21                3  \n",
              "23                3  \n",
              "32                1  \n",
              "34                2  \n",
              "38                8  \n",
              "41                3  \n",
              "45                2  \n",
              "51                0  "
            ],
            "text/html": [
              "\n",
              "  <div id=\"df-6df6aa8a-6404-451b-9631-a5e1eb8e4524\">\n",
              "    <div class=\"colab-df-container\">\n",
              "      <div>\n",
              "<style scoped>\n",
              "    .dataframe tbody tr th:only-of-type {\n",
              "        vertical-align: middle;\n",
              "    }\n",
              "\n",
              "    .dataframe tbody tr th {\n",
              "        vertical-align: top;\n",
              "    }\n",
              "\n",
              "    .dataframe thead th {\n",
              "        text-align: right;\n",
              "    }\n",
              "</style>\n",
              "<table border=\"1\" class=\"dataframe\">\n",
              "  <thead>\n",
              "    <tr style=\"text-align: right;\">\n",
              "      <th></th>\n",
              "      <th>filenames</th>\n",
              "      <th>label</th>\n",
              "      <th>loss_variance</th>\n",
              "      <th>predicted_label</th>\n",
              "    </tr>\n",
              "  </thead>\n",
              "  <tbody>\n",
              "    <tr>\n",
              "      <th>5</th>\n",
              "      <td>label_book/ii/a37502ee-ce5d-11eb-b317-38f9d35e...</td>\n",
              "      <td>1</td>\n",
              "      <td>1.065734</td>\n",
              "      <td>5</td>\n",
              "    </tr>\n",
              "    <tr>\n",
              "      <th>7</th>\n",
              "      <td>label_book/ii/a3b8f1fc-ce5d-11eb-b317-38f9d35e...</td>\n",
              "      <td>1</td>\n",
              "      <td>1.897817</td>\n",
              "      <td>2</td>\n",
              "    </tr>\n",
              "    <tr>\n",
              "      <th>18</th>\n",
              "      <td>label_book/iv/a6f8c07c-ce5d-11eb-b317-38f9d35e...</td>\n",
              "      <td>3</td>\n",
              "      <td>1.522554</td>\n",
              "      <td>2</td>\n",
              "    </tr>\n",
              "    <tr>\n",
              "      <th>21</th>\n",
              "      <td>label_book/ix/a7967416-ce5d-11eb-b317-38f9d35e...</td>\n",
              "      <td>4</td>\n",
              "      <td>1.406297</td>\n",
              "      <td>3</td>\n",
              "    </tr>\n",
              "    <tr>\n",
              "      <th>23</th>\n",
              "      <td>label_book/ix/a7ae10bc-ce5d-11eb-b317-38f9d35e...</td>\n",
              "      <td>4</td>\n",
              "      <td>1.681686</td>\n",
              "      <td>3</td>\n",
              "    </tr>\n",
              "    <tr>\n",
              "      <th>32</th>\n",
              "      <td>label_book/vi/a2f7b186-ce5d-11eb-b317-38f9d35e...</td>\n",
              "      <td>6</td>\n",
              "      <td>2.085974</td>\n",
              "      <td>1</td>\n",
              "    </tr>\n",
              "    <tr>\n",
              "      <th>34</th>\n",
              "      <td>label_book/vi/a3095b98-ce5d-11eb-b317-38f9d35e...</td>\n",
              "      <td>6</td>\n",
              "      <td>1.130166</td>\n",
              "      <td>2</td>\n",
              "    </tr>\n",
              "    <tr>\n",
              "      <th>38</th>\n",
              "      <td>label_book/vii/a55094e8-ce5d-11eb-b317-38f9d35...</td>\n",
              "      <td>7</td>\n",
              "      <td>3.384049</td>\n",
              "      <td>8</td>\n",
              "    </tr>\n",
              "    <tr>\n",
              "      <th>41</th>\n",
              "      <td>label_book/vii/a5ade382-ce5d-11eb-b317-38f9d35...</td>\n",
              "      <td>7</td>\n",
              "      <td>4.541540</td>\n",
              "      <td>3</td>\n",
              "    </tr>\n",
              "    <tr>\n",
              "      <th>45</th>\n",
              "      <td>label_book/viii/a64e3d3c-ce5d-11eb-b317-38f9d3...</td>\n",
              "      <td>8</td>\n",
              "      <td>2.963475</td>\n",
              "      <td>2</td>\n",
              "    </tr>\n",
              "    <tr>\n",
              "      <th>51</th>\n",
              "      <td>label_book/x/a9e4f63e-ce5d-11eb-b317-38f9d35ea...</td>\n",
              "      <td>9</td>\n",
              "      <td>1.919005</td>\n",
              "      <td>0</td>\n",
              "    </tr>\n",
              "  </tbody>\n",
              "</table>\n",
              "</div>\n",
              "      <button class=\"colab-df-convert\" onclick=\"convertToInteractive('df-6df6aa8a-6404-451b-9631-a5e1eb8e4524')\"\n",
              "              title=\"Convert this dataframe to an interactive table.\"\n",
              "              style=\"display:none;\">\n",
              "        \n",
              "  <svg xmlns=\"http://www.w3.org/2000/svg\" height=\"24px\"viewBox=\"0 0 24 24\"\n",
              "       width=\"24px\">\n",
              "    <path d=\"M0 0h24v24H0V0z\" fill=\"none\"/>\n",
              "    <path d=\"M18.56 5.44l.94 2.06.94-2.06 2.06-.94-2.06-.94-.94-2.06-.94 2.06-2.06.94zm-11 1L8.5 8.5l.94-2.06 2.06-.94-2.06-.94L8.5 2.5l-.94 2.06-2.06.94zm10 10l.94 2.06.94-2.06 2.06-.94-2.06-.94-.94-2.06-.94 2.06-2.06.94z\"/><path d=\"M17.41 7.96l-1.37-1.37c-.4-.4-.92-.59-1.43-.59-.52 0-1.04.2-1.43.59L10.3 9.45l-7.72 7.72c-.78.78-.78 2.05 0 2.83L4 21.41c.39.39.9.59 1.41.59.51 0 1.02-.2 1.41-.59l7.78-7.78 2.81-2.81c.8-.78.8-2.07 0-2.86zM5.41 20L4 18.59l7.72-7.72 1.47 1.35L5.41 20z\"/>\n",
              "  </svg>\n",
              "      </button>\n",
              "      \n",
              "  <style>\n",
              "    .colab-df-container {\n",
              "      display:flex;\n",
              "      flex-wrap:wrap;\n",
              "      gap: 12px;\n",
              "    }\n",
              "\n",
              "    .colab-df-convert {\n",
              "      background-color: #E8F0FE;\n",
              "      border: none;\n",
              "      border-radius: 50%;\n",
              "      cursor: pointer;\n",
              "      display: none;\n",
              "      fill: #1967D2;\n",
              "      height: 32px;\n",
              "      padding: 0 0 0 0;\n",
              "      width: 32px;\n",
              "    }\n",
              "\n",
              "    .colab-df-convert:hover {\n",
              "      background-color: #E2EBFA;\n",
              "      box-shadow: 0px 1px 2px rgba(60, 64, 67, 0.3), 0px 1px 3px 1px rgba(60, 64, 67, 0.15);\n",
              "      fill: #174EA6;\n",
              "    }\n",
              "\n",
              "    [theme=dark] .colab-df-convert {\n",
              "      background-color: #3B4455;\n",
              "      fill: #D2E3FC;\n",
              "    }\n",
              "\n",
              "    [theme=dark] .colab-df-convert:hover {\n",
              "      background-color: #434B5C;\n",
              "      box-shadow: 0px 1px 3px 1px rgba(0, 0, 0, 0.15);\n",
              "      filter: drop-shadow(0px 1px 2px rgba(0, 0, 0, 0.3));\n",
              "      fill: #FFFFFF;\n",
              "    }\n",
              "  </style>\n",
              "\n",
              "      <script>\n",
              "        const buttonEl =\n",
              "          document.querySelector('#df-6df6aa8a-6404-451b-9631-a5e1eb8e4524 button.colab-df-convert');\n",
              "        buttonEl.style.display =\n",
              "          google.colab.kernel.accessAllowed ? 'block' : 'none';\n",
              "\n",
              "        async function convertToInteractive(key) {\n",
              "          const element = document.querySelector('#df-6df6aa8a-6404-451b-9631-a5e1eb8e4524');\n",
              "          const dataTable =\n",
              "            await google.colab.kernel.invokeFunction('convertToInteractive',\n",
              "                                                     [key], {});\n",
              "          if (!dataTable) return;\n",
              "\n",
              "          const docLinkHtml = 'Like what you see? Visit the ' +\n",
              "            '<a target=\"_blank\" href=https://colab.research.google.com/notebooks/data_table.ipynb>data table notebook</a>'\n",
              "            + ' to learn more about interactive tables.';\n",
              "          element.innerHTML = '';\n",
              "          dataTable['output_type'] = 'display_data';\n",
              "          await google.colab.output.renderOutput(dataTable, element);\n",
              "          const docLink = document.createElement('div');\n",
              "          docLink.innerHTML = docLinkHtml;\n",
              "          element.appendChild(docLink);\n",
              "        }\n",
              "      </script>\n",
              "    </div>\n",
              "  </div>\n",
              "  "
            ]
          },
          "metadata": {},
          "execution_count": 58
        }
      ]
    },
    {
      "cell_type": "code",
      "source": [
        "train_df[['loss_variance']].describe()"
      ],
      "metadata": {
        "colab": {
          "base_uri": "https://localhost:8080/",
          "height": 300
        },
        "id": "0i9of01oQjY0",
        "outputId": "213f16be-7ece-480e-bcd8-792f620a8130"
      },
      "execution_count": null,
      "outputs": [
        {
          "output_type": "execute_result",
          "data": {
            "text/plain": [
              "       loss_variance\n",
              "count   2.067000e+03\n",
              "mean    7.684552e-02\n",
              "std     1.951698e-01\n",
              "min     1.546145e-07\n",
              "25%     5.887535e-04\n",
              "50%     6.537487e-03\n",
              "75%     6.363528e-02\n",
              "max     3.157148e+00"
            ],
            "text/html": [
              "\n",
              "  <div id=\"df-35efd857-31d5-49ce-a854-1e8118fa4ef0\">\n",
              "    <div class=\"colab-df-container\">\n",
              "      <div>\n",
              "<style scoped>\n",
              "    .dataframe tbody tr th:only-of-type {\n",
              "        vertical-align: middle;\n",
              "    }\n",
              "\n",
              "    .dataframe tbody tr th {\n",
              "        vertical-align: top;\n",
              "    }\n",
              "\n",
              "    .dataframe thead th {\n",
              "        text-align: right;\n",
              "    }\n",
              "</style>\n",
              "<table border=\"1\" class=\"dataframe\">\n",
              "  <thead>\n",
              "    <tr style=\"text-align: right;\">\n",
              "      <th></th>\n",
              "      <th>loss_variance</th>\n",
              "    </tr>\n",
              "  </thead>\n",
              "  <tbody>\n",
              "    <tr>\n",
              "      <th>count</th>\n",
              "      <td>2.067000e+03</td>\n",
              "    </tr>\n",
              "    <tr>\n",
              "      <th>mean</th>\n",
              "      <td>7.684552e-02</td>\n",
              "    </tr>\n",
              "    <tr>\n",
              "      <th>std</th>\n",
              "      <td>1.951698e-01</td>\n",
              "    </tr>\n",
              "    <tr>\n",
              "      <th>min</th>\n",
              "      <td>1.546145e-07</td>\n",
              "    </tr>\n",
              "    <tr>\n",
              "      <th>25%</th>\n",
              "      <td>5.887535e-04</td>\n",
              "    </tr>\n",
              "    <tr>\n",
              "      <th>50%</th>\n",
              "      <td>6.537487e-03</td>\n",
              "    </tr>\n",
              "    <tr>\n",
              "      <th>75%</th>\n",
              "      <td>6.363528e-02</td>\n",
              "    </tr>\n",
              "    <tr>\n",
              "      <th>max</th>\n",
              "      <td>3.157148e+00</td>\n",
              "    </tr>\n",
              "  </tbody>\n",
              "</table>\n",
              "</div>\n",
              "      <button class=\"colab-df-convert\" onclick=\"convertToInteractive('df-35efd857-31d5-49ce-a854-1e8118fa4ef0')\"\n",
              "              title=\"Convert this dataframe to an interactive table.\"\n",
              "              style=\"display:none;\">\n",
              "        \n",
              "  <svg xmlns=\"http://www.w3.org/2000/svg\" height=\"24px\"viewBox=\"0 0 24 24\"\n",
              "       width=\"24px\">\n",
              "    <path d=\"M0 0h24v24H0V0z\" fill=\"none\"/>\n",
              "    <path d=\"M18.56 5.44l.94 2.06.94-2.06 2.06-.94-2.06-.94-.94-2.06-.94 2.06-2.06.94zm-11 1L8.5 8.5l.94-2.06 2.06-.94-2.06-.94L8.5 2.5l-.94 2.06-2.06.94zm10 10l.94 2.06.94-2.06 2.06-.94-2.06-.94-.94-2.06-.94 2.06-2.06.94z\"/><path d=\"M17.41 7.96l-1.37-1.37c-.4-.4-.92-.59-1.43-.59-.52 0-1.04.2-1.43.59L10.3 9.45l-7.72 7.72c-.78.78-.78 2.05 0 2.83L4 21.41c.39.39.9.59 1.41.59.51 0 1.02-.2 1.41-.59l7.78-7.78 2.81-2.81c.8-.78.8-2.07 0-2.86zM5.41 20L4 18.59l7.72-7.72 1.47 1.35L5.41 20z\"/>\n",
              "  </svg>\n",
              "      </button>\n",
              "      \n",
              "  <style>\n",
              "    .colab-df-container {\n",
              "      display:flex;\n",
              "      flex-wrap:wrap;\n",
              "      gap: 12px;\n",
              "    }\n",
              "\n",
              "    .colab-df-convert {\n",
              "      background-color: #E8F0FE;\n",
              "      border: none;\n",
              "      border-radius: 50%;\n",
              "      cursor: pointer;\n",
              "      display: none;\n",
              "      fill: #1967D2;\n",
              "      height: 32px;\n",
              "      padding: 0 0 0 0;\n",
              "      width: 32px;\n",
              "    }\n",
              "\n",
              "    .colab-df-convert:hover {\n",
              "      background-color: #E2EBFA;\n",
              "      box-shadow: 0px 1px 2px rgba(60, 64, 67, 0.3), 0px 1px 3px 1px rgba(60, 64, 67, 0.15);\n",
              "      fill: #174EA6;\n",
              "    }\n",
              "\n",
              "    [theme=dark] .colab-df-convert {\n",
              "      background-color: #3B4455;\n",
              "      fill: #D2E3FC;\n",
              "    }\n",
              "\n",
              "    [theme=dark] .colab-df-convert:hover {\n",
              "      background-color: #434B5C;\n",
              "      box-shadow: 0px 1px 3px 1px rgba(0, 0, 0, 0.15);\n",
              "      filter: drop-shadow(0px 1px 2px rgba(0, 0, 0, 0.3));\n",
              "      fill: #FFFFFF;\n",
              "    }\n",
              "  </style>\n",
              "\n",
              "      <script>\n",
              "        const buttonEl =\n",
              "          document.querySelector('#df-35efd857-31d5-49ce-a854-1e8118fa4ef0 button.colab-df-convert');\n",
              "        buttonEl.style.display =\n",
              "          google.colab.kernel.accessAllowed ? 'block' : 'none';\n",
              "\n",
              "        async function convertToInteractive(key) {\n",
              "          const element = document.querySelector('#df-35efd857-31d5-49ce-a854-1e8118fa4ef0');\n",
              "          const dataTable =\n",
              "            await google.colab.kernel.invokeFunction('convertToInteractive',\n",
              "                                                     [key], {});\n",
              "          if (!dataTable) return;\n",
              "\n",
              "          const docLinkHtml = 'Like what you see? Visit the ' +\n",
              "            '<a target=\"_blank\" href=https://colab.research.google.com/notebooks/data_table.ipynb>data table notebook</a>'\n",
              "            + ' to learn more about interactive tables.';\n",
              "          element.innerHTML = '';\n",
              "          dataTable['output_type'] = 'display_data';\n",
              "          await google.colab.output.renderOutput(dataTable, element);\n",
              "          const docLink = document.createElement('div');\n",
              "          docLink.innerHTML = docLinkHtml;\n",
              "          element.appendChild(docLink);\n",
              "        }\n",
              "      </script>\n",
              "    </div>\n",
              "  </div>\n",
              "  "
            ]
          },
          "metadata": {},
          "execution_count": 26
        }
      ]
    },
    {
      "cell_type": "code",
      "source": [
        "import os, glob, shutil\n",
        "from PIL import Image\n",
        "import matplotlib.pyplot as plt\n",
        "\n",
        "\n",
        "import ipywidgets as widgets\n",
        "from IPython.display import display\n",
        "from ipywidgets import IntProgress, HTML, VBox, HBox"
      ],
      "metadata": {
        "id": "CwuQ8GYLaq9Z"
      },
      "execution_count": null,
      "outputs": []
    },
    {
      "cell_type": "code",
      "source": [
        "splits = {\n",
        "    \"train\": train_df,\n",
        "    \"val\": val_df,\n",
        "    \"test\": test_df\n",
        "}\n",
        "path = None\n",
        "\n",
        "def display_img(splits_dropdown, index, var_slider):\n",
        "    global label, path\n",
        "    df = splits[splits_dropdown]\n",
        "    row = df[(df['loss_variance']>= var_slider[0]) & (df['loss_variance']<= var_slider[1])].iloc[index]\n",
        "    path = row.filenames\n",
        "    label.value = str(labels[row.label])\n",
        "    plt.figure(figsize=(8, 8), dpi=80)\n",
        "    plt.imshow(Image.open(path), cmap='gray', vmin=0, vmax=255)\n",
        "    plt.axis(\"off\")\n",
        "    plt.show()\n",
        "\n",
        "next_button = widgets.Button(\n",
        "    description='Next',\n",
        "    disabled=False,\n",
        "    button_style='success',\n",
        "    tooltip='Next Sample',\n",
        "    icon='arrow-right'\n",
        ")\n",
        "\n",
        "prev_button = widgets.Button(\n",
        "    description='Previous',\n",
        "    disabled=False,\n",
        "    button_style='success',\n",
        "    tooltip='Previous Sample',\n",
        "    icon='arrow-left'\n",
        ")\n",
        "change_label_btn = widgets.Button(\n",
        "    description='Change Label',\n",
        "    disabled=False,\n",
        "    button_style='success',\n",
        "    tooltip='Change Label',\n",
        "    icon='check'\n",
        ")\n",
        "delete_btn = widgets.Button(\n",
        "    description='Delete',\n",
        "    disabled=False,\n",
        "    button_style='danger',\n",
        "    tooltip='Delete',\n",
        "    icon='fa-trash'\n",
        ")\n",
        "splits_dropdown = widgets.Dropdown(\n",
        "    description='Splits',\n",
        "    options=['train', 'val', 'test'],\n",
        "    value='train',\n",
        "    disabled=False,\n",
        ")\n",
        "\n",
        "index = widgets.IntSlider(\n",
        "    value=0,\n",
        "    min=0,\n",
        "    max=len(splits[splits_dropdown.value])-1,\n",
        "    step=1,\n",
        "    description='Index:',\n",
        "    disabled=False,\n",
        "    continuous_update=False,\n",
        "    orientation='horizontal',\n",
        "    readout=True,\n",
        "    readout_format='d'\n",
        ")\n",
        "\n",
        "var_slider = widgets.FloatRangeSlider(\n",
        "    value=[0, 10],\n",
        "    min=0.0,\n",
        "    max=10.0,\n",
        "    description='Variance:',\n",
        "    disabled=False,\n",
        "    continuous_update=False,\n",
        "    orientation='horizontal',\n",
        "    readout=True,\n",
        ")\n",
        "  \n",
        "label = widgets.Text(\n",
        "    value='',\n",
        "    placeholder='Label',\n",
        "    description='Label:',\n",
        "    disabled=False\n",
        ")\n",
        "\n",
        "new_label = widgets.Dropdown(\n",
        "    description='New Label',\n",
        "    options=[\"i\", \"ii\", \"iii\", \"iv\", \"v\", \"vi\", \"vii\", \"viii\", \"ix\", \"x\"],\n",
        "    value='i',\n",
        "    disabled=False,\n",
        ")\n",
        "\n",
        "ui_1 = widgets.HBox([prev_button, index, next_button, splits_dropdown, var_slider])\n",
        "ui_2 = widgets.HBox([label, new_label, change_label_btn, delete_btn])\n",
        "ui = widgets.VBox([ui_1, ui_2])\n",
        "\n",
        "interactive_out = widgets.interactive_output(display_img, {\"splits_dropdown\":splits_dropdown, \"index\": index, \"var_slider\":var_slider})\n",
        "\n",
        "def increment(_):\n",
        "    with interactive_out:\n",
        "        index.value+=1\n",
        "\n",
        "def decrement(_):\n",
        "    with interactive_out:\n",
        "        index.value-=1\n",
        "\n",
        "def change_label(_):\n",
        "  new_path = path.split(\"/\")\n",
        "  new_path[-2] = new_label.value\n",
        "  new_path = \"/\".join(new_path)\n",
        "  shutil.move(path, new_path)\n",
        "\n",
        "def delete_action(_):\n",
        "    os.remove(path)\n",
        "\n",
        "def update_index(_):\n",
        "    df = splits[splits_dropdown.value]\n",
        "    df = df[(df['loss_variance'] >= var_slider.value[0]) & (df['loss_variance']<= var_slider.value[1])]\n",
        "    index.max = len(df)-1\n",
        "\n",
        "splits_dropdown.observe(update_index)\n",
        "var_slider.observe(update_index)\n",
        "\n",
        "prev_button.on_click(decrement)\n",
        "next_button.on_click(increment)\n",
        "change_label_btn.on_click(change_label)\n",
        "delete_btn.on_click(delete_action)\n",
        "\n",
        "display(ui, interactive_out)"
      ],
      "metadata": {
        "colab": {
          "base_uri": "https://localhost:8080/",
          "height": 718,
          "referenced_widgets": [
            "3cabd462d5854e95b509be5eb8d1ba39",
            "fd88247a262444179e36f5d5562ebca9",
            "83e29962df3a4f329761f906031fda0e",
            "d27db1bce32049b29b732c7db8adcf2a",
            "4b186e9858474e3e9a7b71c55412be5c",
            "22086462eebb40f79aa5c7b7792d3091",
            "91d4023b1c9e44c1bcd17173e215d2b3",
            "eea293a52c8f4d4aa509a2327ba00808",
            "ae640dbe0b0f4d2faa8d584db45abfdd",
            "530f1f7e91e842c9a34eac884610cbad",
            "f2cbbfaba2a74b569d36ca173cd878d7",
            "25ab62a1af5643ea8e2132bf0cdfbcda",
            "70f1788dbcd14736ac5860366cdc98cc",
            "a3e9fd3b7b594d87aea60ff876128db0",
            "28874f579cbd4573a5d061a16835e547",
            "87f9f90ea33d405cab9a3474185a1074",
            "07e0b178f8be4e02a761a7f7e049d316",
            "2a94658a4d014f24aab3485b229daa96",
            "a9cd7c02f36d4a3b93f7c3d242f2fc33",
            "bbff5943a8544f18b0373b56e5821455",
            "d3ddee9931da4a75a0df8dcb6929a252",
            "c4149ae5e7d6489683b9ededb0042a6b",
            "4a0e7b0b250946a29e5f8f64bba6e8c7",
            "baf28dcda257434196d09d8603d6979b",
            "c62748e15d784841bcb14115cf17dd53",
            "27d54b3af5534819825c3a4be905d201",
            "667ea5c2681249bfbed4e0dd277a943d",
            "c6418d2644f34f7e9b0995d6adda3bfb",
            "1e9160a7b2324f5aab94fe2791fc1aa0",
            "b65736d146f34b34a3beb4288e020a0c",
            "47f133b95ac74cbea6a60eb6f56d6ddc",
            "b37be95111fc417c8623d0fbd862c4a5",
            "6dac9e78a4bb402cb21141c63c7f89fd",
            "a503262523464cf091a7cb2dc2db6b9f",
            "8c3d6b7776554ac6af8a401bc86da32d"
          ]
        },
        "id": "ubI9rFA-OuAL",
        "outputId": "ec841527-7100-46b5-be8c-e50c42cab644"
      },
      "execution_count": null,
      "outputs": [
        {
          "output_type": "display_data",
          "data": {
            "text/plain": [
              "VBox(children=(HBox(children=(Button(button_style='success', description='Previous', icon='arrow-left', style=…"
            ],
            "application/vnd.jupyter.widget-view+json": {
              "version_major": 2,
              "version_minor": 0,
              "model_id": "3cabd462d5854e95b509be5eb8d1ba39"
            }
          },
          "metadata": {}
        },
        {
          "output_type": "display_data",
          "data": {
            "text/plain": [
              "Output()"
            ],
            "application/vnd.jupyter.widget-view+json": {
              "version_major": 2,
              "version_minor": 0,
              "model_id": "a503262523464cf091a7cb2dc2db6b9f"
            }
          },
          "metadata": {}
        },
        {
          "output_type": "display_data",
          "data": {
            "text/plain": [
              "<Figure size 640x640 with 0 Axes>"
            ]
          },
          "metadata": {}
        },
        {
          "output_type": "display_data",
          "data": {
            "text/plain": [
              "<Figure size 640x640 with 0 Axes>"
            ]
          },
          "metadata": {}
        },
        {
          "output_type": "display_data",
          "data": {
            "text/plain": [
              "<Figure size 640x640 with 0 Axes>"
            ]
          },
          "metadata": {}
        },
        {
          "output_type": "error",
          "ename": "FileNotFoundError",
          "evalue": "ignored",
          "traceback": [
            "\u001b[0;31m---------------------------------------------------------------------------\u001b[0m",
            "\u001b[0;31mFileNotFoundError\u001b[0m                         Traceback (most recent call last)",
            "\u001b[0;32m<ipython-input-30-a305cbcd8595>\u001b[0m in \u001b[0;36mdelete_action\u001b[0;34m(_)\u001b[0m\n\u001b[1;32m    112\u001b[0m \u001b[0;34m\u001b[0m\u001b[0m\n\u001b[1;32m    113\u001b[0m \u001b[0;32mdef\u001b[0m \u001b[0mdelete_action\u001b[0m\u001b[0;34m(\u001b[0m\u001b[0m_\u001b[0m\u001b[0;34m)\u001b[0m\u001b[0;34m:\u001b[0m\u001b[0;34m\u001b[0m\u001b[0;34m\u001b[0m\u001b[0m\n\u001b[0;32m--> 114\u001b[0;31m     \u001b[0mos\u001b[0m\u001b[0;34m.\u001b[0m\u001b[0mremove\u001b[0m\u001b[0;34m(\u001b[0m\u001b[0mpath\u001b[0m\u001b[0;34m)\u001b[0m\u001b[0;34m\u001b[0m\u001b[0;34m\u001b[0m\u001b[0m\n\u001b[0m\u001b[1;32m    115\u001b[0m \u001b[0;34m\u001b[0m\u001b[0m\n\u001b[1;32m    116\u001b[0m \u001b[0;32mdef\u001b[0m \u001b[0mupdate_index\u001b[0m\u001b[0;34m(\u001b[0m\u001b[0m_\u001b[0m\u001b[0;34m)\u001b[0m\u001b[0;34m:\u001b[0m\u001b[0;34m\u001b[0m\u001b[0;34m\u001b[0m\u001b[0m\n",
            "\u001b[0;31mFileNotFoundError\u001b[0m: [Errno 2] No such file or directory: 'data/train/viii/ad7dedc8-ce5d-11eb-b317-38f9d35ea60f.png'"
          ]
        }
      ]
    },
    {
      "cell_type": "code",
      "source": [
        "index"
      ],
      "metadata": {
        "colab": {
          "base_uri": "https://localhost:8080/",
          "height": 49,
          "referenced_widgets": [
            "3c993203f8ea482281b5833ae02f0964",
            "7cd3c7dc9fb348ae85bcd2800bfeadcd",
            "4f8cf54f78b34adf95a4c87641dd42a8"
          ]
        },
        "id": "QPOKV3TUXnHa",
        "outputId": "6323f801-194c-4a85-95af-271ecec3f32a"
      },
      "execution_count": null,
      "outputs": [
        {
          "output_type": "display_data",
          "data": {
            "text/plain": [
              "IntSlider(value=782, continuous_update=False, description='Index:', max=933)"
            ],
            "application/vnd.jupyter.widget-view+json": {
              "version_major": 2,
              "version_minor": 0,
              "model_id": "3c993203f8ea482281b5833ae02f0964"
            }
          },
          "metadata": {}
        }
      ]
    },
    {
      "cell_type": "code",
      "source": [
        "var_slider.value[0]"
      ],
      "metadata": {
        "colab": {
          "base_uri": "https://localhost:8080/"
        },
        "id": "tNiiMmHuaWe2",
        "outputId": "791230f6-150a-43e6-bd75-04b67cc3c547"
      },
      "execution_count": null,
      "outputs": [
        {
          "output_type": "execute_result",
          "data": {
            "text/plain": [
              "2.5"
            ]
          },
          "metadata": {},
          "execution_count": 69
        }
      ]
    },
    {
      "cell_type": "code",
      "source": [],
      "metadata": {
        "id": "cGdzXp5kcN8J"
      },
      "execution_count": null,
      "outputs": []
    }
  ]
}